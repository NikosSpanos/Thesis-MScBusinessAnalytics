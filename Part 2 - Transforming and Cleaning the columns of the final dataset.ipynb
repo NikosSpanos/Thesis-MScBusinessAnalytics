{
 "cells": [
  {
   "cell_type": "markdown",
   "metadata": {},
   "source": [
    "## Part 2 - Transforming and Cleaning the columns of the final dataset"
   ]
  },
  {
   "cell_type": "code",
   "execution_count": null,
   "metadata": {},
   "outputs": [],
   "source": [
    "version_data_control=\"20072020\""
   ]
  },
  {
   "cell_type": "markdown",
   "metadata": {},
   "source": [
    "#### Import the libraries"
   ]
  },
  {
   "cell_type": "code",
   "execution_count": null,
   "metadata": {},
   "outputs": [],
   "source": [
    "import pandas as pd\n",
    "import numpy as np\n",
    "import os\n",
    "\n",
    "# Module to serialize the content produced from the execution of the code\n",
    "\n",
    "import pickle\n",
    "\n",
    "# Module to monitor the progress of a python for loop\n",
    "\n",
    "from tqdm import tqdm_notebook\n",
    "\n",
    "import re\n",
    "\n",
    "def set_pandas_display_options() -> None:\n",
    "    display = pd.options.display\n",
    "\n",
    "    display.max_columns = 1000\n",
    "    display.max_rows = 1000\n",
    "    display.max_colwidth = 199\n",
    "    display.width = None\n",
    "    # display.precision = 2  # set as needed\n",
    "\n",
    "set_pandas_display_options()\n",
    "\n",
    "from IPython.core.display import display, HTML\n",
    "display(HTML(\"<style>.container { width:100% !important; }</style>\"))"
   ]
  },
  {
   "cell_type": "markdown",
   "metadata": {},
   "source": [
    "# - - - - - - - - - - - - - - - - - - - - - - - - - - - - - - - - - - - - - - - - - - - - - - - - - - - - - - - - - -"
   ]
  },
  {
   "cell_type": "markdown",
   "metadata": {},
   "source": [
    "#### Import the dataset"
   ]
  },
  {
   "cell_type": "code",
   "execution_count": null,
   "metadata": {},
   "outputs": [],
   "source": [
    "\"\"\"\n",
    "dataset_part_1_25012020 = final_dataset_49393_movies_25012020 are the same table files produced from Part 1.\n",
    "\"\"\"\n",
    "dataset = pd.read_pickle(os.path.join(os.getcwd(), 'pickled_data_per_part\\\\dataset_part_1_25012020.pkl'))\n",
    "\n",
    "dataset = dataset.reset_index(drop=True)\n",
    "dataset.shape"
   ]
  },
  {
   "cell_type": "code",
   "execution_count": null,
   "metadata": {},
   "outputs": [],
   "source": [
    "dataset.head()"
   ]
  },
  {
   "cell_type": "markdown",
   "metadata": {},
   "source": [
    "# - - - - - - - - - - - - - - - - - - - - - - - - - - - - - - - - - - - - - - - - - - - - - - - - - - - - - - - - - -"
   ]
  },
  {
   "cell_type": "markdown",
   "metadata": {},
   "source": [
    "### Section 2.1: Cleaning the columns"
   ]
  },
  {
   "cell_type": "markdown",
   "metadata": {},
   "source": [
    "##### Section 2.1.1: Create a separate column for the year the movie was published"
   ]
  },
  {
   "cell_type": "code",
   "execution_count": null,
   "metadata": {},
   "outputs": [],
   "source": [
    "pattern = '\\((\\d{4})\\)'\n",
    "dataset['year'] =dataset.title.str.extract(pattern, expand=False) #False returns a series\n",
    "dataset['year'].iloc[0]"
   ]
  },
  {
   "cell_type": "markdown",
   "metadata": {},
   "source": [
    "# - - - - - - - - -  - - - - - - - - - - - - - - - - - -- - - - - - - - - - - - - - - - - -"
   ]
  },
  {
   "cell_type": "markdown",
   "metadata": {},
   "source": [
    "##### Section 2.1.2: Clean the year (i.e 2001) from each title - 25.10.2019"
   ]
  },
  {
   "cell_type": "code",
   "execution_count": null,
   "metadata": {},
   "outputs": [],
   "source": [
    "exp = r'\\(\\d\\d\\d\\d.'\n",
    "\n",
    "dataset['title'] = dataset['title'].apply(lambda x: re.sub(exp,\"\",x).strip())"
   ]
  },
  {
   "cell_type": "code",
   "execution_count": null,
   "metadata": {},
   "outputs": [],
   "source": [
    "dataset.head()"
   ]
  },
  {
   "cell_type": "markdown",
   "metadata": {},
   "source": [
    "# - - - - - - - - -  - - - - - - - - - - - - - - - - - -- - - - - - - - - - - - - - - - - -"
   ]
  },
  {
   "cell_type": "markdown",
   "metadata": {},
   "source": [
    "##### Section 2.1.3: Replace (,The) & (,A), (, An) from the end of the string, at the front + Remove any text inside paranthesis"
   ]
  },
  {
   "cell_type": "code",
   "execution_count": null,
   "metadata": {},
   "outputs": [],
   "source": [
    "dataset[dataset.director == \"Christopher Nolan\"]"
   ]
  },
  {
   "cell_type": "markdown",
   "metadata": {},
   "source": [
    "#### Comment: As we can see \"Dark Knight Rises, The\" is not correct and should be corrected to \"The Dark Knight Rises\"."
   ]
  },
  {
   "cell_type": "code",
   "execution_count": null,
   "metadata": {},
   "outputs": [],
   "source": [
    "dataset['title']=dataset['title'].str.replace(r'(.*?),?\\s*(The|A|An|Les)?(?=\\s*\\(.*\\)\\s*|$).*', r'\\2 \\1')"
   ]
  },
  {
   "cell_type": "code",
   "execution_count": null,
   "metadata": {},
   "outputs": [],
   "source": [
    "dataset['title'] = dataset['title'].str.strip()"
   ]
  },
  {
   "cell_type": "code",
   "execution_count": null,
   "metadata": {},
   "outputs": [],
   "source": [
    "# title: Dark Knight, The has been successfully changed to The Dark Knight \n",
    "dataset.iloc[12422]"
   ]
  },
  {
   "cell_type": "markdown",
   "metadata": {},
   "source": [
    "# - - - - - - - - -  - - - - - - - - - - - - - - - - - -- - - - - - - - - - - - - - - - - -"
   ]
  },
  {
   "cell_type": "markdown",
   "metadata": {},
   "source": [
    "##### Step 2.1.4: Clean some punctuation mistakes in columns plot summary and user reviews."
   ]
  },
  {
   "cell_type": "code",
   "execution_count": null,
   "metadata": {},
   "outputs": [],
   "source": [
    "dataset['plot'] = dataset['plot'].apply(lambda x: x.strip())\n",
    "dataset['plot'] = dataset['plot'].apply(lambda x: x.replace(',', ', '))\n",
    "dataset['plot'] = dataset['plot'].apply(lambda x: x.replace('.', '. '))\n",
    "dataset['plot'] = dataset['plot'].apply(lambda x: x.replace('?', '? '))\n",
    "dataset['plot'] = dataset['plot'].apply(lambda x: x.replace('!', '! '))\n",
    "dataset['plot'] = dataset['plot'].apply(lambda x: x.replace('\\n                    See full summary\\xa0»', ''))\n",
    "dataset['plot'] = dataset['plot'].apply(lambda x: x.rstrip())\n",
    "dataset['plot'] = dataset['plot'].apply(lambda x: re.sub(' +', ' ', x))"
   ]
  },
  {
   "cell_type": "code",
   "execution_count": null,
   "metadata": {},
   "outputs": [],
   "source": [
    "dataset['reviews'] = dataset['reviews'].apply(lambda x: [user_review.strip() for user_review in x])\n",
    "dataset['reviews'] = dataset['reviews'].apply(lambda x: [user_review.replace(',', ', ') for user_review in x])\n",
    "dataset['reviews'] = dataset['reviews'].apply(lambda x: [user_review.replace('.', '. ') for user_review in x])\n",
    "dataset['reviews'] = dataset['reviews'].apply(lambda x: [user_review.replace('?', '? ') for user_review in x])\n",
    "dataset['reviews'] = dataset['reviews'].apply(lambda x: [user_review.replace('!', '! ') for user_review in x])\n",
    "dataset['reviews'] = dataset['reviews'].apply(lambda x: [user_review.rstrip() for user_review in x])\n",
    "dataset['reviews'] = dataset['reviews'].apply(lambda x: [re.sub(' +', ' ', user_review) for user_review in x])"
   ]
  },
  {
   "cell_type": "code",
   "execution_count": null,
   "metadata": {},
   "outputs": [],
   "source": [
    "# display(dataset['plot'][dataset['title'].str.contains(\"Come Look at Me\")])\n",
    "display(dataset['plot'][dataset['title']==\"Come Look at Me\"])"
   ]
  },
  {
   "cell_type": "markdown",
   "metadata": {},
   "source": [
    "# - - - - - - - - -  - - - - - - - - - - - - - - - - - -- - - - - - - - - - - - - - - - - -"
   ]
  },
  {
   "cell_type": "markdown",
   "metadata": {},
   "source": [
    "##### Step 2.1.5: Remove empty summaries"
   ]
  },
  {
   "cell_type": "code",
   "execution_count": null,
   "metadata": {},
   "outputs": [],
   "source": [
    "len(dataset[dataset['plot'] == 'Add a Plot »'])\n",
    "# Thus 176 mocies should be removed, due to UNKNOWN plot summary text"
   ]
  },
  {
   "cell_type": "code",
   "execution_count": null,
   "metadata": {},
   "outputs": [],
   "source": [
    "dataset=dataset[dataset['plot'] != 'Add a Plot »']\n",
    "dataset.shape"
   ]
  },
  {
   "cell_type": "markdown",
   "metadata": {},
   "source": [
    "# - - - - - - - - -  - - - - - - - - - - - - - - - - - -- - - - - - - - - - - - - - - - - -"
   ]
  },
  {
   "cell_type": "markdown",
   "metadata": {},
   "source": [
    "##### Step 2.1.6: Create the positive/negative column"
   ]
  },
  {
   "cell_type": "code",
   "execution_count": null,
   "metadata": {},
   "outputs": [],
   "source": [
    "dataset.loc[:, 'sentiment_value'] = dataset['rating']\n",
    "dataset.loc[:, 'sentiment_value'].loc[dataset.rating >=2.5] = 1\n",
    "dataset.loc[:, 'sentiment_value'].loc[dataset.rating <2.5] = 0"
   ]
  },
  {
   "cell_type": "markdown",
   "metadata": {},
   "source": [
    "# - - - - - - - - -  - - - - - - - - - - - - - - - - - -- - - - - - - - - - - - - - - - - -"
   ]
  },
  {
   "cell_type": "markdown",
   "metadata": {},
   "source": [
    "##### Step 2.1.7 Create the column Combined Features (29.10.2019)\n",
    "\n",
    "A very important columns, since it combines content from the important columns of the dataframe.\n",
    "Specifically the text of:\n",
    "* Title,\n",
    "* Actors,\n",
    "* Director,\n",
    "* Plot summary,\n",
    "* Genres"
   ]
  },
  {
   "cell_type": "code",
   "execution_count": null,
   "metadata": {},
   "outputs": [],
   "source": [
    "def combine_features(row):\n",
    "    return row['title'] + \" \" + ' '.join(map(str, row['actors'])) + \" \" + row['director'] + \" \" + row['plot'] + \" \" + ' '.join(row['genres'])\n",
    "\n",
    "dataset[\"movie_features\"] = dataset.apply(combine_features, axis=1)"
   ]
  },
  {
   "cell_type": "code",
   "execution_count": null,
   "metadata": {},
   "outputs": [],
   "source": [
    "dataset[\"movie_features\"].iloc[0]"
   ]
  },
  {
   "cell_type": "markdown",
   "metadata": {},
   "source": [
    "# - - - - - - - - - - - - - - - - - - - - - - - - - - - - - - - - - - - - - - - - - - - - - - - - - - - - - - - - - -"
   ]
  },
  {
   "cell_type": "markdown",
   "metadata": {},
   "source": [
    "#### Pickle the dataset (16.02.2020)\n",
    "\n",
    "Old version on 22.04.2020 <br>\n",
    "Old version on 13.07.2020 <br>\n",
    "Latest version on 20.07.2020 (added the 'year' of movie release column)"
   ]
  },
  {
   "cell_type": "code",
   "execution_count": null,
   "metadata": {},
   "outputs": [],
   "source": [
    "dataset.to_pickle(os.path.join(os.getcwd(), 'pickled_data_per_part\\\\dataset_part_2_{0}.pkl'.format(version_data_control)))"
   ]
  },
  {
   "cell_type": "markdown",
   "metadata": {},
   "source": [
    "#### End of part 2 (Transforming the columns of the final dataset)"
   ]
  }
 ],
 "metadata": {
  "kernelspec": {
   "display_name": "Python 3",
   "language": "python",
   "name": "python3"
  },
  "language_info": {
   "codemirror_mode": {
    "name": "ipython",
    "version": 3
   },
   "file_extension": ".py",
   "mimetype": "text/x-python",
   "name": "python",
   "nbconvert_exporter": "python",
   "pygments_lexer": "ipython3",
   "version": "3.7.4"
  }
 },
 "nbformat": 4,
 "nbformat_minor": 2
}
