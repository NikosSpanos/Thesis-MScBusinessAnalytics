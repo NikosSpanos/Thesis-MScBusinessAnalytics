{
 "cells": [
  {
   "cell_type": "markdown",
   "metadata": {},
   "source": [
    "#### Import the libraries"
   ]
  },
  {
   "cell_type": "code",
   "execution_count": 2,
   "metadata": {},
   "outputs": [],
   "source": [
    "# For cleaning and preparing the dataset\n",
    "# -> dataframe manipulation\n",
    "# -> text manipulation\n",
    "# -> Web Scrapping\n",
    "\n",
    "import pandas as pd\n",
    "import numpy as np\n",
    "from bs4 import BeautifulSoup\n",
    "import requests\n",
    "import re\n",
    "\n",
    "\n",
    "# Module to serialize the content produced from the execution of the code\n",
    "\n",
    "import pickle\n",
    "\n",
    "\n",
    "# Module to monitor the progress of a python for loop\n",
    "\n",
    "from tqdm import tqdm\n",
    "\n",
    "\n",
    "# Module to manipulate text in python - NLTK package\n",
    "\n",
    "import nltk\n",
    "from nltk import word_tokenize\n",
    "from nltk.stem import PorterStemmer\n",
    "from nltk.corpus import stopwords\n",
    "\n",
    "\n",
    "# Module to compute word vectorizers and compute the cosine distance\n",
    "\n",
    "from sklearn.feature_extraction.text import TfidfVectorizer\n",
    "from sklearn.feature_extraction.text import CountVectorizer\n",
    "from sklearn.metrics.pairwise import cosine_distances"
   ]
  },
  {
   "cell_type": "markdown",
   "metadata": {},
   "source": [
    "# - - - - - - - - - - - - - - - - - - - - - - - - - - - - - - - - - - - - - - - - - - - - - - - - - - - - - - - - - -"
   ]
  },
  {
   "cell_type": "markdown",
   "metadata": {},
   "source": [
    "#### Import the dataset"
   ]
  },
  {
   "cell_type": "code",
   "execution_count": 3,
   "metadata": {},
   "outputs": [],
   "source": [
    "dataset = pd.read_pickle('final_dataset_07112019.pkl') #previous version \"final_dataset_22102019.pkl\""
   ]
  },
  {
   "cell_type": "code",
   "execution_count": 4,
   "metadata": {},
   "outputs": [],
   "source": [
    "dataset = dataset.join(pd.DataFrame(dataset.Genres.values.tolist(), dataset.index).add_prefix('Genres_').fillna(0))"
   ]
  },
  {
   "cell_type": "code",
   "execution_count": 5,
   "metadata": {},
   "outputs": [],
   "source": [
    "dataset = dataset.drop(['Genres_3', 'Genres_4', 'Genres_5', 'Genres_6', 'Genres_7', 'Genres_8'], axis=1)"
   ]
  },
  {
   "cell_type": "code",
   "execution_count": 6,
   "metadata": {},
   "outputs": [
    {
     "data": {
      "text/html": [
       "<div>\n",
       "<style scoped>\n",
       "    .dataframe tbody tr th:only-of-type {\n",
       "        vertical-align: middle;\n",
       "    }\n",
       "\n",
       "    .dataframe tbody tr th {\n",
       "        vertical-align: top;\n",
       "    }\n",
       "\n",
       "    .dataframe thead th {\n",
       "        text-align: right;\n",
       "    }\n",
       "</style>\n",
       "<table border=\"1\" class=\"dataframe\">\n",
       "  <thead>\n",
       "    <tr style=\"text-align: right;\">\n",
       "      <th></th>\n",
       "      <th>Movie Title</th>\n",
       "      <th>IMDB Url</th>\n",
       "      <th>IMDB Rating</th>\n",
       "      <th>Actors</th>\n",
       "      <th>Director</th>\n",
       "      <th>Plot Summary</th>\n",
       "      <th>Plot Keywords</th>\n",
       "      <th>Genres</th>\n",
       "      <th>Genres_0</th>\n",
       "      <th>Genres_1</th>\n",
       "      <th>Genres_2</th>\n",
       "    </tr>\n",
       "  </thead>\n",
       "  <tbody>\n",
       "    <tr>\n",
       "      <td>13349</td>\n",
       "      <td>Jackass Nummer zwei (2006)</td>\n",
       "      <td>http://www.imdb.com/title/tt0493430/</td>\n",
       "      <td>7.0</td>\n",
       "      <td>[Johnny Knoxville, Bam Margera, Steve-O, Chris...</td>\n",
       "      <td>Jeff Tremaine</td>\n",
       "      <td>\\n                    Chris Pontius, Johnny Kn...</td>\n",
       "      <td>[pubic hair, male rear nudity, male frontal nu...</td>\n",
       "      <td>[Documentary, Action, Comedy]</td>\n",
       "      <td>Documentary</td>\n",
       "      <td>Action</td>\n",
       "      <td>Comedy</td>\n",
       "    </tr>\n",
       "    <tr>\n",
       "      <td>13350</td>\n",
       "      <td>Gangster (2006)</td>\n",
       "      <td>http://www.imdb.com/title/tt0495032/</td>\n",
       "      <td>7.1</td>\n",
       "      <td>[Kangana Ranaut, Shiney Ahuja, Emraan Hashmi, ...</td>\n",
       "      <td>Anurag Basu</td>\n",
       "      <td>\\n                    In Seoul, a gangster's a...</td>\n",
       "      <td>[underworld don, unrequited love, singer in re...</td>\n",
       "      <td>[Action, Crime, Drama, Romance, Thriller]</td>\n",
       "      <td>Action</td>\n",
       "      <td>Crime</td>\n",
       "      <td>Drama</td>\n",
       "    </tr>\n",
       "    <tr>\n",
       "      <td>13351</td>\n",
       "      <td>Budd Boetticher: An American Original (Video 2...</td>\n",
       "      <td>http://www.imdb.com/title/tt0495813/</td>\n",
       "      <td>6.8</td>\n",
       "      <td>[Fred Bailey, Budd Boetticher, Peter Bogdanovi...</td>\n",
       "      <td>Bruce Ricker</td>\n",
       "      <td>\\n                    Documentary on the under...</td>\n",
       "      <td>[character name in title]</td>\n",
       "      <td>[Documentary]</td>\n",
       "      <td>Documentary</td>\n",
       "      <td>0</td>\n",
       "      <td>0</td>\n",
       "    </tr>\n",
       "    <tr>\n",
       "      <td>13352</td>\n",
       "      <td>Die Gräfin (2009)</td>\n",
       "      <td>http://www.imdb.com/title/tt0496634/</td>\n",
       "      <td>6.2</td>\n",
       "      <td>[Julie Delpy, Daniel Brühl, William Hurt, Anam...</td>\n",
       "      <td>Julie Delpy</td>\n",
       "      <td>\\n                    A 17th century Hungarian...</td>\n",
       "      <td>[fear of aging, female serial killer, blood, i...</td>\n",
       "      <td>[Biography, Drama, History, Horror, Thriller]</td>\n",
       "      <td>Biography</td>\n",
       "      <td>Drama</td>\n",
       "      <td>History</td>\n",
       "    </tr>\n",
       "    <tr>\n",
       "      <td>13353</td>\n",
       "      <td>Eine unbequeme Wahrheit (2006)</td>\n",
       "      <td>http://www.imdb.com/title/tt0497116/</td>\n",
       "      <td>7.4</td>\n",
       "      <td>[Al Gore, Billy West]</td>\n",
       "      <td>Davis Guggenheim</td>\n",
       "      <td>\\n                    Filmmaker Davis Guggenhe...</td>\n",
       "      <td>[climate, global warming, global climate chang...</td>\n",
       "      <td>[Documentary, News]</td>\n",
       "      <td>Documentary</td>\n",
       "      <td>News</td>\n",
       "      <td>0</td>\n",
       "    </tr>\n",
       "    <tr>\n",
       "      <td>13354</td>\n",
       "      <td>Adrift in Manhattan (2007)</td>\n",
       "      <td>http://www.imdb.com/title/tt0497316/</td>\n",
       "      <td>5.5</td>\n",
       "      <td>[Heather Graham, Victor Rasuk, Dominic Chianes...</td>\n",
       "      <td>Alfredo Rodriguez de Villa</td>\n",
       "      <td>\\n                    The lives of three lonel...</td>\n",
       "      <td>[deep cleavage, older woman younger man sex, s...</td>\n",
       "      <td>[Drama]</td>\n",
       "      <td>Drama</td>\n",
       "      <td>0</td>\n",
       "      <td>0</td>\n",
       "    </tr>\n",
       "    <tr>\n",
       "      <td>13355</td>\n",
       "      <td>Anamorph - Die Kunst zu töten (2007)</td>\n",
       "      <td>http://www.imdb.com/title/tt0497323/</td>\n",
       "      <td>5.5</td>\n",
       "      <td>[Willem Dafoe, Scott Speedman, Don Harvey, Jam...</td>\n",
       "      <td>Henry Miller</td>\n",
       "      <td>\\n                    A psychological thriller...</td>\n",
       "      <td>[eyesight, murder, detective, anamorphosis, po...</td>\n",
       "      <td>[Crime, Horror, Thriller]</td>\n",
       "      <td>Crime</td>\n",
       "      <td>Horror</td>\n",
       "      <td>Thriller</td>\n",
       "    </tr>\n",
       "    <tr>\n",
       "      <td>13356</td>\n",
       "      <td>Working with Animals: 'The Scorpion King' (Vid...</td>\n",
       "      <td>http://www.imdb.com/title/tt0497667/</td>\n",
       "      <td>6.6</td>\n",
       "      <td>[Chuck Russell, Richard Luke Rothschild, Sherr...</td>\n",
       "      <td>Chuck Russell</td>\n",
       "      <td>\\n                    A behind the scenes look...</td>\n",
       "      <td>[behind the scenes, filmmaking]</td>\n",
       "      <td>[Documentary, Short]</td>\n",
       "      <td>Documentary</td>\n",
       "      <td>Short</td>\n",
       "      <td>0</td>\n",
       "    </tr>\n",
       "    <tr>\n",
       "      <td>13357</td>\n",
       "      <td>Gwai wik (2006)</td>\n",
       "      <td>http://www.imdb.com/title/tt0498311/</td>\n",
       "      <td>6.1</td>\n",
       "      <td>[Angelica Lee, Soi Cheang, Ekin Cheng, Lawrenc...</td>\n",
       "      <td>Danny Pang</td>\n",
       "      <td>\\n                    After writing three best...</td>\n",
       "      <td>[downward spiral, mind bending, supernatural p...</td>\n",
       "      <td>[Fantasy, Horror, Mystery, Thriller]</td>\n",
       "      <td>Fantasy</td>\n",
       "      <td>Horror</td>\n",
       "      <td>Mystery</td>\n",
       "    </tr>\n",
       "    <tr>\n",
       "      <td>13358</td>\n",
       "      <td>Hostel 2 (2007)</td>\n",
       "      <td>http://www.imdb.com/title/tt0498353/</td>\n",
       "      <td>5.5</td>\n",
       "      <td>[Lauren German, Roger Bart, Heather Matarazzo,...</td>\n",
       "      <td>Eli Roth</td>\n",
       "      <td>\\n                    Three American college s...</td>\n",
       "      <td>[breasts, torture, extreme violence, tied feet...</td>\n",
       "      <td>[Horror]</td>\n",
       "      <td>Horror</td>\n",
       "      <td>0</td>\n",
       "      <td>0</td>\n",
       "    </tr>\n",
       "    <tr>\n",
       "      <td>13359</td>\n",
       "      <td>Kalyug (2005)</td>\n",
       "      <td>http://www.imdb.com/title/tt0499041/</td>\n",
       "      <td>6.4</td>\n",
       "      <td>[Kunal Khemu, Deepal Shaw, Smiley Suri, Atul P...</td>\n",
       "      <td>Mohit Suri</td>\n",
       "      <td>\\n                    The film deals with a ne...</td>\n",
       "      <td>[pornography, train, suicide, sexual conspirac...</td>\n",
       "      <td>[Action, Crime, Drama, Thriller]</td>\n",
       "      <td>Action</td>\n",
       "      <td>Crime</td>\n",
       "      <td>Drama</td>\n",
       "    </tr>\n",
       "    <tr>\n",
       "      <td>13360</td>\n",
       "      <td>Slipstream (2007)</td>\n",
       "      <td>http://www.imdb.com/title/tt0499570/</td>\n",
       "      <td>4.9</td>\n",
       "      <td>[Anthony Hopkins, Stella Hopkins, Christian Sl...</td>\n",
       "      <td>Anthony Hopkins</td>\n",
       "      <td>\\n                    Aging screenwriter Felix...</td>\n",
       "      <td>[memory, memory lapse, flashback sequence, for...</td>\n",
       "      <td>[Comedy, Drama, Fantasy, Mystery]</td>\n",
       "      <td>Comedy</td>\n",
       "      <td>Drama</td>\n",
       "      <td>Fantasy</td>\n",
       "    </tr>\n",
       "    <tr>\n",
       "      <td>13361</td>\n",
       "      <td>Saturday Night Live: The Best of Phil Hartman ...</td>\n",
       "      <td>http://www.imdb.com/title/tt0500148/</td>\n",
       "      <td>7.7</td>\n",
       "      <td>[Phil Hartman]</td>\n",
       "      <td>Beth McCarthy-Miller</td>\n",
       "      <td>\\n                    A Saturday Night Live DV...</td>\n",
       "      <td>[stand up comedy, tv special, saturday night l...</td>\n",
       "      <td>[Documentary, Comedy]</td>\n",
       "      <td>Documentary</td>\n",
       "      <td>Comedy</td>\n",
       "      <td>0</td>\n",
       "    </tr>\n",
       "    <tr>\n",
       "      <td>13362</td>\n",
       "      <td>Saturday Night Live 25 (1999)</td>\n",
       "      <td>http://www.imdb.com/title/tt0500149/</td>\n",
       "      <td>7.6</td>\n",
       "      <td>[Dan Aykroyd, Alec Baldwin, Candice Bergen, Da...</td>\n",
       "      <td>Beth McCarthy-Miller</td>\n",
       "      <td>\\n                    A TV special celebrating...</td>\n",
       "      <td>[saturday night live, musical number, monologu...</td>\n",
       "      <td>[Documentary, Comedy, Music]</td>\n",
       "      <td>Documentary</td>\n",
       "      <td>Comedy</td>\n",
       "      <td>Music</td>\n",
       "    </tr>\n",
       "    <tr>\n",
       "      <td>13363</td>\n",
       "      <td>VeggieTales: Where's God When I'm S-Scared? (V...</td>\n",
       "      <td>http://www.imdb.com/title/tt0500177/</td>\n",
       "      <td>7.5</td>\n",
       "      <td>[Dan Anderson, G. Bock, Mike Nawrocki, Mike Sa...</td>\n",
       "      <td>Phil Vischer</td>\n",
       "      <td>\\n                    \"Tales from the Crisper\"...</td>\n",
       "      <td>[nightmare, lion, tomato, king, cucumber]</td>\n",
       "      <td>[Animation, Short, Comedy, Family, Musical]</td>\n",
       "      <td>Animation</td>\n",
       "      <td>Short</td>\n",
       "      <td>Comedy</td>\n",
       "    </tr>\n",
       "  </tbody>\n",
       "</table>\n",
       "</div>"
      ],
      "text/plain": [
       "                                             Movie Title  \\\n",
       "13349                         Jackass Nummer zwei (2006)   \n",
       "13350                                    Gangster (2006)   \n",
       "13351  Budd Boetticher: An American Original (Video 2...   \n",
       "13352                                  Die Gräfin (2009)   \n",
       "13353                     Eine unbequeme Wahrheit (2006)   \n",
       "13354                         Adrift in Manhattan (2007)   \n",
       "13355               Anamorph - Die Kunst zu töten (2007)   \n",
       "13356  Working with Animals: 'The Scorpion King' (Vid...   \n",
       "13357                                    Gwai wik (2006)   \n",
       "13358                                    Hostel 2 (2007)   \n",
       "13359                                      Kalyug (2005)   \n",
       "13360                                  Slipstream (2007)   \n",
       "13361  Saturday Night Live: The Best of Phil Hartman ...   \n",
       "13362                      Saturday Night Live 25 (1999)   \n",
       "13363  VeggieTales: Where's God When I'm S-Scared? (V...   \n",
       "\n",
       "                                   IMDB Url IMDB Rating  \\\n",
       "13349  http://www.imdb.com/title/tt0493430/         7.0   \n",
       "13350  http://www.imdb.com/title/tt0495032/         7.1   \n",
       "13351  http://www.imdb.com/title/tt0495813/         6.8   \n",
       "13352  http://www.imdb.com/title/tt0496634/         6.2   \n",
       "13353  http://www.imdb.com/title/tt0497116/         7.4   \n",
       "13354  http://www.imdb.com/title/tt0497316/         5.5   \n",
       "13355  http://www.imdb.com/title/tt0497323/         5.5   \n",
       "13356  http://www.imdb.com/title/tt0497667/         6.6   \n",
       "13357  http://www.imdb.com/title/tt0498311/         6.1   \n",
       "13358  http://www.imdb.com/title/tt0498353/         5.5   \n",
       "13359  http://www.imdb.com/title/tt0499041/         6.4   \n",
       "13360  http://www.imdb.com/title/tt0499570/         4.9   \n",
       "13361  http://www.imdb.com/title/tt0500148/         7.7   \n",
       "13362  http://www.imdb.com/title/tt0500149/         7.6   \n",
       "13363  http://www.imdb.com/title/tt0500177/         7.5   \n",
       "\n",
       "                                                  Actors  \\\n",
       "13349  [Johnny Knoxville, Bam Margera, Steve-O, Chris...   \n",
       "13350  [Kangana Ranaut, Shiney Ahuja, Emraan Hashmi, ...   \n",
       "13351  [Fred Bailey, Budd Boetticher, Peter Bogdanovi...   \n",
       "13352  [Julie Delpy, Daniel Brühl, William Hurt, Anam...   \n",
       "13353                              [Al Gore, Billy West]   \n",
       "13354  [Heather Graham, Victor Rasuk, Dominic Chianes...   \n",
       "13355  [Willem Dafoe, Scott Speedman, Don Harvey, Jam...   \n",
       "13356  [Chuck Russell, Richard Luke Rothschild, Sherr...   \n",
       "13357  [Angelica Lee, Soi Cheang, Ekin Cheng, Lawrenc...   \n",
       "13358  [Lauren German, Roger Bart, Heather Matarazzo,...   \n",
       "13359  [Kunal Khemu, Deepal Shaw, Smiley Suri, Atul P...   \n",
       "13360  [Anthony Hopkins, Stella Hopkins, Christian Sl...   \n",
       "13361                                     [Phil Hartman]   \n",
       "13362  [Dan Aykroyd, Alec Baldwin, Candice Bergen, Da...   \n",
       "13363  [Dan Anderson, G. Bock, Mike Nawrocki, Mike Sa...   \n",
       "\n",
       "                         Director  \\\n",
       "13349               Jeff Tremaine   \n",
       "13350                 Anurag Basu   \n",
       "13351                Bruce Ricker   \n",
       "13352                 Julie Delpy   \n",
       "13353            Davis Guggenheim   \n",
       "13354  Alfredo Rodriguez de Villa   \n",
       "13355                Henry Miller   \n",
       "13356               Chuck Russell   \n",
       "13357                  Danny Pang   \n",
       "13358                    Eli Roth   \n",
       "13359                  Mohit Suri   \n",
       "13360             Anthony Hopkins   \n",
       "13361        Beth McCarthy-Miller   \n",
       "13362        Beth McCarthy-Miller   \n",
       "13363                Phil Vischer   \n",
       "\n",
       "                                            Plot Summary  \\\n",
       "13349  \\n                    Chris Pontius, Johnny Kn...   \n",
       "13350  \\n                    In Seoul, a gangster's a...   \n",
       "13351  \\n                    Documentary on the under...   \n",
       "13352  \\n                    A 17th century Hungarian...   \n",
       "13353  \\n                    Filmmaker Davis Guggenhe...   \n",
       "13354  \\n                    The lives of three lonel...   \n",
       "13355  \\n                    A psychological thriller...   \n",
       "13356  \\n                    A behind the scenes look...   \n",
       "13357  \\n                    After writing three best...   \n",
       "13358  \\n                    Three American college s...   \n",
       "13359  \\n                    The film deals with a ne...   \n",
       "13360  \\n                    Aging screenwriter Felix...   \n",
       "13361  \\n                    A Saturday Night Live DV...   \n",
       "13362  \\n                    A TV special celebrating...   \n",
       "13363  \\n                    \"Tales from the Crisper\"...   \n",
       "\n",
       "                                           Plot Keywords  \\\n",
       "13349  [pubic hair, male rear nudity, male frontal nu...   \n",
       "13350  [underworld don, unrequited love, singer in re...   \n",
       "13351                          [character name in title]   \n",
       "13352  [fear of aging, female serial killer, blood, i...   \n",
       "13353  [climate, global warming, global climate chang...   \n",
       "13354  [deep cleavage, older woman younger man sex, s...   \n",
       "13355  [eyesight, murder, detective, anamorphosis, po...   \n",
       "13356                    [behind the scenes, filmmaking]   \n",
       "13357  [downward spiral, mind bending, supernatural p...   \n",
       "13358  [breasts, torture, extreme violence, tied feet...   \n",
       "13359  [pornography, train, suicide, sexual conspirac...   \n",
       "13360  [memory, memory lapse, flashback sequence, for...   \n",
       "13361  [stand up comedy, tv special, saturday night l...   \n",
       "13362  [saturday night live, musical number, monologu...   \n",
       "13363          [nightmare, lion, tomato, king, cucumber]   \n",
       "\n",
       "                                              Genres     Genres_0 Genres_1  \\\n",
       "13349                  [Documentary, Action, Comedy]  Documentary   Action   \n",
       "13350      [Action, Crime, Drama, Romance, Thriller]       Action    Crime   \n",
       "13351                                  [Documentary]  Documentary        0   \n",
       "13352  [Biography, Drama, History, Horror, Thriller]    Biography    Drama   \n",
       "13353                            [Documentary, News]  Documentary     News   \n",
       "13354                                        [Drama]        Drama        0   \n",
       "13355                      [Crime, Horror, Thriller]        Crime   Horror   \n",
       "13356                           [Documentary, Short]  Documentary    Short   \n",
       "13357           [Fantasy, Horror, Mystery, Thriller]      Fantasy   Horror   \n",
       "13358                                       [Horror]       Horror        0   \n",
       "13359               [Action, Crime, Drama, Thriller]       Action    Crime   \n",
       "13360              [Comedy, Drama, Fantasy, Mystery]       Comedy    Drama   \n",
       "13361                          [Documentary, Comedy]  Documentary   Comedy   \n",
       "13362                   [Documentary, Comedy, Music]  Documentary   Comedy   \n",
       "13363    [Animation, Short, Comedy, Family, Musical]    Animation    Short   \n",
       "\n",
       "       Genres_2  \n",
       "13349    Comedy  \n",
       "13350     Drama  \n",
       "13351         0  \n",
       "13352   History  \n",
       "13353         0  \n",
       "13354         0  \n",
       "13355  Thriller  \n",
       "13356         0  \n",
       "13357   Mystery  \n",
       "13358         0  \n",
       "13359     Drama  \n",
       "13360   Fantasy  \n",
       "13361         0  \n",
       "13362     Music  \n",
       "13363    Comedy  "
      ]
     },
     "execution_count": 6,
     "metadata": {},
     "output_type": "execute_result"
    }
   ],
   "source": [
    "dataset.tail(15)"
   ]
  },
  {
   "cell_type": "markdown",
   "metadata": {},
   "source": [
    "# - - - - - - - - - - - - - - - - - - - - - - - - - - - - - - - - - - - - - - - - - - - - - - - - - - - - - - - - - -"
   ]
  },
  {
   "cell_type": "markdown",
   "metadata": {},
   "source": [
    "#### Cleaning the columns"
   ]
  },
  {
   "cell_type": "markdown",
   "metadata": {},
   "source": [
    "##### Movie Title (25.10.2019)"
   ]
  },
  {
   "cell_type": "markdown",
   "metadata": {},
   "source": [
    "##### Step 1: Clean te year (i.e 2001) from each title - 25.10.2019"
   ]
  },
  {
   "cell_type": "code",
   "execution_count": 12,
   "metadata": {},
   "outputs": [],
   "source": [
    "exp = r'\\(\\d\\d\\d\\d.'\n",
    "\n",
    "dataset['Movie Title'] = dataset['Movie Title'].apply(lambda x: re.sub(exp,\"\",x).strip())"
   ]
  },
  {
   "cell_type": "code",
   "execution_count": 13,
   "metadata": {},
   "outputs": [],
   "source": [
    "dataset['Plot Summary'] = dataset['Plot Summary'].apply(lambda x: x.replace('\\\\', ''))"
   ]
  },
  {
   "cell_type": "code",
   "execution_count": 14,
   "metadata": {},
   "outputs": [
    {
     "data": {
      "text/plain": [
       "\"VeggieTales: Where's God When I'm S-Scared? (Video 1993)\""
      ]
     },
     "execution_count": 14,
     "metadata": {},
     "output_type": "execute_result"
    }
   ],
   "source": [
    "dataset['Movie Title'].iloc[-1]"
   ]
  },
  {
   "cell_type": "markdown",
   "metadata": {},
   "source": [
    "##### Step 2: Clean the similar movies (based on the similar actors they have) - 29.10.2019"
   ]
  },
  {
   "cell_type": "code",
   "execution_count": 15,
   "metadata": {},
   "outputs": [],
   "source": [
    "dataset['Actors'] = dataset['Actors'].apply(lambda x: ', '.join(x))"
   ]
  },
  {
   "cell_type": "code",
   "execution_count": 16,
   "metadata": {},
   "outputs": [],
   "source": [
    "dataset['Actors'] = dataset['Actors'].apply(lambda x: x.replace('-', ' '))"
   ]
  },
  {
   "cell_type": "code",
   "execution_count": 17,
   "metadata": {},
   "outputs": [
    {
     "data": {
      "text/html": [
       "<div>\n",
       "<style scoped>\n",
       "    .dataframe tbody tr th:only-of-type {\n",
       "        vertical-align: middle;\n",
       "    }\n",
       "\n",
       "    .dataframe tbody tr th {\n",
       "        vertical-align: top;\n",
       "    }\n",
       "\n",
       "    .dataframe thead th {\n",
       "        text-align: right;\n",
       "    }\n",
       "</style>\n",
       "<table border=\"1\" class=\"dataframe\">\n",
       "  <thead>\n",
       "    <tr style=\"text-align: right;\">\n",
       "      <th></th>\n",
       "      <th>Movie Title</th>\n",
       "      <th>IMDB Url</th>\n",
       "      <th>IMDB Rating</th>\n",
       "      <th>Actors</th>\n",
       "      <th>Director</th>\n",
       "      <th>Plot Summary</th>\n",
       "      <th>Plot Keywords</th>\n",
       "      <th>Genres</th>\n",
       "      <th>Genres_0</th>\n",
       "      <th>Genres_1</th>\n",
       "      <th>Genres_2</th>\n",
       "    </tr>\n",
       "  </thead>\n",
       "  <tbody>\n",
       "    <tr>\n",
       "      <td>0</td>\n",
       "      <td>Avatar</td>\n",
       "      <td>http://www.imdb.com/title/tt0499549/?ref_=fn_t...</td>\n",
       "      <td>7.8</td>\n",
       "      <td>Sam Worthington, Zoe Saldana, Sigourney Weaver...</td>\n",
       "      <td>James-Cameron</td>\n",
       "      <td>A paraplegic Marine dispatched to the moon Pan...</td>\n",
       "      <td>[avatar, future, marine, native, paraplegic]</td>\n",
       "      <td>[Action, Adventure, Fantasy]</td>\n",
       "      <td>Action</td>\n",
       "      <td>Adventure</td>\n",
       "      <td>Fantasy</td>\n",
       "    </tr>\n",
       "    <tr>\n",
       "      <td>5468</td>\n",
       "      <td>Avatar - Aufbruch nach Pandora</td>\n",
       "      <td>http://www.imdb.com/title/tt0499549/</td>\n",
       "      <td>7.8</td>\n",
       "      <td>Sam Worthington, Zoe Saldana, Sigourney Weaver...</td>\n",
       "      <td>James Cameron</td>\n",
       "      <td>\\n                    A paraplegic Marine disp...</td>\n",
       "      <td>[spiritualism, paraplegic, marine, future, for...</td>\n",
       "      <td>[Action, Adventure, Fantasy, Sci-Fi]</td>\n",
       "      <td>Action</td>\n",
       "      <td>Adventure</td>\n",
       "      <td>Fantasy</td>\n",
       "    </tr>\n",
       "    <tr>\n",
       "      <td>8765</td>\n",
       "      <td>Aliens vs. Avatars</td>\n",
       "      <td>http://www.imdb.com/title/tt1854506/</td>\n",
       "      <td>1.5</td>\n",
       "      <td>Jason Lockhart, Kim Argetsinger, Cassie Fliege...</td>\n",
       "      <td>Lewis Schoenbrun</td>\n",
       "      <td>\\n                    Six college friends find...</td>\n",
       "      <td>[arm ripped off, decapitation, camping, toples...</td>\n",
       "      <td>[Horror, Sci-Fi]</td>\n",
       "      <td>Horror</td>\n",
       "      <td>Sci-Fi</td>\n",
       "      <td>0</td>\n",
       "    </tr>\n",
       "  </tbody>\n",
       "</table>\n",
       "</div>"
      ],
      "text/plain": [
       "                         Movie Title  \\\n",
       "0                             Avatar   \n",
       "5468  Avatar - Aufbruch nach Pandora   \n",
       "8765              Aliens vs. Avatars   \n",
       "\n",
       "                                               IMDB Url IMDB Rating  \\\n",
       "0     http://www.imdb.com/title/tt0499549/?ref_=fn_t...         7.8   \n",
       "5468               http://www.imdb.com/title/tt0499549/         7.8   \n",
       "8765               http://www.imdb.com/title/tt1854506/         1.5   \n",
       "\n",
       "                                                 Actors          Director  \\\n",
       "0     Sam Worthington, Zoe Saldana, Sigourney Weaver...     James-Cameron   \n",
       "5468  Sam Worthington, Zoe Saldana, Sigourney Weaver...     James Cameron   \n",
       "8765  Jason Lockhart, Kim Argetsinger, Cassie Fliege...  Lewis Schoenbrun   \n",
       "\n",
       "                                           Plot Summary  \\\n",
       "0     A paraplegic Marine dispatched to the moon Pan...   \n",
       "5468  \\n                    A paraplegic Marine disp...   \n",
       "8765  \\n                    Six college friends find...   \n",
       "\n",
       "                                          Plot Keywords  \\\n",
       "0          [avatar, future, marine, native, paraplegic]   \n",
       "5468  [spiritualism, paraplegic, marine, future, for...   \n",
       "8765  [arm ripped off, decapitation, camping, toples...   \n",
       "\n",
       "                                    Genres Genres_0   Genres_1 Genres_2  \n",
       "0             [Action, Adventure, Fantasy]   Action  Adventure  Fantasy  \n",
       "5468  [Action, Adventure, Fantasy, Sci-Fi]   Action  Adventure  Fantasy  \n",
       "8765                      [Horror, Sci-Fi]   Horror     Sci-Fi        0  "
      ]
     },
     "execution_count": 17,
     "metadata": {},
     "output_type": "execute_result"
    }
   ],
   "source": [
    "dataset[dataset['Movie Title'].str.contains('Avatar')]"
   ]
  },
  {
   "cell_type": "code",
   "execution_count": null,
   "metadata": {},
   "outputs": [],
   "source": [
    "# dataset_duplicated = dataset\n",
    "\n",
    "# dataset_duplicated[dataset_duplicated.duplicated(['Actors'], keep='last')]"
   ]
  },
  {
   "cell_type": "code",
   "execution_count": 18,
   "metadata": {},
   "outputs": [],
   "source": [
    "dataset = dataset.drop_duplicates('Actors', keep='first')"
   ]
  },
  {
   "cell_type": "code",
   "execution_count": 19,
   "metadata": {},
   "outputs": [
    {
     "data": {
      "text/plain": [
       "(10602, 11)"
      ]
     },
     "execution_count": 19,
     "metadata": {},
     "output_type": "execute_result"
    }
   ],
   "source": [
    "dataset.shape"
   ]
  },
  {
   "cell_type": "code",
   "execution_count": 20,
   "metadata": {},
   "outputs": [
    {
     "data": {
      "text/html": [
       "<div>\n",
       "<style scoped>\n",
       "    .dataframe tbody tr th:only-of-type {\n",
       "        vertical-align: middle;\n",
       "    }\n",
       "\n",
       "    .dataframe tbody tr th {\n",
       "        vertical-align: top;\n",
       "    }\n",
       "\n",
       "    .dataframe thead th {\n",
       "        text-align: right;\n",
       "    }\n",
       "</style>\n",
       "<table border=\"1\" class=\"dataframe\">\n",
       "  <thead>\n",
       "    <tr style=\"text-align: right;\">\n",
       "      <th></th>\n",
       "      <th>Movie Title</th>\n",
       "      <th>IMDB Url</th>\n",
       "      <th>IMDB Rating</th>\n",
       "      <th>Actors</th>\n",
       "      <th>Director</th>\n",
       "      <th>Plot Summary</th>\n",
       "      <th>Plot Keywords</th>\n",
       "      <th>Genres</th>\n",
       "      <th>Genres_0</th>\n",
       "      <th>Genres_1</th>\n",
       "      <th>Genres_2</th>\n",
       "    </tr>\n",
       "  </thead>\n",
       "  <tbody>\n",
       "    <tr>\n",
       "      <td>0</td>\n",
       "      <td>Avatar</td>\n",
       "      <td>http://www.imdb.com/title/tt0499549/?ref_=fn_t...</td>\n",
       "      <td>7.8</td>\n",
       "      <td>Sam Worthington, Zoe Saldana, Sigourney Weaver...</td>\n",
       "      <td>James-Cameron</td>\n",
       "      <td>A paraplegic Marine dispatched to the moon Pan...</td>\n",
       "      <td>[avatar, future, marine, native, paraplegic]</td>\n",
       "      <td>[Action, Adventure, Fantasy]</td>\n",
       "      <td>Action</td>\n",
       "      <td>Adventure</td>\n",
       "      <td>Fantasy</td>\n",
       "    </tr>\n",
       "    <tr>\n",
       "      <td>8765</td>\n",
       "      <td>Aliens vs. Avatars</td>\n",
       "      <td>http://www.imdb.com/title/tt1854506/</td>\n",
       "      <td>1.5</td>\n",
       "      <td>Jason Lockhart, Kim Argetsinger, Cassie Fliege...</td>\n",
       "      <td>Lewis Schoenbrun</td>\n",
       "      <td>\\n                    Six college friends find...</td>\n",
       "      <td>[arm ripped off, decapitation, camping, toples...</td>\n",
       "      <td>[Horror, Sci-Fi]</td>\n",
       "      <td>Horror</td>\n",
       "      <td>Sci-Fi</td>\n",
       "      <td>0</td>\n",
       "    </tr>\n",
       "  </tbody>\n",
       "</table>\n",
       "</div>"
      ],
      "text/plain": [
       "             Movie Title                                           IMDB Url  \\\n",
       "0                 Avatar  http://www.imdb.com/title/tt0499549/?ref_=fn_t...   \n",
       "8765  Aliens vs. Avatars               http://www.imdb.com/title/tt1854506/   \n",
       "\n",
       "     IMDB Rating                                             Actors  \\\n",
       "0            7.8  Sam Worthington, Zoe Saldana, Sigourney Weaver...   \n",
       "8765         1.5  Jason Lockhart, Kim Argetsinger, Cassie Fliege...   \n",
       "\n",
       "              Director                                       Plot Summary  \\\n",
       "0        James-Cameron  A paraplegic Marine dispatched to the moon Pan...   \n",
       "8765  Lewis Schoenbrun  \\n                    Six college friends find...   \n",
       "\n",
       "                                          Plot Keywords  \\\n",
       "0          [avatar, future, marine, native, paraplegic]   \n",
       "8765  [arm ripped off, decapitation, camping, toples...   \n",
       "\n",
       "                            Genres Genres_0   Genres_1 Genres_2  \n",
       "0     [Action, Adventure, Fantasy]   Action  Adventure  Fantasy  \n",
       "8765              [Horror, Sci-Fi]   Horror     Sci-Fi        0  "
      ]
     },
     "execution_count": 20,
     "metadata": {},
     "output_type": "execute_result"
    }
   ],
   "source": [
    "dataset[dataset['Movie Title'].str.contains(\"Avatar\")]"
   ]
  },
  {
   "cell_type": "markdown",
   "metadata": {},
   "source": [
    "##### Actors (29.10.2019)"
   ]
  },
  {
   "cell_type": "code",
   "execution_count": 21,
   "metadata": {},
   "outputs": [],
   "source": [
    "dataset['Actors'] = dataset['Actors'].apply(lambda x: list(x.split(\", \")))"
   ]
  },
  {
   "cell_type": "markdown",
   "metadata": {},
   "source": [
    "##### Director (29.10.2019)"
   ]
  },
  {
   "cell_type": "code",
   "execution_count": 22,
   "metadata": {},
   "outputs": [],
   "source": [
    "dataset['Director'] = dataset['Director'].apply(lambda x: x.replace('-', ' '))"
   ]
  },
  {
   "cell_type": "markdown",
   "metadata": {},
   "source": [
    "##### Plot Summary (29.10.2019)"
   ]
  },
  {
   "cell_type": "code",
   "execution_count": 23,
   "metadata": {},
   "outputs": [
    {
     "data": {
      "text/plain": [
       "'\\n                    Two bounty hunters with the same intentions team up to track down a Western outlaw.\\n            '"
      ]
     },
     "execution_count": 23,
     "metadata": {},
     "output_type": "execute_result"
    }
   ],
   "source": [
    "dataset['Plot Summary'].iloc[4774]"
   ]
  },
  {
   "cell_type": "code",
   "execution_count": 24,
   "metadata": {},
   "outputs": [],
   "source": [
    "dataset['Plot Summary'] = dataset['Plot Summary'].apply(lambda x: x.strip())\n",
    "\n",
    "dataset['Plot Summary'] = dataset['Plot Summary'].apply(lambda x: x.replace(',', ''))\n",
    "\n",
    "dataset['Plot Summary'] = dataset['Plot Summary'].apply(lambda x: x.replace('.', ''))\n",
    "\n",
    "dataset['Plot Summary'] = dataset['Plot Summary'].apply(lambda x: x.replace('?', ''))\n",
    "\n",
    "dataset['Plot Summary'] = dataset['Plot Summary'].apply(lambda x: x.replace('!', ''))\n",
    "\n",
    "dataset['Plot Summary'] = dataset['Plot Summary'].apply(lambda x: x.replace('\\n                    See full summary\\xa0»', ''))\n",
    "\n",
    "dataset['Plot Summary'] = dataset['Plot Summary'].apply(lambda x: x.rstrip())"
   ]
  },
  {
   "cell_type": "code",
   "execution_count": 25,
   "metadata": {},
   "outputs": [
    {
     "data": {
      "text/plain": [
       "'\"Tales from the Crisper\": Junior Asparagus after watching a scary Frankencelery movie is afraid to go to sleep; he gets help from Bob the Tomato and Larry the Cucumber who teach him that'"
      ]
     },
     "execution_count": 25,
     "metadata": {},
     "output_type": "execute_result"
    }
   ],
   "source": [
    "dataset['Plot Summary'].iloc[-1]"
   ]
  },
  {
   "cell_type": "markdown",
   "metadata": {},
   "source": [
    "##### Genres (30.10.2019)"
   ]
  },
  {
   "cell_type": "code",
   "execution_count": 26,
   "metadata": {},
   "outputs": [],
   "source": [
    "dataset['Genres'] = dataset['Genres'].apply(lambda x: list(filter(lambda a: a != '0', x)))"
   ]
  },
  {
   "cell_type": "code",
   "execution_count": 27,
   "metadata": {},
   "outputs": [
    {
     "data": {
      "text/plain": [
       "['Adventure', 'Fantasy']"
      ]
     },
     "execution_count": 27,
     "metadata": {},
     "output_type": "execute_result"
    }
   ],
   "source": [
    "dataset.Genres.iloc[19]"
   ]
  },
  {
   "cell_type": "code",
   "execution_count": 28,
   "metadata": {},
   "outputs": [],
   "source": [
    "dataset = dataset.drop(['Genres_0', 'Genres_1', 'Genres_2'], axis=1)"
   ]
  },
  {
   "cell_type": "code",
   "execution_count": 29,
   "metadata": {},
   "outputs": [
    {
     "name": "stdout",
     "output_type": "stream",
     "text": [
      "                                Movie Title  \\\n",
      "0                                    Avatar   \n",
      "1  Pirates of the Caribbean: At World's End   \n",
      "2                                   Spectre   \n",
      "3                     The Dark Knight Rises   \n",
      "4                               John Carter   \n",
      "\n",
      "                                            IMDB Url IMDB Rating  \\\n",
      "0  http://www.imdb.com/title/tt0499549/?ref_=fn_t...         7.8   \n",
      "1  http://www.imdb.com/title/tt0449088/?ref_=fn_t...         7.1   \n",
      "2  http://www.imdb.com/title/tt2379713/?ref_=fn_t...         6.8   \n",
      "3  http://www.imdb.com/title/tt1345836/?ref_=fn_t...         8.4   \n",
      "4  http://www.imdb.com/title/tt0401729/?ref_=fn_t...         6.6   \n",
      "\n",
      "                                              Actors           Director  \\\n",
      "0  [Sam Worthington, Zoe Saldana, Sigourney Weave...      James Cameron   \n",
      "1  [Johnny Depp, Geoffrey Rush, Orlando Bloom, Ke...     Gore Verbinski   \n",
      "2  [Daniel Craig, Christoph Waltz, Léa Seydoux, R...         Sam Mendes   \n",
      "3  [Christian Bale, Gary Oldman, Tom Hardy, Josep...  Christopher Nolan   \n",
      "4  [Taylor Kitsch, Lynn Collins, Samantha Morton,...     Andrew Stanton   \n",
      "\n",
      "                                        Plot Summary  \\\n",
      "0  A paraplegic Marine dispatched to the moon Pan...   \n",
      "1  Captain Barbossa Will Turner and Elizabeth Swa...   \n",
      "2  A cryptic message from 007's past sends him pi...   \n",
      "3  Eight years after the Joker's reign of anarchy...   \n",
      "4  Transported to Barsoom a Civil War vet discove...   \n",
      "\n",
      "                                       Plot Keywords  \\\n",
      "0       [avatar, future, marine, native, paraplegic]   \n",
      "1  [goddess, marriage, ceremony, marriage, propos...   \n",
      "2          [bomb, espionage, sequel, spy, terrorist]   \n",
      "3  [deception, imprisonment, lawlessness, police,...   \n",
      "4  [alien, american, civil, war, male, nipple, ma...   \n",
      "\n",
      "                          Genres  \n",
      "0   [Action, Adventure, Fantasy]  \n",
      "1   [Action, Adventure, Fantasy]  \n",
      "2  [Action, Adventure, Thriller]  \n",
      "3             [Action, Thriller]  \n",
      "4    [Action, Adventure, Sci-Fi]  \n",
      "(10602, 8)\n"
     ]
    }
   ],
   "source": [
    "print(dataset.head())\n",
    "\n",
    "print(dataset.shape)"
   ]
  },
  {
   "cell_type": "markdown",
   "metadata": {},
   "source": [
    "##### Create the column Combined Features (29.10.2019)"
   ]
  },
  {
   "cell_type": "code",
   "execution_count": 30,
   "metadata": {},
   "outputs": [],
   "source": [
    "# The columns that will be used to create the column \"Combined Features\"\n",
    "\n",
    "def combine_features(row):\n",
    "    return row['Movie Title'].lower() + \" \" + ' '.join(map(str, row['Actors'])).lower() + \" \" + row['Director'].lower() + \" \" + row['Plot Summary'].lower() + \" \" + ' '.join(row['Plot Keywords']).lower() + \" \" + ' '.join(row['Genres']).lower()\n",
    "\n",
    "def combine_actors(row):\n",
    "    return ', '.join(row['Actors'])\n",
    "\n",
    "dataset[\"Combined_Features\"] = dataset.apply(combine_features, axis=1)\n",
    "\n",
    "dataset['Actors_Embeddings'] = dataset.apply(combine_actors, axis=1)\n",
    "\n",
    "## Note: Instead of creating the Actor Embeddings column, vectorize the different name of each actor"
   ]
  },
  {
   "cell_type": "code",
   "execution_count": 31,
   "metadata": {},
   "outputs": [
    {
     "data": {
      "text/plain": [
       "'avatar sam worthington zoe saldana sigourney weaver stephen lang michelle rodriguez giovanni ribisi joel david moore cch pounder wes studi laz alonso dileep rao matt gerald sean anthony moran jason whyte scott lawrence james cameron a paraplegic marine dispatched to the moon pandora on a unique mission becomes torn between following his orders and protecting the world he feels is his home avatar future marine native paraplegic action adventure fantasy'"
      ]
     },
     "execution_count": 31,
     "metadata": {},
     "output_type": "execute_result"
    }
   ],
   "source": [
    "dataset[\"Combined_Features\"].iloc[0]"
   ]
  },
  {
   "cell_type": "code",
   "execution_count": 32,
   "metadata": {},
   "outputs": [
    {
     "data": {
      "text/plain": [
       "'Sam Worthington, Zoe Saldana, Sigourney Weaver, Stephen Lang, Michelle Rodriguez, Giovanni Ribisi, Joel David Moore, CCH Pounder, Wes Studi, Laz Alonso, Dileep Rao, Matt Gerald, Sean Anthony Moran, Jason Whyte, Scott Lawrence'"
      ]
     },
     "execution_count": 32,
     "metadata": {},
     "output_type": "execute_result"
    }
   ],
   "source": [
    "dataset['Actors_Embeddings'].iloc[0]"
   ]
  },
  {
   "cell_type": "markdown",
   "metadata": {},
   "source": [
    "# - - - - - - - - - - - - - - - - - - - - - - - - - - - - - - - - - - - - - - - - - - - - - - - - - - - - - - - - - -"
   ]
  },
  {
   "cell_type": "markdown",
   "metadata": {},
   "source": [
    "#### Pickle the dataset (30.10.2019)"
   ]
  },
  {
   "cell_type": "code",
   "execution_count": 36,
   "metadata": {},
   "outputs": [],
   "source": [
    "dataset.to_pickle('dataset_part_2_07112019.pkl') #previous version \"dataset_30102019.pkl\""
   ]
  },
  {
   "cell_type": "code",
   "execution_count": 35,
   "metadata": {},
   "outputs": [
    {
     "data": {
      "text/plain": [
       "10602"
      ]
     },
     "execution_count": 35,
     "metadata": {},
     "output_type": "execute_result"
    }
   ],
   "source": [
    "dataset.head()"
   ]
  },
  {
   "cell_type": "markdown",
   "metadata": {},
   "source": [
    "#### End of part 2 (Transforming the columns of the final dataset)"
   ]
  }
 ],
 "metadata": {
  "kernelspec": {
   "display_name": "Python 3",
   "language": "python",
   "name": "python3"
  },
  "language_info": {
   "codemirror_mode": {
    "name": "ipython",
    "version": 3
   },
   "file_extension": ".py",
   "mimetype": "text/x-python",
   "name": "python",
   "nbconvert_exporter": "python",
   "pygments_lexer": "ipython3",
   "version": "3.7.4"
  }
 },
 "nbformat": 4,
 "nbformat_minor": 2
}
