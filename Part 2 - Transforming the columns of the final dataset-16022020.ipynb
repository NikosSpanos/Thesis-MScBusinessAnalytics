{
 "cells": [
  {
   "cell_type": "markdown",
   "metadata": {},
   "source": [
    "## Part 2 - Transforming the columns of the final dataset (latest changes on 16.02.2020)"
   ]
  },
  {
   "cell_type": "markdown",
   "metadata": {},
   "source": [
    "#### Import the libraries"
   ]
  },
  {
   "cell_type": "code",
   "execution_count": 2,
   "metadata": {},
   "outputs": [],
   "source": [
    "import pandas as pd\n",
    "import numpy as np\n",
    "\n",
    "# Module to serialize the content produced from the execution of the code\n",
    "\n",
    "import pickle\n",
    "\n",
    "# Module to monitor the progress of a python for loop\n",
    "\n",
    "from tqdm import tqdm_notebook\n",
    "\n",
    "import re"
   ]
  },
  {
   "cell_type": "markdown",
   "metadata": {},
   "source": [
    "# - - - - - - - - - - - - - - - - - - - - - - - - - - - - - - - - - - - - - - - - - - - - - - - - - - - - - - - - - -"
   ]
  },
  {
   "cell_type": "markdown",
   "metadata": {},
   "source": [
    "#### Import the dataset"
   ]
  },
  {
   "cell_type": "code",
   "execution_count": 77,
   "metadata": {},
   "outputs": [
    {
     "data": {
      "text/plain": [
       "(49393, 10)"
      ]
     },
     "execution_count": 77,
     "metadata": {},
     "output_type": "execute_result"
    }
   ],
   "source": [
    "#dataset = pd.read_pickle('D:\\\\GitHub-Thesis\\\\58,000 movies\\\\final_dataset_49393_movies_25012020.pkl')\n",
    "#dataset = pd.read_pickle('D:\\\\GitHub-Thesis\\\\58,000 movies\\\\dataset_part_1_25012020.pkl')\n",
    "dataset = pd.read_pickle('C:\\\\Users\\\\spano\\\\Desktop\\\\GitHub-Thesis\\\\models_text_classification\\\\pickled_data_per_part\\\\dataset_part_1_25012020.pkl')\n",
    "\n",
    "#previous versions \"final_dataset_07112019\", \"final_dataset_22102019.pkl\", dataset_part_1_17112019.pkl\n",
    "\n",
    "dataset = dataset.reset_index(drop=True)\n",
    "dataset.shape"
   ]
  },
  {
   "cell_type": "markdown",
   "metadata": {},
   "source": [
    "# - - - - - - - - - - - - - - - - - - - - - - - - - - - - - - - - - - - - - - - - - - - - - - - - - - - - - - - - - -"
   ]
  },
  {
   "cell_type": "markdown",
   "metadata": {},
   "source": [
    "### Section 2.1: Cleaning the columns"
   ]
  },
  {
   "cell_type": "markdown",
   "metadata": {},
   "source": [
    "##### Section 2.1.1: Clean the year (i.e 2001) from each title - 25.10.2019"
   ]
  },
  {
   "cell_type": "code",
   "execution_count": 78,
   "metadata": {},
   "outputs": [],
   "source": [
    "exp = r'\\(\\d\\d\\d\\d.'\n",
    "\n",
    "dataset['title'] = dataset['title'].apply(lambda x: re.sub(exp,\"\",x).strip())"
   ]
  },
  {
   "cell_type": "code",
   "execution_count": 79,
   "metadata": {},
   "outputs": [
    {
     "data": {
      "text/html": [
       "<div>\n",
       "<style scoped>\n",
       "    .dataframe tbody tr th:only-of-type {\n",
       "        vertical-align: middle;\n",
       "    }\n",
       "\n",
       "    .dataframe tbody tr th {\n",
       "        vertical-align: top;\n",
       "    }\n",
       "\n",
       "    .dataframe thead th {\n",
       "        text-align: right;\n",
       "    }\n",
       "</style>\n",
       "<table border=\"1\" class=\"dataframe\">\n",
       "  <thead>\n",
       "    <tr style=\"text-align: right;\">\n",
       "      <th></th>\n",
       "      <th>title</th>\n",
       "      <th>genres</th>\n",
       "      <th>rating</th>\n",
       "      <th>imdb_url</th>\n",
       "      <th>reviews_url</th>\n",
       "      <th>actors</th>\n",
       "      <th>plot</th>\n",
       "      <th>imdb_rating</th>\n",
       "      <th>director</th>\n",
       "      <th>reviews</th>\n",
       "    </tr>\n",
       "  </thead>\n",
       "  <tbody>\n",
       "    <tr>\n",
       "      <td>0</td>\n",
       "      <td>Toy Story</td>\n",
       "      <td>[Adventure, Animation, Children]</td>\n",
       "      <td>3.89</td>\n",
       "      <td>http://www.imdb.com/title/tt0114709/</td>\n",
       "      <td>http://www.imdb.com/title/tt0114709/reviews?sp...</td>\n",
       "      <td>[Tom Hanks, Tim Allen, Don Rickles, Jim Varney...</td>\n",
       "      <td>\\n                    A cowboy doll is profoun...</td>\n",
       "      <td>8.3</td>\n",
       "      <td>John Lasseter</td>\n",
       "      <td>[Andy's toys live a reasonable life of fun and...</td>\n",
       "    </tr>\n",
       "    <tr>\n",
       "      <td>1</td>\n",
       "      <td>Jumanji</td>\n",
       "      <td>[Adventure, Children, Fantasy]</td>\n",
       "      <td>3.25</td>\n",
       "      <td>http://www.imdb.com/title/tt0113497/</td>\n",
       "      <td>http://www.imdb.com/title/tt0113497/reviews?sp...</td>\n",
       "      <td>[Robin Williams, Jonathan Hyde, Kirsten Dunst,...</td>\n",
       "      <td>\\n                    When two kids find and p...</td>\n",
       "      <td>7.0</td>\n",
       "      <td>Joe Johnston</td>\n",
       "      <td>[The smash hit 1995 film Jumanji- based on the...</td>\n",
       "    </tr>\n",
       "    <tr>\n",
       "      <td>2</td>\n",
       "      <td>Grumpier Old Men</td>\n",
       "      <td>[Comedy, Romance]</td>\n",
       "      <td>3.17</td>\n",
       "      <td>http://www.imdb.com/title/tt0113228/</td>\n",
       "      <td>http://www.imdb.com/title/tt0113228/reviews?sp...</td>\n",
       "      <td>[Walter Matthau, Jack Lemmon, Sophia Loren, An...</td>\n",
       "      <td>\\n                    John and Max resolve to ...</td>\n",
       "      <td>6.7</td>\n",
       "      <td>Howard Deutch</td>\n",
       "      <td>[Sequels are rarely half as good as the origin...</td>\n",
       "    </tr>\n",
       "    <tr>\n",
       "      <td>3</td>\n",
       "      <td>Waiting to Exhale</td>\n",
       "      <td>[Comedy, Drama, Romance]</td>\n",
       "      <td>2.87</td>\n",
       "      <td>http://www.imdb.com/title/tt0114885/</td>\n",
       "      <td>http://www.imdb.com/title/tt0114885/reviews?sp...</td>\n",
       "      <td>[Whitney Houston, Angela Bassett, Loretta Devi...</td>\n",
       "      <td>\\n                    Based on Terry McMillan'...</td>\n",
       "      <td>5.9</td>\n",
       "      <td>Forest Whitaker</td>\n",
       "      <td>[I read some of the other comments comcerning ...</td>\n",
       "    </tr>\n",
       "    <tr>\n",
       "      <td>4</td>\n",
       "      <td>Father of the Bride Part II</td>\n",
       "      <td>[Comedy]</td>\n",
       "      <td>3.08</td>\n",
       "      <td>http://www.imdb.com/title/tt0113041/</td>\n",
       "      <td>http://www.imdb.com/title/tt0113041/reviews?sp...</td>\n",
       "      <td>[Steve Martin, Diane Keaton, Martin Short, Kim...</td>\n",
       "      <td>\\n                    George Banks must deal n...</td>\n",
       "      <td>6.0</td>\n",
       "      <td>Charles Shyer</td>\n",
       "      <td>[I enjoyed this film, as I did Father of the B...</td>\n",
       "    </tr>\n",
       "  </tbody>\n",
       "</table>\n",
       "</div>"
      ],
      "text/plain": [
       "                         title                            genres  rating  \\\n",
       "0                    Toy Story  [Adventure, Animation, Children]    3.89   \n",
       "1                      Jumanji    [Adventure, Children, Fantasy]    3.25   \n",
       "2             Grumpier Old Men                 [Comedy, Romance]    3.17   \n",
       "3            Waiting to Exhale          [Comedy, Drama, Romance]    2.87   \n",
       "4  Father of the Bride Part II                          [Comedy]    3.08   \n",
       "\n",
       "                               imdb_url  \\\n",
       "0  http://www.imdb.com/title/tt0114709/   \n",
       "1  http://www.imdb.com/title/tt0113497/   \n",
       "2  http://www.imdb.com/title/tt0113228/   \n",
       "3  http://www.imdb.com/title/tt0114885/   \n",
       "4  http://www.imdb.com/title/tt0113041/   \n",
       "\n",
       "                                         reviews_url  \\\n",
       "0  http://www.imdb.com/title/tt0114709/reviews?sp...   \n",
       "1  http://www.imdb.com/title/tt0113497/reviews?sp...   \n",
       "2  http://www.imdb.com/title/tt0113228/reviews?sp...   \n",
       "3  http://www.imdb.com/title/tt0114885/reviews?sp...   \n",
       "4  http://www.imdb.com/title/tt0113041/reviews?sp...   \n",
       "\n",
       "                                              actors  \\\n",
       "0  [Tom Hanks, Tim Allen, Don Rickles, Jim Varney...   \n",
       "1  [Robin Williams, Jonathan Hyde, Kirsten Dunst,...   \n",
       "2  [Walter Matthau, Jack Lemmon, Sophia Loren, An...   \n",
       "3  [Whitney Houston, Angela Bassett, Loretta Devi...   \n",
       "4  [Steve Martin, Diane Keaton, Martin Short, Kim...   \n",
       "\n",
       "                                                plot imdb_rating  \\\n",
       "0  \\n                    A cowboy doll is profoun...         8.3   \n",
       "1  \\n                    When two kids find and p...         7.0   \n",
       "2  \\n                    John and Max resolve to ...         6.7   \n",
       "3  \\n                    Based on Terry McMillan'...         5.9   \n",
       "4  \\n                    George Banks must deal n...         6.0   \n",
       "\n",
       "          director                                            reviews  \n",
       "0    John Lasseter  [Andy's toys live a reasonable life of fun and...  \n",
       "1     Joe Johnston  [The smash hit 1995 film Jumanji- based on the...  \n",
       "2    Howard Deutch  [Sequels are rarely half as good as the origin...  \n",
       "3  Forest Whitaker  [I read some of the other comments comcerning ...  \n",
       "4    Charles Shyer  [I enjoyed this film, as I did Father of the B...  "
      ]
     },
     "execution_count": 79,
     "metadata": {},
     "output_type": "execute_result"
    }
   ],
   "source": [
    "dataset.head()"
   ]
  },
  {
   "cell_type": "markdown",
   "metadata": {},
   "source": [
    "# - - - - - - - - -  - - - - - - - - - - - - - - - - - -- - - - - - - - - - - - - - - - - -"
   ]
  },
  {
   "cell_type": "markdown",
   "metadata": {},
   "source": [
    "##### Section 2.1.2: Replace (,The) & (,A) from the end of the string, at the front - 26.01.2020"
   ]
  },
  {
   "cell_type": "code",
   "execution_count": 80,
   "metadata": {},
   "outputs": [
    {
     "data": {
      "text/html": [
       "<div>\n",
       "<style scoped>\n",
       "    .dataframe tbody tr th:only-of-type {\n",
       "        vertical-align: middle;\n",
       "    }\n",
       "\n",
       "    .dataframe tbody tr th {\n",
       "        vertical-align: top;\n",
       "    }\n",
       "\n",
       "    .dataframe thead th {\n",
       "        text-align: right;\n",
       "    }\n",
       "</style>\n",
       "<table border=\"1\" class=\"dataframe\">\n",
       "  <thead>\n",
       "    <tr style=\"text-align: right;\">\n",
       "      <th></th>\n",
       "      <th>title</th>\n",
       "      <th>genres</th>\n",
       "      <th>rating</th>\n",
       "      <th>imdb_url</th>\n",
       "      <th>reviews_url</th>\n",
       "      <th>actors</th>\n",
       "      <th>plot</th>\n",
       "      <th>imdb_rating</th>\n",
       "      <th>director</th>\n",
       "      <th>reviews</th>\n",
       "    </tr>\n",
       "  </thead>\n",
       "  <tbody>\n",
       "    <tr>\n",
       "      <td>2408</td>\n",
       "      <td>Following</td>\n",
       "      <td>[Crime, Mystery, Thriller]</td>\n",
       "      <td>3.77</td>\n",
       "      <td>http://www.imdb.com/title/tt0154506/</td>\n",
       "      <td>http://www.imdb.com/title/tt0154506/reviews?sp...</td>\n",
       "      <td>[Jeremy Theobald, Alex Haw, Lucy Russell, John...</td>\n",
       "      <td>\\n                    A young writer who follo...</td>\n",
       "      <td>7.5</td>\n",
       "      <td>Christopher Nolan</td>\n",
       "      <td>[The debut that plucked from obscurity one of ...</td>\n",
       "    </tr>\n",
       "    <tr>\n",
       "      <td>4038</td>\n",
       "      <td>Memento</td>\n",
       "      <td>[Mystery, Thriller]</td>\n",
       "      <td>4.15</td>\n",
       "      <td>http://www.imdb.com/title/tt0209144/</td>\n",
       "      <td>http://www.imdb.com/title/tt0209144/reviews?sp...</td>\n",
       "      <td>[Guy Pearce, Carrie-Anne Moss, Joe Pantoliano,...</td>\n",
       "      <td>\\n                    A man with short-term me...</td>\n",
       "      <td>8.4</td>\n",
       "      <td>Christopher Nolan</td>\n",
       "      <td>[Thank Goodness I didn't read the reviews post...</td>\n",
       "    </tr>\n",
       "    <tr>\n",
       "      <td>5187</td>\n",
       "      <td>Insomnia</td>\n",
       "      <td>[Action, Crime, Drama]</td>\n",
       "      <td>3.48</td>\n",
       "      <td>http://www.imdb.com/title/tt0278504/</td>\n",
       "      <td>http://www.imdb.com/title/tt0278504/reviews?sp...</td>\n",
       "      <td>[Al Pacino, Martin Donovan, Oliver 'Ole' Zemen...</td>\n",
       "      <td>\\n                    Two Los Angeles homicide...</td>\n",
       "      <td>7.2</td>\n",
       "      <td>Christopher Nolan</td>\n",
       "      <td>[I didn't know that 'Insomnia' was based on a ...</td>\n",
       "    </tr>\n",
       "    <tr>\n",
       "      <td>10062</td>\n",
       "      <td>Batman Begins</td>\n",
       "      <td>[Action, Crime, IMAX]</td>\n",
       "      <td>3.93</td>\n",
       "      <td>http://www.imdb.com/title/tt0372784/</td>\n",
       "      <td>http://www.imdb.com/title/tt0372784/reviews?sp...</td>\n",
       "      <td>[Christian Bale, Michael Caine, Liam Neeson, K...</td>\n",
       "      <td>\\n                    After training with his ...</td>\n",
       "      <td>8.2</td>\n",
       "      <td>Christopher Nolan</td>\n",
       "      <td>[It sickened me in the past to see the Batman ...</td>\n",
       "    </tr>\n",
       "    <tr>\n",
       "      <td>11291</td>\n",
       "      <td>Prestige, The</td>\n",
       "      <td>[Drama, Mystery, Sci-Fi]</td>\n",
       "      <td>4.09</td>\n",
       "      <td>http://www.imdb.com/title/tt0482571/</td>\n",
       "      <td>http://www.imdb.com/title/tt0482571/reviews?sp...</td>\n",
       "      <td>[Hugh Jackman, Christian Bale, Michael Caine, ...</td>\n",
       "      <td>\\n                    After a tragic accident,...</td>\n",
       "      <td>8.5</td>\n",
       "      <td>Christopher Nolan</td>\n",
       "      <td>[I won't say it's an underrated movie, but it ...</td>\n",
       "    </tr>\n",
       "    <tr>\n",
       "      <td>12422</td>\n",
       "      <td>Dark Knight, The</td>\n",
       "      <td>[Action, Crime, Drama]</td>\n",
       "      <td>4.17</td>\n",
       "      <td>http://www.imdb.com/title/tt0468569/</td>\n",
       "      <td>http://www.imdb.com/title/tt0468569/reviews?sp...</td>\n",
       "      <td>[Christian Bale, Heath Ledger, Aaron Eckhart, ...</td>\n",
       "      <td>\\n                    When the menace known as...</td>\n",
       "      <td>9.0</td>\n",
       "      <td>Christopher Nolan</td>\n",
       "      <td>[We've been subjected to enormous amounts of h...</td>\n",
       "    </tr>\n",
       "    <tr>\n",
       "      <td>15361</td>\n",
       "      <td>Inception</td>\n",
       "      <td>[Action, Crime, Drama]</td>\n",
       "      <td>4.16</td>\n",
       "      <td>http://www.imdb.com/title/tt1375666/</td>\n",
       "      <td>http://www.imdb.com/title/tt1375666/reviews?sp...</td>\n",
       "      <td>[Leonardo DiCaprio, Joseph Gordon-Levitt, Elle...</td>\n",
       "      <td>\\n                    A thief who steals corpo...</td>\n",
       "      <td>8.8</td>\n",
       "      <td>Christopher Nolan</td>\n",
       "      <td>[What is the most resilient parasite? An Idea!...</td>\n",
       "    </tr>\n",
       "    <tr>\n",
       "      <td>17974</td>\n",
       "      <td>Dark Knight Rises, The</td>\n",
       "      <td>[Action, Adventure, Crime]</td>\n",
       "      <td>3.98</td>\n",
       "      <td>http://www.imdb.com/title/tt1345836/</td>\n",
       "      <td>http://www.imdb.com/title/tt1345836/reviews?sp...</td>\n",
       "      <td>[Christian Bale, Gary Oldman, Tom Hardy, Josep...</td>\n",
       "      <td>\\n                    Eight years after the Jo...</td>\n",
       "      <td>8.4</td>\n",
       "      <td>Christopher Nolan</td>\n",
       "      <td>[After eight years in seclusion, Batman resurf...</td>\n",
       "    </tr>\n",
       "    <tr>\n",
       "      <td>22130</td>\n",
       "      <td>Interstellar</td>\n",
       "      <td>[Sci-Fi, IMAX]</td>\n",
       "      <td>4.09</td>\n",
       "      <td>http://www.imdb.com/title/tt0816692/</td>\n",
       "      <td>http://www.imdb.com/title/tt0816692/reviews?sp...</td>\n",
       "      <td>[Ellen Burstyn, Matthew McConaughey, Mackenzie...</td>\n",
       "      <td>\\n                    A team of explorers trav...</td>\n",
       "      <td>8.6</td>\n",
       "      <td>Christopher Nolan</td>\n",
       "      <td>[This movie was the best written, acted, visua...</td>\n",
       "    </tr>\n",
       "    <tr>\n",
       "      <td>25087</td>\n",
       "      <td>Doodlebug</td>\n",
       "      <td>[Fantasy, Mystery]</td>\n",
       "      <td>3.16</td>\n",
       "      <td>http://www.imdb.com/title/tt0411302/</td>\n",
       "      <td>http://www.imdb.com/title/tt0411302/reviews?sp...</td>\n",
       "      <td>[Jeremy Theobald]</td>\n",
       "      <td>\\n                    In his squalid apartment...</td>\n",
       "      <td>7.1</td>\n",
       "      <td>Christopher Nolan</td>\n",
       "      <td>[A man is trying to catch some sort of bug run...</td>\n",
       "    </tr>\n",
       "    <tr>\n",
       "      <td>41024</td>\n",
       "      <td>Dunkirk</td>\n",
       "      <td>[Action, Drama, Thriller]</td>\n",
       "      <td>3.80</td>\n",
       "      <td>http://www.imdb.com/title/tt5013056/</td>\n",
       "      <td>http://www.imdb.com/title/tt5013056/reviews?sp...</td>\n",
       "      <td>[Fionn Whitehead, Damien Bonnard, Aneurin Barn...</td>\n",
       "      <td>\\n                    Allied soldiers from Bel...</td>\n",
       "      <td>7.9</td>\n",
       "      <td>Christopher Nolan</td>\n",
       "      <td>[Dunkirk is one of the most visually stunning ...</td>\n",
       "    </tr>\n",
       "  </tbody>\n",
       "</table>\n",
       "</div>"
      ],
      "text/plain": [
       "                        title                      genres  rating  \\\n",
       "2408                Following  [Crime, Mystery, Thriller]    3.77   \n",
       "4038                  Memento         [Mystery, Thriller]    4.15   \n",
       "5187                 Insomnia      [Action, Crime, Drama]    3.48   \n",
       "10062           Batman Begins       [Action, Crime, IMAX]    3.93   \n",
       "11291           Prestige, The    [Drama, Mystery, Sci-Fi]    4.09   \n",
       "12422        Dark Knight, The      [Action, Crime, Drama]    4.17   \n",
       "15361               Inception      [Action, Crime, Drama]    4.16   \n",
       "17974  Dark Knight Rises, The  [Action, Adventure, Crime]    3.98   \n",
       "22130            Interstellar              [Sci-Fi, IMAX]    4.09   \n",
       "25087               Doodlebug          [Fantasy, Mystery]    3.16   \n",
       "41024                 Dunkirk   [Action, Drama, Thriller]    3.80   \n",
       "\n",
       "                                   imdb_url  \\\n",
       "2408   http://www.imdb.com/title/tt0154506/   \n",
       "4038   http://www.imdb.com/title/tt0209144/   \n",
       "5187   http://www.imdb.com/title/tt0278504/   \n",
       "10062  http://www.imdb.com/title/tt0372784/   \n",
       "11291  http://www.imdb.com/title/tt0482571/   \n",
       "12422  http://www.imdb.com/title/tt0468569/   \n",
       "15361  http://www.imdb.com/title/tt1375666/   \n",
       "17974  http://www.imdb.com/title/tt1345836/   \n",
       "22130  http://www.imdb.com/title/tt0816692/   \n",
       "25087  http://www.imdb.com/title/tt0411302/   \n",
       "41024  http://www.imdb.com/title/tt5013056/   \n",
       "\n",
       "                                             reviews_url  \\\n",
       "2408   http://www.imdb.com/title/tt0154506/reviews?sp...   \n",
       "4038   http://www.imdb.com/title/tt0209144/reviews?sp...   \n",
       "5187   http://www.imdb.com/title/tt0278504/reviews?sp...   \n",
       "10062  http://www.imdb.com/title/tt0372784/reviews?sp...   \n",
       "11291  http://www.imdb.com/title/tt0482571/reviews?sp...   \n",
       "12422  http://www.imdb.com/title/tt0468569/reviews?sp...   \n",
       "15361  http://www.imdb.com/title/tt1375666/reviews?sp...   \n",
       "17974  http://www.imdb.com/title/tt1345836/reviews?sp...   \n",
       "22130  http://www.imdb.com/title/tt0816692/reviews?sp...   \n",
       "25087  http://www.imdb.com/title/tt0411302/reviews?sp...   \n",
       "41024  http://www.imdb.com/title/tt5013056/reviews?sp...   \n",
       "\n",
       "                                                  actors  \\\n",
       "2408   [Jeremy Theobald, Alex Haw, Lucy Russell, John...   \n",
       "4038   [Guy Pearce, Carrie-Anne Moss, Joe Pantoliano,...   \n",
       "5187   [Al Pacino, Martin Donovan, Oliver 'Ole' Zemen...   \n",
       "10062  [Christian Bale, Michael Caine, Liam Neeson, K...   \n",
       "11291  [Hugh Jackman, Christian Bale, Michael Caine, ...   \n",
       "12422  [Christian Bale, Heath Ledger, Aaron Eckhart, ...   \n",
       "15361  [Leonardo DiCaprio, Joseph Gordon-Levitt, Elle...   \n",
       "17974  [Christian Bale, Gary Oldman, Tom Hardy, Josep...   \n",
       "22130  [Ellen Burstyn, Matthew McConaughey, Mackenzie...   \n",
       "25087                                  [Jeremy Theobald]   \n",
       "41024  [Fionn Whitehead, Damien Bonnard, Aneurin Barn...   \n",
       "\n",
       "                                                    plot imdb_rating  \\\n",
       "2408   \\n                    A young writer who follo...         7.5   \n",
       "4038   \\n                    A man with short-term me...         8.4   \n",
       "5187   \\n                    Two Los Angeles homicide...         7.2   \n",
       "10062  \\n                    After training with his ...         8.2   \n",
       "11291  \\n                    After a tragic accident,...         8.5   \n",
       "12422  \\n                    When the menace known as...         9.0   \n",
       "15361  \\n                    A thief who steals corpo...         8.8   \n",
       "17974  \\n                    Eight years after the Jo...         8.4   \n",
       "22130  \\n                    A team of explorers trav...         8.6   \n",
       "25087  \\n                    In his squalid apartment...         7.1   \n",
       "41024  \\n                    Allied soldiers from Bel...         7.9   \n",
       "\n",
       "                director                                            reviews  \n",
       "2408   Christopher Nolan  [The debut that plucked from obscurity one of ...  \n",
       "4038   Christopher Nolan  [Thank Goodness I didn't read the reviews post...  \n",
       "5187   Christopher Nolan  [I didn't know that 'Insomnia' was based on a ...  \n",
       "10062  Christopher Nolan  [It sickened me in the past to see the Batman ...  \n",
       "11291  Christopher Nolan  [I won't say it's an underrated movie, but it ...  \n",
       "12422  Christopher Nolan  [We've been subjected to enormous amounts of h...  \n",
       "15361  Christopher Nolan  [What is the most resilient parasite? An Idea!...  \n",
       "17974  Christopher Nolan  [After eight years in seclusion, Batman resurf...  \n",
       "22130  Christopher Nolan  [This movie was the best written, acted, visua...  \n",
       "25087  Christopher Nolan  [A man is trying to catch some sort of bug run...  \n",
       "41024  Christopher Nolan  [Dunkirk is one of the most visually stunning ...  "
      ]
     },
     "execution_count": 80,
     "metadata": {},
     "output_type": "execute_result"
    }
   ],
   "source": [
    "dataset[dataset.director == \"Christopher Nolan\"]"
   ]
  },
  {
   "cell_type": "markdown",
   "metadata": {},
   "source": [
    "#### Comment: As we can see \"Dark Knight Rises, The\" is not correct and should be corrected to \"The Dark Knight Rises\"."
   ]
  },
  {
   "cell_type": "code",
   "execution_count": 81,
   "metadata": {},
   "outputs": [],
   "source": [
    "# Run first to replace \", The\"\n",
    "dataset.loc[:, \"title\"] = dataset.loc[:, \"title\"].apply(lambda x: \" \".join(x.split(\", \")[::-1]) if \", The\" in x else x)\n",
    "\n",
    "# Run second time to replace \", A\"\n",
    "dataset.loc[:, \"title\"] = dataset.loc[:, \"title\"].apply(lambda x: \" \".join(x.split(\", \")[::-1]) if \", A\" in x else x)"
   ]
  },
  {
   "cell_type": "markdown",
   "metadata": {},
   "source": [
    "# - - - - - - - - -  - - - - - - - - - - - - - - - - - -- - - - - - - - - - - - - - - - - -"
   ]
  },
  {
   "cell_type": "markdown",
   "metadata": {},
   "source": [
    "##### Step 2.1.3: Clean the plot summary - 26.01.2020"
   ]
  },
  {
   "cell_type": "code",
   "execution_count": 82,
   "metadata": {},
   "outputs": [],
   "source": [
    "dataset['plot'] = dataset['plot'].apply(lambda x: x.strip())\n",
    "\n",
    "dataset['plot'] = dataset['plot'].apply(lambda x: x.replace(',', ''))\n",
    "\n",
    "dataset['plot'] = dataset['plot'].apply(lambda x: x.replace('.', ''))\n",
    "\n",
    "dataset['plot'] = dataset['plot'].apply(lambda x: x.replace('?', ''))\n",
    "\n",
    "dataset['plot'] = dataset['plot'].apply(lambda x: x.replace('!', ''))\n",
    "\n",
    "dataset['plot'] = dataset['plot'].apply(lambda x: x.replace('\\n                    See full summary\\xa0»', ''))\n",
    "\n",
    "dataset['plot'] = dataset['plot'].apply(lambda x: x.rstrip())"
   ]
  },
  {
   "cell_type": "code",
   "execution_count": 83,
   "metadata": {},
   "outputs": [
    {
     "data": {
      "text/plain": [
       "'Story of a young woman journalist who becomes enmeshed in the politics of the annexation of Morrocco from Algeria at the turn of the twentieth century The focus is on her hardships because'"
      ]
     },
     "execution_count": 83,
     "metadata": {},
     "output_type": "execute_result"
    }
   ],
   "source": [
    "dataset['plot'].iloc[-1]"
   ]
  },
  {
   "cell_type": "markdown",
   "metadata": {},
   "source": [
    "# - - - - - - - - -  - - - - - - - - - - - - - - - - - -- - - - - - - - - - - - - - - - - -"
   ]
  },
  {
   "cell_type": "markdown",
   "metadata": {},
   "source": [
    "##### Step 2.1.4: Remove empty summaries - 26.01.2020"
   ]
  },
  {
   "cell_type": "code",
   "execution_count": 86,
   "metadata": {},
   "outputs": [
    {
     "data": {
      "text/plain": [
       "176"
      ]
     },
     "execution_count": 86,
     "metadata": {},
     "output_type": "execute_result"
    }
   ],
   "source": [
    "len(dataset[dataset['plot'] == 'Add a Plot »'])\n",
    "\n",
    "# Thus 176 mocies should be removed, due to UNKNOWN plot summary text"
   ]
  },
  {
   "cell_type": "code",
   "execution_count": 87,
   "metadata": {},
   "outputs": [
    {
     "data": {
      "text/plain": [
       "(49217, 10)"
      ]
     },
     "execution_count": 87,
     "metadata": {},
     "output_type": "execute_result"
    }
   ],
   "source": [
    "dataset = dataset[dataset['plot'] != 'Add a Plot »']\n",
    "\n",
    "dataset.shape"
   ]
  },
  {
   "cell_type": "markdown",
   "metadata": {},
   "source": [
    "# - - - - - - - - -  - - - - - - - - - - - - - - - - - -- - - - - - - - - - - - - - - - - -"
   ]
  },
  {
   "cell_type": "markdown",
   "metadata": {},
   "source": [
    "##### Step 2.1.5: Create the positive/negative column - 26.01.2020"
   ]
  },
  {
   "cell_type": "code",
   "execution_count": 140,
   "metadata": {},
   "outputs": [],
   "source": [
    "dataset.loc[:, 'sentiment_value'] = dataset['rating']\n",
    "\n",
    "dataset.loc[:, 'sentiment_value'].loc[dataset.rating >=2.5] = 1\n",
    "\n",
    "dataset.loc[:, 'sentiment_value'].loc[dataset.rating <2.5] = 0\n",
    "\n",
    "# dataset.loc[:, 'sentiment_value'] = dataset['sentiment_value'].apply(lambda x: str(x))"
   ]
  },
  {
   "cell_type": "markdown",
   "metadata": {},
   "source": [
    "# - - - - - - - - -  - - - - - - - - - - - - - - - - - -- - - - - - - - - - - - - - - - - -"
   ]
  },
  {
   "cell_type": "markdown",
   "metadata": {},
   "source": [
    "##### Step 2.1.6 Create the column Combined Features (29.10.2019)\n",
    "\n",
    "A very important columns, since it combines content from the important columns of the dataframe.\n",
    "Specifically the text of:\n",
    "* Title,\n",
    "* Actors,\n",
    "* Director,\n",
    "* Plot summary,\n",
    "* Genres"
   ]
  },
  {
   "cell_type": "code",
   "execution_count": 94,
   "metadata": {},
   "outputs": [],
   "source": [
    "# The columns that will be used to create the column \"Combined Features\"\n",
    "\n",
    "def combine_features(row):\n",
    "    return row['title'].lower() + \" \" + ' '.join(map(str, row['actors'])).lower() + \" \" + row['director'].lower() + \" \" + row['plot'].lower() + \" \" + ' '.join(row['genres']).lower()\n",
    "\n",
    "dataset[\"movie_features\"] = dataset.apply(combine_features, axis=1)"
   ]
  },
  {
   "cell_type": "code",
   "execution_count": 97,
   "metadata": {},
   "outputs": [
    {
     "data": {
      "text/plain": [
       "\"toy story tom hanks tim allen don rickles jim varney wallace shawn john ratzenberger annie potts john morris erik von detten laurie metcalf r. lee ermey sarah freeman penn jillette jack angel spencer aste john lasseter a cowboy doll is profoundly threatened and jealous when a new spaceman figure supplants him as top toy in a boy's room adventure animation children\""
      ]
     },
     "execution_count": 97,
     "metadata": {},
     "output_type": "execute_result"
    }
   ],
   "source": [
    "dataset[\"movie_features\"].iloc[0]"
   ]
  },
  {
   "cell_type": "markdown",
   "metadata": {},
   "source": [
    "# - - - - - - - - - - - - - - - - - - - - - - - - - - - - - - - - - - - - - - - - - - - - - - - - - - - - - - - - - -"
   ]
  },
  {
   "cell_type": "markdown",
   "metadata": {},
   "source": [
    "#### Pickle the dataset (16.02.2020)\n",
    "\n",
    "Old version on 30.10.2019 <br>\n",
    "Latest version on 16.02.2020"
   ]
  },
  {
   "cell_type": "code",
   "execution_count": 141,
   "metadata": {},
   "outputs": [],
   "source": [
    "dataset.to_pickle('C:\\\\Users\\\\spano\\\\Desktop\\\\GitHub-Thesis\\\\models_text_classification\\\\pickled_data_per_part\\\\dataset_part_2_16022020.pkl') \n",
    "\n",
    "#previous versions \"dataset_part_2_07112019.pkl\", \"dataset_part_2_24122019.pkl\", \"dataset_30102019.pkl\", \"dataset_part_2_25012020.pkl\""
   ]
  },
  {
   "cell_type": "code",
   "execution_count": 142,
   "metadata": {},
   "outputs": [
    {
     "data": {
      "text/plain": [
       "(49217, 12)"
      ]
     },
     "execution_count": 142,
     "metadata": {},
     "output_type": "execute_result"
    }
   ],
   "source": [
    "dataset.shape"
   ]
  },
  {
   "cell_type": "markdown",
   "metadata": {},
   "source": [
    "# - - - - - - - - - - - - - - - - - - - - - - - - - - - - - - - - - - - - - - - - - - - - - - - - - - - - - - - - - -"
   ]
  },
  {
   "cell_type": "markdown",
   "metadata": {},
   "source": [
    "### Section 2.2: Save the dataset to SQL SERVER Database (for data persistent)"
   ]
  },
  {
   "cell_type": "code",
   "execution_count": 3,
   "metadata": {},
   "outputs": [
    {
     "data": {
      "text/plain": [
       "(49217, 12)"
      ]
     },
     "execution_count": 3,
     "metadata": {},
     "output_type": "execute_result"
    }
   ],
   "source": [
    "import pyodbc\n",
    "\n",
    "dataset = pd.read_pickle('C:\\\\Users\\\\spano\\\\Desktop\\\\GitHub-Thesis\\\\models_text_classification\\\\pickled_data_per_part\\\\dataset_part_2_16022020.pkl')\n",
    "\n",
    "dataset.shape"
   ]
  },
  {
   "cell_type": "code",
   "execution_count": 4,
   "metadata": {},
   "outputs": [
    {
     "data": {
      "text/html": [
       "<div>\n",
       "<style scoped>\n",
       "    .dataframe tbody tr th:only-of-type {\n",
       "        vertical-align: middle;\n",
       "    }\n",
       "\n",
       "    .dataframe tbody tr th {\n",
       "        vertical-align: top;\n",
       "    }\n",
       "\n",
       "    .dataframe thead th {\n",
       "        text-align: right;\n",
       "    }\n",
       "</style>\n",
       "<table border=\"1\" class=\"dataframe\">\n",
       "  <thead>\n",
       "    <tr style=\"text-align: right;\">\n",
       "      <th></th>\n",
       "      <th>title</th>\n",
       "      <th>genres</th>\n",
       "      <th>rating</th>\n",
       "      <th>imdb_url</th>\n",
       "      <th>reviews_url</th>\n",
       "      <th>actors</th>\n",
       "      <th>plot</th>\n",
       "      <th>imdb_rating</th>\n",
       "      <th>director</th>\n",
       "      <th>reviews</th>\n",
       "      <th>sentiment_value</th>\n",
       "      <th>movie_features</th>\n",
       "    </tr>\n",
       "  </thead>\n",
       "  <tbody>\n",
       "  </tbody>\n",
       "</table>\n",
       "</div>"
      ],
      "text/plain": [
       "Empty DataFrame\n",
       "Columns: [title, genres, rating, imdb_url, reviews_url, actors, plot, imdb_rating, director, reviews, sentiment_value, movie_features]\n",
       "Index: []"
      ]
     },
     "execution_count": 4,
     "metadata": {},
     "output_type": "execute_result"
    }
   ],
   "source": [
    "dataset[dataset.isna().any(axis=1)]"
   ]
  },
  {
   "cell_type": "code",
   "execution_count": 5,
   "metadata": {},
   "outputs": [
    {
     "data": {
      "text/plain": [
       "title              0\n",
       "genres             0\n",
       "rating             0\n",
       "imdb_url           0\n",
       "reviews_url        0\n",
       "actors             0\n",
       "plot               0\n",
       "imdb_rating        0\n",
       "director           0\n",
       "reviews            0\n",
       "sentiment_value    0\n",
       "movie_features     0\n",
       "dtype: int64"
      ]
     },
     "execution_count": 5,
     "metadata": {},
     "output_type": "execute_result"
    }
   ],
   "source": [
    "dataset.isnull().sum()"
   ]
  },
  {
   "cell_type": "markdown",
   "metadata": {},
   "source": [
    "#### Section 2.2.1: MOVIE CONTENT TO SQL TABLE"
   ]
  },
  {
   "cell_type": "code",
   "execution_count": 6,
   "metadata": {},
   "outputs": [],
   "source": [
    "connStr = pyodbc.connect(\"DRIVER={SQL Server Native Client 11.0};\" #SQL Server Native Client 11.0, #{ODBC Driver 17 for SQL Server}\n",
    "                         \"SERVER=LAPTOP-IFTEP7AL;\"\n",
    "                         \"DATABASE=Movies_Dataset;\"\n",
    "                         \"Trusted_Connection=Yes\")\n",
    "\n",
    "cursor = connStr.cursor()\n",
    " \n",
    "delete_table =  \"\"\"           \n",
    "                        IF [Movies_Dataset].[dbo].TableExists('table_movies') = 1\n",
    "                             DELETE FROM table_movies\n",
    "                \"\"\"\n",
    "\n",
    "cursor.execute(delete_table)\n",
    "\n",
    "insert_values = \"\"\"\n",
    "                        EXEC [Movies_Dataset].[dbo].[store_movies] @Movie_Title = ?, @IMDB_Rating = ?, @Director = ?, @Plot_Summary = ?, \n",
    "                        \n",
    "                        @IMDB_Url = ?, @Reviews_Url = ?, @MovieLens_User_Rating = ?, @Sentiment_value = ?;\n",
    "                \"\"\"\n",
    "\n",
    "for index, row in dataset.iterrows():\n",
    "\n",
    "    params = (row['title'], row['imdb_rating'], row['director'], row['plot'], row['imdb_url'], row['reviews_url'], row['rating'], row['sentiment_value'])\n",
    "    \n",
    "    cursor.execute(insert_values, params)\n",
    "\n",
    "connStr.commit()\n",
    "\n",
    "cursor.close()\n",
    "\n",
    "connStr.close()"
   ]
  },
  {
   "cell_type": "markdown",
   "metadata": {},
   "source": [
    "#### Section 2.2.2: Actors TO SQL TABLE"
   ]
  },
  {
   "cell_type": "code",
   "execution_count": 8,
   "metadata": {},
   "outputs": [
    {
     "name": "stdout",
     "output_type": "stream",
     "text": [
      "       title             actors\n",
      "0  Toy Story          Tom Hanks\n",
      "0  Toy Story          Tim Allen\n",
      "0  Toy Story        Don Rickles\n",
      "0  Toy Story         Jim Varney\n",
      "0  Toy Story      Wallace Shawn\n",
      "0  Toy Story  John Ratzenberger\n",
      "0  Toy Story        Annie Potts\n",
      "0  Toy Story        John Morris\n",
      "0  Toy Story    Erik von Detten\n",
      "0  Toy Story     Laurie Metcalf\n",
      "0  Toy Story       R. Lee Ermey\n",
      "0  Toy Story      Sarah Freeman\n",
      "0  Toy Story      Penn Jillette\n",
      "0  Toy Story         Jack Angel\n",
      "0  Toy Story       Spencer Aste\n",
      "(656454, 2)\n"
     ]
    }
   ],
   "source": [
    "column_actors = dataset.loc[:, ['title', 'actors']]\n",
    "\n",
    "column_actors.shape\n",
    "\n",
    "s = column_actors.apply(lambda x: pd.Series(x['actors']), axis=1).stack().reset_index(level=1, drop=True)\n",
    "\n",
    "s.name = 'actors'\n",
    "\n",
    "actor_names = column_actors.drop('actors', axis=1).join(s)\n",
    "\n",
    "actor_names['actors'] = pd.Series(actor_names['actors'], dtype=object)\n",
    "\n",
    "print(actor_names.head(15))\n",
    "\n",
    "print(actor_names.shape)"
   ]
  },
  {
   "cell_type": "code",
   "execution_count": 9,
   "metadata": {},
   "outputs": [],
   "source": [
    "connStr = pyodbc.connect(\"DRIVER={SQL Server Native Client 11.0};\"\n",
    "                         \"SERVER=LAPTOP-IFTEP7AL;\"\n",
    "                         \"DATABASE=Movies_Dataset;\"\n",
    "                         \"Trusted_Connection=yes\")\n",
    "\n",
    "cursor = connStr.cursor()\n",
    " \n",
    "delete_table =  \"\"\"           \n",
    "                        IF dbo.TableExists('table_actors') = 1\n",
    "                             DELETE FROM table_actors      \n",
    "                \"\"\"\n",
    "\n",
    "insert_values = \"\"\" \n",
    "                        EXEC [dbo].[store_actors] @Movie_Title = ?, @Actors = ?;\n",
    "                \"\"\"   \n",
    "\n",
    "cursor.execute(delete_table)\n",
    "\n",
    "for index, row in actor_names.iterrows():\n",
    "\n",
    "    params = (row['title'], row['actors'])\n",
    "    cursor.execute(insert_values, params)\n",
    "\n",
    "connStr.commit()\n",
    "\n",
    "cursor.close()\n",
    "\n",
    "connStr.close()"
   ]
  },
  {
   "cell_type": "markdown",
   "metadata": {},
   "source": [
    "#### Section 2.2.3: Genres TO SQL TABLE"
   ]
  },
  {
   "cell_type": "code",
   "execution_count": 10,
   "metadata": {},
   "outputs": [
    {
     "data": {
      "text/html": [
       "<div>\n",
       "<style scoped>\n",
       "    .dataframe tbody tr th:only-of-type {\n",
       "        vertical-align: middle;\n",
       "    }\n",
       "\n",
       "    .dataframe tbody tr th {\n",
       "        vertical-align: top;\n",
       "    }\n",
       "\n",
       "    .dataframe thead th {\n",
       "        text-align: right;\n",
       "    }\n",
       "</style>\n",
       "<table border=\"1\" class=\"dataframe\">\n",
       "  <thead>\n",
       "    <tr style=\"text-align: right;\">\n",
       "      <th></th>\n",
       "      <th>title</th>\n",
       "      <th>genres</th>\n",
       "    </tr>\n",
       "  </thead>\n",
       "  <tbody>\n",
       "    <tr>\n",
       "      <td>0</td>\n",
       "      <td>Toy Story</td>\n",
       "      <td>Adventure</td>\n",
       "    </tr>\n",
       "    <tr>\n",
       "      <td>0</td>\n",
       "      <td>Toy Story</td>\n",
       "      <td>Animation</td>\n",
       "    </tr>\n",
       "    <tr>\n",
       "      <td>0</td>\n",
       "      <td>Toy Story</td>\n",
       "      <td>Children</td>\n",
       "    </tr>\n",
       "    <tr>\n",
       "      <td>1</td>\n",
       "      <td>Jumanji</td>\n",
       "      <td>Adventure</td>\n",
       "    </tr>\n",
       "    <tr>\n",
       "      <td>1</td>\n",
       "      <td>Jumanji</td>\n",
       "      <td>Children</td>\n",
       "    </tr>\n",
       "    <tr>\n",
       "      <td>1</td>\n",
       "      <td>Jumanji</td>\n",
       "      <td>Fantasy</td>\n",
       "    </tr>\n",
       "    <tr>\n",
       "      <td>2</td>\n",
       "      <td>Grumpier Old Men</td>\n",
       "      <td>Comedy</td>\n",
       "    </tr>\n",
       "    <tr>\n",
       "      <td>2</td>\n",
       "      <td>Grumpier Old Men</td>\n",
       "      <td>Romance</td>\n",
       "    </tr>\n",
       "    <tr>\n",
       "      <td>3</td>\n",
       "      <td>Waiting to Exhale</td>\n",
       "      <td>Comedy</td>\n",
       "    </tr>\n",
       "    <tr>\n",
       "      <td>3</td>\n",
       "      <td>Waiting to Exhale</td>\n",
       "      <td>Drama</td>\n",
       "    </tr>\n",
       "    <tr>\n",
       "      <td>3</td>\n",
       "      <td>Waiting to Exhale</td>\n",
       "      <td>Romance</td>\n",
       "    </tr>\n",
       "    <tr>\n",
       "      <td>4</td>\n",
       "      <td>Father of the Bride Part II</td>\n",
       "      <td>Comedy</td>\n",
       "    </tr>\n",
       "    <tr>\n",
       "      <td>5</td>\n",
       "      <td>Heat</td>\n",
       "      <td>Action</td>\n",
       "    </tr>\n",
       "    <tr>\n",
       "      <td>5</td>\n",
       "      <td>Heat</td>\n",
       "      <td>Crime</td>\n",
       "    </tr>\n",
       "    <tr>\n",
       "      <td>5</td>\n",
       "      <td>Heat</td>\n",
       "      <td>Thriller</td>\n",
       "    </tr>\n",
       "  </tbody>\n",
       "</table>\n",
       "</div>"
      ],
      "text/plain": [
       "                         title     genres\n",
       "0                    Toy Story  Adventure\n",
       "0                    Toy Story  Animation\n",
       "0                    Toy Story   Children\n",
       "1                      Jumanji  Adventure\n",
       "1                      Jumanji   Children\n",
       "1                      Jumanji    Fantasy\n",
       "2             Grumpier Old Men     Comedy\n",
       "2             Grumpier Old Men    Romance\n",
       "3            Waiting to Exhale     Comedy\n",
       "3            Waiting to Exhale      Drama\n",
       "3            Waiting to Exhale    Romance\n",
       "4  Father of the Bride Part II     Comedy\n",
       "5                         Heat     Action\n",
       "5                         Heat      Crime\n",
       "5                         Heat   Thriller"
      ]
     },
     "execution_count": 10,
     "metadata": {},
     "output_type": "execute_result"
    }
   ],
   "source": [
    "# GENRES TO SQL TABLE\n",
    "\n",
    "column_genres = dataset.loc[:, ['title', 'genres']]\n",
    "\n",
    "s = column_genres.apply(lambda x: pd.Series(x['genres']), axis=1).stack().reset_index(level=1, drop=True)\n",
    "\n",
    "s.name = 'genres'\n",
    "\n",
    "genres = column_genres.drop('genres', axis=1).join(s)\n",
    "\n",
    "genres['genres'] = pd.Series(genres['genres'], dtype=object)\n",
    "\n",
    "genres.head(15)"
   ]
  },
  {
   "cell_type": "code",
   "execution_count": 11,
   "metadata": {},
   "outputs": [],
   "source": [
    "connStr = pyodbc.connect(\"DRIVER={SQL Server Native Client 11.0};\"\n",
    "                         \"SERVER=LAPTOP-IFTEP7AL;\"\n",
    "                         \"DATABASE=Movies_Dataset;\"\n",
    "                         \"Trusted_Connection=yes\")\n",
    "\n",
    "cursor = connStr.cursor()\n",
    " \n",
    "delete_table =  \"\"\"           \n",
    "                        IF dbo.TableExists('table_genres') = 1\n",
    "                             DELETE FROM table_genres     \n",
    "                \"\"\"\n",
    "\n",
    "insert_values = \"\"\" \n",
    "                        EXEC [dbo].[store_genres] @Movie_Title = ?, @Genres = ?;\n",
    "                \"\"\"   \n",
    "\n",
    "cursor.execute(delete_table)\n",
    "\n",
    "for index, row in genres.iterrows():\n",
    "\n",
    "    params = (row['title'], row['genres'])\n",
    "    \n",
    "    cursor.execute(insert_values, params)\n",
    "\n",
    "connStr.commit()\n",
    "\n",
    "cursor.close()\n",
    "\n",
    "connStr.close()"
   ]
  },
  {
   "cell_type": "markdown",
   "metadata": {},
   "source": [
    "#### Section 2.2.4: Reviews TO SQL TABLE"
   ]
  },
  {
   "cell_type": "code",
   "execution_count": 12,
   "metadata": {},
   "outputs": [
    {
     "data": {
      "text/html": [
       "<div>\n",
       "<style scoped>\n",
       "    .dataframe tbody tr th:only-of-type {\n",
       "        vertical-align: middle;\n",
       "    }\n",
       "\n",
       "    .dataframe tbody tr th {\n",
       "        vertical-align: top;\n",
       "    }\n",
       "\n",
       "    .dataframe thead th {\n",
       "        text-align: right;\n",
       "    }\n",
       "</style>\n",
       "<table border=\"1\" class=\"dataframe\">\n",
       "  <thead>\n",
       "    <tr style=\"text-align: right;\">\n",
       "      <th></th>\n",
       "      <th>title</th>\n",
       "      <th>reviews</th>\n",
       "    </tr>\n",
       "  </thead>\n",
       "  <tbody>\n",
       "    <tr>\n",
       "      <td>0</td>\n",
       "      <td>Toy Story</td>\n",
       "      <td>Andy's toys live a reasonable life of fun and ...</td>\n",
       "    </tr>\n",
       "    <tr>\n",
       "      <td>0</td>\n",
       "      <td>Toy Story</td>\n",
       "      <td>I am a big fan of the animated movies coming f...</td>\n",
       "    </tr>\n",
       "    <tr>\n",
       "      <td>0</td>\n",
       "      <td>Toy Story</td>\n",
       "      <td>This is a very clever animated story that was ...</td>\n",
       "    </tr>\n",
       "    <tr>\n",
       "      <td>0</td>\n",
       "      <td>Toy Story</td>\n",
       "      <td>Y'know, I always suspected that my toys were c...</td>\n",
       "    </tr>\n",
       "    <tr>\n",
       "      <td>0</td>\n",
       "      <td>Toy Story</td>\n",
       "      <td>Toy Story is the film that started Pixar Anima...</td>\n",
       "    </tr>\n",
       "    <tr>\n",
       "      <td>0</td>\n",
       "      <td>Toy Story</td>\n",
       "      <td>Toy Story is a sheer delight to view on the sc...</td>\n",
       "    </tr>\n",
       "    <tr>\n",
       "      <td>0</td>\n",
       "      <td>Toy Story</td>\n",
       "      <td>Toy Story is not only the best Disney film bec...</td>\n",
       "    </tr>\n",
       "    <tr>\n",
       "      <td>0</td>\n",
       "      <td>Toy Story</td>\n",
       "      <td>Though I am not a big fan of computer animatio...</td>\n",
       "    </tr>\n",
       "    <tr>\n",
       "      <td>0</td>\n",
       "      <td>Toy Story</td>\n",
       "      <td>Just in case you were also wondering what happ...</td>\n",
       "    </tr>\n",
       "    <tr>\n",
       "      <td>0</td>\n",
       "      <td>Toy Story</td>\n",
       "      <td>Toy story was a fun, imaginative renewal of th...</td>\n",
       "    </tr>\n",
       "    <tr>\n",
       "      <td>0</td>\n",
       "      <td>Toy Story</td>\n",
       "      <td>Disney and Pixar studios team up and brought u...</td>\n",
       "    </tr>\n",
       "    <tr>\n",
       "      <td>0</td>\n",
       "      <td>Toy Story</td>\n",
       "      <td>I'm 19, going on 20 in six days. I don't need ...</td>\n",
       "    </tr>\n",
       "    <tr>\n",
       "      <td>0</td>\n",
       "      <td>Toy Story</td>\n",
       "      <td>What a wonderful integration of classic toys a...</td>\n",
       "    </tr>\n",
       "    <tr>\n",
       "      <td>0</td>\n",
       "      <td>Toy Story</td>\n",
       "      <td>When Toy Story came, in 1995,I was 9 years old...</td>\n",
       "    </tr>\n",
       "    <tr>\n",
       "      <td>0</td>\n",
       "      <td>Toy Story</td>\n",
       "      <td>A wonderfully sculpted piece of filmmaking. It...</td>\n",
       "    </tr>\n",
       "  </tbody>\n",
       "</table>\n",
       "</div>"
      ],
      "text/plain": [
       "       title                                            reviews\n",
       "0  Toy Story  Andy's toys live a reasonable life of fun and ...\n",
       "0  Toy Story  I am a big fan of the animated movies coming f...\n",
       "0  Toy Story  This is a very clever animated story that was ...\n",
       "0  Toy Story  Y'know, I always suspected that my toys were c...\n",
       "0  Toy Story  Toy Story is the film that started Pixar Anima...\n",
       "0  Toy Story  Toy Story is a sheer delight to view on the sc...\n",
       "0  Toy Story  Toy Story is not only the best Disney film bec...\n",
       "0  Toy Story  Though I am not a big fan of computer animatio...\n",
       "0  Toy Story  Just in case you were also wondering what happ...\n",
       "0  Toy Story  Toy story was a fun, imaginative renewal of th...\n",
       "0  Toy Story  Disney and Pixar studios team up and brought u...\n",
       "0  Toy Story  I'm 19, going on 20 in six days. I don't need ...\n",
       "0  Toy Story  What a wonderful integration of classic toys a...\n",
       "0  Toy Story  When Toy Story came, in 1995,I was 9 years old...\n",
       "0  Toy Story  A wonderfully sculpted piece of filmmaking. It..."
      ]
     },
     "execution_count": 12,
     "metadata": {},
     "output_type": "execute_result"
    }
   ],
   "source": [
    "# REVIEWS TO SQL TABLE\n",
    "\n",
    "column_reviews = dataset.loc[:, ['title', 'reviews']]\n",
    "\n",
    "s = column_reviews.apply(lambda x: pd.Series(x['reviews']), axis=1).stack().reset_index(level=1, drop=True)\n",
    "\n",
    "s.name = 'reviews'\n",
    "\n",
    "reviews = column_reviews.drop('reviews', axis=1).join(s)\n",
    "\n",
    "reviews['reviews'] = pd.Series(reviews['reviews'], dtype=object)\n",
    "\n",
    "reviews.head(15)"
   ]
  },
  {
   "cell_type": "code",
   "execution_count": 13,
   "metadata": {},
   "outputs": [],
   "source": [
    "connStr = pyodbc.connect(\"DRIVER={SQL Server Native Client 11.0};\"\n",
    "                         \"SERVER=LAPTOP-IFTEP7AL;\"\n",
    "                         \"DATABASE=Movies_Dataset;\"\n",
    "                         \"Trusted_Connection=yes\")\n",
    "\n",
    "cursor = connStr.cursor()\n",
    " \n",
    "delete_table =  \"\"\"           \n",
    "                        IF dbo.TableExists('table_reviews') = 1\n",
    "                             DELETE FROM table_reviews      \n",
    "                \"\"\"\n",
    "\n",
    "insert_values = \"\"\" \n",
    "                        EXEC [dbo].[store_reviews] @Movie_Title = ?, @Reviews = ?;\n",
    "                \"\"\"   \n",
    "\n",
    "cursor.execute(delete_table)\n",
    "\n",
    "for index, row in reviews.iterrows():\n",
    "\n",
    "    params = (row['title'], row['reviews'])\n",
    "    cursor.execute(insert_values, params)\n",
    "\n",
    "connStr.commit()\n",
    "\n",
    "cursor.close()\n",
    "\n",
    "connStr.close()"
   ]
  },
  {
   "cell_type": "markdown",
   "metadata": {},
   "source": [
    "#### End of part 2 (Transforming the columns of the final dataset)"
   ]
  }
 ],
 "metadata": {
  "kernelspec": {
   "display_name": "Python 3",
   "language": "python",
   "name": "python3"
  },
  "language_info": {
   "codemirror_mode": {
    "name": "ipython",
    "version": 3
   },
   "file_extension": ".py",
   "mimetype": "text/x-python",
   "name": "python",
   "nbconvert_exporter": "python",
   "pygments_lexer": "ipython3",
   "version": "3.7.4"
  }
 },
 "nbformat": 4,
 "nbformat_minor": 2
}
