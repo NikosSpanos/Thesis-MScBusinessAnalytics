{
 "cells": [
  {
   "cell_type": "markdown",
   "metadata": {},
   "source": [
    "### Part 3.2.1 - Compare the different models trained on part 3.2 for the model 1 (latest development on 29.03.2020)\n",
    "\n",
    "The purpose of the notebook is to select the best model among the 16 models trained with the multi-input keras approach.\n",
    "The final model selected will be then compared to the rest of the models trained.\n",
    "\n",
    "To select the best model we used the following guidelines:\n",
    "\n",
    "* 1) The model with the lowest hamming loss & zero one loss\n",
    "* 2) The model with the lowest test score and the highest test accuracy values\n",
    "* 3) The model with the most accurate predictions among the 17 labels. It is of high importance the best model to identify correctly the most of the genre tags. Models that cannot identify more than 2 genre tags will not be prefered.\n",
    "* 4) Compare model predictions on movie never seen before.\n",
    "* 5) Training-Validation metrics comparison."
   ]
  },
  {
   "cell_type": "markdown",
   "metadata": {},
   "source": [
    "#### Import standard libraries"
   ]
  },
  {
   "cell_type": "code",
   "execution_count": 264,
   "metadata": {},
   "outputs": [],
   "source": [
    "import collections\n",
    "\n",
    "try:\n",
    "    collectionsAbc = collections.abc\n",
    "except AttributeError:\n",
    "    collectionsAbc = collections\n",
    "\n",
    "import pandas as pd\n",
    "import numpy as np\n",
    "from bs4 import BeautifulSoup\n",
    "import requests\n",
    "from tabulate import tabulate\n",
    "import re\n",
    "import os\n",
    "\n",
    "import random\n",
    "\n",
    "# Module to serialize the content produced from the execution of the code\n",
    "\n",
    "import pickle\n",
    "\n",
    "# Module to monitor the progress of a python for loop\n",
    "\n",
    "from tqdm import tqdm_notebook\n",
    "\n",
    "# Module to manipulate text in python - NLTK package\n",
    "\n",
    "import nltk\n",
    "from nltk import word_tokenize\n",
    "from nltk.stem import PorterStemmer, WordNetLemmatizer\n",
    "from nltk.corpus import stopwords\n",
    "\n",
    "# Module to compute word vectorizers and compute the cosine distance\n",
    "\n",
    "from sklearn.feature_extraction.text import TfidfVectorizer\n",
    "from sklearn.feature_extraction.text import CountVectorizer\n",
    "from sklearn.metrics.pairwise import cosine_distances\n",
    "from sklearn.model_selection import train_test_split\n",
    "from sklearn.preprocessing import MultiLabelBinarizer\n",
    "from sklearn.metrics import confusion_matrix, classification_report, hamming_loss, zero_one_loss, f1_score, roc_auc_score\n",
    "\n",
    "import string\n",
    "import itertools\n",
    "\n",
    "from time import time\n",
    "\n",
    "import plotly.express as px\n",
    "import plotly.graph_objects as go\n",
    "\n",
    "# from IPython.core.display import display, HTML\n",
    "# display(HTML(\"<style>.container { width:70% !important; }</style>\"))"
   ]
  },
  {
   "cell_type": "markdown",
   "metadata": {},
   "source": [
    "#### Tensorflow - Keras, Mlflow libraries"
   ]
  },
  {
   "cell_type": "code",
   "execution_count": 99,
   "metadata": {},
   "outputs": [
    {
     "name": "stdout",
     "output_type": "stream",
     "text": [
      "TensorFlow version:  2.1.0\n",
      "Version:  2.1.0\n",
      "Eager mode:  True\n",
      "Hub version:  0.7.0\n",
      "GPU is NOT AVAILABLE\n"
     ]
    }
   ],
   "source": [
    "from tensorflow.python.keras.preprocessing.text import Tokenizer\n",
    "from tensorflow.python.keras.preprocessing.sequence import pad_sequences\n",
    "\n",
    "import tensorflow as tf\n",
    "from tensorflow import keras\n",
    "\n",
    "import keras.backend as K\n",
    "\n",
    "from tensorflow.keras import layers\n",
    "from tensorflow.keras import models\n",
    "\n",
    "from tensorflow.keras.callbacks import ModelCheckpoint, EarlyStopping\n",
    "\n",
    "import tensorflow_addons as tfa\n",
    "\n",
    "#---------------------------------------------------------------\n",
    "\n",
    "%matplotlib inline\n",
    "import matplotlib.image as mpimg\n",
    "import matplotlib.pyplot as plt\n",
    "from pylab import rcParams\n",
    "\n",
    "import pydot\n",
    "import pydotplus\n",
    "import graphviz\n",
    "\n",
    "from IPython.display import SVG\n",
    "from tensorflow.keras.utils import model_to_dot\n",
    "\n",
    "from tensorflow.keras.models import load_model\n",
    "from tensorflow.keras.models import model_from_json\n",
    "import json\n",
    "\n",
    "# Import ML FLow\n",
    "import mlflow.tensorflow\n",
    "import mlflow.pyfunc\n",
    "from tensorflow.keras import regularizers\n",
    "import datetime\n",
    "\n",
    "# Import TensorBoard\n",
    "import tensorflow_docs as tfdocs\n",
    "import tensorflow_docs.plots as tfplots\n",
    "import tensorflow_docs.modeling as tfmodel\n",
    "from tensorflow.keras import regularizers\n",
    "# from tensorboard import default\n",
    "# from tensorboard import program\n",
    "\n",
    "#Visualize Model\n",
    "\n",
    "def visualize_model(model):\n",
    "    return SVG(model_to_dot(model, show_shapes= True, show_layer_names=True, dpi=65).create(prog='dot', format='svg'))\n",
    "\n",
    "from tensorflow.keras.utils import plot_model\n",
    "\n",
    "from packaging import version\n",
    "\n",
    "print(\"TensorFlow version: \", tf.__version__)\n",
    "assert version.parse(tf.__version__).release[0] >= 2, \\\n",
    "    \"This notebook requires TensorFlow 2.0 or above.\"\n",
    "\n",
    "print(\"Version: \", tf.__version__)\n",
    "print(\"Eager mode: \", tf.executing_eagerly())\n",
    "print(\"Hub version: \", hub.__version__)\n",
    "print(\"GPU is\", \"available\" if tf.config.list_physical_devices('GPU') else \"NOT AVAILABLE\")"
   ]
  },
  {
   "cell_type": "markdown",
   "metadata": {},
   "source": [
    "#### Import the data already tokenized and transformed from Part 3.1"
   ]
  },
  {
   "cell_type": "markdown",
   "metadata": {},
   "source": [
    "* 80-20 split - Non-balanced data"
   ]
  },
  {
   "cell_type": "code",
   "execution_count": 3,
   "metadata": {},
   "outputs": [
    {
     "name": "stdout",
     "output_type": "stream",
     "text": [
      "X_train data inputs have been loaded!\n",
      "\n",
      "X_test data inputs have been loaded!\n",
      "\n",
      "y_train & y_test have been loaded!\n",
      "\n"
     ]
    }
   ],
   "source": [
    "X_train_seq_actors=np.load(os.path.join(os.getcwd(), \"80-20 split_non-balanced\\\\20000_max_features\\\\x_train_seq_actors_80-20_non-balanced_20000_25032020.npy\"))\n",
    "X_train_seq_plot=np.load(os.path.join(os.getcwd(), \"80-20 split_non-balanced\\\\20000_max_features\\\\x_train_seq_plot_80-20_non-balanced_20000_25032020.npy\"))\n",
    "X_train_seq_features=np.load(os.path.join(os.getcwd(), \"80-20 split_non-balanced\\\\20000_max_features\\\\x_train_seq_features_80-20_non-balanced_20000_25032020.npy\"))\n",
    "X_train_seq_reviews=np.load(os.path.join(os.getcwd(), \"80-20 split_non-balanced\\\\20000_max_features\\\\x_train_seq_reviews_80-20_non-balanced_20000_25032020.npy\"))\n",
    "\n",
    "print(\"X_train data inputs have been loaded!\\n\")\n",
    "\n",
    "X_test_seq_actors=np.load(os.path.join(os.getcwd(), \"80-20 split_non-balanced\\\\20000_max_features\\\\x_test_seq_actors_80-20_non-balanced_20000_25032020.npy\"))\n",
    "X_test_seq_plot=np.load(os.path.join(os.getcwd(), \"80-20 split_non-balanced\\\\20000_max_features\\\\x_test_seq_plot_80-20_non-balanced_20000_25032020.npy\"))\n",
    "X_test_seq_features=np.load(os.path.join(os.getcwd(), \"80-20 split_non-balanced\\\\20000_max_features\\\\x_test_seq_features_80-20_non-balanced_20000_25032020.npy\"))\n",
    "X_test_seq_reviews=np.load(os.path.join(os.getcwd(), \"80-20 split_non-balanced\\\\20000_max_features\\\\x_test_seq_reviews_80-20_non-balanced_20000_25032020.npy\"))\n",
    "\n",
    "print(\"X_test data inputs have been loaded!\\n\")\n",
    "\n",
    "y_train=np.load(os.path.join(os.getcwd(), \"80-20 split_non-balanced\\\\20000_max_features\\\\y_train_80-20_non-balanced_20000_25032020.npy\"))\n",
    "y_test=np.load(os.path.join(os.getcwd(), \"80-20 split_non-balanced\\\\20000_max_features\\\\y_test_80-20_non-balanced_20000_25032020.npy\"))\n",
    "\n",
    "print(\"y_train & y_test have been loaded!\\n\")"
   ]
  },
  {
   "cell_type": "code",
   "execution_count": 4,
   "metadata": {},
   "outputs": [
    {
     "data": {
      "text/plain": [
       "(39193, 17)"
      ]
     },
     "execution_count": 4,
     "metadata": {},
     "output_type": "execute_result"
    }
   ],
   "source": [
    "X_train_seq_actors.shape"
   ]
  },
  {
   "cell_type": "markdown",
   "metadata": {},
   "source": [
    "#### Import the saved tokenizers"
   ]
  },
  {
   "cell_type": "code",
   "execution_count": 5,
   "metadata": {},
   "outputs": [
    {
     "name": "stdout",
     "output_type": "stream",
     "text": [
      "Tokenizers are loaded successfully!\n"
     ]
    }
   ],
   "source": [
    "\"\"\"\n",
    "IMport the tokenizers of each input, fitted on part 3.1\n",
    "\"\"\"\n",
    "with open(os.path.join(os.getcwd(), '80-20 split_non-balanced\\\\20000_max_features\\\\actors_tokenizer_20000_25032020.pkl'),'rb') as f:\n",
    "    actors_tokenizer = pickle.load(f)\n",
    "    \n",
    "with open(os.path.join(os.getcwd(), '80-20 split_non-balanced\\\\20000_max_features\\\\plot_tokenizer_20000_25032020.pkl'),'rb') as f:\n",
    "    plot_tokenizer = pickle.load(f)\n",
    "    \n",
    "with open(os.path.join(os.getcwd(), '80-20 split_non-balanced\\\\20000_max_features\\\\features_tokenizer_20000_25032020.pkl'),'rb') as f:\n",
    "    features_tokenizer = pickle.load(f)\n",
    "    \n",
    "with open(os.path.join(os.getcwd(), '80-20 split_non-balanced\\\\20000_max_features\\\\reviews_tokenizer_20000_25032020.pkl'),'rb') as f:\n",
    "    reviews_tokenizer = pickle.load(f)\n",
    "    \n",
    "print(\"Tokenizers are loaded successfully!\")"
   ]
  },
  {
   "cell_type": "code",
   "execution_count": null,
   "metadata": {},
   "outputs": [],
   "source": [
    "# \"\"\"\n",
    "# KFold cross validation\n",
    "\n",
    "# Maybe I could run a Kfold for with k=1 to reshuffle the data.\n",
    "# \"\"\"\n",
    "# X_seq_actors=np.load(\"C:\\\\Users\\\\spano\\\\Desktop\\\\GitHub-Thesis\\\\models_text_classification\\\\80-20 split_non-balanced\\\\x_seq_actors_80-20_non-balanced_28022020.npy\")\n",
    "# X_seq_plot=np.load(\"C:\\\\Users\\\\spano\\\\Desktop\\\\GitHub-Thesis\\\\models_text_classification\\\\80-20 split_non-balanced\\\\x_seq_plot_80-20_non-balanced_28022020.npy\")\n",
    "# X_seq_features=np.load(\"C:\\\\Users\\\\spano\\\\Desktop\\\\GitHub-Thesis\\\\models_text_classification\\\\80-20 split_non-balanced\\\\x_seq_features_80-20_non-balanced_28022020.npy\")\n",
    "# X_seq_reviews=np.load(\"C:\\\\Users\\\\spano\\\\Desktop\\\\GitHub-Thesis\\\\models_text_classification\\\\80-20 split_non-balanced\\\\x_seq_reviews_80-20_non-balanced_28022020.npy\")\n",
    "\n",
    "# print(\"X featurs data inputs have been loaded!\\n\")\n",
    "\n",
    "# y=np.load(\"C:\\\\Users\\\\spano\\\\Desktop\\\\GitHub-Thesis\\\\models_text_classification\\\\80-20 split_non-balanced\\\\y_80-20_non-balanced_28022020.npy\")\n",
    "\n",
    "# print(\"y variable has been loaded!\\n\")\n",
    "\n",
    "# print(\"X_seq_actors shape:{}\".format(X_seq_actors.shape))\n",
    "# print(\"X_seq_plot shape:{}\".format(X_seq_plot.shape))\n",
    "# print(\"X_seq_features shape:{}\".format(X_seq_features.shape))\n",
    "# print(\"X_seq_reviews shape:{}\\n\".format(X_seq_reviews.shape))\n",
    "\n",
    "# print(\"y shape:{}\".format(y.shape))"
   ]
  },
  {
   "cell_type": "markdown",
   "metadata": {},
   "source": [
    "#### Import the trained and saved models of Part 3.2 for model 1"
   ]
  },
  {
   "cell_type": "markdown",
   "metadata": {},
   "source": [
    "Initialise some predefined values first:\n",
    "\n",
    "* Adam optimizer\n",
    "* Model loss\n",
    "* Model metric"
   ]
  },
  {
   "cell_type": "code",
   "execution_count": 267,
   "metadata": {},
   "outputs": [],
   "source": [
    "neural_network_parameters={}\n",
    "optimizer_parameters={}\n",
    "neural_network_parameters['model_loss'] = 'binary_crossentropy'\n",
    "neural_network_parameters['model_metric'] = 'accuracy'\n",
    "validation_split_ratio=0.8\n",
    "\n",
    "# Function 1\n",
    "def optimizer_adam_v2(batch_size_value):\n",
    "    \n",
    "    optimizer_parameters['steps_per_epoch'] = int(np.ceil((X_train_seq_features.shape[0]*validation_split_ratio)//batch_size_value))\n",
    "    optimizer_parameters['lr_schedule_learning_rate'] = 0.01\n",
    "    optimizer_parameters['lr_schedule_decay_steps'] = optimizer_parameters['steps_per_epoch']*1000\n",
    "    optimizer_parameters['lr_schedule_decay_rate'] = 1\n",
    "    optimizer_parameters['staircase'] = False\n",
    "    \n",
    "    lr_schedule = tf.keras.optimizers.schedules.InverseTimeDecay(\n",
    "        optimizer_parameters['lr_schedule_learning_rate'],\n",
    "        decay_steps=optimizer_parameters['lr_schedule_decay_steps'],\n",
    "        decay_rate=optimizer_parameters['lr_schedule_decay_rate'],\n",
    "        staircase=optimizer_parameters['staircase'])\n",
    "    \n",
    "    return keras.optimizers.Adam(lr_schedule)\n",
    "\n",
    "#----------------------------------------------------------------------\n",
    "\n",
    "# Function 2\n",
    "def hamming_loss(y_true, y_pred, mode='multilabel'):\n",
    "    if mode not in ['multiclass', 'multilabel']:\n",
    "        raise TypeError('mode must be: [multiclass, multilabel])')\n",
    "\n",
    "    if mode == 'multiclass':\n",
    "        nonzero = tf.cast(tf.math.count_nonzero(y_true * y_pred, axis=-1), tf.float32)\n",
    "        print(nonzero)\n",
    "        return 1.0 - nonzero\n",
    "\n",
    "    else:\n",
    "        nonzero = tf.cast(tf.math.count_nonzero(y_true - y_pred, axis=-1), \n",
    "            tf.float32)\n",
    "        return nonzero / y_true.shape[-1]\n",
    "\n",
    "\n",
    "class HammingLoss(tfa.metrics.MeanMetricWrapper):\n",
    "    def __init__(self, name='hamming_loss', dtype=None, mode='multilabel'):\n",
    "        super(HammingLoss, self).__init__(\n",
    "                hamming_loss, name, dtype=dtype, mode=mode)"
   ]
  },
  {
   "cell_type": "markdown",
   "metadata": {},
   "source": [
    "#### Model 1 - 50 embedding dimenstion & 16 batch size"
   ]
  },
  {
   "cell_type": "code",
   "execution_count": 32,
   "metadata": {
    "scrolled": true
   },
   "outputs": [
    {
     "name": "stdout",
     "output_type": "stream",
     "text": [
      "<class 'tensorflow.python.keras.engine.training.Model'>\n",
      "\n",
      "Model is loaded successfully\n"
     ]
    }
   ],
   "source": [
    "with open(os.path.join(os.getcwd(), 'model_one\\\\multi_input_keras_model_{0}dim_{1}batchsize.json'.format(str(50), str(16))),'r') as f:\n",
    "    model_json = json.load(f)\n",
    "\n",
    "model_one = model_from_json(model_json)\n",
    "\n",
    "model_one.load_weights(os.path.join(os.getcwd(), 'model_one\\\\multi_input_keras_model_{0}dim_{1}batchsize.h5'.format(str(50), str(16))))\n",
    "\n",
    "model_one.compile(optimizer=optimizer_adam_v2(16),\n",
    "                  loss=neural_network_parameters['model_loss'],\n",
    "                  metrics=[neural_network_parameters['model_metric']])\n",
    "\n",
    "print(type(model_one))\n",
    "print(\"\\nModel is loaded successfully\")"
   ]
  },
  {
   "cell_type": "markdown",
   "metadata": {},
   "source": [
    "#### Model 2 - 50 embedding dimenstion & 32 batch size"
   ]
  },
  {
   "cell_type": "code",
   "execution_count": 39,
   "metadata": {},
   "outputs": [
    {
     "name": "stdout",
     "output_type": "stream",
     "text": [
      "<class 'tensorflow.python.keras.engine.training.Model'>\n",
      "\n",
      "Model is loaded successfully\n"
     ]
    }
   ],
   "source": [
    "with open(os.path.join(os.getcwd(), 'model_one\\\\multi_input_keras_model_{0}dim_{1}batchsize.json'.format(str(50), str(32))),'r') as f:\n",
    "    model_json = json.load(f)\n",
    "\n",
    "model_two = model_from_json(model_json)\n",
    "\n",
    "model_two.load_weights(os.path.join(os.getcwd(), 'model_one\\\\multi_input_keras_model_{0}dim_{1}batchsize.h5'.format(str(50), str(32))))\n",
    "\n",
    "neural_network_parameters['batch_size'] = 32\n",
    "\n",
    "model_two.compile(optimizer=optimizer_adam_v2(32),\n",
    "                  loss=neural_network_parameters['model_loss'],\n",
    "                  metrics=[neural_network_parameters['model_metric']])\n",
    "print(type(model_two))\n",
    "print(\"\\nModel is loaded successfully\")"
   ]
  },
  {
   "cell_type": "markdown",
   "metadata": {},
   "source": [
    "#### Model 3 - 50 embedding dimenstion & 64 batch size"
   ]
  },
  {
   "cell_type": "code",
   "execution_count": 40,
   "metadata": {},
   "outputs": [
    {
     "name": "stdout",
     "output_type": "stream",
     "text": [
      "<class 'tensorflow.python.keras.engine.training.Model'>\n",
      "\n",
      "Model is loaded successfully\n"
     ]
    }
   ],
   "source": [
    "with open(os.path.join(os.getcwd(), 'model_one\\\\multi_input_keras_model_{0}dim_{1}batchsize.json'.format(str(50), str(64))),'r') as f:\n",
    "    model_json = json.load(f)\n",
    "\n",
    "model_three = model_from_json(model_json)\n",
    "\n",
    "model_three.load_weights(os.path.join(os.getcwd(), 'model_one\\\\multi_input_keras_model_{0}dim_{1}batchsize.h5'.format(str(50), str(64))))\n",
    "\n",
    "model_three.compile(optimizer=optimizer_adam_v2(64),\n",
    "                    loss=neural_network_parameters['model_loss'],\n",
    "                    metrics=[neural_network_parameters['model_metric']])\n",
    "\n",
    "print(type(model_three))\n",
    "print(\"\\nModel is loaded successfully\")"
   ]
  },
  {
   "cell_type": "markdown",
   "metadata": {},
   "source": [
    "#### Model 4 - 50 embedding dimenstion & 128 batch size"
   ]
  },
  {
   "cell_type": "code",
   "execution_count": 41,
   "metadata": {},
   "outputs": [
    {
     "name": "stdout",
     "output_type": "stream",
     "text": [
      "<class 'tensorflow.python.keras.engine.training.Model'>\n",
      "\n",
      "Model is loaded successfully\n"
     ]
    }
   ],
   "source": [
    "with open(os.path.join(os.getcwd(), 'model_one\\\\multi_input_keras_model_{0}dim_{1}batchsize.json'.format(str(50), str(128))),'r') as f:\n",
    "    model_json = json.load(f)\n",
    "\n",
    "model_four = model_from_json(model_json)\n",
    "\n",
    "model_four.load_weights(os.path.join(os.getcwd(), 'model_one\\\\multi_input_keras_model_{0}dim_{1}batchsize.h5'.format(str(50), str(128))))\n",
    "\n",
    "model_four.compile(optimizer=optimizer_adam_v2(128),\n",
    "                   loss=neural_network_parameters['model_loss'],\n",
    "                   metrics=[neural_network_parameters['model_metric']])\n",
    "\n",
    "print(type(model_four))\n",
    "print(\"\\nModel is loaded successfully\")"
   ]
  },
  {
   "cell_type": "markdown",
   "metadata": {},
   "source": [
    "#### Model 5 - 100 embedding dimenstion & 16 batch size"
   ]
  },
  {
   "cell_type": "code",
   "execution_count": 42,
   "metadata": {},
   "outputs": [
    {
     "name": "stdout",
     "output_type": "stream",
     "text": [
      "<class 'tensorflow.python.keras.engine.training.Model'>\n",
      "\n",
      "Model is loaded successfully\n"
     ]
    }
   ],
   "source": [
    "with open(os.path.join(os.getcwd(), 'model_one\\\\multi_input_keras_model_{0}dim_{1}batchsize.json'.format(str(100), str(16))),'r') as f:\n",
    "    model_json = json.load(f)\n",
    "\n",
    "model_five = model_from_json(model_json)\n",
    "\n",
    "model_five.load_weights(os.path.join(os.getcwd(), 'model_one\\\\multi_input_keras_model_{0}dim_{1}batchsize.h5'.format(str(100), str(16))))\n",
    "\n",
    "model_five.compile(optimizer=optimizer_adam_v2(16),\n",
    "                   loss=neural_network_parameters['model_loss'],\n",
    "                   metrics=[neural_network_parameters['model_metric']])\n",
    "\n",
    "print(type(model_five))\n",
    "print(\"\\nModel is loaded successfully\")"
   ]
  },
  {
   "cell_type": "markdown",
   "metadata": {},
   "source": [
    "#### Model 6 - 100 embedding dimenstion & 32 batch size"
   ]
  },
  {
   "cell_type": "code",
   "execution_count": 43,
   "metadata": {},
   "outputs": [
    {
     "name": "stdout",
     "output_type": "stream",
     "text": [
      "<class 'tensorflow.python.keras.engine.training.Model'>\n",
      "\n",
      "Model is loaded successfully\n"
     ]
    }
   ],
   "source": [
    "with open(os.path.join(os.getcwd(), 'model_one\\\\multi_input_keras_model_{0}dim_{1}batchsize.json'.format(str(100), str(32))),'r') as f:\n",
    "    model_json = json.load(f)\n",
    "\n",
    "model_six = model_from_json(model_json)\n",
    "\n",
    "model_six.load_weights(os.path.join(os.getcwd(), 'model_one\\\\multi_input_keras_model_{0}dim_{1}batchsize.h5'.format(str(100), str(32))))\n",
    "\n",
    "model_six.compile(optimizer=optimizer_adam_v2(32),\n",
    "                  loss=neural_network_parameters['model_loss'],\n",
    "                  metrics=[neural_network_parameters['model_metric']])\n",
    "\n",
    "print(type(model_six))\n",
    "print(\"\\nModel is loaded successfully\")"
   ]
  },
  {
   "cell_type": "markdown",
   "metadata": {},
   "source": [
    "#### Model 7 - 100 embedding dimenstion & 64 batch size"
   ]
  },
  {
   "cell_type": "code",
   "execution_count": 44,
   "metadata": {},
   "outputs": [
    {
     "name": "stdout",
     "output_type": "stream",
     "text": [
      "<class 'tensorflow.python.keras.engine.training.Model'>\n",
      "\n",
      "Model is loaded successfully\n"
     ]
    }
   ],
   "source": [
    "with open(os.path.join(os.getcwd(), 'model_one\\\\multi_input_keras_model_{0}dim_{1}batchsize.json'.format(str(100), str(64))),'r') as f:\n",
    "    model_json = json.load(f)\n",
    "\n",
    "model_seven = model_from_json(model_json)\n",
    "\n",
    "model_seven.load_weights(os.path.join(os.getcwd(), 'model_one\\\\multi_input_keras_model_{0}dim_{1}batchsize.h5'.format(str(100), str(64))))\n",
    "\n",
    "model_seven.compile(optimizer=optimizer_adam_v2(64),\n",
    "                    loss=neural_network_parameters['model_loss'],\n",
    "                    metrics=[neural_network_parameters['model_metric']])\n",
    "\n",
    "print(type(model_seven))\n",
    "print(\"\\nModel is loaded successfully\")"
   ]
  },
  {
   "cell_type": "markdown",
   "metadata": {},
   "source": [
    "#### Model 8 - 100 embedding dimenstion & 128 batch size"
   ]
  },
  {
   "cell_type": "code",
   "execution_count": 45,
   "metadata": {},
   "outputs": [
    {
     "name": "stdout",
     "output_type": "stream",
     "text": [
      "<class 'tensorflow.python.keras.engine.training.Model'>\n",
      "\n",
      "Model is loaded successfully\n"
     ]
    }
   ],
   "source": [
    "with open(os.path.join(os.getcwd(), 'model_one\\\\multi_input_keras_model_{0}dim_{1}batchsize.json'.format(str(100), str(128))),'r') as f:\n",
    "    model_json = json.load(f)\n",
    "\n",
    "model_eight = model_from_json(model_json)\n",
    "\n",
    "model_eight.load_weights(os.path.join(os.getcwd(), 'model_one\\\\multi_input_keras_model_{0}dim_{1}batchsize.h5'.format(str(100), str(128))))\n",
    "\n",
    "model_eight.compile(optimizer=optimizer_adam_v2(128),\n",
    "                    loss=neural_network_parameters['model_loss'],\n",
    "                    metrics=[neural_network_parameters['model_metric']])\n",
    "\n",
    "print(type(model_eight))\n",
    "print(\"\\nModel is loaded successfully\")"
   ]
  },
  {
   "cell_type": "markdown",
   "metadata": {},
   "source": [
    "#### Model 9 - 200 embedding dimenstion & 16 batch size"
   ]
  },
  {
   "cell_type": "code",
   "execution_count": 46,
   "metadata": {},
   "outputs": [
    {
     "name": "stdout",
     "output_type": "stream",
     "text": [
      "<class 'tensorflow.python.keras.engine.training.Model'>\n",
      "\n",
      "Model is loaded successfully\n"
     ]
    }
   ],
   "source": [
    "with open(os.path.join(os.getcwd(), 'model_one\\\\multi_input_keras_model_{0}dim_{1}batchsize.json'.format(str(200), str(16))),'r') as f:\n",
    "    model_json = json.load(f)\n",
    "\n",
    "model_nine = model_from_json(model_json)\n",
    "\n",
    "model_nine.load_weights(os.path.join(os.getcwd(), 'model_one\\\\multi_input_keras_model_{0}dim_{1}batchsize.h5'.format(str(200), str(16))))\n",
    "\n",
    "model_nine.compile(optimizer=optimizer_adam_v2(16),\n",
    "                   loss=neural_network_parameters['model_loss'],\n",
    "                   metrics=[neural_network_parameters['model_metric']])\n",
    "\n",
    "print(type(model_nine))\n",
    "print(\"\\nModel is loaded successfully\")"
   ]
  },
  {
   "cell_type": "markdown",
   "metadata": {},
   "source": [
    "#### Model 10 - 200 embedding dimenstion & 32 batch size"
   ]
  },
  {
   "cell_type": "code",
   "execution_count": 47,
   "metadata": {},
   "outputs": [
    {
     "name": "stdout",
     "output_type": "stream",
     "text": [
      "<class 'tensorflow.python.keras.engine.training.Model'>\n",
      "\n",
      "Model is loaded successfully\n"
     ]
    }
   ],
   "source": [
    "with open(os.path.join(os.getcwd(), 'model_one\\\\multi_input_keras_model_{0}dim_{1}batchsize.json'.format(str(200), str(32))),'r') as f:\n",
    "    model_json = json.load(f)\n",
    "\n",
    "model_ten = model_from_json(model_json)\n",
    "\n",
    "model_ten.load_weights(os.path.join(os.getcwd(), 'model_one\\\\multi_input_keras_model_{0}dim_{1}batchsize.h5'.format(str(200), str(32))))\n",
    "\n",
    "model_ten.compile(optimizer=optimizer_adam_v2(32),\n",
    "                  loss=neural_network_parameters['model_loss'],\n",
    "                  metrics=[neural_network_parameters['model_metric']])\n",
    "\n",
    "print(type(model_ten))\n",
    "print(\"\\nModel is loaded successfully\")"
   ]
  },
  {
   "cell_type": "markdown",
   "metadata": {},
   "source": [
    "#### Model 11 - 200 embedding dimenstion & 64 batch size"
   ]
  },
  {
   "cell_type": "code",
   "execution_count": 48,
   "metadata": {},
   "outputs": [
    {
     "name": "stdout",
     "output_type": "stream",
     "text": [
      "<class 'tensorflow.python.keras.engine.training.Model'>\n",
      "\n",
      "Model is loaded successfully\n"
     ]
    }
   ],
   "source": [
    "with open(os.path.join(os.getcwd(), 'model_one\\\\multi_input_keras_model_{0}dim_{1}batchsize.json'.format(str(200), str(64))),'r') as f:\n",
    "    model_json = json.load(f)\n",
    "\n",
    "model_eleven = model_from_json(model_json)\n",
    "\n",
    "model_eleven.load_weights(os.path.join(os.getcwd(), 'model_one\\\\multi_input_keras_model_{0}dim_{1}batchsize.h5'.format(str(200), str(64))))\n",
    "\n",
    "model_eleven.compile(optimizer=optimizer_adam_v2(64),\n",
    "                     loss=neural_network_parameters['model_loss'],\n",
    "                     metrics=[neural_network_parameters['model_metric']])\n",
    "\n",
    "print(type(model_eleven))\n",
    "print(\"\\nModel is loaded successfully\")"
   ]
  },
  {
   "cell_type": "markdown",
   "metadata": {},
   "source": [
    "#### Model 12 - 200 embedding dimenstion & 128 batch size"
   ]
  },
  {
   "cell_type": "code",
   "execution_count": 49,
   "metadata": {},
   "outputs": [
    {
     "name": "stdout",
     "output_type": "stream",
     "text": [
      "<class 'tensorflow.python.keras.engine.training.Model'>\n",
      "\n",
      "Model is loaded successfully\n"
     ]
    }
   ],
   "source": [
    "with open(os.path.join(os.getcwd(), 'model_one\\\\multi_input_keras_model_{0}dim_{1}batchsize.json'.format(str(200), str(128))),'r') as f:\n",
    "    model_json = json.load(f)\n",
    "\n",
    "model_twelve = model_from_json(model_json)\n",
    "\n",
    "model_twelve.load_weights(os.path.join(os.getcwd(), 'model_one\\\\multi_input_keras_model_{0}dim_{1}batchsize.h5'.format(str(200), str(128))))\n",
    "\n",
    "model_twelve.compile(optimizer=optimizer_adam_v2(128),\n",
    "                     loss=neural_network_parameters['model_loss'],\n",
    "                     metrics=[neural_network_parameters['model_metric']])\n",
    "\n",
    "print(type(model_twelve))\n",
    "print(\"\\nModel is loaded successfully\")"
   ]
  },
  {
   "cell_type": "markdown",
   "metadata": {},
   "source": [
    "#### Model 13 - 300 embedding dimenstion & 16 batch size"
   ]
  },
  {
   "cell_type": "code",
   "execution_count": 50,
   "metadata": {},
   "outputs": [
    {
     "name": "stdout",
     "output_type": "stream",
     "text": [
      "<class 'tensorflow.python.keras.engine.training.Model'>\n",
      "\n",
      "Model is loaded successfully\n"
     ]
    }
   ],
   "source": [
    "with open(os.path.join(os.getcwd(), 'model_one\\\\multi_input_keras_model_{0}dim_{1}batchsize.json'.format(str(300), str(16))),'r') as f:\n",
    "    model_json = json.load(f)\n",
    "\n",
    "model_thirteen = model_from_json(model_json)\n",
    "\n",
    "model_thirteen.load_weights(os.path.join(os.getcwd(), 'model_one\\\\multi_input_keras_model_{0}dim_{1}batchsize.h5'.format(str(300), str(16))))\n",
    "\n",
    "model_thirteen.compile(optimizer=optimizer_adam_v2(16),\n",
    "                       loss=neural_network_parameters['model_loss'],\n",
    "                       metrics=[neural_network_parameters['model_metric']])\n",
    "\n",
    "print(type(model_thirteen))\n",
    "print(\"\\nModel is loaded successfully\")"
   ]
  },
  {
   "cell_type": "markdown",
   "metadata": {},
   "source": [
    "#### Model 14 - 300 embedding dimenstion & 32 batch size"
   ]
  },
  {
   "cell_type": "code",
   "execution_count": 51,
   "metadata": {},
   "outputs": [
    {
     "name": "stdout",
     "output_type": "stream",
     "text": [
      "<class 'tensorflow.python.keras.engine.training.Model'>\n",
      "\n",
      "Model is loaded successfully\n"
     ]
    }
   ],
   "source": [
    "with open(os.path.join(os.getcwd(), 'model_one\\\\multi_input_keras_model_{0}dim_{1}batchsize.json'.format(str(300), str(32))),'r') as f:\n",
    "    model_json = json.load(f)\n",
    "\n",
    "model_fourteen = model_from_json(model_json)\n",
    "\n",
    "model_fourteen.load_weights(os.path.join(os.getcwd(), 'model_one\\\\multi_input_keras_model_{0}dim_{1}batchsize.h5'.format(str(300), str(32))))\n",
    "\n",
    "model_fourteen.compile(optimizer=optimizer_adam_v2(32),\n",
    "                       loss=neural_network_parameters['model_loss'],\n",
    "                       metrics=[neural_network_parameters['model_metric']])\n",
    "\n",
    "print(type(model_fourteen))\n",
    "print(\"\\nModel is loaded successfully\")"
   ]
  },
  {
   "cell_type": "markdown",
   "metadata": {},
   "source": [
    "#### Model 15 - 300 embedding dimenstion & 64 batch size"
   ]
  },
  {
   "cell_type": "code",
   "execution_count": 52,
   "metadata": {},
   "outputs": [
    {
     "name": "stdout",
     "output_type": "stream",
     "text": [
      "<class 'tensorflow.python.keras.engine.training.Model'>\n",
      "\n",
      "Model is loaded successfully\n"
     ]
    }
   ],
   "source": [
    "with open(os.path.join(os.getcwd(), 'model_one\\\\multi_input_keras_model_{0}dim_{1}batchsize.json'.format(str(300), str(64))),'r') as f:\n",
    "    model_json = json.load(f)\n",
    "\n",
    "model_fifteen = model_from_json(model_json)\n",
    "\n",
    "model_fifteen.load_weights(os.path.join(os.getcwd(), 'model_one\\\\multi_input_keras_model_{0}dim_{1}batchsize.h5'.format(str(300), str(64))))\n",
    "\n",
    "model_fifteen.compile(optimizer=optimizer_adam_v2(64),\n",
    "                      loss=neural_network_parameters['model_loss'],\n",
    "                      metrics=[neural_network_parameters['model_metric']])\n",
    "\n",
    "print(type(model_fifteen))\n",
    "print(\"\\nModel is loaded successfully\")"
   ]
  },
  {
   "cell_type": "markdown",
   "metadata": {},
   "source": [
    "#### Model 16 - 300 embedding dimenstion & 128 batch size"
   ]
  },
  {
   "cell_type": "code",
   "execution_count": 53,
   "metadata": {},
   "outputs": [
    {
     "name": "stdout",
     "output_type": "stream",
     "text": [
      "<class 'tensorflow.python.keras.engine.training.Model'>\n",
      "\n",
      "Model is loaded successfully\n"
     ]
    }
   ],
   "source": [
    "with open(os.path.join(os.getcwd(), 'model_one\\\\multi_input_keras_model_{0}dim_{1}batchsize.json'.format(str(300), str(128))),'r') as f:\n",
    "    model_json = json.load(f)\n",
    "\n",
    "model_sixteen = model_from_json(model_json)\n",
    "\n",
    "model_sixteen.load_weights(os.path.join(os.getcwd(), 'model_one\\\\multi_input_keras_model_{0}dim_{1}batchsize.h5'.format(str(300), str(128))))\n",
    "\n",
    "model_sixteen.compile(optimizer=optimizer_adam_v2(128),\n",
    "                      loss=neural_network_parameters['model_loss'],\n",
    "                      metrics=[neural_network_parameters['model_metric']])\n",
    "\n",
    "print(type(model_sixteen))\n",
    "print(\"\\nModel is loaded successfully\")"
   ]
  },
  {
   "cell_type": "markdown",
   "metadata": {},
   "source": [
    "# <b>- - - - - - - - - - - - - - - - - - - - - - - - - - - - - - - - - - - - - - - - - - - - - - - - - - - - - - -  </b>"
   ]
  },
  {
   "cell_type": "markdown",
   "metadata": {},
   "source": [
    "**Create a scoring dataframe for each model**"
   ]
  },
  {
   "cell_type": "code",
   "execution_count": 268,
   "metadata": {},
   "outputs": [],
   "source": [
    "def create_df_scoring_table(model_tag, model, embeddings_number, batch_size_number):\n",
    "    \n",
    "    model_evaluation = model.evaluate([X_test_seq_actors, X_test_seq_plot, X_test_seq_features, X_test_seq_reviews], \n",
    "                                      y_test,\n",
    "                                      batch_size=batch_size_number,\n",
    "                                      verbose=2)\n",
    "\n",
    "    y_test_pred_probs = model.predict([X_test_seq_actors, X_test_seq_plot, X_test_seq_features, X_test_seq_reviews])\n",
    "    y_test_predictions = (y_test_pred_probs>0.5).astype(int)\n",
    "\n",
    "    hamming_loss_value = HammingLoss(mode='multilabel')\n",
    "    hamming_loss_value.update_state(y_test, y_test_predictions)\n",
    "\n",
    "    df_scores=pd.DataFrame({'Tag Name':pd.Series(model_tag, dtype='str'),\n",
    "                            'Embedding tag':pd.Series(embeddings_number, dtype='int'),\n",
    "                            'Batch tag':pd.Series(batch_size_number, dtype='int'),\n",
    "                            'Keras Model':pd.Series(\"multi_input_model_{0}dim_{1}batchsize\".format(str(embeddings_number), str(batch_size_number)), dtype='str'),\n",
    "                            'Test Loss':pd.Series([model_evaluation[0]], dtype='float'),\n",
    "                            'Test Accuracy':pd.Series([model_evaluation[1]], dtype='float'),\n",
    "                            'Hamming Loss':pd.Series([hamming_loss_value.result().numpy()], dtype='float'),\n",
    "                            'Zero_one Loss':pd.Series([zero_one_loss(y_test, y_test_predictions, normalize=False)], dtype='float'),\n",
    "                            'F1_score':pd.Series([f1_score(y_test, y_test_predictions, average=\"micro\")], dtype='float'),\n",
    "                            'ROC_score':pd.Series([roc_auc_score(y_test, y_test_predictions, average=\"micro\", multi_class=\"ovr\")], dtype='float'),\n",
    "                           })\n",
    "\n",
    "    df_scores.to_pickle(os.path.join(os.getcwd(), \"model_one\\\\df_metrics_multy_input_keras_{0}dim_{1}batchsize_29032020.pkl\".format(str(embeddings_number), str(batch_size_number))))\n",
    "    return df_scores"
   ]
  },
  {
   "cell_type": "code",
   "execution_count": 269,
   "metadata": {},
   "outputs": [
    {
     "name": "stdout",
     "output_type": "stream",
     "text": [
      "9799/9799 - 1s - loss: 0.0436 - accuracy: 0.9915\n",
      "9799/9799 - 0s - loss: 0.0407 - accuracy: 0.9935\n",
      "9799/9799 - 0s - loss: 0.0307 - accuracy: 0.9947\n",
      "9799/9799 - 0s - loss: 0.0246 - accuracy: 0.9957\n",
      "9799/9799 - 1s - loss: 0.0638 - accuracy: 0.9911\n",
      "9799/9799 - 1s - loss: 0.0378 - accuracy: 0.9944\n",
      "9799/9799 - 0s - loss: 0.0328 - accuracy: 0.9955\n",
      "9799/9799 - 0s - loss: 0.0364 - accuracy: 0.9945\n",
      "9799/9799 - 1s - loss: 0.0514 - accuracy: 0.9936\n",
      "9799/9799 - 1s - loss: 0.0383 - accuracy: 0.9950\n",
      "9799/9799 - 1s - loss: 0.0459 - accuracy: 0.9943\n",
      "9799/9799 - 1s - loss: 0.0397 - accuracy: 0.9951\n",
      "9799/9799 - 1s - loss: 0.0588 - accuracy: 0.9914\n",
      "9799/9799 - 1s - loss: 0.0430 - accuracy: 0.9953\n",
      "9799/9799 - 1s - loss: 0.0415 - accuracy: 0.9954\n",
      "9799/9799 - 1s - loss: 0.0424 - accuracy: 0.9949\n"
     ]
    }
   ],
   "source": [
    "#Model 1\n",
    "df_scores_one=create_df_scoring_table(\"model one\", model_one, 50, 16)\n",
    "#Model 2\n",
    "df_scores_two=create_df_scoring_table(\"model two\", model_two, 50, 32)\n",
    "#Model 3\n",
    "df_scores_three=create_df_scoring_table(\"model three\", model_three, 50, 64)\n",
    "#Model 4\n",
    "df_scores_four=create_df_scoring_table(\"model four\", model_four, 50, 128)\n",
    "#Model 5\n",
    "df_scores_five=create_df_scoring_table(\"model five\", model_five, 100, 16)\n",
    "#Model 6\n",
    "df_scores_six=create_df_scoring_table(\"model six\", model_six, 100, 32)\n",
    "#Model 7\n",
    "df_scores_seven=create_df_scoring_table(\"model seven\", model_seven, 100, 64)\n",
    "#Model 8\n",
    "df_scores_eight=create_df_scoring_table(\"model eight\", model_eight, 100, 128)\n",
    "#Model 9\n",
    "df_scores_nine=create_df_scoring_table(\"model nine\", model_nine, 200, 16)\n",
    "#Model 10\n",
    "df_scores_ten=create_df_scoring_table(\"model ten\", model_ten, 200, 32)\n",
    "#Model 11\n",
    "df_scores_eleven=create_df_scoring_table(\"model eleven\", model_eleven, 200, 64)\n",
    "#Model 12\n",
    "df_scores_twelve=create_df_scoring_table(\"model twelve\", model_twelve, 200, 128)\n",
    "#Model 13\n",
    "df_scores_thirteen=create_df_scoring_table(\"model thirteen\", model_thirteen, 300, 16)\n",
    "#Model 14\n",
    "df_scores_fourteen=create_df_scoring_table(\"model fourteen\", model_fourteen, 300, 32)\n",
    "#Model 15\n",
    "df_scores_fifteen=create_df_scoring_table(\"model fifteen\", model_fifteen, 300, 64)\n",
    "#Model 16\n",
    "df_scores_sixteen=create_df_scoring_table(\"model sixteen\", model_sixteen, 300, 128)"
   ]
  },
  {
   "cell_type": "code",
   "execution_count": 270,
   "metadata": {},
   "outputs": [],
   "source": [
    "# All frames together\n",
    "frames = [df_scores_one, df_scores_two, df_scores_three, df_scores_four, df_scores_five, df_scores_six, df_scores_seven,\n",
    "          df_scores_eight, df_scores_nine, df_scores_ten, df_scores_eleven, df_scores_twelve, df_scores_thirteen,\n",
    "          df_scores_fourteen, df_scores_fifteen, df_scores_sixteen]\n",
    "\n",
    "# Frames ber batch\n",
    "# 16-batch size\n",
    "frames_16batch = [df_scores_one, df_scores_five, df_scores_nine, df_scores_thirteen]\n",
    "\n",
    "# 32-batch size\n",
    "frames_32batch = [df_scores_two, df_scores_six, df_scores_ten, df_scores_fourteen]\n",
    "\n",
    "# 64-batch size\n",
    "frames_64batch = [df_scores_three, df_scores_seven, df_scores_eleven, df_scores_fifteen]\n",
    "\n",
    "# 128-batch size\n",
    "frames_128batch = [df_scores_four, df_scores_eight, df_scores_twelve, df_scores_sixteen]\n",
    "\n",
    "# Frames ber embedding dimension\n",
    "# 50-embedding dimenstion\n",
    "frames_50dim = [df_scores_one, df_scores_two, df_scores_three, df_scores_four]\n",
    "\n",
    "# 100-embedding dimenstion\n",
    "frames_100dim = [df_scores_five, df_scores_six, df_scores_seven, df_scores_eight]\n",
    "\n",
    "# 200-embedding dimenstion\n",
    "frames_200dim = [df_scores_nine, df_scores_ten, df_scores_eleven, df_scores_twelve]\n",
    "\n",
    "# 300-embedding dimenstion\n",
    "frames_300dim = [df_scores_thirteen, df_scores_fourteen, df_scores_fifteen, df_scores_sixteen]"
   ]
  },
  {
   "cell_type": "code",
   "execution_count": 271,
   "metadata": {},
   "outputs": [
    {
     "data": {
      "text/html": [
       "<div>\n",
       "<style scoped>\n",
       "    .dataframe tbody tr th:only-of-type {\n",
       "        vertical-align: middle;\n",
       "    }\n",
       "\n",
       "    .dataframe tbody tr th {\n",
       "        vertical-align: top;\n",
       "    }\n",
       "\n",
       "    .dataframe thead th {\n",
       "        text-align: right;\n",
       "    }\n",
       "</style>\n",
       "<table border=\"1\" class=\"dataframe\">\n",
       "  <thead>\n",
       "    <tr style=\"text-align: right;\">\n",
       "      <th></th>\n",
       "      <th>Tag Name</th>\n",
       "      <th>Embedding tag</th>\n",
       "      <th>Batch tag</th>\n",
       "      <th>Keras Model</th>\n",
       "      <th>Test Loss</th>\n",
       "      <th>Test Accuracy</th>\n",
       "      <th>Hamming Loss</th>\n",
       "      <th>Zero_one Loss</th>\n",
       "      <th>F1_score</th>\n",
       "      <th>ROC_score</th>\n",
       "    </tr>\n",
       "  </thead>\n",
       "  <tbody>\n",
       "    <tr>\n",
       "      <td>0</td>\n",
       "      <td>model one</td>\n",
       "      <td>50</td>\n",
       "      <td>16</td>\n",
       "      <td>multi_input_model_50dim_16batchsize</td>\n",
       "      <td>0.043602</td>\n",
       "      <td>0.991539</td>\n",
       "      <td>0.008464</td>\n",
       "      <td>1216.0</td>\n",
       "      <td>0.959941</td>\n",
       "      <td>0.970311</td>\n",
       "    </tr>\n",
       "    <tr>\n",
       "      <td>1</td>\n",
       "      <td>model two</td>\n",
       "      <td>50</td>\n",
       "      <td>32</td>\n",
       "      <td>multi_input_model_50dim_32batchsize</td>\n",
       "      <td>0.040737</td>\n",
       "      <td>0.993548</td>\n",
       "      <td>0.006453</td>\n",
       "      <td>990.0</td>\n",
       "      <td>0.970021</td>\n",
       "      <td>0.983666</td>\n",
       "    </tr>\n",
       "    <tr>\n",
       "      <td>2</td>\n",
       "      <td>model three</td>\n",
       "      <td>50</td>\n",
       "      <td>64</td>\n",
       "      <td>multi_input_model_50dim_64batchsize</td>\n",
       "      <td>0.030692</td>\n",
       "      <td>0.994736</td>\n",
       "      <td>0.005265</td>\n",
       "      <td>824.0</td>\n",
       "      <td>0.975436</td>\n",
       "      <td>0.984847</td>\n",
       "    </tr>\n",
       "    <tr>\n",
       "      <td>3</td>\n",
       "      <td>model four</td>\n",
       "      <td>50</td>\n",
       "      <td>128</td>\n",
       "      <td>multi_input_model_50dim_128batchsize</td>\n",
       "      <td>0.024604</td>\n",
       "      <td>0.995690</td>\n",
       "      <td>0.004310</td>\n",
       "      <td>691.0</td>\n",
       "      <td>0.979930</td>\n",
       "      <td>0.988206</td>\n",
       "    </tr>\n",
       "    <tr>\n",
       "      <td>4</td>\n",
       "      <td>model five</td>\n",
       "      <td>100</td>\n",
       "      <td>16</td>\n",
       "      <td>multi_input_model_100dim_16batchsize</td>\n",
       "      <td>0.063827</td>\n",
       "      <td>0.991119</td>\n",
       "      <td>0.008884</td>\n",
       "      <td>1318.0</td>\n",
       "      <td>0.958064</td>\n",
       "      <td>0.970370</td>\n",
       "    </tr>\n",
       "    <tr>\n",
       "      <td>5</td>\n",
       "      <td>model six</td>\n",
       "      <td>100</td>\n",
       "      <td>32</td>\n",
       "      <td>multi_input_model_100dim_32batchsize</td>\n",
       "      <td>0.037757</td>\n",
       "      <td>0.994376</td>\n",
       "      <td>0.005625</td>\n",
       "      <td>869.0</td>\n",
       "      <td>0.973655</td>\n",
       "      <td>0.982239</td>\n",
       "    </tr>\n",
       "    <tr>\n",
       "      <td>6</td>\n",
       "      <td>model seven</td>\n",
       "      <td>100</td>\n",
       "      <td>64</td>\n",
       "      <td>multi_input_model_100dim_64batchsize</td>\n",
       "      <td>0.032798</td>\n",
       "      <td>0.995516</td>\n",
       "      <td>0.004484</td>\n",
       "      <td>714.0</td>\n",
       "      <td>0.979163</td>\n",
       "      <td>0.988673</td>\n",
       "    </tr>\n",
       "    <tr>\n",
       "      <td>7</td>\n",
       "      <td>model eight</td>\n",
       "      <td>100</td>\n",
       "      <td>128</td>\n",
       "      <td>multi_input_model_100dim_128batchsize</td>\n",
       "      <td>0.036412</td>\n",
       "      <td>0.994453</td>\n",
       "      <td>0.005547</td>\n",
       "      <td>860.0</td>\n",
       "      <td>0.974206</td>\n",
       "      <td>0.985573</td>\n",
       "    </tr>\n",
       "    <tr>\n",
       "      <td>8</td>\n",
       "      <td>model nine</td>\n",
       "      <td>200</td>\n",
       "      <td>16</td>\n",
       "      <td>multi_input_model_200dim_16batchsize</td>\n",
       "      <td>0.051377</td>\n",
       "      <td>0.993622</td>\n",
       "      <td>0.006381</td>\n",
       "      <td>967.0</td>\n",
       "      <td>0.970463</td>\n",
       "      <td>0.985449</td>\n",
       "    </tr>\n",
       "    <tr>\n",
       "      <td>9</td>\n",
       "      <td>model ten</td>\n",
       "      <td>200</td>\n",
       "      <td>32</td>\n",
       "      <td>multi_input_model_200dim_32batchsize</td>\n",
       "      <td>0.038296</td>\n",
       "      <td>0.994995</td>\n",
       "      <td>0.005007</td>\n",
       "      <td>784.0</td>\n",
       "      <td>0.976832</td>\n",
       "      <td>0.989141</td>\n",
       "    </tr>\n",
       "    <tr>\n",
       "      <td>10</td>\n",
       "      <td>model eleven</td>\n",
       "      <td>200</td>\n",
       "      <td>64</td>\n",
       "      <td>multi_input_model_200dim_64batchsize</td>\n",
       "      <td>0.045918</td>\n",
       "      <td>0.994273</td>\n",
       "      <td>0.005727</td>\n",
       "      <td>883.0</td>\n",
       "      <td>0.973232</td>\n",
       "      <td>0.982869</td>\n",
       "    </tr>\n",
       "    <tr>\n",
       "      <td>11</td>\n",
       "      <td>model twelve</td>\n",
       "      <td>200</td>\n",
       "      <td>128</td>\n",
       "      <td>multi_input_model_200dim_128batchsize</td>\n",
       "      <td>0.039669</td>\n",
       "      <td>0.995071</td>\n",
       "      <td>0.004928</td>\n",
       "      <td>771.0</td>\n",
       "      <td>0.977087</td>\n",
       "      <td>0.987294</td>\n",
       "    </tr>\n",
       "    <tr>\n",
       "      <td>12</td>\n",
       "      <td>model thirteen</td>\n",
       "      <td>300</td>\n",
       "      <td>16</td>\n",
       "      <td>multi_input_model_300dim_16batchsize</td>\n",
       "      <td>0.058777</td>\n",
       "      <td>0.991418</td>\n",
       "      <td>0.008584</td>\n",
       "      <td>1237.0</td>\n",
       "      <td>0.959696</td>\n",
       "      <td>0.973460</td>\n",
       "    </tr>\n",
       "    <tr>\n",
       "      <td>13</td>\n",
       "      <td>model fourteen</td>\n",
       "      <td>300</td>\n",
       "      <td>32</td>\n",
       "      <td>multi_input_model_300dim_32batchsize</td>\n",
       "      <td>0.042978</td>\n",
       "      <td>0.995277</td>\n",
       "      <td>0.004724</td>\n",
       "      <td>743.0</td>\n",
       "      <td>0.977985</td>\n",
       "      <td>0.986819</td>\n",
       "    </tr>\n",
       "    <tr>\n",
       "      <td>14</td>\n",
       "      <td>model fifteen</td>\n",
       "      <td>300</td>\n",
       "      <td>64</td>\n",
       "      <td>multi_input_model_300dim_64batchsize</td>\n",
       "      <td>0.041491</td>\n",
       "      <td>0.995384</td>\n",
       "      <td>0.004616</td>\n",
       "      <td>716.0</td>\n",
       "      <td>0.978617</td>\n",
       "      <td>0.989728</td>\n",
       "    </tr>\n",
       "    <tr>\n",
       "      <td>15</td>\n",
       "      <td>model sixteen</td>\n",
       "      <td>300</td>\n",
       "      <td>128</td>\n",
       "      <td>multi_input_model_300dim_128batchsize</td>\n",
       "      <td>0.042408</td>\n",
       "      <td>0.994867</td>\n",
       "      <td>0.005133</td>\n",
       "      <td>804.0</td>\n",
       "      <td>0.976125</td>\n",
       "      <td>0.986517</td>\n",
       "    </tr>\n",
       "  </tbody>\n",
       "</table>\n",
       "</div>"
      ],
      "text/plain": [
       "          Tag Name  Embedding tag  Batch tag  \\\n",
       "0        model one             50         16   \n",
       "1        model two             50         32   \n",
       "2      model three             50         64   \n",
       "3       model four             50        128   \n",
       "4       model five            100         16   \n",
       "5        model six            100         32   \n",
       "6      model seven            100         64   \n",
       "7      model eight            100        128   \n",
       "8       model nine            200         16   \n",
       "9        model ten            200         32   \n",
       "10    model eleven            200         64   \n",
       "11    model twelve            200        128   \n",
       "12  model thirteen            300         16   \n",
       "13  model fourteen            300         32   \n",
       "14   model fifteen            300         64   \n",
       "15   model sixteen            300        128   \n",
       "\n",
       "                              Keras Model  Test Loss  Test Accuracy  \\\n",
       "0     multi_input_model_50dim_16batchsize   0.043602       0.991539   \n",
       "1     multi_input_model_50dim_32batchsize   0.040737       0.993548   \n",
       "2     multi_input_model_50dim_64batchsize   0.030692       0.994736   \n",
       "3    multi_input_model_50dim_128batchsize   0.024604       0.995690   \n",
       "4    multi_input_model_100dim_16batchsize   0.063827       0.991119   \n",
       "5    multi_input_model_100dim_32batchsize   0.037757       0.994376   \n",
       "6    multi_input_model_100dim_64batchsize   0.032798       0.995516   \n",
       "7   multi_input_model_100dim_128batchsize   0.036412       0.994453   \n",
       "8    multi_input_model_200dim_16batchsize   0.051377       0.993622   \n",
       "9    multi_input_model_200dim_32batchsize   0.038296       0.994995   \n",
       "10   multi_input_model_200dim_64batchsize   0.045918       0.994273   \n",
       "11  multi_input_model_200dim_128batchsize   0.039669       0.995071   \n",
       "12   multi_input_model_300dim_16batchsize   0.058777       0.991418   \n",
       "13   multi_input_model_300dim_32batchsize   0.042978       0.995277   \n",
       "14   multi_input_model_300dim_64batchsize   0.041491       0.995384   \n",
       "15  multi_input_model_300dim_128batchsize   0.042408       0.994867   \n",
       "\n",
       "    Hamming Loss  Zero_one Loss  F1_score  ROC_score  \n",
       "0       0.008464         1216.0  0.959941   0.970311  \n",
       "1       0.006453          990.0  0.970021   0.983666  \n",
       "2       0.005265          824.0  0.975436   0.984847  \n",
       "3       0.004310          691.0  0.979930   0.988206  \n",
       "4       0.008884         1318.0  0.958064   0.970370  \n",
       "5       0.005625          869.0  0.973655   0.982239  \n",
       "6       0.004484          714.0  0.979163   0.988673  \n",
       "7       0.005547          860.0  0.974206   0.985573  \n",
       "8       0.006381          967.0  0.970463   0.985449  \n",
       "9       0.005007          784.0  0.976832   0.989141  \n",
       "10      0.005727          883.0  0.973232   0.982869  \n",
       "11      0.004928          771.0  0.977087   0.987294  \n",
       "12      0.008584         1237.0  0.959696   0.973460  \n",
       "13      0.004724          743.0  0.977985   0.986819  \n",
       "14      0.004616          716.0  0.978617   0.989728  \n",
       "15      0.005133          804.0  0.976125   0.986517  "
      ]
     },
     "execution_count": 271,
     "metadata": {},
     "output_type": "execute_result"
    }
   ],
   "source": [
    "result = pd.concat(frames)\n",
    "result.reset_index(drop=True)"
   ]
  },
  {
   "cell_type": "code",
   "execution_count": 272,
   "metadata": {},
   "outputs": [
    {
     "data": {
      "text/html": [
       "<div>\n",
       "<style scoped>\n",
       "    .dataframe tbody tr th:only-of-type {\n",
       "        vertical-align: middle;\n",
       "    }\n",
       "\n",
       "    .dataframe tbody tr th {\n",
       "        vertical-align: top;\n",
       "    }\n",
       "\n",
       "    .dataframe thead th {\n",
       "        text-align: right;\n",
       "    }\n",
       "</style>\n",
       "<table border=\"1\" class=\"dataframe\">\n",
       "  <thead>\n",
       "    <tr style=\"text-align: right;\">\n",
       "      <th></th>\n",
       "      <th>Tag Name</th>\n",
       "      <th>Embedding tag</th>\n",
       "      <th>Batch tag</th>\n",
       "      <th>Keras Model</th>\n",
       "      <th>Test Loss</th>\n",
       "      <th>Test Accuracy</th>\n",
       "      <th>Hamming Loss</th>\n",
       "      <th>Zero_one Loss</th>\n",
       "      <th>F1_score</th>\n",
       "      <th>ROC_score</th>\n",
       "    </tr>\n",
       "  </thead>\n",
       "  <tbody>\n",
       "    <tr>\n",
       "      <td>0</td>\n",
       "      <td>model four</td>\n",
       "      <td>50</td>\n",
       "      <td>128</td>\n",
       "      <td>multi_input_model_50dim_128batchsize</td>\n",
       "      <td>0.024604</td>\n",
       "      <td>0.995690</td>\n",
       "      <td>0.004310</td>\n",
       "      <td>691.0</td>\n",
       "      <td>0.979930</td>\n",
       "      <td>0.988206</td>\n",
       "    </tr>\n",
       "    <tr>\n",
       "      <td>0</td>\n",
       "      <td>model seven</td>\n",
       "      <td>100</td>\n",
       "      <td>64</td>\n",
       "      <td>multi_input_model_100dim_64batchsize</td>\n",
       "      <td>0.032798</td>\n",
       "      <td>0.995516</td>\n",
       "      <td>0.004484</td>\n",
       "      <td>714.0</td>\n",
       "      <td>0.979163</td>\n",
       "      <td>0.988673</td>\n",
       "    </tr>\n",
       "    <tr>\n",
       "      <td>0</td>\n",
       "      <td>model fifteen</td>\n",
       "      <td>300</td>\n",
       "      <td>64</td>\n",
       "      <td>multi_input_model_300dim_64batchsize</td>\n",
       "      <td>0.041491</td>\n",
       "      <td>0.995384</td>\n",
       "      <td>0.004616</td>\n",
       "      <td>716.0</td>\n",
       "      <td>0.978617</td>\n",
       "      <td>0.989728</td>\n",
       "    </tr>\n",
       "    <tr>\n",
       "      <td>0</td>\n",
       "      <td>model fourteen</td>\n",
       "      <td>300</td>\n",
       "      <td>32</td>\n",
       "      <td>multi_input_model_300dim_32batchsize</td>\n",
       "      <td>0.042978</td>\n",
       "      <td>0.995277</td>\n",
       "      <td>0.004724</td>\n",
       "      <td>743.0</td>\n",
       "      <td>0.977985</td>\n",
       "      <td>0.986819</td>\n",
       "    </tr>\n",
       "    <tr>\n",
       "      <td>0</td>\n",
       "      <td>model twelve</td>\n",
       "      <td>200</td>\n",
       "      <td>128</td>\n",
       "      <td>multi_input_model_200dim_128batchsize</td>\n",
       "      <td>0.039669</td>\n",
       "      <td>0.995071</td>\n",
       "      <td>0.004928</td>\n",
       "      <td>771.0</td>\n",
       "      <td>0.977087</td>\n",
       "      <td>0.987294</td>\n",
       "    </tr>\n",
       "    <tr>\n",
       "      <td>0</td>\n",
       "      <td>model ten</td>\n",
       "      <td>200</td>\n",
       "      <td>32</td>\n",
       "      <td>multi_input_model_200dim_32batchsize</td>\n",
       "      <td>0.038296</td>\n",
       "      <td>0.994995</td>\n",
       "      <td>0.005007</td>\n",
       "      <td>784.0</td>\n",
       "      <td>0.976832</td>\n",
       "      <td>0.989141</td>\n",
       "    </tr>\n",
       "    <tr>\n",
       "      <td>0</td>\n",
       "      <td>model sixteen</td>\n",
       "      <td>300</td>\n",
       "      <td>128</td>\n",
       "      <td>multi_input_model_300dim_128batchsize</td>\n",
       "      <td>0.042408</td>\n",
       "      <td>0.994867</td>\n",
       "      <td>0.005133</td>\n",
       "      <td>804.0</td>\n",
       "      <td>0.976125</td>\n",
       "      <td>0.986517</td>\n",
       "    </tr>\n",
       "    <tr>\n",
       "      <td>0</td>\n",
       "      <td>model three</td>\n",
       "      <td>50</td>\n",
       "      <td>64</td>\n",
       "      <td>multi_input_model_50dim_64batchsize</td>\n",
       "      <td>0.030692</td>\n",
       "      <td>0.994736</td>\n",
       "      <td>0.005265</td>\n",
       "      <td>824.0</td>\n",
       "      <td>0.975436</td>\n",
       "      <td>0.984847</td>\n",
       "    </tr>\n",
       "    <tr>\n",
       "      <td>0</td>\n",
       "      <td>model eight</td>\n",
       "      <td>100</td>\n",
       "      <td>128</td>\n",
       "      <td>multi_input_model_100dim_128batchsize</td>\n",
       "      <td>0.036412</td>\n",
       "      <td>0.994453</td>\n",
       "      <td>0.005547</td>\n",
       "      <td>860.0</td>\n",
       "      <td>0.974206</td>\n",
       "      <td>0.985573</td>\n",
       "    </tr>\n",
       "    <tr>\n",
       "      <td>0</td>\n",
       "      <td>model six</td>\n",
       "      <td>100</td>\n",
       "      <td>32</td>\n",
       "      <td>multi_input_model_100dim_32batchsize</td>\n",
       "      <td>0.037757</td>\n",
       "      <td>0.994376</td>\n",
       "      <td>0.005625</td>\n",
       "      <td>869.0</td>\n",
       "      <td>0.973655</td>\n",
       "      <td>0.982239</td>\n",
       "    </tr>\n",
       "    <tr>\n",
       "      <td>0</td>\n",
       "      <td>model eleven</td>\n",
       "      <td>200</td>\n",
       "      <td>64</td>\n",
       "      <td>multi_input_model_200dim_64batchsize</td>\n",
       "      <td>0.045918</td>\n",
       "      <td>0.994273</td>\n",
       "      <td>0.005727</td>\n",
       "      <td>883.0</td>\n",
       "      <td>0.973232</td>\n",
       "      <td>0.982869</td>\n",
       "    </tr>\n",
       "    <tr>\n",
       "      <td>0</td>\n",
       "      <td>model nine</td>\n",
       "      <td>200</td>\n",
       "      <td>16</td>\n",
       "      <td>multi_input_model_200dim_16batchsize</td>\n",
       "      <td>0.051377</td>\n",
       "      <td>0.993622</td>\n",
       "      <td>0.006381</td>\n",
       "      <td>967.0</td>\n",
       "      <td>0.970463</td>\n",
       "      <td>0.985449</td>\n",
       "    </tr>\n",
       "    <tr>\n",
       "      <td>0</td>\n",
       "      <td>model two</td>\n",
       "      <td>50</td>\n",
       "      <td>32</td>\n",
       "      <td>multi_input_model_50dim_32batchsize</td>\n",
       "      <td>0.040737</td>\n",
       "      <td>0.993548</td>\n",
       "      <td>0.006453</td>\n",
       "      <td>990.0</td>\n",
       "      <td>0.970021</td>\n",
       "      <td>0.983666</td>\n",
       "    </tr>\n",
       "    <tr>\n",
       "      <td>0</td>\n",
       "      <td>model one</td>\n",
       "      <td>50</td>\n",
       "      <td>16</td>\n",
       "      <td>multi_input_model_50dim_16batchsize</td>\n",
       "      <td>0.043602</td>\n",
       "      <td>0.991539</td>\n",
       "      <td>0.008464</td>\n",
       "      <td>1216.0</td>\n",
       "      <td>0.959941</td>\n",
       "      <td>0.970311</td>\n",
       "    </tr>\n",
       "    <tr>\n",
       "      <td>0</td>\n",
       "      <td>model thirteen</td>\n",
       "      <td>300</td>\n",
       "      <td>16</td>\n",
       "      <td>multi_input_model_300dim_16batchsize</td>\n",
       "      <td>0.058777</td>\n",
       "      <td>0.991418</td>\n",
       "      <td>0.008584</td>\n",
       "      <td>1237.0</td>\n",
       "      <td>0.959696</td>\n",
       "      <td>0.973460</td>\n",
       "    </tr>\n",
       "    <tr>\n",
       "      <td>0</td>\n",
       "      <td>model five</td>\n",
       "      <td>100</td>\n",
       "      <td>16</td>\n",
       "      <td>multi_input_model_100dim_16batchsize</td>\n",
       "      <td>0.063827</td>\n",
       "      <td>0.991119</td>\n",
       "      <td>0.008884</td>\n",
       "      <td>1318.0</td>\n",
       "      <td>0.958064</td>\n",
       "      <td>0.970370</td>\n",
       "    </tr>\n",
       "  </tbody>\n",
       "</table>\n",
       "</div>"
      ],
      "text/plain": [
       "         Tag Name  Embedding tag  Batch tag  \\\n",
       "0      model four             50        128   \n",
       "0     model seven            100         64   \n",
       "0   model fifteen            300         64   \n",
       "0  model fourteen            300         32   \n",
       "0    model twelve            200        128   \n",
       "0       model ten            200         32   \n",
       "0   model sixteen            300        128   \n",
       "0     model three             50         64   \n",
       "0     model eight            100        128   \n",
       "0       model six            100         32   \n",
       "0    model eleven            200         64   \n",
       "0      model nine            200         16   \n",
       "0       model two             50         32   \n",
       "0       model one             50         16   \n",
       "0  model thirteen            300         16   \n",
       "0      model five            100         16   \n",
       "\n",
       "                             Keras Model  Test Loss  Test Accuracy  \\\n",
       "0   multi_input_model_50dim_128batchsize   0.024604       0.995690   \n",
       "0   multi_input_model_100dim_64batchsize   0.032798       0.995516   \n",
       "0   multi_input_model_300dim_64batchsize   0.041491       0.995384   \n",
       "0   multi_input_model_300dim_32batchsize   0.042978       0.995277   \n",
       "0  multi_input_model_200dim_128batchsize   0.039669       0.995071   \n",
       "0   multi_input_model_200dim_32batchsize   0.038296       0.994995   \n",
       "0  multi_input_model_300dim_128batchsize   0.042408       0.994867   \n",
       "0    multi_input_model_50dim_64batchsize   0.030692       0.994736   \n",
       "0  multi_input_model_100dim_128batchsize   0.036412       0.994453   \n",
       "0   multi_input_model_100dim_32batchsize   0.037757       0.994376   \n",
       "0   multi_input_model_200dim_64batchsize   0.045918       0.994273   \n",
       "0   multi_input_model_200dim_16batchsize   0.051377       0.993622   \n",
       "0    multi_input_model_50dim_32batchsize   0.040737       0.993548   \n",
       "0    multi_input_model_50dim_16batchsize   0.043602       0.991539   \n",
       "0   multi_input_model_300dim_16batchsize   0.058777       0.991418   \n",
       "0   multi_input_model_100dim_16batchsize   0.063827       0.991119   \n",
       "\n",
       "   Hamming Loss  Zero_one Loss  F1_score  ROC_score  \n",
       "0      0.004310          691.0  0.979930   0.988206  \n",
       "0      0.004484          714.0  0.979163   0.988673  \n",
       "0      0.004616          716.0  0.978617   0.989728  \n",
       "0      0.004724          743.0  0.977985   0.986819  \n",
       "0      0.004928          771.0  0.977087   0.987294  \n",
       "0      0.005007          784.0  0.976832   0.989141  \n",
       "0      0.005133          804.0  0.976125   0.986517  \n",
       "0      0.005265          824.0  0.975436   0.984847  \n",
       "0      0.005547          860.0  0.974206   0.985573  \n",
       "0      0.005625          869.0  0.973655   0.982239  \n",
       "0      0.005727          883.0  0.973232   0.982869  \n",
       "0      0.006381          967.0  0.970463   0.985449  \n",
       "0      0.006453          990.0  0.970021   0.983666  \n",
       "0      0.008464         1216.0  0.959941   0.970311  \n",
       "0      0.008584         1237.0  0.959696   0.973460  \n",
       "0      0.008884         1318.0  0.958064   0.970370  "
      ]
     },
     "execution_count": 272,
     "metadata": {},
     "output_type": "execute_result"
    }
   ],
   "source": [
    "result.sort_values(by=['Hamming Loss', 'Zero_one Loss'])"
   ]
  },
  {
   "cell_type": "code",
   "execution_count": 186,
   "metadata": {},
   "outputs": [
    {
     "name": "stdout",
     "output_type": "stream",
     "text": [
      "               Embedding tag  Batch tag  Test Loss  Test Accuracy  \\\n",
      "Embedding tag       1.000000   0.000000   0.390836       0.131006   \n",
      "Batch tag           0.000000   1.000000  -0.568288       0.599367   \n",
      "Test Loss           0.390836  -0.568288   1.000000      -0.782746   \n",
      "Test Accuracy       0.131006   0.599367  -0.782746       1.000000   \n",
      "Hamming Loss       -0.130931  -0.599622   0.782821      -1.000000   \n",
      "Zero_one Loss      -0.152241  -0.595379   0.786742      -0.998241   \n",
      "F1_score            0.135840   0.596771  -0.778140       0.999817   \n",
      "\n",
      "               Hamming Loss  Zero_one Loss  F1_score  \n",
      "Embedding tag     -0.130931      -0.152241  0.135840  \n",
      "Batch tag         -0.599622      -0.595379  0.596771  \n",
      "Test Loss          0.782821       0.786742 -0.778140  \n",
      "Test Accuracy     -1.000000      -0.998241  0.999817  \n",
      "Hamming Loss       1.000000       0.998238 -0.999815  \n",
      "Zero_one Loss      0.998238       1.000000 -0.997813  \n",
      "F1_score          -0.999815      -0.997813  1.000000  \n"
     ]
    }
   ],
   "source": [
    "\"\"\"\n",
    "Create a correlation dataframe\n",
    "\"\"\"\n",
    "correlation_result = result.corr()\n",
    "print(correlation_result)"
   ]
  },
  {
   "cell_type": "markdown",
   "metadata": {},
   "source": [
    "**Comment:** From the correlation dataframe above, we spotted that Hamming Loss and Test Accuracy have a perfect negative correlation.\n",
    "Thus, we can conclude that the model with the lowest Hamming Loss will also be the model with the highest Test Accuracy.\n",
    "To validate this we checked the dataframe with the model results, and indeed model four what the highest accuracy on the test data."
   ]
  },
  {
   "cell_type": "markdown",
   "metadata": {},
   "source": [
    "**Comparison 1: Hamming Loss & Zero-One Loss**"
   ]
  },
  {
   "cell_type": "code",
   "execution_count": 147,
   "metadata": {},
   "outputs": [
    {
     "data": {
      "application/vnd.plotly.v1+json": {
       "config": {
        "plotlyServerURL": "https://plot.ly"
       },
       "data": [
        {
         "marker": {
          "color": [
           "black",
           "black",
           "black",
           "red",
           "black",
           "black",
           "black",
           "black",
           "black",
           "black",
           "black",
           "black",
           "black",
           "black",
           "black",
           "black"
          ]
         },
         "mode": "markers",
         "type": "scatter",
         "x": [
          "model one",
          "model two",
          "model three",
          "model four",
          "model five",
          "model six",
          "model seven",
          "model eight",
          "model nine",
          "model ten",
          "model eleven",
          "model twelve",
          "model thirteen",
          "model fourteen",
          "model fifteen",
          "model sixteen"
         ],
         "y": [
          0.00846425537019968,
          0.006453243549913168,
          0.005264646373689175,
          0.004310165997594595,
          0.008884466253221035,
          0.005624826531857252,
          0.004484253469854593,
          0.00554678775370121,
          0.006381207145750523,
          0.0050065163522958755,
          0.00572687853127718,
          0.004928476642817259,
          0.008584314957261086,
          0.004724374506622553,
          0.004616319667547941,
          0.005132579710334539
         ]
        }
       ],
       "layout": {
        "template": {
         "data": {
          "bar": [
           {
            "error_x": {
             "color": "#2a3f5f"
            },
            "error_y": {
             "color": "#2a3f5f"
            },
            "marker": {
             "line": {
              "color": "#E5ECF6",
              "width": 0.5
             }
            },
            "type": "bar"
           }
          ],
          "barpolar": [
           {
            "marker": {
             "line": {
              "color": "#E5ECF6",
              "width": 0.5
             }
            },
            "type": "barpolar"
           }
          ],
          "carpet": [
           {
            "aaxis": {
             "endlinecolor": "#2a3f5f",
             "gridcolor": "white",
             "linecolor": "white",
             "minorgridcolor": "white",
             "startlinecolor": "#2a3f5f"
            },
            "baxis": {
             "endlinecolor": "#2a3f5f",
             "gridcolor": "white",
             "linecolor": "white",
             "minorgridcolor": "white",
             "startlinecolor": "#2a3f5f"
            },
            "type": "carpet"
           }
          ],
          "choropleth": [
           {
            "colorbar": {
             "outlinewidth": 0,
             "ticks": ""
            },
            "type": "choropleth"
           }
          ],
          "contour": [
           {
            "colorbar": {
             "outlinewidth": 0,
             "ticks": ""
            },
            "colorscale": [
             [
              0,
              "#0d0887"
             ],
             [
              0.1111111111111111,
              "#46039f"
             ],
             [
              0.2222222222222222,
              "#7201a8"
             ],
             [
              0.3333333333333333,
              "#9c179e"
             ],
             [
              0.4444444444444444,
              "#bd3786"
             ],
             [
              0.5555555555555556,
              "#d8576b"
             ],
             [
              0.6666666666666666,
              "#ed7953"
             ],
             [
              0.7777777777777778,
              "#fb9f3a"
             ],
             [
              0.8888888888888888,
              "#fdca26"
             ],
             [
              1,
              "#f0f921"
             ]
            ],
            "type": "contour"
           }
          ],
          "contourcarpet": [
           {
            "colorbar": {
             "outlinewidth": 0,
             "ticks": ""
            },
            "type": "contourcarpet"
           }
          ],
          "heatmap": [
           {
            "colorbar": {
             "outlinewidth": 0,
             "ticks": ""
            },
            "colorscale": [
             [
              0,
              "#0d0887"
             ],
             [
              0.1111111111111111,
              "#46039f"
             ],
             [
              0.2222222222222222,
              "#7201a8"
             ],
             [
              0.3333333333333333,
              "#9c179e"
             ],
             [
              0.4444444444444444,
              "#bd3786"
             ],
             [
              0.5555555555555556,
              "#d8576b"
             ],
             [
              0.6666666666666666,
              "#ed7953"
             ],
             [
              0.7777777777777778,
              "#fb9f3a"
             ],
             [
              0.8888888888888888,
              "#fdca26"
             ],
             [
              1,
              "#f0f921"
             ]
            ],
            "type": "heatmap"
           }
          ],
          "heatmapgl": [
           {
            "colorbar": {
             "outlinewidth": 0,
             "ticks": ""
            },
            "colorscale": [
             [
              0,
              "#0d0887"
             ],
             [
              0.1111111111111111,
              "#46039f"
             ],
             [
              0.2222222222222222,
              "#7201a8"
             ],
             [
              0.3333333333333333,
              "#9c179e"
             ],
             [
              0.4444444444444444,
              "#bd3786"
             ],
             [
              0.5555555555555556,
              "#d8576b"
             ],
             [
              0.6666666666666666,
              "#ed7953"
             ],
             [
              0.7777777777777778,
              "#fb9f3a"
             ],
             [
              0.8888888888888888,
              "#fdca26"
             ],
             [
              1,
              "#f0f921"
             ]
            ],
            "type": "heatmapgl"
           }
          ],
          "histogram": [
           {
            "marker": {
             "colorbar": {
              "outlinewidth": 0,
              "ticks": ""
             }
            },
            "type": "histogram"
           }
          ],
          "histogram2d": [
           {
            "colorbar": {
             "outlinewidth": 0,
             "ticks": ""
            },
            "colorscale": [
             [
              0,
              "#0d0887"
             ],
             [
              0.1111111111111111,
              "#46039f"
             ],
             [
              0.2222222222222222,
              "#7201a8"
             ],
             [
              0.3333333333333333,
              "#9c179e"
             ],
             [
              0.4444444444444444,
              "#bd3786"
             ],
             [
              0.5555555555555556,
              "#d8576b"
             ],
             [
              0.6666666666666666,
              "#ed7953"
             ],
             [
              0.7777777777777778,
              "#fb9f3a"
             ],
             [
              0.8888888888888888,
              "#fdca26"
             ],
             [
              1,
              "#f0f921"
             ]
            ],
            "type": "histogram2d"
           }
          ],
          "histogram2dcontour": [
           {
            "colorbar": {
             "outlinewidth": 0,
             "ticks": ""
            },
            "colorscale": [
             [
              0,
              "#0d0887"
             ],
             [
              0.1111111111111111,
              "#46039f"
             ],
             [
              0.2222222222222222,
              "#7201a8"
             ],
             [
              0.3333333333333333,
              "#9c179e"
             ],
             [
              0.4444444444444444,
              "#bd3786"
             ],
             [
              0.5555555555555556,
              "#d8576b"
             ],
             [
              0.6666666666666666,
              "#ed7953"
             ],
             [
              0.7777777777777778,
              "#fb9f3a"
             ],
             [
              0.8888888888888888,
              "#fdca26"
             ],
             [
              1,
              "#f0f921"
             ]
            ],
            "type": "histogram2dcontour"
           }
          ],
          "mesh3d": [
           {
            "colorbar": {
             "outlinewidth": 0,
             "ticks": ""
            },
            "type": "mesh3d"
           }
          ],
          "parcoords": [
           {
            "line": {
             "colorbar": {
              "outlinewidth": 0,
              "ticks": ""
             }
            },
            "type": "parcoords"
           }
          ],
          "pie": [
           {
            "automargin": true,
            "type": "pie"
           }
          ],
          "scatter": [
           {
            "marker": {
             "colorbar": {
              "outlinewidth": 0,
              "ticks": ""
             }
            },
            "type": "scatter"
           }
          ],
          "scatter3d": [
           {
            "line": {
             "colorbar": {
              "outlinewidth": 0,
              "ticks": ""
             }
            },
            "marker": {
             "colorbar": {
              "outlinewidth": 0,
              "ticks": ""
             }
            },
            "type": "scatter3d"
           }
          ],
          "scattercarpet": [
           {
            "marker": {
             "colorbar": {
              "outlinewidth": 0,
              "ticks": ""
             }
            },
            "type": "scattercarpet"
           }
          ],
          "scattergeo": [
           {
            "marker": {
             "colorbar": {
              "outlinewidth": 0,
              "ticks": ""
             }
            },
            "type": "scattergeo"
           }
          ],
          "scattergl": [
           {
            "marker": {
             "colorbar": {
              "outlinewidth": 0,
              "ticks": ""
             }
            },
            "type": "scattergl"
           }
          ],
          "scattermapbox": [
           {
            "marker": {
             "colorbar": {
              "outlinewidth": 0,
              "ticks": ""
             }
            },
            "type": "scattermapbox"
           }
          ],
          "scatterpolar": [
           {
            "marker": {
             "colorbar": {
              "outlinewidth": 0,
              "ticks": ""
             }
            },
            "type": "scatterpolar"
           }
          ],
          "scatterpolargl": [
           {
            "marker": {
             "colorbar": {
              "outlinewidth": 0,
              "ticks": ""
             }
            },
            "type": "scatterpolargl"
           }
          ],
          "scatterternary": [
           {
            "marker": {
             "colorbar": {
              "outlinewidth": 0,
              "ticks": ""
             }
            },
            "type": "scatterternary"
           }
          ],
          "surface": [
           {
            "colorbar": {
             "outlinewidth": 0,
             "ticks": ""
            },
            "colorscale": [
             [
              0,
              "#0d0887"
             ],
             [
              0.1111111111111111,
              "#46039f"
             ],
             [
              0.2222222222222222,
              "#7201a8"
             ],
             [
              0.3333333333333333,
              "#9c179e"
             ],
             [
              0.4444444444444444,
              "#bd3786"
             ],
             [
              0.5555555555555556,
              "#d8576b"
             ],
             [
              0.6666666666666666,
              "#ed7953"
             ],
             [
              0.7777777777777778,
              "#fb9f3a"
             ],
             [
              0.8888888888888888,
              "#fdca26"
             ],
             [
              1,
              "#f0f921"
             ]
            ],
            "type": "surface"
           }
          ],
          "table": [
           {
            "cells": {
             "fill": {
              "color": "#EBF0F8"
             },
             "line": {
              "color": "white"
             }
            },
            "header": {
             "fill": {
              "color": "#C8D4E3"
             },
             "line": {
              "color": "white"
             }
            },
            "type": "table"
           }
          ]
         },
         "layout": {
          "annotationdefaults": {
           "arrowcolor": "#2a3f5f",
           "arrowhead": 0,
           "arrowwidth": 1
          },
          "coloraxis": {
           "colorbar": {
            "outlinewidth": 0,
            "ticks": ""
           }
          },
          "colorscale": {
           "diverging": [
            [
             0,
             "#8e0152"
            ],
            [
             0.1,
             "#c51b7d"
            ],
            [
             0.2,
             "#de77ae"
            ],
            [
             0.3,
             "#f1b6da"
            ],
            [
             0.4,
             "#fde0ef"
            ],
            [
             0.5,
             "#f7f7f7"
            ],
            [
             0.6,
             "#e6f5d0"
            ],
            [
             0.7,
             "#b8e186"
            ],
            [
             0.8,
             "#7fbc41"
            ],
            [
             0.9,
             "#4d9221"
            ],
            [
             1,
             "#276419"
            ]
           ],
           "sequential": [
            [
             0,
             "#0d0887"
            ],
            [
             0.1111111111111111,
             "#46039f"
            ],
            [
             0.2222222222222222,
             "#7201a8"
            ],
            [
             0.3333333333333333,
             "#9c179e"
            ],
            [
             0.4444444444444444,
             "#bd3786"
            ],
            [
             0.5555555555555556,
             "#d8576b"
            ],
            [
             0.6666666666666666,
             "#ed7953"
            ],
            [
             0.7777777777777778,
             "#fb9f3a"
            ],
            [
             0.8888888888888888,
             "#fdca26"
            ],
            [
             1,
             "#f0f921"
            ]
           ],
           "sequentialminus": [
            [
             0,
             "#0d0887"
            ],
            [
             0.1111111111111111,
             "#46039f"
            ],
            [
             0.2222222222222222,
             "#7201a8"
            ],
            [
             0.3333333333333333,
             "#9c179e"
            ],
            [
             0.4444444444444444,
             "#bd3786"
            ],
            [
             0.5555555555555556,
             "#d8576b"
            ],
            [
             0.6666666666666666,
             "#ed7953"
            ],
            [
             0.7777777777777778,
             "#fb9f3a"
            ],
            [
             0.8888888888888888,
             "#fdca26"
            ],
            [
             1,
             "#f0f921"
            ]
           ]
          },
          "colorway": [
           "#636efa",
           "#EF553B",
           "#00cc96",
           "#ab63fa",
           "#FFA15A",
           "#19d3f3",
           "#FF6692",
           "#B6E880",
           "#FF97FF",
           "#FECB52"
          ],
          "font": {
           "color": "#2a3f5f"
          },
          "geo": {
           "bgcolor": "white",
           "lakecolor": "white",
           "landcolor": "#E5ECF6",
           "showlakes": true,
           "showland": true,
           "subunitcolor": "white"
          },
          "hoverlabel": {
           "align": "left"
          },
          "hovermode": "closest",
          "mapbox": {
           "style": "light"
          },
          "paper_bgcolor": "white",
          "plot_bgcolor": "#E5ECF6",
          "polar": {
           "angularaxis": {
            "gridcolor": "white",
            "linecolor": "white",
            "ticks": ""
           },
           "bgcolor": "#E5ECF6",
           "radialaxis": {
            "gridcolor": "white",
            "linecolor": "white",
            "ticks": ""
           }
          },
          "scene": {
           "xaxis": {
            "backgroundcolor": "#E5ECF6",
            "gridcolor": "white",
            "gridwidth": 2,
            "linecolor": "white",
            "showbackground": true,
            "ticks": "",
            "zerolinecolor": "white"
           },
           "yaxis": {
            "backgroundcolor": "#E5ECF6",
            "gridcolor": "white",
            "gridwidth": 2,
            "linecolor": "white",
            "showbackground": true,
            "ticks": "",
            "zerolinecolor": "white"
           },
           "zaxis": {
            "backgroundcolor": "#E5ECF6",
            "gridcolor": "white",
            "gridwidth": 2,
            "linecolor": "white",
            "showbackground": true,
            "ticks": "",
            "zerolinecolor": "white"
           }
          },
          "shapedefaults": {
           "line": {
            "color": "#2a3f5f"
           }
          },
          "ternary": {
           "aaxis": {
            "gridcolor": "white",
            "linecolor": "white",
            "ticks": ""
           },
           "baxis": {
            "gridcolor": "white",
            "linecolor": "white",
            "ticks": ""
           },
           "bgcolor": "#E5ECF6",
           "caxis": {
            "gridcolor": "white",
            "linecolor": "white",
            "ticks": ""
           }
          },
          "title": {
           "x": 0.05
          },
          "xaxis": {
           "automargin": true,
           "gridcolor": "white",
           "linecolor": "white",
           "ticks": "",
           "title": {
            "standoff": 15
           },
           "zerolinecolor": "white",
           "zerolinewidth": 2
          },
          "yaxis": {
           "automargin": true,
           "gridcolor": "white",
           "linecolor": "white",
           "ticks": "",
           "title": {
            "standoff": 15
           },
           "zerolinecolor": "white",
           "zerolinewidth": 2
          }
         }
        },
        "title": {
         "text": "Hamming loss per model (the less is better)"
        },
        "xaxis": {
         "title": {
          "text": "Model number"
         }
        },
        "yaxis": {
         "title": {
          "text": "Hamming loss value/model"
         }
        }
       }
      },
      "text/html": [
       "<div>\n",
       "        \n",
       "        \n",
       "            <div id=\"f0c4ef42-f851-41a2-b3e3-53ef0b58bde9\" class=\"plotly-graph-div\" style=\"height:525px; width:100%;\"></div>\n",
       "            <script type=\"text/javascript\">\n",
       "                require([\"plotly\"], function(Plotly) {\n",
       "                    window.PLOTLYENV=window.PLOTLYENV || {};\n",
       "                    \n",
       "                if (document.getElementById(\"f0c4ef42-f851-41a2-b3e3-53ef0b58bde9\")) {\n",
       "                    Plotly.newPlot(\n",
       "                        'f0c4ef42-f851-41a2-b3e3-53ef0b58bde9',\n",
       "                        [{\"marker\": {\"color\": [\"black\", \"black\", \"black\", \"red\", \"black\", \"black\", \"black\", \"black\", \"black\", \"black\", \"black\", \"black\", \"black\", \"black\", \"black\", \"black\"]}, \"mode\": \"markers\", \"type\": \"scatter\", \"x\": [\"model one\", \"model two\", \"model three\", \"model four\", \"model five\", \"model six\", \"model seven\", \"model eight\", \"model nine\", \"model ten\", \"model eleven\", \"model twelve\", \"model thirteen\", \"model fourteen\", \"model fifteen\", \"model sixteen\"], \"y\": [0.00846425537019968, 0.006453243549913168, 0.005264646373689175, 0.004310165997594595, 0.008884466253221035, 0.005624826531857252, 0.004484253469854593, 0.00554678775370121, 0.006381207145750523, 0.0050065163522958755, 0.00572687853127718, 0.004928476642817259, 0.008584314957261086, 0.004724374506622553, 0.004616319667547941, 0.005132579710334539]}],\n",
       "                        {\"template\": {\"data\": {\"bar\": [{\"error_x\": {\"color\": \"#2a3f5f\"}, \"error_y\": {\"color\": \"#2a3f5f\"}, \"marker\": {\"line\": {\"color\": \"#E5ECF6\", \"width\": 0.5}}, \"type\": \"bar\"}], \"barpolar\": [{\"marker\": {\"line\": {\"color\": \"#E5ECF6\", \"width\": 0.5}}, \"type\": \"barpolar\"}], \"carpet\": [{\"aaxis\": {\"endlinecolor\": \"#2a3f5f\", \"gridcolor\": \"white\", \"linecolor\": \"white\", \"minorgridcolor\": \"white\", \"startlinecolor\": \"#2a3f5f\"}, \"baxis\": {\"endlinecolor\": \"#2a3f5f\", \"gridcolor\": \"white\", \"linecolor\": \"white\", \"minorgridcolor\": \"white\", \"startlinecolor\": \"#2a3f5f\"}, \"type\": \"carpet\"}], \"choropleth\": [{\"colorbar\": {\"outlinewidth\": 0, \"ticks\": \"\"}, \"type\": \"choropleth\"}], \"contour\": [{\"colorbar\": {\"outlinewidth\": 0, \"ticks\": \"\"}, \"colorscale\": [[0.0, \"#0d0887\"], [0.1111111111111111, \"#46039f\"], [0.2222222222222222, \"#7201a8\"], [0.3333333333333333, \"#9c179e\"], [0.4444444444444444, \"#bd3786\"], [0.5555555555555556, \"#d8576b\"], [0.6666666666666666, \"#ed7953\"], [0.7777777777777778, \"#fb9f3a\"], [0.8888888888888888, \"#fdca26\"], [1.0, \"#f0f921\"]], \"type\": \"contour\"}], \"contourcarpet\": [{\"colorbar\": {\"outlinewidth\": 0, \"ticks\": \"\"}, \"type\": \"contourcarpet\"}], \"heatmap\": [{\"colorbar\": {\"outlinewidth\": 0, \"ticks\": \"\"}, \"colorscale\": [[0.0, \"#0d0887\"], [0.1111111111111111, \"#46039f\"], [0.2222222222222222, \"#7201a8\"], [0.3333333333333333, \"#9c179e\"], [0.4444444444444444, \"#bd3786\"], [0.5555555555555556, \"#d8576b\"], [0.6666666666666666, \"#ed7953\"], [0.7777777777777778, \"#fb9f3a\"], [0.8888888888888888, \"#fdca26\"], [1.0, \"#f0f921\"]], \"type\": \"heatmap\"}], \"heatmapgl\": [{\"colorbar\": {\"outlinewidth\": 0, \"ticks\": \"\"}, \"colorscale\": [[0.0, \"#0d0887\"], [0.1111111111111111, \"#46039f\"], [0.2222222222222222, \"#7201a8\"], [0.3333333333333333, \"#9c179e\"], [0.4444444444444444, \"#bd3786\"], [0.5555555555555556, \"#d8576b\"], [0.6666666666666666, \"#ed7953\"], [0.7777777777777778, \"#fb9f3a\"], [0.8888888888888888, \"#fdca26\"], [1.0, \"#f0f921\"]], \"type\": \"heatmapgl\"}], \"histogram\": [{\"marker\": {\"colorbar\": {\"outlinewidth\": 0, \"ticks\": \"\"}}, \"type\": \"histogram\"}], \"histogram2d\": [{\"colorbar\": {\"outlinewidth\": 0, \"ticks\": \"\"}, \"colorscale\": [[0.0, \"#0d0887\"], [0.1111111111111111, \"#46039f\"], [0.2222222222222222, \"#7201a8\"], [0.3333333333333333, \"#9c179e\"], [0.4444444444444444, \"#bd3786\"], [0.5555555555555556, \"#d8576b\"], [0.6666666666666666, \"#ed7953\"], [0.7777777777777778, \"#fb9f3a\"], [0.8888888888888888, \"#fdca26\"], [1.0, \"#f0f921\"]], \"type\": \"histogram2d\"}], \"histogram2dcontour\": [{\"colorbar\": {\"outlinewidth\": 0, \"ticks\": \"\"}, \"colorscale\": [[0.0, \"#0d0887\"], [0.1111111111111111, \"#46039f\"], [0.2222222222222222, \"#7201a8\"], [0.3333333333333333, \"#9c179e\"], [0.4444444444444444, \"#bd3786\"], [0.5555555555555556, \"#d8576b\"], [0.6666666666666666, \"#ed7953\"], [0.7777777777777778, \"#fb9f3a\"], [0.8888888888888888, \"#fdca26\"], [1.0, \"#f0f921\"]], \"type\": \"histogram2dcontour\"}], \"mesh3d\": [{\"colorbar\": {\"outlinewidth\": 0, \"ticks\": \"\"}, \"type\": \"mesh3d\"}], \"parcoords\": [{\"line\": {\"colorbar\": {\"outlinewidth\": 0, \"ticks\": \"\"}}, \"type\": \"parcoords\"}], \"pie\": [{\"automargin\": true, \"type\": \"pie\"}], \"scatter\": [{\"marker\": {\"colorbar\": {\"outlinewidth\": 0, \"ticks\": \"\"}}, \"type\": \"scatter\"}], \"scatter3d\": [{\"line\": {\"colorbar\": {\"outlinewidth\": 0, \"ticks\": \"\"}}, \"marker\": {\"colorbar\": {\"outlinewidth\": 0, \"ticks\": \"\"}}, \"type\": \"scatter3d\"}], \"scattercarpet\": [{\"marker\": {\"colorbar\": {\"outlinewidth\": 0, \"ticks\": \"\"}}, \"type\": \"scattercarpet\"}], \"scattergeo\": [{\"marker\": {\"colorbar\": {\"outlinewidth\": 0, \"ticks\": \"\"}}, \"type\": \"scattergeo\"}], \"scattergl\": [{\"marker\": {\"colorbar\": {\"outlinewidth\": 0, \"ticks\": \"\"}}, \"type\": \"scattergl\"}], \"scattermapbox\": [{\"marker\": {\"colorbar\": {\"outlinewidth\": 0, \"ticks\": \"\"}}, \"type\": \"scattermapbox\"}], \"scatterpolar\": [{\"marker\": {\"colorbar\": {\"outlinewidth\": 0, \"ticks\": \"\"}}, \"type\": \"scatterpolar\"}], \"scatterpolargl\": [{\"marker\": {\"colorbar\": {\"outlinewidth\": 0, \"ticks\": \"\"}}, \"type\": \"scatterpolargl\"}], \"scatterternary\": [{\"marker\": {\"colorbar\": {\"outlinewidth\": 0, \"ticks\": \"\"}}, \"type\": \"scatterternary\"}], \"surface\": [{\"colorbar\": {\"outlinewidth\": 0, \"ticks\": \"\"}, \"colorscale\": [[0.0, \"#0d0887\"], [0.1111111111111111, \"#46039f\"], [0.2222222222222222, \"#7201a8\"], [0.3333333333333333, \"#9c179e\"], [0.4444444444444444, \"#bd3786\"], [0.5555555555555556, \"#d8576b\"], [0.6666666666666666, \"#ed7953\"], [0.7777777777777778, \"#fb9f3a\"], [0.8888888888888888, \"#fdca26\"], [1.0, \"#f0f921\"]], \"type\": \"surface\"}], \"table\": [{\"cells\": {\"fill\": {\"color\": \"#EBF0F8\"}, \"line\": {\"color\": \"white\"}}, \"header\": {\"fill\": {\"color\": \"#C8D4E3\"}, \"line\": {\"color\": \"white\"}}, \"type\": \"table\"}]}, \"layout\": {\"annotationdefaults\": {\"arrowcolor\": \"#2a3f5f\", \"arrowhead\": 0, \"arrowwidth\": 1}, \"coloraxis\": {\"colorbar\": {\"outlinewidth\": 0, \"ticks\": \"\"}}, \"colorscale\": {\"diverging\": [[0, \"#8e0152\"], [0.1, \"#c51b7d\"], [0.2, \"#de77ae\"], [0.3, \"#f1b6da\"], [0.4, \"#fde0ef\"], [0.5, \"#f7f7f7\"], [0.6, \"#e6f5d0\"], [0.7, \"#b8e186\"], [0.8, \"#7fbc41\"], [0.9, \"#4d9221\"], [1, \"#276419\"]], \"sequential\": [[0.0, \"#0d0887\"], [0.1111111111111111, \"#46039f\"], [0.2222222222222222, \"#7201a8\"], [0.3333333333333333, \"#9c179e\"], [0.4444444444444444, \"#bd3786\"], [0.5555555555555556, \"#d8576b\"], [0.6666666666666666, \"#ed7953\"], [0.7777777777777778, \"#fb9f3a\"], [0.8888888888888888, \"#fdca26\"], [1.0, \"#f0f921\"]], \"sequentialminus\": [[0.0, \"#0d0887\"], [0.1111111111111111, \"#46039f\"], [0.2222222222222222, \"#7201a8\"], [0.3333333333333333, \"#9c179e\"], [0.4444444444444444, \"#bd3786\"], [0.5555555555555556, \"#d8576b\"], [0.6666666666666666, \"#ed7953\"], [0.7777777777777778, \"#fb9f3a\"], [0.8888888888888888, \"#fdca26\"], [1.0, \"#f0f921\"]]}, \"colorway\": [\"#636efa\", \"#EF553B\", \"#00cc96\", \"#ab63fa\", \"#FFA15A\", \"#19d3f3\", \"#FF6692\", \"#B6E880\", \"#FF97FF\", \"#FECB52\"], \"font\": {\"color\": \"#2a3f5f\"}, \"geo\": {\"bgcolor\": \"white\", \"lakecolor\": \"white\", \"landcolor\": \"#E5ECF6\", \"showlakes\": true, \"showland\": true, \"subunitcolor\": \"white\"}, \"hoverlabel\": {\"align\": \"left\"}, \"hovermode\": \"closest\", \"mapbox\": {\"style\": \"light\"}, \"paper_bgcolor\": \"white\", \"plot_bgcolor\": \"#E5ECF6\", \"polar\": {\"angularaxis\": {\"gridcolor\": \"white\", \"linecolor\": \"white\", \"ticks\": \"\"}, \"bgcolor\": \"#E5ECF6\", \"radialaxis\": {\"gridcolor\": \"white\", \"linecolor\": \"white\", \"ticks\": \"\"}}, \"scene\": {\"xaxis\": {\"backgroundcolor\": \"#E5ECF6\", \"gridcolor\": \"white\", \"gridwidth\": 2, \"linecolor\": \"white\", \"showbackground\": true, \"ticks\": \"\", \"zerolinecolor\": \"white\"}, \"yaxis\": {\"backgroundcolor\": \"#E5ECF6\", \"gridcolor\": \"white\", \"gridwidth\": 2, \"linecolor\": \"white\", \"showbackground\": true, \"ticks\": \"\", \"zerolinecolor\": \"white\"}, \"zaxis\": {\"backgroundcolor\": \"#E5ECF6\", \"gridcolor\": \"white\", \"gridwidth\": 2, \"linecolor\": \"white\", \"showbackground\": true, \"ticks\": \"\", \"zerolinecolor\": \"white\"}}, \"shapedefaults\": {\"line\": {\"color\": \"#2a3f5f\"}}, \"ternary\": {\"aaxis\": {\"gridcolor\": \"white\", \"linecolor\": \"white\", \"ticks\": \"\"}, \"baxis\": {\"gridcolor\": \"white\", \"linecolor\": \"white\", \"ticks\": \"\"}, \"bgcolor\": \"#E5ECF6\", \"caxis\": {\"gridcolor\": \"white\", \"linecolor\": \"white\", \"ticks\": \"\"}}, \"title\": {\"x\": 0.05}, \"xaxis\": {\"automargin\": true, \"gridcolor\": \"white\", \"linecolor\": \"white\", \"ticks\": \"\", \"title\": {\"standoff\": 15}, \"zerolinecolor\": \"white\", \"zerolinewidth\": 2}, \"yaxis\": {\"automargin\": true, \"gridcolor\": \"white\", \"linecolor\": \"white\", \"ticks\": \"\", \"title\": {\"standoff\": 15}, \"zerolinecolor\": \"white\", \"zerolinewidth\": 2}}}, \"title\": {\"text\": \"Hamming loss per model (the less is better)\"}, \"xaxis\": {\"title\": {\"text\": \"Model number\"}}, \"yaxis\": {\"title\": {\"text\": \"Hamming loss value/model\"}}},\n",
       "                        {\"responsive\": true}\n",
       "                    ).then(function(){\n",
       "                            \n",
       "var gd = document.getElementById('f0c4ef42-f851-41a2-b3e3-53ef0b58bde9');\n",
       "var x = new MutationObserver(function (mutations, observer) {{\n",
       "        var display = window.getComputedStyle(gd).display;\n",
       "        if (!display || display === 'none') {{\n",
       "            console.log([gd, 'removed!']);\n",
       "            Plotly.purge(gd);\n",
       "            observer.disconnect();\n",
       "        }}\n",
       "}});\n",
       "\n",
       "// Listen for the removal of the full notebook cells\n",
       "var notebookContainer = gd.closest('#notebook-container');\n",
       "if (notebookContainer) {{\n",
       "    x.observe(notebookContainer, {childList: true});\n",
       "}}\n",
       "\n",
       "// Listen for the clearing of the current output cell\n",
       "var outputEl = gd.closest('.output');\n",
       "if (outputEl) {{\n",
       "    x.observe(outputEl, {childList: true});\n",
       "}}\n",
       "\n",
       "                        })\n",
       "                };\n",
       "                });\n",
       "            </script>\n",
       "        </div>"
      ]
     },
     "metadata": {},
     "output_type": "display_data"
    },
    {
     "data": {
      "application/vnd.plotly.v1+json": {
       "config": {
        "plotlyServerURL": "https://plot.ly"
       },
       "data": [
        {
         "marker": {
          "color": [
           "black",
           "black",
           "black",
           "red",
           "black",
           "black",
           "black",
           "black",
           "black",
           "black",
           "black",
           "black",
           "black",
           "black",
           "black",
           "black"
          ]
         },
         "mode": "markers",
         "type": "scatter",
         "x": [
          "model one",
          "model two",
          "model three",
          "model four",
          "model five",
          "model six",
          "model seven",
          "model eight",
          "model nine",
          "model ten",
          "model eleven",
          "model twelve",
          "model thirteen",
          "model fourteen",
          "model fifteen",
          "model sixteen"
         ],
         "y": [
          1216,
          990,
          824,
          691,
          1318,
          869,
          714,
          860,
          967,
          784,
          883,
          771,
          1237,
          743,
          716,
          804
         ]
        }
       ],
       "layout": {
        "template": {
         "data": {
          "bar": [
           {
            "error_x": {
             "color": "#2a3f5f"
            },
            "error_y": {
             "color": "#2a3f5f"
            },
            "marker": {
             "line": {
              "color": "#E5ECF6",
              "width": 0.5
             }
            },
            "type": "bar"
           }
          ],
          "barpolar": [
           {
            "marker": {
             "line": {
              "color": "#E5ECF6",
              "width": 0.5
             }
            },
            "type": "barpolar"
           }
          ],
          "carpet": [
           {
            "aaxis": {
             "endlinecolor": "#2a3f5f",
             "gridcolor": "white",
             "linecolor": "white",
             "minorgridcolor": "white",
             "startlinecolor": "#2a3f5f"
            },
            "baxis": {
             "endlinecolor": "#2a3f5f",
             "gridcolor": "white",
             "linecolor": "white",
             "minorgridcolor": "white",
             "startlinecolor": "#2a3f5f"
            },
            "type": "carpet"
           }
          ],
          "choropleth": [
           {
            "colorbar": {
             "outlinewidth": 0,
             "ticks": ""
            },
            "type": "choropleth"
           }
          ],
          "contour": [
           {
            "colorbar": {
             "outlinewidth": 0,
             "ticks": ""
            },
            "colorscale": [
             [
              0,
              "#0d0887"
             ],
             [
              0.1111111111111111,
              "#46039f"
             ],
             [
              0.2222222222222222,
              "#7201a8"
             ],
             [
              0.3333333333333333,
              "#9c179e"
             ],
             [
              0.4444444444444444,
              "#bd3786"
             ],
             [
              0.5555555555555556,
              "#d8576b"
             ],
             [
              0.6666666666666666,
              "#ed7953"
             ],
             [
              0.7777777777777778,
              "#fb9f3a"
             ],
             [
              0.8888888888888888,
              "#fdca26"
             ],
             [
              1,
              "#f0f921"
             ]
            ],
            "type": "contour"
           }
          ],
          "contourcarpet": [
           {
            "colorbar": {
             "outlinewidth": 0,
             "ticks": ""
            },
            "type": "contourcarpet"
           }
          ],
          "heatmap": [
           {
            "colorbar": {
             "outlinewidth": 0,
             "ticks": ""
            },
            "colorscale": [
             [
              0,
              "#0d0887"
             ],
             [
              0.1111111111111111,
              "#46039f"
             ],
             [
              0.2222222222222222,
              "#7201a8"
             ],
             [
              0.3333333333333333,
              "#9c179e"
             ],
             [
              0.4444444444444444,
              "#bd3786"
             ],
             [
              0.5555555555555556,
              "#d8576b"
             ],
             [
              0.6666666666666666,
              "#ed7953"
             ],
             [
              0.7777777777777778,
              "#fb9f3a"
             ],
             [
              0.8888888888888888,
              "#fdca26"
             ],
             [
              1,
              "#f0f921"
             ]
            ],
            "type": "heatmap"
           }
          ],
          "heatmapgl": [
           {
            "colorbar": {
             "outlinewidth": 0,
             "ticks": ""
            },
            "colorscale": [
             [
              0,
              "#0d0887"
             ],
             [
              0.1111111111111111,
              "#46039f"
             ],
             [
              0.2222222222222222,
              "#7201a8"
             ],
             [
              0.3333333333333333,
              "#9c179e"
             ],
             [
              0.4444444444444444,
              "#bd3786"
             ],
             [
              0.5555555555555556,
              "#d8576b"
             ],
             [
              0.6666666666666666,
              "#ed7953"
             ],
             [
              0.7777777777777778,
              "#fb9f3a"
             ],
             [
              0.8888888888888888,
              "#fdca26"
             ],
             [
              1,
              "#f0f921"
             ]
            ],
            "type": "heatmapgl"
           }
          ],
          "histogram": [
           {
            "marker": {
             "colorbar": {
              "outlinewidth": 0,
              "ticks": ""
             }
            },
            "type": "histogram"
           }
          ],
          "histogram2d": [
           {
            "colorbar": {
             "outlinewidth": 0,
             "ticks": ""
            },
            "colorscale": [
             [
              0,
              "#0d0887"
             ],
             [
              0.1111111111111111,
              "#46039f"
             ],
             [
              0.2222222222222222,
              "#7201a8"
             ],
             [
              0.3333333333333333,
              "#9c179e"
             ],
             [
              0.4444444444444444,
              "#bd3786"
             ],
             [
              0.5555555555555556,
              "#d8576b"
             ],
             [
              0.6666666666666666,
              "#ed7953"
             ],
             [
              0.7777777777777778,
              "#fb9f3a"
             ],
             [
              0.8888888888888888,
              "#fdca26"
             ],
             [
              1,
              "#f0f921"
             ]
            ],
            "type": "histogram2d"
           }
          ],
          "histogram2dcontour": [
           {
            "colorbar": {
             "outlinewidth": 0,
             "ticks": ""
            },
            "colorscale": [
             [
              0,
              "#0d0887"
             ],
             [
              0.1111111111111111,
              "#46039f"
             ],
             [
              0.2222222222222222,
              "#7201a8"
             ],
             [
              0.3333333333333333,
              "#9c179e"
             ],
             [
              0.4444444444444444,
              "#bd3786"
             ],
             [
              0.5555555555555556,
              "#d8576b"
             ],
             [
              0.6666666666666666,
              "#ed7953"
             ],
             [
              0.7777777777777778,
              "#fb9f3a"
             ],
             [
              0.8888888888888888,
              "#fdca26"
             ],
             [
              1,
              "#f0f921"
             ]
            ],
            "type": "histogram2dcontour"
           }
          ],
          "mesh3d": [
           {
            "colorbar": {
             "outlinewidth": 0,
             "ticks": ""
            },
            "type": "mesh3d"
           }
          ],
          "parcoords": [
           {
            "line": {
             "colorbar": {
              "outlinewidth": 0,
              "ticks": ""
             }
            },
            "type": "parcoords"
           }
          ],
          "pie": [
           {
            "automargin": true,
            "type": "pie"
           }
          ],
          "scatter": [
           {
            "marker": {
             "colorbar": {
              "outlinewidth": 0,
              "ticks": ""
             }
            },
            "type": "scatter"
           }
          ],
          "scatter3d": [
           {
            "line": {
             "colorbar": {
              "outlinewidth": 0,
              "ticks": ""
             }
            },
            "marker": {
             "colorbar": {
              "outlinewidth": 0,
              "ticks": ""
             }
            },
            "type": "scatter3d"
           }
          ],
          "scattercarpet": [
           {
            "marker": {
             "colorbar": {
              "outlinewidth": 0,
              "ticks": ""
             }
            },
            "type": "scattercarpet"
           }
          ],
          "scattergeo": [
           {
            "marker": {
             "colorbar": {
              "outlinewidth": 0,
              "ticks": ""
             }
            },
            "type": "scattergeo"
           }
          ],
          "scattergl": [
           {
            "marker": {
             "colorbar": {
              "outlinewidth": 0,
              "ticks": ""
             }
            },
            "type": "scattergl"
           }
          ],
          "scattermapbox": [
           {
            "marker": {
             "colorbar": {
              "outlinewidth": 0,
              "ticks": ""
             }
            },
            "type": "scattermapbox"
           }
          ],
          "scatterpolar": [
           {
            "marker": {
             "colorbar": {
              "outlinewidth": 0,
              "ticks": ""
             }
            },
            "type": "scatterpolar"
           }
          ],
          "scatterpolargl": [
           {
            "marker": {
             "colorbar": {
              "outlinewidth": 0,
              "ticks": ""
             }
            },
            "type": "scatterpolargl"
           }
          ],
          "scatterternary": [
           {
            "marker": {
             "colorbar": {
              "outlinewidth": 0,
              "ticks": ""
             }
            },
            "type": "scatterternary"
           }
          ],
          "surface": [
           {
            "colorbar": {
             "outlinewidth": 0,
             "ticks": ""
            },
            "colorscale": [
             [
              0,
              "#0d0887"
             ],
             [
              0.1111111111111111,
              "#46039f"
             ],
             [
              0.2222222222222222,
              "#7201a8"
             ],
             [
              0.3333333333333333,
              "#9c179e"
             ],
             [
              0.4444444444444444,
              "#bd3786"
             ],
             [
              0.5555555555555556,
              "#d8576b"
             ],
             [
              0.6666666666666666,
              "#ed7953"
             ],
             [
              0.7777777777777778,
              "#fb9f3a"
             ],
             [
              0.8888888888888888,
              "#fdca26"
             ],
             [
              1,
              "#f0f921"
             ]
            ],
            "type": "surface"
           }
          ],
          "table": [
           {
            "cells": {
             "fill": {
              "color": "#EBF0F8"
             },
             "line": {
              "color": "white"
             }
            },
            "header": {
             "fill": {
              "color": "#C8D4E3"
             },
             "line": {
              "color": "white"
             }
            },
            "type": "table"
           }
          ]
         },
         "layout": {
          "annotationdefaults": {
           "arrowcolor": "#2a3f5f",
           "arrowhead": 0,
           "arrowwidth": 1
          },
          "coloraxis": {
           "colorbar": {
            "outlinewidth": 0,
            "ticks": ""
           }
          },
          "colorscale": {
           "diverging": [
            [
             0,
             "#8e0152"
            ],
            [
             0.1,
             "#c51b7d"
            ],
            [
             0.2,
             "#de77ae"
            ],
            [
             0.3,
             "#f1b6da"
            ],
            [
             0.4,
             "#fde0ef"
            ],
            [
             0.5,
             "#f7f7f7"
            ],
            [
             0.6,
             "#e6f5d0"
            ],
            [
             0.7,
             "#b8e186"
            ],
            [
             0.8,
             "#7fbc41"
            ],
            [
             0.9,
             "#4d9221"
            ],
            [
             1,
             "#276419"
            ]
           ],
           "sequential": [
            [
             0,
             "#0d0887"
            ],
            [
             0.1111111111111111,
             "#46039f"
            ],
            [
             0.2222222222222222,
             "#7201a8"
            ],
            [
             0.3333333333333333,
             "#9c179e"
            ],
            [
             0.4444444444444444,
             "#bd3786"
            ],
            [
             0.5555555555555556,
             "#d8576b"
            ],
            [
             0.6666666666666666,
             "#ed7953"
            ],
            [
             0.7777777777777778,
             "#fb9f3a"
            ],
            [
             0.8888888888888888,
             "#fdca26"
            ],
            [
             1,
             "#f0f921"
            ]
           ],
           "sequentialminus": [
            [
             0,
             "#0d0887"
            ],
            [
             0.1111111111111111,
             "#46039f"
            ],
            [
             0.2222222222222222,
             "#7201a8"
            ],
            [
             0.3333333333333333,
             "#9c179e"
            ],
            [
             0.4444444444444444,
             "#bd3786"
            ],
            [
             0.5555555555555556,
             "#d8576b"
            ],
            [
             0.6666666666666666,
             "#ed7953"
            ],
            [
             0.7777777777777778,
             "#fb9f3a"
            ],
            [
             0.8888888888888888,
             "#fdca26"
            ],
            [
             1,
             "#f0f921"
            ]
           ]
          },
          "colorway": [
           "#636efa",
           "#EF553B",
           "#00cc96",
           "#ab63fa",
           "#FFA15A",
           "#19d3f3",
           "#FF6692",
           "#B6E880",
           "#FF97FF",
           "#FECB52"
          ],
          "font": {
           "color": "#2a3f5f"
          },
          "geo": {
           "bgcolor": "white",
           "lakecolor": "white",
           "landcolor": "#E5ECF6",
           "showlakes": true,
           "showland": true,
           "subunitcolor": "white"
          },
          "hoverlabel": {
           "align": "left"
          },
          "hovermode": "closest",
          "mapbox": {
           "style": "light"
          },
          "paper_bgcolor": "white",
          "plot_bgcolor": "#E5ECF6",
          "polar": {
           "angularaxis": {
            "gridcolor": "white",
            "linecolor": "white",
            "ticks": ""
           },
           "bgcolor": "#E5ECF6",
           "radialaxis": {
            "gridcolor": "white",
            "linecolor": "white",
            "ticks": ""
           }
          },
          "scene": {
           "xaxis": {
            "backgroundcolor": "#E5ECF6",
            "gridcolor": "white",
            "gridwidth": 2,
            "linecolor": "white",
            "showbackground": true,
            "ticks": "",
            "zerolinecolor": "white"
           },
           "yaxis": {
            "backgroundcolor": "#E5ECF6",
            "gridcolor": "white",
            "gridwidth": 2,
            "linecolor": "white",
            "showbackground": true,
            "ticks": "",
            "zerolinecolor": "white"
           },
           "zaxis": {
            "backgroundcolor": "#E5ECF6",
            "gridcolor": "white",
            "gridwidth": 2,
            "linecolor": "white",
            "showbackground": true,
            "ticks": "",
            "zerolinecolor": "white"
           }
          },
          "shapedefaults": {
           "line": {
            "color": "#2a3f5f"
           }
          },
          "ternary": {
           "aaxis": {
            "gridcolor": "white",
            "linecolor": "white",
            "ticks": ""
           },
           "baxis": {
            "gridcolor": "white",
            "linecolor": "white",
            "ticks": ""
           },
           "bgcolor": "#E5ECF6",
           "caxis": {
            "gridcolor": "white",
            "linecolor": "white",
            "ticks": ""
           }
          },
          "title": {
           "x": 0.05
          },
          "xaxis": {
           "automargin": true,
           "gridcolor": "white",
           "linecolor": "white",
           "ticks": "",
           "title": {
            "standoff": 15
           },
           "zerolinecolor": "white",
           "zerolinewidth": 2
          },
          "yaxis": {
           "automargin": true,
           "gridcolor": "white",
           "linecolor": "white",
           "ticks": "",
           "title": {
            "standoff": 15
           },
           "zerolinecolor": "white",
           "zerolinewidth": 2
          }
         }
        },
        "title": {
         "text": "Zero-one loss per model (the less is better)"
        },
        "xaxis": {
         "title": {
          "text": "Model number"
         }
        },
        "yaxis": {
         "title": {
          "text": "Zero-one loss value/model"
         }
        }
       }
      },
      "text/html": [
       "<div>\n",
       "        \n",
       "        \n",
       "            <div id=\"0fcc3cc2-e52d-427e-929b-1a870a133605\" class=\"plotly-graph-div\" style=\"height:525px; width:100%;\"></div>\n",
       "            <script type=\"text/javascript\">\n",
       "                require([\"plotly\"], function(Plotly) {\n",
       "                    window.PLOTLYENV=window.PLOTLYENV || {};\n",
       "                    \n",
       "                if (document.getElementById(\"0fcc3cc2-e52d-427e-929b-1a870a133605\")) {\n",
       "                    Plotly.newPlot(\n",
       "                        '0fcc3cc2-e52d-427e-929b-1a870a133605',\n",
       "                        [{\"marker\": {\"color\": [\"black\", \"black\", \"black\", \"red\", \"black\", \"black\", \"black\", \"black\", \"black\", \"black\", \"black\", \"black\", \"black\", \"black\", \"black\", \"black\"]}, \"mode\": \"markers\", \"type\": \"scatter\", \"x\": [\"model one\", \"model two\", \"model three\", \"model four\", \"model five\", \"model six\", \"model seven\", \"model eight\", \"model nine\", \"model ten\", \"model eleven\", \"model twelve\", \"model thirteen\", \"model fourteen\", \"model fifteen\", \"model sixteen\"], \"y\": [1216.0, 990.0, 824.0, 691.0, 1318.0, 869.0, 714.0, 860.0, 967.0, 784.0, 883.0, 771.0, 1237.0, 743.0, 716.0, 804.0]}],\n",
       "                        {\"template\": {\"data\": {\"bar\": [{\"error_x\": {\"color\": \"#2a3f5f\"}, \"error_y\": {\"color\": \"#2a3f5f\"}, \"marker\": {\"line\": {\"color\": \"#E5ECF6\", \"width\": 0.5}}, \"type\": \"bar\"}], \"barpolar\": [{\"marker\": {\"line\": {\"color\": \"#E5ECF6\", \"width\": 0.5}}, \"type\": \"barpolar\"}], \"carpet\": [{\"aaxis\": {\"endlinecolor\": \"#2a3f5f\", \"gridcolor\": \"white\", \"linecolor\": \"white\", \"minorgridcolor\": \"white\", \"startlinecolor\": \"#2a3f5f\"}, \"baxis\": {\"endlinecolor\": \"#2a3f5f\", \"gridcolor\": \"white\", \"linecolor\": \"white\", \"minorgridcolor\": \"white\", \"startlinecolor\": \"#2a3f5f\"}, \"type\": \"carpet\"}], \"choropleth\": [{\"colorbar\": {\"outlinewidth\": 0, \"ticks\": \"\"}, \"type\": \"choropleth\"}], \"contour\": [{\"colorbar\": {\"outlinewidth\": 0, \"ticks\": \"\"}, \"colorscale\": [[0.0, \"#0d0887\"], [0.1111111111111111, \"#46039f\"], [0.2222222222222222, \"#7201a8\"], [0.3333333333333333, \"#9c179e\"], [0.4444444444444444, \"#bd3786\"], [0.5555555555555556, \"#d8576b\"], [0.6666666666666666, \"#ed7953\"], [0.7777777777777778, \"#fb9f3a\"], [0.8888888888888888, \"#fdca26\"], [1.0, \"#f0f921\"]], \"type\": \"contour\"}], \"contourcarpet\": [{\"colorbar\": {\"outlinewidth\": 0, \"ticks\": \"\"}, \"type\": \"contourcarpet\"}], \"heatmap\": [{\"colorbar\": {\"outlinewidth\": 0, \"ticks\": \"\"}, \"colorscale\": [[0.0, \"#0d0887\"], [0.1111111111111111, \"#46039f\"], [0.2222222222222222, \"#7201a8\"], [0.3333333333333333, \"#9c179e\"], [0.4444444444444444, \"#bd3786\"], [0.5555555555555556, \"#d8576b\"], [0.6666666666666666, \"#ed7953\"], [0.7777777777777778, \"#fb9f3a\"], [0.8888888888888888, \"#fdca26\"], [1.0, \"#f0f921\"]], \"type\": \"heatmap\"}], \"heatmapgl\": [{\"colorbar\": {\"outlinewidth\": 0, \"ticks\": \"\"}, \"colorscale\": [[0.0, \"#0d0887\"], [0.1111111111111111, \"#46039f\"], [0.2222222222222222, \"#7201a8\"], [0.3333333333333333, \"#9c179e\"], [0.4444444444444444, \"#bd3786\"], [0.5555555555555556, \"#d8576b\"], [0.6666666666666666, \"#ed7953\"], [0.7777777777777778, \"#fb9f3a\"], [0.8888888888888888, \"#fdca26\"], [1.0, \"#f0f921\"]], \"type\": \"heatmapgl\"}], \"histogram\": [{\"marker\": {\"colorbar\": {\"outlinewidth\": 0, \"ticks\": \"\"}}, \"type\": \"histogram\"}], \"histogram2d\": [{\"colorbar\": {\"outlinewidth\": 0, \"ticks\": \"\"}, \"colorscale\": [[0.0, \"#0d0887\"], [0.1111111111111111, \"#46039f\"], [0.2222222222222222, \"#7201a8\"], [0.3333333333333333, \"#9c179e\"], [0.4444444444444444, \"#bd3786\"], [0.5555555555555556, \"#d8576b\"], [0.6666666666666666, \"#ed7953\"], [0.7777777777777778, \"#fb9f3a\"], [0.8888888888888888, \"#fdca26\"], [1.0, \"#f0f921\"]], \"type\": \"histogram2d\"}], \"histogram2dcontour\": [{\"colorbar\": {\"outlinewidth\": 0, \"ticks\": \"\"}, \"colorscale\": [[0.0, \"#0d0887\"], [0.1111111111111111, \"#46039f\"], [0.2222222222222222, \"#7201a8\"], [0.3333333333333333, \"#9c179e\"], [0.4444444444444444, \"#bd3786\"], [0.5555555555555556, \"#d8576b\"], [0.6666666666666666, \"#ed7953\"], [0.7777777777777778, \"#fb9f3a\"], [0.8888888888888888, \"#fdca26\"], [1.0, \"#f0f921\"]], \"type\": \"histogram2dcontour\"}], \"mesh3d\": [{\"colorbar\": {\"outlinewidth\": 0, \"ticks\": \"\"}, \"type\": \"mesh3d\"}], \"parcoords\": [{\"line\": {\"colorbar\": {\"outlinewidth\": 0, \"ticks\": \"\"}}, \"type\": \"parcoords\"}], \"pie\": [{\"automargin\": true, \"type\": \"pie\"}], \"scatter\": [{\"marker\": {\"colorbar\": {\"outlinewidth\": 0, \"ticks\": \"\"}}, \"type\": \"scatter\"}], \"scatter3d\": [{\"line\": {\"colorbar\": {\"outlinewidth\": 0, \"ticks\": \"\"}}, \"marker\": {\"colorbar\": {\"outlinewidth\": 0, \"ticks\": \"\"}}, \"type\": \"scatter3d\"}], \"scattercarpet\": [{\"marker\": {\"colorbar\": {\"outlinewidth\": 0, \"ticks\": \"\"}}, \"type\": \"scattercarpet\"}], \"scattergeo\": [{\"marker\": {\"colorbar\": {\"outlinewidth\": 0, \"ticks\": \"\"}}, \"type\": \"scattergeo\"}], \"scattergl\": [{\"marker\": {\"colorbar\": {\"outlinewidth\": 0, \"ticks\": \"\"}}, \"type\": \"scattergl\"}], \"scattermapbox\": [{\"marker\": {\"colorbar\": {\"outlinewidth\": 0, \"ticks\": \"\"}}, \"type\": \"scattermapbox\"}], \"scatterpolar\": [{\"marker\": {\"colorbar\": {\"outlinewidth\": 0, \"ticks\": \"\"}}, \"type\": \"scatterpolar\"}], \"scatterpolargl\": [{\"marker\": {\"colorbar\": {\"outlinewidth\": 0, \"ticks\": \"\"}}, \"type\": \"scatterpolargl\"}], \"scatterternary\": [{\"marker\": {\"colorbar\": {\"outlinewidth\": 0, \"ticks\": \"\"}}, \"type\": \"scatterternary\"}], \"surface\": [{\"colorbar\": {\"outlinewidth\": 0, \"ticks\": \"\"}, \"colorscale\": [[0.0, \"#0d0887\"], [0.1111111111111111, \"#46039f\"], [0.2222222222222222, \"#7201a8\"], [0.3333333333333333, \"#9c179e\"], [0.4444444444444444, \"#bd3786\"], [0.5555555555555556, \"#d8576b\"], [0.6666666666666666, \"#ed7953\"], [0.7777777777777778, \"#fb9f3a\"], [0.8888888888888888, \"#fdca26\"], [1.0, \"#f0f921\"]], \"type\": \"surface\"}], \"table\": [{\"cells\": {\"fill\": {\"color\": \"#EBF0F8\"}, \"line\": {\"color\": \"white\"}}, \"header\": {\"fill\": {\"color\": \"#C8D4E3\"}, \"line\": {\"color\": \"white\"}}, \"type\": \"table\"}]}, \"layout\": {\"annotationdefaults\": {\"arrowcolor\": \"#2a3f5f\", \"arrowhead\": 0, \"arrowwidth\": 1}, \"coloraxis\": {\"colorbar\": {\"outlinewidth\": 0, \"ticks\": \"\"}}, \"colorscale\": {\"diverging\": [[0, \"#8e0152\"], [0.1, \"#c51b7d\"], [0.2, \"#de77ae\"], [0.3, \"#f1b6da\"], [0.4, \"#fde0ef\"], [0.5, \"#f7f7f7\"], [0.6, \"#e6f5d0\"], [0.7, \"#b8e186\"], [0.8, \"#7fbc41\"], [0.9, \"#4d9221\"], [1, \"#276419\"]], \"sequential\": [[0.0, \"#0d0887\"], [0.1111111111111111, \"#46039f\"], [0.2222222222222222, \"#7201a8\"], [0.3333333333333333, \"#9c179e\"], [0.4444444444444444, \"#bd3786\"], [0.5555555555555556, \"#d8576b\"], [0.6666666666666666, \"#ed7953\"], [0.7777777777777778, \"#fb9f3a\"], [0.8888888888888888, \"#fdca26\"], [1.0, \"#f0f921\"]], \"sequentialminus\": [[0.0, \"#0d0887\"], [0.1111111111111111, \"#46039f\"], [0.2222222222222222, \"#7201a8\"], [0.3333333333333333, \"#9c179e\"], [0.4444444444444444, \"#bd3786\"], [0.5555555555555556, \"#d8576b\"], [0.6666666666666666, \"#ed7953\"], [0.7777777777777778, \"#fb9f3a\"], [0.8888888888888888, \"#fdca26\"], [1.0, \"#f0f921\"]]}, \"colorway\": [\"#636efa\", \"#EF553B\", \"#00cc96\", \"#ab63fa\", \"#FFA15A\", \"#19d3f3\", \"#FF6692\", \"#B6E880\", \"#FF97FF\", \"#FECB52\"], \"font\": {\"color\": \"#2a3f5f\"}, \"geo\": {\"bgcolor\": \"white\", \"lakecolor\": \"white\", \"landcolor\": \"#E5ECF6\", \"showlakes\": true, \"showland\": true, \"subunitcolor\": \"white\"}, \"hoverlabel\": {\"align\": \"left\"}, \"hovermode\": \"closest\", \"mapbox\": {\"style\": \"light\"}, \"paper_bgcolor\": \"white\", \"plot_bgcolor\": \"#E5ECF6\", \"polar\": {\"angularaxis\": {\"gridcolor\": \"white\", \"linecolor\": \"white\", \"ticks\": \"\"}, \"bgcolor\": \"#E5ECF6\", \"radialaxis\": {\"gridcolor\": \"white\", \"linecolor\": \"white\", \"ticks\": \"\"}}, \"scene\": {\"xaxis\": {\"backgroundcolor\": \"#E5ECF6\", \"gridcolor\": \"white\", \"gridwidth\": 2, \"linecolor\": \"white\", \"showbackground\": true, \"ticks\": \"\", \"zerolinecolor\": \"white\"}, \"yaxis\": {\"backgroundcolor\": \"#E5ECF6\", \"gridcolor\": \"white\", \"gridwidth\": 2, \"linecolor\": \"white\", \"showbackground\": true, \"ticks\": \"\", \"zerolinecolor\": \"white\"}, \"zaxis\": {\"backgroundcolor\": \"#E5ECF6\", \"gridcolor\": \"white\", \"gridwidth\": 2, \"linecolor\": \"white\", \"showbackground\": true, \"ticks\": \"\", \"zerolinecolor\": \"white\"}}, \"shapedefaults\": {\"line\": {\"color\": \"#2a3f5f\"}}, \"ternary\": {\"aaxis\": {\"gridcolor\": \"white\", \"linecolor\": \"white\", \"ticks\": \"\"}, \"baxis\": {\"gridcolor\": \"white\", \"linecolor\": \"white\", \"ticks\": \"\"}, \"bgcolor\": \"#E5ECF6\", \"caxis\": {\"gridcolor\": \"white\", \"linecolor\": \"white\", \"ticks\": \"\"}}, \"title\": {\"x\": 0.05}, \"xaxis\": {\"automargin\": true, \"gridcolor\": \"white\", \"linecolor\": \"white\", \"ticks\": \"\", \"title\": {\"standoff\": 15}, \"zerolinecolor\": \"white\", \"zerolinewidth\": 2}, \"yaxis\": {\"automargin\": true, \"gridcolor\": \"white\", \"linecolor\": \"white\", \"ticks\": \"\", \"title\": {\"standoff\": 15}, \"zerolinecolor\": \"white\", \"zerolinewidth\": 2}}}, \"title\": {\"text\": \"Zero-one loss per model (the less is better)\"}, \"xaxis\": {\"title\": {\"text\": \"Model number\"}}, \"yaxis\": {\"title\": {\"text\": \"Zero-one loss value/model\"}}},\n",
       "                        {\"responsive\": true}\n",
       "                    ).then(function(){\n",
       "                            \n",
       "var gd = document.getElementById('0fcc3cc2-e52d-427e-929b-1a870a133605');\n",
       "var x = new MutationObserver(function (mutations, observer) {{\n",
       "        var display = window.getComputedStyle(gd).display;\n",
       "        if (!display || display === 'none') {{\n",
       "            console.log([gd, 'removed!']);\n",
       "            Plotly.purge(gd);\n",
       "            observer.disconnect();\n",
       "        }}\n",
       "}});\n",
       "\n",
       "// Listen for the removal of the full notebook cells\n",
       "var notebookContainer = gd.closest('#notebook-container');\n",
       "if (notebookContainer) {{\n",
       "    x.observe(notebookContainer, {childList: true});\n",
       "}}\n",
       "\n",
       "// Listen for the clearing of the current output cell\n",
       "var outputEl = gd.closest('.output');\n",
       "if (outputEl) {{\n",
       "    x.observe(outputEl, {childList: true});\n",
       "}}\n",
       "\n",
       "                        })\n",
       "                };\n",
       "                });\n",
       "            </script>\n",
       "        </div>"
      ]
     },
     "metadata": {},
     "output_type": "display_data"
    }
   ],
   "source": [
    "colormin = 'red'\n",
    "colorother = 'black'\n",
    "clrs  = [colormin if result['Hamming Loss'].iloc[row]== result['Hamming Loss'].min() else colorother for row in range(len(result['Hamming Loss']))]\n",
    "\n",
    "x=result['Tag Name'].values.tolist()\n",
    "y=result['Hamming Loss'].values.tolist()\n",
    "fig1 = go.Figure()\n",
    "fig1.add_trace(go.Scatter(x=x, y=y,\n",
    "                          mode='markers',\n",
    "                          marker=dict(color=clrs)\n",
    "                        ))\n",
    "fig1.update_layout(title=\"Hamming loss per model (the less is better)\",\n",
    "                   xaxis_title=\"Model number\",\n",
    "                   yaxis_title=\"Hamming loss value/model\")\n",
    "fig1.show()\n",
    "\n",
    "fig2 = go.Figure()\n",
    "fig2.add_trace(go.Scatter(x=result['Tag Name'].values.tolist(), \n",
    "                          y=result['Zero_one Loss'].values.tolist(),\n",
    "                          mode='markers',\n",
    "                          marker=dict(color=clrs)\n",
    "                         ))\n",
    "\n",
    "fig2.update_layout(title=\"Zero-one loss per model (the less is better)\",\n",
    "                  xaxis_title=\"Model number\",\n",
    "                  yaxis_title=\"Zero-one loss value/model\")\n",
    "fig2.show()"
   ]
  },
  {
   "cell_type": "code",
   "execution_count": 187,
   "metadata": {},
   "outputs": [
    {
     "data": {
      "application/vnd.plotly.v1+json": {
       "config": {
        "plotlyServerURL": "https://plot.ly"
       },
       "data": [
        {
         "marker": {
          "color": [
           "black",
           "black",
           "black",
           "red",
           "black",
           "black",
           "black",
           "black",
           "black",
           "black",
           "black",
           "black",
           "black",
           "black",
           "black",
           "black"
          ]
         },
         "mode": "markers",
         "text": [
          "16",
          "32",
          "64",
          "128",
          "16",
          "32",
          "64",
          "128",
          "16",
          "32",
          "64",
          "128",
          "16",
          "32",
          "64",
          "128"
         ],
         "type": "scatter",
         "x": [
          50,
          50,
          50,
          50,
          100,
          100,
          100,
          100,
          200,
          200,
          200,
          200,
          300,
          300,
          300,
          300
         ],
         "y": [
          0.00846425537019968,
          0.006453243549913168,
          0.005264646373689175,
          0.004310165997594595,
          0.008884466253221035,
          0.005624826531857252,
          0.004484253469854593,
          0.00554678775370121,
          0.006381207145750523,
          0.0050065163522958755,
          0.00572687853127718,
          0.004928476642817259,
          0.008584314957261086,
          0.004724374506622553,
          0.004616319667547941,
          0.005132579710334539
         ]
        }
       ],
       "layout": {
        "annotations": [
         {
          "arrowhead": 5,
          "ax": 0,
          "ay": -40,
          "showarrow": true,
          "text": "Lowest value on 50-dim",
          "x": 50,
          "xref": "x",
          "y": 0.004310165997594595,
          "yref": "y"
         },
         {
          "arrowhead": 5,
          "ax": 0,
          "ay": -40,
          "showarrow": true,
          "text": "Lowest value on 100-dim",
          "x": 100,
          "y": 0.004484253469854593
         },
         {
          "arrowhead": 5,
          "ax": 80,
          "ay": -20,
          "showarrow": true,
          "text": "Lowest value on 200-dim",
          "x": 200,
          "y": 0.004928476642817259
         },
         {
          "arrowhead": 5,
          "ax": 110,
          "ay": 0,
          "showarrow": true,
          "text": "Lowest value on 300-dim",
          "x": 300,
          "y": 0.004616319667547941
         }
        ],
        "showlegend": false,
        "template": {
         "data": {
          "bar": [
           {
            "error_x": {
             "color": "#2a3f5f"
            },
            "error_y": {
             "color": "#2a3f5f"
            },
            "marker": {
             "line": {
              "color": "#E5ECF6",
              "width": 0.5
             }
            },
            "type": "bar"
           }
          ],
          "barpolar": [
           {
            "marker": {
             "line": {
              "color": "#E5ECF6",
              "width": 0.5
             }
            },
            "type": "barpolar"
           }
          ],
          "carpet": [
           {
            "aaxis": {
             "endlinecolor": "#2a3f5f",
             "gridcolor": "white",
             "linecolor": "white",
             "minorgridcolor": "white",
             "startlinecolor": "#2a3f5f"
            },
            "baxis": {
             "endlinecolor": "#2a3f5f",
             "gridcolor": "white",
             "linecolor": "white",
             "minorgridcolor": "white",
             "startlinecolor": "#2a3f5f"
            },
            "type": "carpet"
           }
          ],
          "choropleth": [
           {
            "colorbar": {
             "outlinewidth": 0,
             "ticks": ""
            },
            "type": "choropleth"
           }
          ],
          "contour": [
           {
            "colorbar": {
             "outlinewidth": 0,
             "ticks": ""
            },
            "colorscale": [
             [
              0,
              "#0d0887"
             ],
             [
              0.1111111111111111,
              "#46039f"
             ],
             [
              0.2222222222222222,
              "#7201a8"
             ],
             [
              0.3333333333333333,
              "#9c179e"
             ],
             [
              0.4444444444444444,
              "#bd3786"
             ],
             [
              0.5555555555555556,
              "#d8576b"
             ],
             [
              0.6666666666666666,
              "#ed7953"
             ],
             [
              0.7777777777777778,
              "#fb9f3a"
             ],
             [
              0.8888888888888888,
              "#fdca26"
             ],
             [
              1,
              "#f0f921"
             ]
            ],
            "type": "contour"
           }
          ],
          "contourcarpet": [
           {
            "colorbar": {
             "outlinewidth": 0,
             "ticks": ""
            },
            "type": "contourcarpet"
           }
          ],
          "heatmap": [
           {
            "colorbar": {
             "outlinewidth": 0,
             "ticks": ""
            },
            "colorscale": [
             [
              0,
              "#0d0887"
             ],
             [
              0.1111111111111111,
              "#46039f"
             ],
             [
              0.2222222222222222,
              "#7201a8"
             ],
             [
              0.3333333333333333,
              "#9c179e"
             ],
             [
              0.4444444444444444,
              "#bd3786"
             ],
             [
              0.5555555555555556,
              "#d8576b"
             ],
             [
              0.6666666666666666,
              "#ed7953"
             ],
             [
              0.7777777777777778,
              "#fb9f3a"
             ],
             [
              0.8888888888888888,
              "#fdca26"
             ],
             [
              1,
              "#f0f921"
             ]
            ],
            "type": "heatmap"
           }
          ],
          "heatmapgl": [
           {
            "colorbar": {
             "outlinewidth": 0,
             "ticks": ""
            },
            "colorscale": [
             [
              0,
              "#0d0887"
             ],
             [
              0.1111111111111111,
              "#46039f"
             ],
             [
              0.2222222222222222,
              "#7201a8"
             ],
             [
              0.3333333333333333,
              "#9c179e"
             ],
             [
              0.4444444444444444,
              "#bd3786"
             ],
             [
              0.5555555555555556,
              "#d8576b"
             ],
             [
              0.6666666666666666,
              "#ed7953"
             ],
             [
              0.7777777777777778,
              "#fb9f3a"
             ],
             [
              0.8888888888888888,
              "#fdca26"
             ],
             [
              1,
              "#f0f921"
             ]
            ],
            "type": "heatmapgl"
           }
          ],
          "histogram": [
           {
            "marker": {
             "colorbar": {
              "outlinewidth": 0,
              "ticks": ""
             }
            },
            "type": "histogram"
           }
          ],
          "histogram2d": [
           {
            "colorbar": {
             "outlinewidth": 0,
             "ticks": ""
            },
            "colorscale": [
             [
              0,
              "#0d0887"
             ],
             [
              0.1111111111111111,
              "#46039f"
             ],
             [
              0.2222222222222222,
              "#7201a8"
             ],
             [
              0.3333333333333333,
              "#9c179e"
             ],
             [
              0.4444444444444444,
              "#bd3786"
             ],
             [
              0.5555555555555556,
              "#d8576b"
             ],
             [
              0.6666666666666666,
              "#ed7953"
             ],
             [
              0.7777777777777778,
              "#fb9f3a"
             ],
             [
              0.8888888888888888,
              "#fdca26"
             ],
             [
              1,
              "#f0f921"
             ]
            ],
            "type": "histogram2d"
           }
          ],
          "histogram2dcontour": [
           {
            "colorbar": {
             "outlinewidth": 0,
             "ticks": ""
            },
            "colorscale": [
             [
              0,
              "#0d0887"
             ],
             [
              0.1111111111111111,
              "#46039f"
             ],
             [
              0.2222222222222222,
              "#7201a8"
             ],
             [
              0.3333333333333333,
              "#9c179e"
             ],
             [
              0.4444444444444444,
              "#bd3786"
             ],
             [
              0.5555555555555556,
              "#d8576b"
             ],
             [
              0.6666666666666666,
              "#ed7953"
             ],
             [
              0.7777777777777778,
              "#fb9f3a"
             ],
             [
              0.8888888888888888,
              "#fdca26"
             ],
             [
              1,
              "#f0f921"
             ]
            ],
            "type": "histogram2dcontour"
           }
          ],
          "mesh3d": [
           {
            "colorbar": {
             "outlinewidth": 0,
             "ticks": ""
            },
            "type": "mesh3d"
           }
          ],
          "parcoords": [
           {
            "line": {
             "colorbar": {
              "outlinewidth": 0,
              "ticks": ""
             }
            },
            "type": "parcoords"
           }
          ],
          "pie": [
           {
            "automargin": true,
            "type": "pie"
           }
          ],
          "scatter": [
           {
            "marker": {
             "colorbar": {
              "outlinewidth": 0,
              "ticks": ""
             }
            },
            "type": "scatter"
           }
          ],
          "scatter3d": [
           {
            "line": {
             "colorbar": {
              "outlinewidth": 0,
              "ticks": ""
             }
            },
            "marker": {
             "colorbar": {
              "outlinewidth": 0,
              "ticks": ""
             }
            },
            "type": "scatter3d"
           }
          ],
          "scattercarpet": [
           {
            "marker": {
             "colorbar": {
              "outlinewidth": 0,
              "ticks": ""
             }
            },
            "type": "scattercarpet"
           }
          ],
          "scattergeo": [
           {
            "marker": {
             "colorbar": {
              "outlinewidth": 0,
              "ticks": ""
             }
            },
            "type": "scattergeo"
           }
          ],
          "scattergl": [
           {
            "marker": {
             "colorbar": {
              "outlinewidth": 0,
              "ticks": ""
             }
            },
            "type": "scattergl"
           }
          ],
          "scattermapbox": [
           {
            "marker": {
             "colorbar": {
              "outlinewidth": 0,
              "ticks": ""
             }
            },
            "type": "scattermapbox"
           }
          ],
          "scatterpolar": [
           {
            "marker": {
             "colorbar": {
              "outlinewidth": 0,
              "ticks": ""
             }
            },
            "type": "scatterpolar"
           }
          ],
          "scatterpolargl": [
           {
            "marker": {
             "colorbar": {
              "outlinewidth": 0,
              "ticks": ""
             }
            },
            "type": "scatterpolargl"
           }
          ],
          "scatterternary": [
           {
            "marker": {
             "colorbar": {
              "outlinewidth": 0,
              "ticks": ""
             }
            },
            "type": "scatterternary"
           }
          ],
          "surface": [
           {
            "colorbar": {
             "outlinewidth": 0,
             "ticks": ""
            },
            "colorscale": [
             [
              0,
              "#0d0887"
             ],
             [
              0.1111111111111111,
              "#46039f"
             ],
             [
              0.2222222222222222,
              "#7201a8"
             ],
             [
              0.3333333333333333,
              "#9c179e"
             ],
             [
              0.4444444444444444,
              "#bd3786"
             ],
             [
              0.5555555555555556,
              "#d8576b"
             ],
             [
              0.6666666666666666,
              "#ed7953"
             ],
             [
              0.7777777777777778,
              "#fb9f3a"
             ],
             [
              0.8888888888888888,
              "#fdca26"
             ],
             [
              1,
              "#f0f921"
             ]
            ],
            "type": "surface"
           }
          ],
          "table": [
           {
            "cells": {
             "fill": {
              "color": "#EBF0F8"
             },
             "line": {
              "color": "white"
             }
            },
            "header": {
             "fill": {
              "color": "#C8D4E3"
             },
             "line": {
              "color": "white"
             }
            },
            "type": "table"
           }
          ]
         },
         "layout": {
          "annotationdefaults": {
           "arrowcolor": "#2a3f5f",
           "arrowhead": 0,
           "arrowwidth": 1
          },
          "coloraxis": {
           "colorbar": {
            "outlinewidth": 0,
            "ticks": ""
           }
          },
          "colorscale": {
           "diverging": [
            [
             0,
             "#8e0152"
            ],
            [
             0.1,
             "#c51b7d"
            ],
            [
             0.2,
             "#de77ae"
            ],
            [
             0.3,
             "#f1b6da"
            ],
            [
             0.4,
             "#fde0ef"
            ],
            [
             0.5,
             "#f7f7f7"
            ],
            [
             0.6,
             "#e6f5d0"
            ],
            [
             0.7,
             "#b8e186"
            ],
            [
             0.8,
             "#7fbc41"
            ],
            [
             0.9,
             "#4d9221"
            ],
            [
             1,
             "#276419"
            ]
           ],
           "sequential": [
            [
             0,
             "#0d0887"
            ],
            [
             0.1111111111111111,
             "#46039f"
            ],
            [
             0.2222222222222222,
             "#7201a8"
            ],
            [
             0.3333333333333333,
             "#9c179e"
            ],
            [
             0.4444444444444444,
             "#bd3786"
            ],
            [
             0.5555555555555556,
             "#d8576b"
            ],
            [
             0.6666666666666666,
             "#ed7953"
            ],
            [
             0.7777777777777778,
             "#fb9f3a"
            ],
            [
             0.8888888888888888,
             "#fdca26"
            ],
            [
             1,
             "#f0f921"
            ]
           ],
           "sequentialminus": [
            [
             0,
             "#0d0887"
            ],
            [
             0.1111111111111111,
             "#46039f"
            ],
            [
             0.2222222222222222,
             "#7201a8"
            ],
            [
             0.3333333333333333,
             "#9c179e"
            ],
            [
             0.4444444444444444,
             "#bd3786"
            ],
            [
             0.5555555555555556,
             "#d8576b"
            ],
            [
             0.6666666666666666,
             "#ed7953"
            ],
            [
             0.7777777777777778,
             "#fb9f3a"
            ],
            [
             0.8888888888888888,
             "#fdca26"
            ],
            [
             1,
             "#f0f921"
            ]
           ]
          },
          "colorway": [
           "#636efa",
           "#EF553B",
           "#00cc96",
           "#ab63fa",
           "#FFA15A",
           "#19d3f3",
           "#FF6692",
           "#B6E880",
           "#FF97FF",
           "#FECB52"
          ],
          "font": {
           "color": "#2a3f5f"
          },
          "geo": {
           "bgcolor": "white",
           "lakecolor": "white",
           "landcolor": "#E5ECF6",
           "showlakes": true,
           "showland": true,
           "subunitcolor": "white"
          },
          "hoverlabel": {
           "align": "left"
          },
          "hovermode": "closest",
          "mapbox": {
           "style": "light"
          },
          "paper_bgcolor": "white",
          "plot_bgcolor": "#E5ECF6",
          "polar": {
           "angularaxis": {
            "gridcolor": "white",
            "linecolor": "white",
            "ticks": ""
           },
           "bgcolor": "#E5ECF6",
           "radialaxis": {
            "gridcolor": "white",
            "linecolor": "white",
            "ticks": ""
           }
          },
          "scene": {
           "xaxis": {
            "backgroundcolor": "#E5ECF6",
            "gridcolor": "white",
            "gridwidth": 2,
            "linecolor": "white",
            "showbackground": true,
            "ticks": "",
            "zerolinecolor": "white"
           },
           "yaxis": {
            "backgroundcolor": "#E5ECF6",
            "gridcolor": "white",
            "gridwidth": 2,
            "linecolor": "white",
            "showbackground": true,
            "ticks": "",
            "zerolinecolor": "white"
           },
           "zaxis": {
            "backgroundcolor": "#E5ECF6",
            "gridcolor": "white",
            "gridwidth": 2,
            "linecolor": "white",
            "showbackground": true,
            "ticks": "",
            "zerolinecolor": "white"
           }
          },
          "shapedefaults": {
           "line": {
            "color": "#2a3f5f"
           }
          },
          "ternary": {
           "aaxis": {
            "gridcolor": "white",
            "linecolor": "white",
            "ticks": ""
           },
           "baxis": {
            "gridcolor": "white",
            "linecolor": "white",
            "ticks": ""
           },
           "bgcolor": "#E5ECF6",
           "caxis": {
            "gridcolor": "white",
            "linecolor": "white",
            "ticks": ""
           }
          },
          "title": {
           "x": 0.05
          },
          "xaxis": {
           "automargin": true,
           "gridcolor": "white",
           "linecolor": "white",
           "ticks": "",
           "title": {
            "standoff": 15
           },
           "zerolinecolor": "white",
           "zerolinewidth": 2
          },
          "yaxis": {
           "automargin": true,
           "gridcolor": "white",
           "linecolor": "white",
           "ticks": "",
           "title": {
            "standoff": 15
           },
           "zerolinecolor": "white",
           "zerolinewidth": 2
          }
         }
        },
        "title": {
         "text": "Hamming loss per embedding dimension"
        },
        "xaxis": {
         "title": {
          "text": "Model number"
         },
         "type": "category"
        },
        "yaxis": {
         "title": {
          "text": "Hamming loss value/model"
         }
        }
       }
      },
      "text/html": [
       "<div>\n",
       "        \n",
       "        \n",
       "            <div id=\"379c0ace-1d94-4308-9989-7b51c728a5ad\" class=\"plotly-graph-div\" style=\"height:525px; width:100%;\"></div>\n",
       "            <script type=\"text/javascript\">\n",
       "                require([\"plotly\"], function(Plotly) {\n",
       "                    window.PLOTLYENV=window.PLOTLYENV || {};\n",
       "                    \n",
       "                if (document.getElementById(\"379c0ace-1d94-4308-9989-7b51c728a5ad\")) {\n",
       "                    Plotly.newPlot(\n",
       "                        '379c0ace-1d94-4308-9989-7b51c728a5ad',\n",
       "                        [{\"marker\": {\"color\": [\"black\", \"black\", \"black\", \"red\", \"black\", \"black\", \"black\", \"black\", \"black\", \"black\", \"black\", \"black\", \"black\", \"black\", \"black\", \"black\"]}, \"mode\": \"markers\", \"text\": [\"16\", \"32\", \"64\", \"128\", \"16\", \"32\", \"64\", \"128\", \"16\", \"32\", \"64\", \"128\", \"16\", \"32\", \"64\", \"128\"], \"type\": \"scatter\", \"x\": [50, 50, 50, 50, 100, 100, 100, 100, 200, 200, 200, 200, 300, 300, 300, 300], \"y\": [0.00846425537019968, 0.006453243549913168, 0.005264646373689175, 0.004310165997594595, 0.008884466253221035, 0.005624826531857252, 0.004484253469854593, 0.00554678775370121, 0.006381207145750523, 0.0050065163522958755, 0.00572687853127718, 0.004928476642817259, 0.008584314957261086, 0.004724374506622553, 0.004616319667547941, 0.005132579710334539]}],\n",
       "                        {\"annotations\": [{\"arrowhead\": 5, \"ax\": 0, \"ay\": -40, \"showarrow\": true, \"text\": \"Lowest value on 50-dim\", \"x\": 50, \"xref\": \"x\", \"y\": 0.004310165997594595, \"yref\": \"y\"}, {\"arrowhead\": 5, \"ax\": 0, \"ay\": -40, \"showarrow\": true, \"text\": \"Lowest value on 100-dim\", \"x\": 100, \"y\": 0.004484253469854593}, {\"arrowhead\": 5, \"ax\": 80, \"ay\": -20, \"showarrow\": true, \"text\": \"Lowest value on 200-dim\", \"x\": 200, \"y\": 0.004928476642817259}, {\"arrowhead\": 5, \"ax\": 110, \"ay\": 0, \"showarrow\": true, \"text\": \"Lowest value on 300-dim\", \"x\": 300, \"y\": 0.004616319667547941}], \"showlegend\": false, \"template\": {\"data\": {\"bar\": [{\"error_x\": {\"color\": \"#2a3f5f\"}, \"error_y\": {\"color\": \"#2a3f5f\"}, \"marker\": {\"line\": {\"color\": \"#E5ECF6\", \"width\": 0.5}}, \"type\": \"bar\"}], \"barpolar\": [{\"marker\": {\"line\": {\"color\": \"#E5ECF6\", \"width\": 0.5}}, \"type\": \"barpolar\"}], \"carpet\": [{\"aaxis\": {\"endlinecolor\": \"#2a3f5f\", \"gridcolor\": \"white\", \"linecolor\": \"white\", \"minorgridcolor\": \"white\", \"startlinecolor\": \"#2a3f5f\"}, \"baxis\": {\"endlinecolor\": \"#2a3f5f\", \"gridcolor\": \"white\", \"linecolor\": \"white\", \"minorgridcolor\": \"white\", \"startlinecolor\": \"#2a3f5f\"}, \"type\": \"carpet\"}], \"choropleth\": [{\"colorbar\": {\"outlinewidth\": 0, \"ticks\": \"\"}, \"type\": \"choropleth\"}], \"contour\": [{\"colorbar\": {\"outlinewidth\": 0, \"ticks\": \"\"}, \"colorscale\": [[0.0, \"#0d0887\"], [0.1111111111111111, \"#46039f\"], [0.2222222222222222, \"#7201a8\"], [0.3333333333333333, \"#9c179e\"], [0.4444444444444444, \"#bd3786\"], [0.5555555555555556, \"#d8576b\"], [0.6666666666666666, \"#ed7953\"], [0.7777777777777778, \"#fb9f3a\"], [0.8888888888888888, \"#fdca26\"], [1.0, \"#f0f921\"]], \"type\": \"contour\"}], \"contourcarpet\": [{\"colorbar\": {\"outlinewidth\": 0, \"ticks\": \"\"}, \"type\": \"contourcarpet\"}], \"heatmap\": [{\"colorbar\": {\"outlinewidth\": 0, \"ticks\": \"\"}, \"colorscale\": [[0.0, \"#0d0887\"], [0.1111111111111111, \"#46039f\"], [0.2222222222222222, \"#7201a8\"], [0.3333333333333333, \"#9c179e\"], [0.4444444444444444, \"#bd3786\"], [0.5555555555555556, \"#d8576b\"], [0.6666666666666666, \"#ed7953\"], [0.7777777777777778, \"#fb9f3a\"], [0.8888888888888888, \"#fdca26\"], [1.0, \"#f0f921\"]], \"type\": \"heatmap\"}], \"heatmapgl\": [{\"colorbar\": {\"outlinewidth\": 0, \"ticks\": \"\"}, \"colorscale\": [[0.0, \"#0d0887\"], [0.1111111111111111, \"#46039f\"], [0.2222222222222222, \"#7201a8\"], [0.3333333333333333, \"#9c179e\"], [0.4444444444444444, \"#bd3786\"], [0.5555555555555556, \"#d8576b\"], [0.6666666666666666, \"#ed7953\"], [0.7777777777777778, \"#fb9f3a\"], [0.8888888888888888, \"#fdca26\"], [1.0, \"#f0f921\"]], \"type\": \"heatmapgl\"}], \"histogram\": [{\"marker\": {\"colorbar\": {\"outlinewidth\": 0, \"ticks\": \"\"}}, \"type\": \"histogram\"}], \"histogram2d\": [{\"colorbar\": {\"outlinewidth\": 0, \"ticks\": \"\"}, \"colorscale\": [[0.0, \"#0d0887\"], [0.1111111111111111, \"#46039f\"], [0.2222222222222222, \"#7201a8\"], [0.3333333333333333, \"#9c179e\"], [0.4444444444444444, \"#bd3786\"], [0.5555555555555556, \"#d8576b\"], [0.6666666666666666, \"#ed7953\"], [0.7777777777777778, \"#fb9f3a\"], [0.8888888888888888, \"#fdca26\"], [1.0, \"#f0f921\"]], \"type\": \"histogram2d\"}], \"histogram2dcontour\": [{\"colorbar\": {\"outlinewidth\": 0, \"ticks\": \"\"}, \"colorscale\": [[0.0, \"#0d0887\"], [0.1111111111111111, \"#46039f\"], [0.2222222222222222, \"#7201a8\"], [0.3333333333333333, \"#9c179e\"], [0.4444444444444444, \"#bd3786\"], [0.5555555555555556, \"#d8576b\"], [0.6666666666666666, \"#ed7953\"], [0.7777777777777778, \"#fb9f3a\"], [0.8888888888888888, \"#fdca26\"], [1.0, \"#f0f921\"]], \"type\": \"histogram2dcontour\"}], \"mesh3d\": [{\"colorbar\": {\"outlinewidth\": 0, \"ticks\": \"\"}, \"type\": \"mesh3d\"}], \"parcoords\": [{\"line\": {\"colorbar\": {\"outlinewidth\": 0, \"ticks\": \"\"}}, \"type\": \"parcoords\"}], \"pie\": [{\"automargin\": true, \"type\": \"pie\"}], \"scatter\": [{\"marker\": {\"colorbar\": {\"outlinewidth\": 0, \"ticks\": \"\"}}, \"type\": \"scatter\"}], \"scatter3d\": [{\"line\": {\"colorbar\": {\"outlinewidth\": 0, \"ticks\": \"\"}}, \"marker\": {\"colorbar\": {\"outlinewidth\": 0, \"ticks\": \"\"}}, \"type\": \"scatter3d\"}], \"scattercarpet\": [{\"marker\": {\"colorbar\": {\"outlinewidth\": 0, \"ticks\": \"\"}}, \"type\": \"scattercarpet\"}], \"scattergeo\": [{\"marker\": {\"colorbar\": {\"outlinewidth\": 0, \"ticks\": \"\"}}, \"type\": \"scattergeo\"}], \"scattergl\": [{\"marker\": {\"colorbar\": {\"outlinewidth\": 0, \"ticks\": \"\"}}, \"type\": \"scattergl\"}], \"scattermapbox\": [{\"marker\": {\"colorbar\": {\"outlinewidth\": 0, \"ticks\": \"\"}}, \"type\": \"scattermapbox\"}], \"scatterpolar\": [{\"marker\": {\"colorbar\": {\"outlinewidth\": 0, \"ticks\": \"\"}}, \"type\": \"scatterpolar\"}], \"scatterpolargl\": [{\"marker\": {\"colorbar\": {\"outlinewidth\": 0, \"ticks\": \"\"}}, \"type\": \"scatterpolargl\"}], \"scatterternary\": [{\"marker\": {\"colorbar\": {\"outlinewidth\": 0, \"ticks\": \"\"}}, \"type\": \"scatterternary\"}], \"surface\": [{\"colorbar\": {\"outlinewidth\": 0, \"ticks\": \"\"}, \"colorscale\": [[0.0, \"#0d0887\"], [0.1111111111111111, \"#46039f\"], [0.2222222222222222, \"#7201a8\"], [0.3333333333333333, \"#9c179e\"], [0.4444444444444444, \"#bd3786\"], [0.5555555555555556, \"#d8576b\"], [0.6666666666666666, \"#ed7953\"], [0.7777777777777778, \"#fb9f3a\"], [0.8888888888888888, \"#fdca26\"], [1.0, \"#f0f921\"]], \"type\": \"surface\"}], \"table\": [{\"cells\": {\"fill\": {\"color\": \"#EBF0F8\"}, \"line\": {\"color\": \"white\"}}, \"header\": {\"fill\": {\"color\": \"#C8D4E3\"}, \"line\": {\"color\": \"white\"}}, \"type\": \"table\"}]}, \"layout\": {\"annotationdefaults\": {\"arrowcolor\": \"#2a3f5f\", \"arrowhead\": 0, \"arrowwidth\": 1}, \"coloraxis\": {\"colorbar\": {\"outlinewidth\": 0, \"ticks\": \"\"}}, \"colorscale\": {\"diverging\": [[0, \"#8e0152\"], [0.1, \"#c51b7d\"], [0.2, \"#de77ae\"], [0.3, \"#f1b6da\"], [0.4, \"#fde0ef\"], [0.5, \"#f7f7f7\"], [0.6, \"#e6f5d0\"], [0.7, \"#b8e186\"], [0.8, \"#7fbc41\"], [0.9, \"#4d9221\"], [1, \"#276419\"]], \"sequential\": [[0.0, \"#0d0887\"], [0.1111111111111111, \"#46039f\"], [0.2222222222222222, \"#7201a8\"], [0.3333333333333333, \"#9c179e\"], [0.4444444444444444, \"#bd3786\"], [0.5555555555555556, \"#d8576b\"], [0.6666666666666666, \"#ed7953\"], [0.7777777777777778, \"#fb9f3a\"], [0.8888888888888888, \"#fdca26\"], [1.0, \"#f0f921\"]], \"sequentialminus\": [[0.0, \"#0d0887\"], [0.1111111111111111, \"#46039f\"], [0.2222222222222222, \"#7201a8\"], [0.3333333333333333, \"#9c179e\"], [0.4444444444444444, \"#bd3786\"], [0.5555555555555556, \"#d8576b\"], [0.6666666666666666, \"#ed7953\"], [0.7777777777777778, \"#fb9f3a\"], [0.8888888888888888, \"#fdca26\"], [1.0, \"#f0f921\"]]}, \"colorway\": [\"#636efa\", \"#EF553B\", \"#00cc96\", \"#ab63fa\", \"#FFA15A\", \"#19d3f3\", \"#FF6692\", \"#B6E880\", \"#FF97FF\", \"#FECB52\"], \"font\": {\"color\": \"#2a3f5f\"}, \"geo\": {\"bgcolor\": \"white\", \"lakecolor\": \"white\", \"landcolor\": \"#E5ECF6\", \"showlakes\": true, \"showland\": true, \"subunitcolor\": \"white\"}, \"hoverlabel\": {\"align\": \"left\"}, \"hovermode\": \"closest\", \"mapbox\": {\"style\": \"light\"}, \"paper_bgcolor\": \"white\", \"plot_bgcolor\": \"#E5ECF6\", \"polar\": {\"angularaxis\": {\"gridcolor\": \"white\", \"linecolor\": \"white\", \"ticks\": \"\"}, \"bgcolor\": \"#E5ECF6\", \"radialaxis\": {\"gridcolor\": \"white\", \"linecolor\": \"white\", \"ticks\": \"\"}}, \"scene\": {\"xaxis\": {\"backgroundcolor\": \"#E5ECF6\", \"gridcolor\": \"white\", \"gridwidth\": 2, \"linecolor\": \"white\", \"showbackground\": true, \"ticks\": \"\", \"zerolinecolor\": \"white\"}, \"yaxis\": {\"backgroundcolor\": \"#E5ECF6\", \"gridcolor\": \"white\", \"gridwidth\": 2, \"linecolor\": \"white\", \"showbackground\": true, \"ticks\": \"\", \"zerolinecolor\": \"white\"}, \"zaxis\": {\"backgroundcolor\": \"#E5ECF6\", \"gridcolor\": \"white\", \"gridwidth\": 2, \"linecolor\": \"white\", \"showbackground\": true, \"ticks\": \"\", \"zerolinecolor\": \"white\"}}, \"shapedefaults\": {\"line\": {\"color\": \"#2a3f5f\"}}, \"ternary\": {\"aaxis\": {\"gridcolor\": \"white\", \"linecolor\": \"white\", \"ticks\": \"\"}, \"baxis\": {\"gridcolor\": \"white\", \"linecolor\": \"white\", \"ticks\": \"\"}, \"bgcolor\": \"#E5ECF6\", \"caxis\": {\"gridcolor\": \"white\", \"linecolor\": \"white\", \"ticks\": \"\"}}, \"title\": {\"x\": 0.05}, \"xaxis\": {\"automargin\": true, \"gridcolor\": \"white\", \"linecolor\": \"white\", \"ticks\": \"\", \"title\": {\"standoff\": 15}, \"zerolinecolor\": \"white\", \"zerolinewidth\": 2}, \"yaxis\": {\"automargin\": true, \"gridcolor\": \"white\", \"linecolor\": \"white\", \"ticks\": \"\", \"title\": {\"standoff\": 15}, \"zerolinecolor\": \"white\", \"zerolinewidth\": 2}}}, \"title\": {\"text\": \"Hamming loss per embedding dimension\"}, \"xaxis\": {\"title\": {\"text\": \"Model number\"}, \"type\": \"category\"}, \"yaxis\": {\"title\": {\"text\": \"Hamming loss value/model\"}}},\n",
       "                        {\"responsive\": true}\n",
       "                    ).then(function(){\n",
       "                            \n",
       "var gd = document.getElementById('379c0ace-1d94-4308-9989-7b51c728a5ad');\n",
       "var x = new MutationObserver(function (mutations, observer) {{\n",
       "        var display = window.getComputedStyle(gd).display;\n",
       "        if (!display || display === 'none') {{\n",
       "            console.log([gd, 'removed!']);\n",
       "            Plotly.purge(gd);\n",
       "            observer.disconnect();\n",
       "        }}\n",
       "}});\n",
       "\n",
       "// Listen for the removal of the full notebook cells\n",
       "var notebookContainer = gd.closest('#notebook-container');\n",
       "if (notebookContainer) {{\n",
       "    x.observe(notebookContainer, {childList: true});\n",
       "}}\n",
       "\n",
       "// Listen for the clearing of the current output cell\n",
       "var outputEl = gd.closest('.output');\n",
       "if (outputEl) {{\n",
       "    x.observe(outputEl, {childList: true});\n",
       "}}\n",
       "\n",
       "                        })\n",
       "                };\n",
       "                });\n",
       "            </script>\n",
       "        </div>"
      ]
     },
     "metadata": {},
     "output_type": "display_data"
    },
    {
     "data": {
      "application/vnd.plotly.v1+json": {
       "config": {
        "plotlyServerURL": "https://plot.ly"
       },
       "data": [
        {
         "marker": {
          "color": [
           "black",
           "black",
           "black",
           "red",
           "black",
           "black",
           "black",
           "black",
           "black",
           "black",
           "black",
           "black",
           "black",
           "black",
           "black",
           "black"
          ]
         },
         "mode": "markers",
         "type": "scatter",
         "x": [
          16,
          32,
          64,
          128,
          16,
          32,
          64,
          128,
          16,
          32,
          64,
          128,
          16,
          32,
          64,
          128
         ],
         "y": [
          0.00846425537019968,
          0.006453243549913168,
          0.005264646373689175,
          0.004310165997594595,
          0.008884466253221035,
          0.005624826531857252,
          0.004484253469854593,
          0.00554678775370121,
          0.006381207145750523,
          0.0050065163522958755,
          0.00572687853127718,
          0.004928476642817259,
          0.008584314957261086,
          0.004724374506622553,
          0.004616319667547941,
          0.005132579710334539
         ]
        }
       ],
       "layout": {
        "template": {
         "data": {
          "bar": [
           {
            "error_x": {
             "color": "#2a3f5f"
            },
            "error_y": {
             "color": "#2a3f5f"
            },
            "marker": {
             "line": {
              "color": "#E5ECF6",
              "width": 0.5
             }
            },
            "type": "bar"
           }
          ],
          "barpolar": [
           {
            "marker": {
             "line": {
              "color": "#E5ECF6",
              "width": 0.5
             }
            },
            "type": "barpolar"
           }
          ],
          "carpet": [
           {
            "aaxis": {
             "endlinecolor": "#2a3f5f",
             "gridcolor": "white",
             "linecolor": "white",
             "minorgridcolor": "white",
             "startlinecolor": "#2a3f5f"
            },
            "baxis": {
             "endlinecolor": "#2a3f5f",
             "gridcolor": "white",
             "linecolor": "white",
             "minorgridcolor": "white",
             "startlinecolor": "#2a3f5f"
            },
            "type": "carpet"
           }
          ],
          "choropleth": [
           {
            "colorbar": {
             "outlinewidth": 0,
             "ticks": ""
            },
            "type": "choropleth"
           }
          ],
          "contour": [
           {
            "colorbar": {
             "outlinewidth": 0,
             "ticks": ""
            },
            "colorscale": [
             [
              0,
              "#0d0887"
             ],
             [
              0.1111111111111111,
              "#46039f"
             ],
             [
              0.2222222222222222,
              "#7201a8"
             ],
             [
              0.3333333333333333,
              "#9c179e"
             ],
             [
              0.4444444444444444,
              "#bd3786"
             ],
             [
              0.5555555555555556,
              "#d8576b"
             ],
             [
              0.6666666666666666,
              "#ed7953"
             ],
             [
              0.7777777777777778,
              "#fb9f3a"
             ],
             [
              0.8888888888888888,
              "#fdca26"
             ],
             [
              1,
              "#f0f921"
             ]
            ],
            "type": "contour"
           }
          ],
          "contourcarpet": [
           {
            "colorbar": {
             "outlinewidth": 0,
             "ticks": ""
            },
            "type": "contourcarpet"
           }
          ],
          "heatmap": [
           {
            "colorbar": {
             "outlinewidth": 0,
             "ticks": ""
            },
            "colorscale": [
             [
              0,
              "#0d0887"
             ],
             [
              0.1111111111111111,
              "#46039f"
             ],
             [
              0.2222222222222222,
              "#7201a8"
             ],
             [
              0.3333333333333333,
              "#9c179e"
             ],
             [
              0.4444444444444444,
              "#bd3786"
             ],
             [
              0.5555555555555556,
              "#d8576b"
             ],
             [
              0.6666666666666666,
              "#ed7953"
             ],
             [
              0.7777777777777778,
              "#fb9f3a"
             ],
             [
              0.8888888888888888,
              "#fdca26"
             ],
             [
              1,
              "#f0f921"
             ]
            ],
            "type": "heatmap"
           }
          ],
          "heatmapgl": [
           {
            "colorbar": {
             "outlinewidth": 0,
             "ticks": ""
            },
            "colorscale": [
             [
              0,
              "#0d0887"
             ],
             [
              0.1111111111111111,
              "#46039f"
             ],
             [
              0.2222222222222222,
              "#7201a8"
             ],
             [
              0.3333333333333333,
              "#9c179e"
             ],
             [
              0.4444444444444444,
              "#bd3786"
             ],
             [
              0.5555555555555556,
              "#d8576b"
             ],
             [
              0.6666666666666666,
              "#ed7953"
             ],
             [
              0.7777777777777778,
              "#fb9f3a"
             ],
             [
              0.8888888888888888,
              "#fdca26"
             ],
             [
              1,
              "#f0f921"
             ]
            ],
            "type": "heatmapgl"
           }
          ],
          "histogram": [
           {
            "marker": {
             "colorbar": {
              "outlinewidth": 0,
              "ticks": ""
             }
            },
            "type": "histogram"
           }
          ],
          "histogram2d": [
           {
            "colorbar": {
             "outlinewidth": 0,
             "ticks": ""
            },
            "colorscale": [
             [
              0,
              "#0d0887"
             ],
             [
              0.1111111111111111,
              "#46039f"
             ],
             [
              0.2222222222222222,
              "#7201a8"
             ],
             [
              0.3333333333333333,
              "#9c179e"
             ],
             [
              0.4444444444444444,
              "#bd3786"
             ],
             [
              0.5555555555555556,
              "#d8576b"
             ],
             [
              0.6666666666666666,
              "#ed7953"
             ],
             [
              0.7777777777777778,
              "#fb9f3a"
             ],
             [
              0.8888888888888888,
              "#fdca26"
             ],
             [
              1,
              "#f0f921"
             ]
            ],
            "type": "histogram2d"
           }
          ],
          "histogram2dcontour": [
           {
            "colorbar": {
             "outlinewidth": 0,
             "ticks": ""
            },
            "colorscale": [
             [
              0,
              "#0d0887"
             ],
             [
              0.1111111111111111,
              "#46039f"
             ],
             [
              0.2222222222222222,
              "#7201a8"
             ],
             [
              0.3333333333333333,
              "#9c179e"
             ],
             [
              0.4444444444444444,
              "#bd3786"
             ],
             [
              0.5555555555555556,
              "#d8576b"
             ],
             [
              0.6666666666666666,
              "#ed7953"
             ],
             [
              0.7777777777777778,
              "#fb9f3a"
             ],
             [
              0.8888888888888888,
              "#fdca26"
             ],
             [
              1,
              "#f0f921"
             ]
            ],
            "type": "histogram2dcontour"
           }
          ],
          "mesh3d": [
           {
            "colorbar": {
             "outlinewidth": 0,
             "ticks": ""
            },
            "type": "mesh3d"
           }
          ],
          "parcoords": [
           {
            "line": {
             "colorbar": {
              "outlinewidth": 0,
              "ticks": ""
             }
            },
            "type": "parcoords"
           }
          ],
          "pie": [
           {
            "automargin": true,
            "type": "pie"
           }
          ],
          "scatter": [
           {
            "marker": {
             "colorbar": {
              "outlinewidth": 0,
              "ticks": ""
             }
            },
            "type": "scatter"
           }
          ],
          "scatter3d": [
           {
            "line": {
             "colorbar": {
              "outlinewidth": 0,
              "ticks": ""
             }
            },
            "marker": {
             "colorbar": {
              "outlinewidth": 0,
              "ticks": ""
             }
            },
            "type": "scatter3d"
           }
          ],
          "scattercarpet": [
           {
            "marker": {
             "colorbar": {
              "outlinewidth": 0,
              "ticks": ""
             }
            },
            "type": "scattercarpet"
           }
          ],
          "scattergeo": [
           {
            "marker": {
             "colorbar": {
              "outlinewidth": 0,
              "ticks": ""
             }
            },
            "type": "scattergeo"
           }
          ],
          "scattergl": [
           {
            "marker": {
             "colorbar": {
              "outlinewidth": 0,
              "ticks": ""
             }
            },
            "type": "scattergl"
           }
          ],
          "scattermapbox": [
           {
            "marker": {
             "colorbar": {
              "outlinewidth": 0,
              "ticks": ""
             }
            },
            "type": "scattermapbox"
           }
          ],
          "scatterpolar": [
           {
            "marker": {
             "colorbar": {
              "outlinewidth": 0,
              "ticks": ""
             }
            },
            "type": "scatterpolar"
           }
          ],
          "scatterpolargl": [
           {
            "marker": {
             "colorbar": {
              "outlinewidth": 0,
              "ticks": ""
             }
            },
            "type": "scatterpolargl"
           }
          ],
          "scatterternary": [
           {
            "marker": {
             "colorbar": {
              "outlinewidth": 0,
              "ticks": ""
             }
            },
            "type": "scatterternary"
           }
          ],
          "surface": [
           {
            "colorbar": {
             "outlinewidth": 0,
             "ticks": ""
            },
            "colorscale": [
             [
              0,
              "#0d0887"
             ],
             [
              0.1111111111111111,
              "#46039f"
             ],
             [
              0.2222222222222222,
              "#7201a8"
             ],
             [
              0.3333333333333333,
              "#9c179e"
             ],
             [
              0.4444444444444444,
              "#bd3786"
             ],
             [
              0.5555555555555556,
              "#d8576b"
             ],
             [
              0.6666666666666666,
              "#ed7953"
             ],
             [
              0.7777777777777778,
              "#fb9f3a"
             ],
             [
              0.8888888888888888,
              "#fdca26"
             ],
             [
              1,
              "#f0f921"
             ]
            ],
            "type": "surface"
           }
          ],
          "table": [
           {
            "cells": {
             "fill": {
              "color": "#EBF0F8"
             },
             "line": {
              "color": "white"
             }
            },
            "header": {
             "fill": {
              "color": "#C8D4E3"
             },
             "line": {
              "color": "white"
             }
            },
            "type": "table"
           }
          ]
         },
         "layout": {
          "annotationdefaults": {
           "arrowcolor": "#2a3f5f",
           "arrowhead": 0,
           "arrowwidth": 1
          },
          "coloraxis": {
           "colorbar": {
            "outlinewidth": 0,
            "ticks": ""
           }
          },
          "colorscale": {
           "diverging": [
            [
             0,
             "#8e0152"
            ],
            [
             0.1,
             "#c51b7d"
            ],
            [
             0.2,
             "#de77ae"
            ],
            [
             0.3,
             "#f1b6da"
            ],
            [
             0.4,
             "#fde0ef"
            ],
            [
             0.5,
             "#f7f7f7"
            ],
            [
             0.6,
             "#e6f5d0"
            ],
            [
             0.7,
             "#b8e186"
            ],
            [
             0.8,
             "#7fbc41"
            ],
            [
             0.9,
             "#4d9221"
            ],
            [
             1,
             "#276419"
            ]
           ],
           "sequential": [
            [
             0,
             "#0d0887"
            ],
            [
             0.1111111111111111,
             "#46039f"
            ],
            [
             0.2222222222222222,
             "#7201a8"
            ],
            [
             0.3333333333333333,
             "#9c179e"
            ],
            [
             0.4444444444444444,
             "#bd3786"
            ],
            [
             0.5555555555555556,
             "#d8576b"
            ],
            [
             0.6666666666666666,
             "#ed7953"
            ],
            [
             0.7777777777777778,
             "#fb9f3a"
            ],
            [
             0.8888888888888888,
             "#fdca26"
            ],
            [
             1,
             "#f0f921"
            ]
           ],
           "sequentialminus": [
            [
             0,
             "#0d0887"
            ],
            [
             0.1111111111111111,
             "#46039f"
            ],
            [
             0.2222222222222222,
             "#7201a8"
            ],
            [
             0.3333333333333333,
             "#9c179e"
            ],
            [
             0.4444444444444444,
             "#bd3786"
            ],
            [
             0.5555555555555556,
             "#d8576b"
            ],
            [
             0.6666666666666666,
             "#ed7953"
            ],
            [
             0.7777777777777778,
             "#fb9f3a"
            ],
            [
             0.8888888888888888,
             "#fdca26"
            ],
            [
             1,
             "#f0f921"
            ]
           ]
          },
          "colorway": [
           "#636efa",
           "#EF553B",
           "#00cc96",
           "#ab63fa",
           "#FFA15A",
           "#19d3f3",
           "#FF6692",
           "#B6E880",
           "#FF97FF",
           "#FECB52"
          ],
          "font": {
           "color": "#2a3f5f"
          },
          "geo": {
           "bgcolor": "white",
           "lakecolor": "white",
           "landcolor": "#E5ECF6",
           "showlakes": true,
           "showland": true,
           "subunitcolor": "white"
          },
          "hoverlabel": {
           "align": "left"
          },
          "hovermode": "closest",
          "mapbox": {
           "style": "light"
          },
          "paper_bgcolor": "white",
          "plot_bgcolor": "#E5ECF6",
          "polar": {
           "angularaxis": {
            "gridcolor": "white",
            "linecolor": "white",
            "ticks": ""
           },
           "bgcolor": "#E5ECF6",
           "radialaxis": {
            "gridcolor": "white",
            "linecolor": "white",
            "ticks": ""
           }
          },
          "scene": {
           "xaxis": {
            "backgroundcolor": "#E5ECF6",
            "gridcolor": "white",
            "gridwidth": 2,
            "linecolor": "white",
            "showbackground": true,
            "ticks": "",
            "zerolinecolor": "white"
           },
           "yaxis": {
            "backgroundcolor": "#E5ECF6",
            "gridcolor": "white",
            "gridwidth": 2,
            "linecolor": "white",
            "showbackground": true,
            "ticks": "",
            "zerolinecolor": "white"
           },
           "zaxis": {
            "backgroundcolor": "#E5ECF6",
            "gridcolor": "white",
            "gridwidth": 2,
            "linecolor": "white",
            "showbackground": true,
            "ticks": "",
            "zerolinecolor": "white"
           }
          },
          "shapedefaults": {
           "line": {
            "color": "#2a3f5f"
           }
          },
          "ternary": {
           "aaxis": {
            "gridcolor": "white",
            "linecolor": "white",
            "ticks": ""
           },
           "baxis": {
            "gridcolor": "white",
            "linecolor": "white",
            "ticks": ""
           },
           "bgcolor": "#E5ECF6",
           "caxis": {
            "gridcolor": "white",
            "linecolor": "white",
            "ticks": ""
           }
          },
          "title": {
           "x": 0.05
          },
          "xaxis": {
           "automargin": true,
           "gridcolor": "white",
           "linecolor": "white",
           "ticks": "",
           "title": {
            "standoff": 15
           },
           "zerolinecolor": "white",
           "zerolinewidth": 2
          },
          "yaxis": {
           "automargin": true,
           "gridcolor": "white",
           "linecolor": "white",
           "ticks": "",
           "title": {
            "standoff": 15
           },
           "zerolinecolor": "white",
           "zerolinewidth": 2
          }
         }
        },
        "title": {
         "text": "Hamming loss per batch size"
        },
        "xaxis": {
         "title": {
          "text": "Model number"
         },
         "type": "category"
        },
        "yaxis": {
         "title": {
          "text": "Hamming loss value/model"
         }
        }
       }
      },
      "text/html": [
       "<div>\n",
       "        \n",
       "        \n",
       "            <div id=\"cdf563cf-6eab-4757-ac39-0d12a6addc2a\" class=\"plotly-graph-div\" style=\"height:525px; width:100%;\"></div>\n",
       "            <script type=\"text/javascript\">\n",
       "                require([\"plotly\"], function(Plotly) {\n",
       "                    window.PLOTLYENV=window.PLOTLYENV || {};\n",
       "                    \n",
       "                if (document.getElementById(\"cdf563cf-6eab-4757-ac39-0d12a6addc2a\")) {\n",
       "                    Plotly.newPlot(\n",
       "                        'cdf563cf-6eab-4757-ac39-0d12a6addc2a',\n",
       "                        [{\"marker\": {\"color\": [\"black\", \"black\", \"black\", \"red\", \"black\", \"black\", \"black\", \"black\", \"black\", \"black\", \"black\", \"black\", \"black\", \"black\", \"black\", \"black\"]}, \"mode\": \"markers\", \"type\": \"scatter\", \"x\": [16, 32, 64, 128, 16, 32, 64, 128, 16, 32, 64, 128, 16, 32, 64, 128], \"y\": [0.00846425537019968, 0.006453243549913168, 0.005264646373689175, 0.004310165997594595, 0.008884466253221035, 0.005624826531857252, 0.004484253469854593, 0.00554678775370121, 0.006381207145750523, 0.0050065163522958755, 0.00572687853127718, 0.004928476642817259, 0.008584314957261086, 0.004724374506622553, 0.004616319667547941, 0.005132579710334539]}],\n",
       "                        {\"template\": {\"data\": {\"bar\": [{\"error_x\": {\"color\": \"#2a3f5f\"}, \"error_y\": {\"color\": \"#2a3f5f\"}, \"marker\": {\"line\": {\"color\": \"#E5ECF6\", \"width\": 0.5}}, \"type\": \"bar\"}], \"barpolar\": [{\"marker\": {\"line\": {\"color\": \"#E5ECF6\", \"width\": 0.5}}, \"type\": \"barpolar\"}], \"carpet\": [{\"aaxis\": {\"endlinecolor\": \"#2a3f5f\", \"gridcolor\": \"white\", \"linecolor\": \"white\", \"minorgridcolor\": \"white\", \"startlinecolor\": \"#2a3f5f\"}, \"baxis\": {\"endlinecolor\": \"#2a3f5f\", \"gridcolor\": \"white\", \"linecolor\": \"white\", \"minorgridcolor\": \"white\", \"startlinecolor\": \"#2a3f5f\"}, \"type\": \"carpet\"}], \"choropleth\": [{\"colorbar\": {\"outlinewidth\": 0, \"ticks\": \"\"}, \"type\": \"choropleth\"}], \"contour\": [{\"colorbar\": {\"outlinewidth\": 0, \"ticks\": \"\"}, \"colorscale\": [[0.0, \"#0d0887\"], [0.1111111111111111, \"#46039f\"], [0.2222222222222222, \"#7201a8\"], [0.3333333333333333, \"#9c179e\"], [0.4444444444444444, \"#bd3786\"], [0.5555555555555556, \"#d8576b\"], [0.6666666666666666, \"#ed7953\"], [0.7777777777777778, \"#fb9f3a\"], [0.8888888888888888, \"#fdca26\"], [1.0, \"#f0f921\"]], \"type\": \"contour\"}], \"contourcarpet\": [{\"colorbar\": {\"outlinewidth\": 0, \"ticks\": \"\"}, \"type\": \"contourcarpet\"}], \"heatmap\": [{\"colorbar\": {\"outlinewidth\": 0, \"ticks\": \"\"}, \"colorscale\": [[0.0, \"#0d0887\"], [0.1111111111111111, \"#46039f\"], [0.2222222222222222, \"#7201a8\"], [0.3333333333333333, \"#9c179e\"], [0.4444444444444444, \"#bd3786\"], [0.5555555555555556, \"#d8576b\"], [0.6666666666666666, \"#ed7953\"], [0.7777777777777778, \"#fb9f3a\"], [0.8888888888888888, \"#fdca26\"], [1.0, \"#f0f921\"]], \"type\": \"heatmap\"}], \"heatmapgl\": [{\"colorbar\": {\"outlinewidth\": 0, \"ticks\": \"\"}, \"colorscale\": [[0.0, \"#0d0887\"], [0.1111111111111111, \"#46039f\"], [0.2222222222222222, \"#7201a8\"], [0.3333333333333333, \"#9c179e\"], [0.4444444444444444, \"#bd3786\"], [0.5555555555555556, \"#d8576b\"], [0.6666666666666666, \"#ed7953\"], [0.7777777777777778, \"#fb9f3a\"], [0.8888888888888888, \"#fdca26\"], [1.0, \"#f0f921\"]], \"type\": \"heatmapgl\"}], \"histogram\": [{\"marker\": {\"colorbar\": {\"outlinewidth\": 0, \"ticks\": \"\"}}, \"type\": \"histogram\"}], \"histogram2d\": [{\"colorbar\": {\"outlinewidth\": 0, \"ticks\": \"\"}, \"colorscale\": [[0.0, \"#0d0887\"], [0.1111111111111111, \"#46039f\"], [0.2222222222222222, \"#7201a8\"], [0.3333333333333333, \"#9c179e\"], [0.4444444444444444, \"#bd3786\"], [0.5555555555555556, \"#d8576b\"], [0.6666666666666666, \"#ed7953\"], [0.7777777777777778, \"#fb9f3a\"], [0.8888888888888888, \"#fdca26\"], [1.0, \"#f0f921\"]], \"type\": \"histogram2d\"}], \"histogram2dcontour\": [{\"colorbar\": {\"outlinewidth\": 0, \"ticks\": \"\"}, \"colorscale\": [[0.0, \"#0d0887\"], [0.1111111111111111, \"#46039f\"], [0.2222222222222222, \"#7201a8\"], [0.3333333333333333, \"#9c179e\"], [0.4444444444444444, \"#bd3786\"], [0.5555555555555556, \"#d8576b\"], [0.6666666666666666, \"#ed7953\"], [0.7777777777777778, \"#fb9f3a\"], [0.8888888888888888, \"#fdca26\"], [1.0, \"#f0f921\"]], \"type\": \"histogram2dcontour\"}], \"mesh3d\": [{\"colorbar\": {\"outlinewidth\": 0, \"ticks\": \"\"}, \"type\": \"mesh3d\"}], \"parcoords\": [{\"line\": {\"colorbar\": {\"outlinewidth\": 0, \"ticks\": \"\"}}, \"type\": \"parcoords\"}], \"pie\": [{\"automargin\": true, \"type\": \"pie\"}], \"scatter\": [{\"marker\": {\"colorbar\": {\"outlinewidth\": 0, \"ticks\": \"\"}}, \"type\": \"scatter\"}], \"scatter3d\": [{\"line\": {\"colorbar\": {\"outlinewidth\": 0, \"ticks\": \"\"}}, \"marker\": {\"colorbar\": {\"outlinewidth\": 0, \"ticks\": \"\"}}, \"type\": \"scatter3d\"}], \"scattercarpet\": [{\"marker\": {\"colorbar\": {\"outlinewidth\": 0, \"ticks\": \"\"}}, \"type\": \"scattercarpet\"}], \"scattergeo\": [{\"marker\": {\"colorbar\": {\"outlinewidth\": 0, \"ticks\": \"\"}}, \"type\": \"scattergeo\"}], \"scattergl\": [{\"marker\": {\"colorbar\": {\"outlinewidth\": 0, \"ticks\": \"\"}}, \"type\": \"scattergl\"}], \"scattermapbox\": [{\"marker\": {\"colorbar\": {\"outlinewidth\": 0, \"ticks\": \"\"}}, \"type\": \"scattermapbox\"}], \"scatterpolar\": [{\"marker\": {\"colorbar\": {\"outlinewidth\": 0, \"ticks\": \"\"}}, \"type\": \"scatterpolar\"}], \"scatterpolargl\": [{\"marker\": {\"colorbar\": {\"outlinewidth\": 0, \"ticks\": \"\"}}, \"type\": \"scatterpolargl\"}], \"scatterternary\": [{\"marker\": {\"colorbar\": {\"outlinewidth\": 0, \"ticks\": \"\"}}, \"type\": \"scatterternary\"}], \"surface\": [{\"colorbar\": {\"outlinewidth\": 0, \"ticks\": \"\"}, \"colorscale\": [[0.0, \"#0d0887\"], [0.1111111111111111, \"#46039f\"], [0.2222222222222222, \"#7201a8\"], [0.3333333333333333, \"#9c179e\"], [0.4444444444444444, \"#bd3786\"], [0.5555555555555556, \"#d8576b\"], [0.6666666666666666, \"#ed7953\"], [0.7777777777777778, \"#fb9f3a\"], [0.8888888888888888, \"#fdca26\"], [1.0, \"#f0f921\"]], \"type\": \"surface\"}], \"table\": [{\"cells\": {\"fill\": {\"color\": \"#EBF0F8\"}, \"line\": {\"color\": \"white\"}}, \"header\": {\"fill\": {\"color\": \"#C8D4E3\"}, \"line\": {\"color\": \"white\"}}, \"type\": \"table\"}]}, \"layout\": {\"annotationdefaults\": {\"arrowcolor\": \"#2a3f5f\", \"arrowhead\": 0, \"arrowwidth\": 1}, \"coloraxis\": {\"colorbar\": {\"outlinewidth\": 0, \"ticks\": \"\"}}, \"colorscale\": {\"diverging\": [[0, \"#8e0152\"], [0.1, \"#c51b7d\"], [0.2, \"#de77ae\"], [0.3, \"#f1b6da\"], [0.4, \"#fde0ef\"], [0.5, \"#f7f7f7\"], [0.6, \"#e6f5d0\"], [0.7, \"#b8e186\"], [0.8, \"#7fbc41\"], [0.9, \"#4d9221\"], [1, \"#276419\"]], \"sequential\": [[0.0, \"#0d0887\"], [0.1111111111111111, \"#46039f\"], [0.2222222222222222, \"#7201a8\"], [0.3333333333333333, \"#9c179e\"], [0.4444444444444444, \"#bd3786\"], [0.5555555555555556, \"#d8576b\"], [0.6666666666666666, \"#ed7953\"], [0.7777777777777778, \"#fb9f3a\"], [0.8888888888888888, \"#fdca26\"], [1.0, \"#f0f921\"]], \"sequentialminus\": [[0.0, \"#0d0887\"], [0.1111111111111111, \"#46039f\"], [0.2222222222222222, \"#7201a8\"], [0.3333333333333333, \"#9c179e\"], [0.4444444444444444, \"#bd3786\"], [0.5555555555555556, \"#d8576b\"], [0.6666666666666666, \"#ed7953\"], [0.7777777777777778, \"#fb9f3a\"], [0.8888888888888888, \"#fdca26\"], [1.0, \"#f0f921\"]]}, \"colorway\": [\"#636efa\", \"#EF553B\", \"#00cc96\", \"#ab63fa\", \"#FFA15A\", \"#19d3f3\", \"#FF6692\", \"#B6E880\", \"#FF97FF\", \"#FECB52\"], \"font\": {\"color\": \"#2a3f5f\"}, \"geo\": {\"bgcolor\": \"white\", \"lakecolor\": \"white\", \"landcolor\": \"#E5ECF6\", \"showlakes\": true, \"showland\": true, \"subunitcolor\": \"white\"}, \"hoverlabel\": {\"align\": \"left\"}, \"hovermode\": \"closest\", \"mapbox\": {\"style\": \"light\"}, \"paper_bgcolor\": \"white\", \"plot_bgcolor\": \"#E5ECF6\", \"polar\": {\"angularaxis\": {\"gridcolor\": \"white\", \"linecolor\": \"white\", \"ticks\": \"\"}, \"bgcolor\": \"#E5ECF6\", \"radialaxis\": {\"gridcolor\": \"white\", \"linecolor\": \"white\", \"ticks\": \"\"}}, \"scene\": {\"xaxis\": {\"backgroundcolor\": \"#E5ECF6\", \"gridcolor\": \"white\", \"gridwidth\": 2, \"linecolor\": \"white\", \"showbackground\": true, \"ticks\": \"\", \"zerolinecolor\": \"white\"}, \"yaxis\": {\"backgroundcolor\": \"#E5ECF6\", \"gridcolor\": \"white\", \"gridwidth\": 2, \"linecolor\": \"white\", \"showbackground\": true, \"ticks\": \"\", \"zerolinecolor\": \"white\"}, \"zaxis\": {\"backgroundcolor\": \"#E5ECF6\", \"gridcolor\": \"white\", \"gridwidth\": 2, \"linecolor\": \"white\", \"showbackground\": true, \"ticks\": \"\", \"zerolinecolor\": \"white\"}}, \"shapedefaults\": {\"line\": {\"color\": \"#2a3f5f\"}}, \"ternary\": {\"aaxis\": {\"gridcolor\": \"white\", \"linecolor\": \"white\", \"ticks\": \"\"}, \"baxis\": {\"gridcolor\": \"white\", \"linecolor\": \"white\", \"ticks\": \"\"}, \"bgcolor\": \"#E5ECF6\", \"caxis\": {\"gridcolor\": \"white\", \"linecolor\": \"white\", \"ticks\": \"\"}}, \"title\": {\"x\": 0.05}, \"xaxis\": {\"automargin\": true, \"gridcolor\": \"white\", \"linecolor\": \"white\", \"ticks\": \"\", \"title\": {\"standoff\": 15}, \"zerolinecolor\": \"white\", \"zerolinewidth\": 2}, \"yaxis\": {\"automargin\": true, \"gridcolor\": \"white\", \"linecolor\": \"white\", \"ticks\": \"\", \"title\": {\"standoff\": 15}, \"zerolinecolor\": \"white\", \"zerolinewidth\": 2}}}, \"title\": {\"text\": \"Hamming loss per batch size\"}, \"xaxis\": {\"title\": {\"text\": \"Model number\"}, \"type\": \"category\"}, \"yaxis\": {\"title\": {\"text\": \"Hamming loss value/model\"}}},\n",
       "                        {\"responsive\": true}\n",
       "                    ).then(function(){\n",
       "                            \n",
       "var gd = document.getElementById('cdf563cf-6eab-4757-ac39-0d12a6addc2a');\n",
       "var x = new MutationObserver(function (mutations, observer) {{\n",
       "        var display = window.getComputedStyle(gd).display;\n",
       "        if (!display || display === 'none') {{\n",
       "            console.log([gd, 'removed!']);\n",
       "            Plotly.purge(gd);\n",
       "            observer.disconnect();\n",
       "        }}\n",
       "}});\n",
       "\n",
       "// Listen for the removal of the full notebook cells\n",
       "var notebookContainer = gd.closest('#notebook-container');\n",
       "if (notebookContainer) {{\n",
       "    x.observe(notebookContainer, {childList: true});\n",
       "}}\n",
       "\n",
       "// Listen for the clearing of the current output cell\n",
       "var outputEl = gd.closest('.output');\n",
       "if (outputEl) {{\n",
       "    x.observe(outputEl, {childList: true});\n",
       "}}\n",
       "\n",
       "                        })\n",
       "                };\n",
       "                });\n",
       "            </script>\n",
       "        </div>"
      ]
     },
     "metadata": {},
     "output_type": "display_data"
    }
   ],
   "source": [
    "colormin = 'red'\n",
    "clrgrn = 'black'\n",
    "clrs  = [clrred if result['Hamming Loss'].iloc[row]== result['Hamming Loss'].min() else clrgrn for row in range(len(result['Hamming Loss']))]\n",
    "\n",
    "x=result['Embedding tag'].values.tolist()\n",
    "y=result['Hamming Loss'].values.tolist()\n",
    "fig3 = go.Figure()\n",
    "fig3.add_trace(go.Scatter(x=x, \n",
    "                          y=y,\n",
    "                          mode='markers',\n",
    "                          marker=dict(color=clrs),\n",
    "                          text=result['Batch tag'].tolist()\n",
    "                        ))\n",
    "fig3.update_layout(title=\"Hamming loss per embedding dimension\",\n",
    "                   xaxis_type='category',\n",
    "                   xaxis_title=\"Model number\",\n",
    "                   yaxis_title=\"Hamming loss value/model\",\n",
    "                   showlegend=True)\n",
    "\n",
    "fig3.update_layout(showlegend=False,\n",
    "                   annotations=[dict(x=50,y=result['Hamming Loss'].min(),xref=\"x\",yref=\"y\",text=\"Lowest value on 50-dim\",showarrow=True,arrowhead=5,ax=0,ay=-40)])\n",
    "\n",
    "fig3.add_annotation(x=100,y=result['Hamming Loss'][result['Embedding tag']==100].min(),text=\"Lowest value on 100-dim\", showarrow=True,arrowhead=5,ax=0,ay=-40)\n",
    "fig3.add_annotation(x=200,y=result['Hamming Loss'][result['Embedding tag']==200].min(),text=\"Lowest value on 200-dim\", showarrow=True,arrowhead=5,ax=80,ay=-20)\n",
    "fig3.add_annotation(x=300,y=result['Hamming Loss'][result['Embedding tag']==300].min(),text=\"Lowest value on 300-dim\", showarrow=True,arrowhead=5,ax=110,ay=0)\n",
    "\n",
    "fig3.show()\n",
    "\n",
    "#--------------------------------------------------------------------------\n",
    "\n",
    "fig4 = go.Figure()\n",
    "fig4.add_trace(go.Scatter(x=result['Batch tag'].values.tolist(), \n",
    "                          y=result['Hamming Loss'].values.tolist(),\n",
    "                          mode='markers',\n",
    "                          marker=dict(color=clrs),\n",
    "                          text=result['Embedding tag'].tolist()\n",
    "                         ))\n",
    "\n",
    "fig4.update_layout(title=\"Hamming loss per batch size\",\n",
    "                   xaxis_type='category',\n",
    "                   xaxis_title=\"Model number\",\n",
    "                   yaxis_title=\"Hamming loss value/model\")\n",
    "fig4.show()"
   ]
  },
  {
   "cell_type": "markdown",
   "metadata": {},
   "source": [
    "**Comparison 2: Test Accuracy - Test Score/Loss**"
   ]
  },
  {
   "cell_type": "code",
   "execution_count": 207,
   "metadata": {},
   "outputs": [
    {
     "data": {
      "application/vnd.plotly.v1+json": {
       "config": {
        "plotlyServerURL": "https://plot.ly"
       },
       "data": [
        {
         "marker": {
          "color": [
           "black",
           "black",
           "black",
           "red",
           "black",
           "black",
           "black",
           "black",
           "black",
           "black",
           "black",
           "black",
           "black",
           "black",
           "black",
           "black"
          ]
         },
         "mode": "markers",
         "type": "scatter",
         "x": [
          "model one",
          "model two",
          "model three",
          "model four",
          "model five",
          "model six",
          "model seven",
          "model eight",
          "model nine",
          "model ten",
          "model eleven",
          "model twelve",
          "model thirteen",
          "model fourteen",
          "model fifteen",
          "model sixteen"
         ],
         "y": [
          0.9915386438369751,
          0.9935476779937744,
          0.9947357177734375,
          0.9956898093223572,
          0.9911186695098877,
          0.994376003742218,
          0.9955162405967712,
          0.9944532513618469,
          0.993621826171875,
          0.9949951171875,
          0.9942732453346252,
          0.9950714707374573,
          0.9914182424545288,
          0.9952768683433533,
          0.9953838586807251,
          0.9948674440383911
         ]
        }
       ],
       "layout": {
        "template": {
         "data": {
          "bar": [
           {
            "error_x": {
             "color": "#2a3f5f"
            },
            "error_y": {
             "color": "#2a3f5f"
            },
            "marker": {
             "line": {
              "color": "#E5ECF6",
              "width": 0.5
             }
            },
            "type": "bar"
           }
          ],
          "barpolar": [
           {
            "marker": {
             "line": {
              "color": "#E5ECF6",
              "width": 0.5
             }
            },
            "type": "barpolar"
           }
          ],
          "carpet": [
           {
            "aaxis": {
             "endlinecolor": "#2a3f5f",
             "gridcolor": "white",
             "linecolor": "white",
             "minorgridcolor": "white",
             "startlinecolor": "#2a3f5f"
            },
            "baxis": {
             "endlinecolor": "#2a3f5f",
             "gridcolor": "white",
             "linecolor": "white",
             "minorgridcolor": "white",
             "startlinecolor": "#2a3f5f"
            },
            "type": "carpet"
           }
          ],
          "choropleth": [
           {
            "colorbar": {
             "outlinewidth": 0,
             "ticks": ""
            },
            "type": "choropleth"
           }
          ],
          "contour": [
           {
            "colorbar": {
             "outlinewidth": 0,
             "ticks": ""
            },
            "colorscale": [
             [
              0,
              "#0d0887"
             ],
             [
              0.1111111111111111,
              "#46039f"
             ],
             [
              0.2222222222222222,
              "#7201a8"
             ],
             [
              0.3333333333333333,
              "#9c179e"
             ],
             [
              0.4444444444444444,
              "#bd3786"
             ],
             [
              0.5555555555555556,
              "#d8576b"
             ],
             [
              0.6666666666666666,
              "#ed7953"
             ],
             [
              0.7777777777777778,
              "#fb9f3a"
             ],
             [
              0.8888888888888888,
              "#fdca26"
             ],
             [
              1,
              "#f0f921"
             ]
            ],
            "type": "contour"
           }
          ],
          "contourcarpet": [
           {
            "colorbar": {
             "outlinewidth": 0,
             "ticks": ""
            },
            "type": "contourcarpet"
           }
          ],
          "heatmap": [
           {
            "colorbar": {
             "outlinewidth": 0,
             "ticks": ""
            },
            "colorscale": [
             [
              0,
              "#0d0887"
             ],
             [
              0.1111111111111111,
              "#46039f"
             ],
             [
              0.2222222222222222,
              "#7201a8"
             ],
             [
              0.3333333333333333,
              "#9c179e"
             ],
             [
              0.4444444444444444,
              "#bd3786"
             ],
             [
              0.5555555555555556,
              "#d8576b"
             ],
             [
              0.6666666666666666,
              "#ed7953"
             ],
             [
              0.7777777777777778,
              "#fb9f3a"
             ],
             [
              0.8888888888888888,
              "#fdca26"
             ],
             [
              1,
              "#f0f921"
             ]
            ],
            "type": "heatmap"
           }
          ],
          "heatmapgl": [
           {
            "colorbar": {
             "outlinewidth": 0,
             "ticks": ""
            },
            "colorscale": [
             [
              0,
              "#0d0887"
             ],
             [
              0.1111111111111111,
              "#46039f"
             ],
             [
              0.2222222222222222,
              "#7201a8"
             ],
             [
              0.3333333333333333,
              "#9c179e"
             ],
             [
              0.4444444444444444,
              "#bd3786"
             ],
             [
              0.5555555555555556,
              "#d8576b"
             ],
             [
              0.6666666666666666,
              "#ed7953"
             ],
             [
              0.7777777777777778,
              "#fb9f3a"
             ],
             [
              0.8888888888888888,
              "#fdca26"
             ],
             [
              1,
              "#f0f921"
             ]
            ],
            "type": "heatmapgl"
           }
          ],
          "histogram": [
           {
            "marker": {
             "colorbar": {
              "outlinewidth": 0,
              "ticks": ""
             }
            },
            "type": "histogram"
           }
          ],
          "histogram2d": [
           {
            "colorbar": {
             "outlinewidth": 0,
             "ticks": ""
            },
            "colorscale": [
             [
              0,
              "#0d0887"
             ],
             [
              0.1111111111111111,
              "#46039f"
             ],
             [
              0.2222222222222222,
              "#7201a8"
             ],
             [
              0.3333333333333333,
              "#9c179e"
             ],
             [
              0.4444444444444444,
              "#bd3786"
             ],
             [
              0.5555555555555556,
              "#d8576b"
             ],
             [
              0.6666666666666666,
              "#ed7953"
             ],
             [
              0.7777777777777778,
              "#fb9f3a"
             ],
             [
              0.8888888888888888,
              "#fdca26"
             ],
             [
              1,
              "#f0f921"
             ]
            ],
            "type": "histogram2d"
           }
          ],
          "histogram2dcontour": [
           {
            "colorbar": {
             "outlinewidth": 0,
             "ticks": ""
            },
            "colorscale": [
             [
              0,
              "#0d0887"
             ],
             [
              0.1111111111111111,
              "#46039f"
             ],
             [
              0.2222222222222222,
              "#7201a8"
             ],
             [
              0.3333333333333333,
              "#9c179e"
             ],
             [
              0.4444444444444444,
              "#bd3786"
             ],
             [
              0.5555555555555556,
              "#d8576b"
             ],
             [
              0.6666666666666666,
              "#ed7953"
             ],
             [
              0.7777777777777778,
              "#fb9f3a"
             ],
             [
              0.8888888888888888,
              "#fdca26"
             ],
             [
              1,
              "#f0f921"
             ]
            ],
            "type": "histogram2dcontour"
           }
          ],
          "mesh3d": [
           {
            "colorbar": {
             "outlinewidth": 0,
             "ticks": ""
            },
            "type": "mesh3d"
           }
          ],
          "parcoords": [
           {
            "line": {
             "colorbar": {
              "outlinewidth": 0,
              "ticks": ""
             }
            },
            "type": "parcoords"
           }
          ],
          "pie": [
           {
            "automargin": true,
            "type": "pie"
           }
          ],
          "scatter": [
           {
            "marker": {
             "colorbar": {
              "outlinewidth": 0,
              "ticks": ""
             }
            },
            "type": "scatter"
           }
          ],
          "scatter3d": [
           {
            "line": {
             "colorbar": {
              "outlinewidth": 0,
              "ticks": ""
             }
            },
            "marker": {
             "colorbar": {
              "outlinewidth": 0,
              "ticks": ""
             }
            },
            "type": "scatter3d"
           }
          ],
          "scattercarpet": [
           {
            "marker": {
             "colorbar": {
              "outlinewidth": 0,
              "ticks": ""
             }
            },
            "type": "scattercarpet"
           }
          ],
          "scattergeo": [
           {
            "marker": {
             "colorbar": {
              "outlinewidth": 0,
              "ticks": ""
             }
            },
            "type": "scattergeo"
           }
          ],
          "scattergl": [
           {
            "marker": {
             "colorbar": {
              "outlinewidth": 0,
              "ticks": ""
             }
            },
            "type": "scattergl"
           }
          ],
          "scattermapbox": [
           {
            "marker": {
             "colorbar": {
              "outlinewidth": 0,
              "ticks": ""
             }
            },
            "type": "scattermapbox"
           }
          ],
          "scatterpolar": [
           {
            "marker": {
             "colorbar": {
              "outlinewidth": 0,
              "ticks": ""
             }
            },
            "type": "scatterpolar"
           }
          ],
          "scatterpolargl": [
           {
            "marker": {
             "colorbar": {
              "outlinewidth": 0,
              "ticks": ""
             }
            },
            "type": "scatterpolargl"
           }
          ],
          "scatterternary": [
           {
            "marker": {
             "colorbar": {
              "outlinewidth": 0,
              "ticks": ""
             }
            },
            "type": "scatterternary"
           }
          ],
          "surface": [
           {
            "colorbar": {
             "outlinewidth": 0,
             "ticks": ""
            },
            "colorscale": [
             [
              0,
              "#0d0887"
             ],
             [
              0.1111111111111111,
              "#46039f"
             ],
             [
              0.2222222222222222,
              "#7201a8"
             ],
             [
              0.3333333333333333,
              "#9c179e"
             ],
             [
              0.4444444444444444,
              "#bd3786"
             ],
             [
              0.5555555555555556,
              "#d8576b"
             ],
             [
              0.6666666666666666,
              "#ed7953"
             ],
             [
              0.7777777777777778,
              "#fb9f3a"
             ],
             [
              0.8888888888888888,
              "#fdca26"
             ],
             [
              1,
              "#f0f921"
             ]
            ],
            "type": "surface"
           }
          ],
          "table": [
           {
            "cells": {
             "fill": {
              "color": "#EBF0F8"
             },
             "line": {
              "color": "white"
             }
            },
            "header": {
             "fill": {
              "color": "#C8D4E3"
             },
             "line": {
              "color": "white"
             }
            },
            "type": "table"
           }
          ]
         },
         "layout": {
          "annotationdefaults": {
           "arrowcolor": "#2a3f5f",
           "arrowhead": 0,
           "arrowwidth": 1
          },
          "coloraxis": {
           "colorbar": {
            "outlinewidth": 0,
            "ticks": ""
           }
          },
          "colorscale": {
           "diverging": [
            [
             0,
             "#8e0152"
            ],
            [
             0.1,
             "#c51b7d"
            ],
            [
             0.2,
             "#de77ae"
            ],
            [
             0.3,
             "#f1b6da"
            ],
            [
             0.4,
             "#fde0ef"
            ],
            [
             0.5,
             "#f7f7f7"
            ],
            [
             0.6,
             "#e6f5d0"
            ],
            [
             0.7,
             "#b8e186"
            ],
            [
             0.8,
             "#7fbc41"
            ],
            [
             0.9,
             "#4d9221"
            ],
            [
             1,
             "#276419"
            ]
           ],
           "sequential": [
            [
             0,
             "#0d0887"
            ],
            [
             0.1111111111111111,
             "#46039f"
            ],
            [
             0.2222222222222222,
             "#7201a8"
            ],
            [
             0.3333333333333333,
             "#9c179e"
            ],
            [
             0.4444444444444444,
             "#bd3786"
            ],
            [
             0.5555555555555556,
             "#d8576b"
            ],
            [
             0.6666666666666666,
             "#ed7953"
            ],
            [
             0.7777777777777778,
             "#fb9f3a"
            ],
            [
             0.8888888888888888,
             "#fdca26"
            ],
            [
             1,
             "#f0f921"
            ]
           ],
           "sequentialminus": [
            [
             0,
             "#0d0887"
            ],
            [
             0.1111111111111111,
             "#46039f"
            ],
            [
             0.2222222222222222,
             "#7201a8"
            ],
            [
             0.3333333333333333,
             "#9c179e"
            ],
            [
             0.4444444444444444,
             "#bd3786"
            ],
            [
             0.5555555555555556,
             "#d8576b"
            ],
            [
             0.6666666666666666,
             "#ed7953"
            ],
            [
             0.7777777777777778,
             "#fb9f3a"
            ],
            [
             0.8888888888888888,
             "#fdca26"
            ],
            [
             1,
             "#f0f921"
            ]
           ]
          },
          "colorway": [
           "#636efa",
           "#EF553B",
           "#00cc96",
           "#ab63fa",
           "#FFA15A",
           "#19d3f3",
           "#FF6692",
           "#B6E880",
           "#FF97FF",
           "#FECB52"
          ],
          "font": {
           "color": "#2a3f5f"
          },
          "geo": {
           "bgcolor": "white",
           "lakecolor": "white",
           "landcolor": "#E5ECF6",
           "showlakes": true,
           "showland": true,
           "subunitcolor": "white"
          },
          "hoverlabel": {
           "align": "left"
          },
          "hovermode": "closest",
          "mapbox": {
           "style": "light"
          },
          "paper_bgcolor": "white",
          "plot_bgcolor": "#E5ECF6",
          "polar": {
           "angularaxis": {
            "gridcolor": "white",
            "linecolor": "white",
            "ticks": ""
           },
           "bgcolor": "#E5ECF6",
           "radialaxis": {
            "gridcolor": "white",
            "linecolor": "white",
            "ticks": ""
           }
          },
          "scene": {
           "xaxis": {
            "backgroundcolor": "#E5ECF6",
            "gridcolor": "white",
            "gridwidth": 2,
            "linecolor": "white",
            "showbackground": true,
            "ticks": "",
            "zerolinecolor": "white"
           },
           "yaxis": {
            "backgroundcolor": "#E5ECF6",
            "gridcolor": "white",
            "gridwidth": 2,
            "linecolor": "white",
            "showbackground": true,
            "ticks": "",
            "zerolinecolor": "white"
           },
           "zaxis": {
            "backgroundcolor": "#E5ECF6",
            "gridcolor": "white",
            "gridwidth": 2,
            "linecolor": "white",
            "showbackground": true,
            "ticks": "",
            "zerolinecolor": "white"
           }
          },
          "shapedefaults": {
           "line": {
            "color": "#2a3f5f"
           }
          },
          "ternary": {
           "aaxis": {
            "gridcolor": "white",
            "linecolor": "white",
            "ticks": ""
           },
           "baxis": {
            "gridcolor": "white",
            "linecolor": "white",
            "ticks": ""
           },
           "bgcolor": "#E5ECF6",
           "caxis": {
            "gridcolor": "white",
            "linecolor": "white",
            "ticks": ""
           }
          },
          "title": {
           "x": 0.05
          },
          "xaxis": {
           "automargin": true,
           "gridcolor": "white",
           "linecolor": "white",
           "ticks": "",
           "title": {
            "standoff": 15
           },
           "zerolinecolor": "white",
           "zerolinewidth": 2
          },
          "yaxis": {
           "automargin": true,
           "gridcolor": "white",
           "linecolor": "white",
           "ticks": "",
           "title": {
            "standoff": 15
           },
           "zerolinecolor": "white",
           "zerolinewidth": 2
          }
         }
        },
        "title": {
         "text": "Accuracy on test set per model"
        },
        "xaxis": {
         "title": {
          "text": "Model number"
         }
        },
        "yaxis": {
         "title": {
          "text": "Accuracy value/model"
         }
        }
       }
      },
      "text/html": [
       "<div>\n",
       "        \n",
       "        \n",
       "            <div id=\"0a393ace-1ee4-4e90-bc46-29f5249b209c\" class=\"plotly-graph-div\" style=\"height:525px; width:100%;\"></div>\n",
       "            <script type=\"text/javascript\">\n",
       "                require([\"plotly\"], function(Plotly) {\n",
       "                    window.PLOTLYENV=window.PLOTLYENV || {};\n",
       "                    \n",
       "                if (document.getElementById(\"0a393ace-1ee4-4e90-bc46-29f5249b209c\")) {\n",
       "                    Plotly.newPlot(\n",
       "                        '0a393ace-1ee4-4e90-bc46-29f5249b209c',\n",
       "                        [{\"marker\": {\"color\": [\"black\", \"black\", \"black\", \"red\", \"black\", \"black\", \"black\", \"black\", \"black\", \"black\", \"black\", \"black\", \"black\", \"black\", \"black\", \"black\"]}, \"mode\": \"markers\", \"type\": \"scatter\", \"x\": [\"model one\", \"model two\", \"model three\", \"model four\", \"model five\", \"model six\", \"model seven\", \"model eight\", \"model nine\", \"model ten\", \"model eleven\", \"model twelve\", \"model thirteen\", \"model fourteen\", \"model fifteen\", \"model sixteen\"], \"y\": [0.9915386438369751, 0.9935476779937744, 0.9947357177734375, 0.9956898093223572, 0.9911186695098877, 0.994376003742218, 0.9955162405967712, 0.9944532513618469, 0.993621826171875, 0.9949951171875, 0.9942732453346252, 0.9950714707374573, 0.9914182424545288, 0.9952768683433533, 0.9953838586807251, 0.9948674440383911]}],\n",
       "                        {\"template\": {\"data\": {\"bar\": [{\"error_x\": {\"color\": \"#2a3f5f\"}, \"error_y\": {\"color\": \"#2a3f5f\"}, \"marker\": {\"line\": {\"color\": \"#E5ECF6\", \"width\": 0.5}}, \"type\": \"bar\"}], \"barpolar\": [{\"marker\": {\"line\": {\"color\": \"#E5ECF6\", \"width\": 0.5}}, \"type\": \"barpolar\"}], \"carpet\": [{\"aaxis\": {\"endlinecolor\": \"#2a3f5f\", \"gridcolor\": \"white\", \"linecolor\": \"white\", \"minorgridcolor\": \"white\", \"startlinecolor\": \"#2a3f5f\"}, \"baxis\": {\"endlinecolor\": \"#2a3f5f\", \"gridcolor\": \"white\", \"linecolor\": \"white\", \"minorgridcolor\": \"white\", \"startlinecolor\": \"#2a3f5f\"}, \"type\": \"carpet\"}], \"choropleth\": [{\"colorbar\": {\"outlinewidth\": 0, \"ticks\": \"\"}, \"type\": \"choropleth\"}], \"contour\": [{\"colorbar\": {\"outlinewidth\": 0, \"ticks\": \"\"}, \"colorscale\": [[0.0, \"#0d0887\"], [0.1111111111111111, \"#46039f\"], [0.2222222222222222, \"#7201a8\"], [0.3333333333333333, \"#9c179e\"], [0.4444444444444444, \"#bd3786\"], [0.5555555555555556, \"#d8576b\"], [0.6666666666666666, \"#ed7953\"], [0.7777777777777778, \"#fb9f3a\"], [0.8888888888888888, \"#fdca26\"], [1.0, \"#f0f921\"]], \"type\": \"contour\"}], \"contourcarpet\": [{\"colorbar\": {\"outlinewidth\": 0, \"ticks\": \"\"}, \"type\": \"contourcarpet\"}], \"heatmap\": [{\"colorbar\": {\"outlinewidth\": 0, \"ticks\": \"\"}, \"colorscale\": [[0.0, \"#0d0887\"], [0.1111111111111111, \"#46039f\"], [0.2222222222222222, \"#7201a8\"], [0.3333333333333333, \"#9c179e\"], [0.4444444444444444, \"#bd3786\"], [0.5555555555555556, \"#d8576b\"], [0.6666666666666666, \"#ed7953\"], [0.7777777777777778, \"#fb9f3a\"], [0.8888888888888888, \"#fdca26\"], [1.0, \"#f0f921\"]], \"type\": \"heatmap\"}], \"heatmapgl\": [{\"colorbar\": {\"outlinewidth\": 0, \"ticks\": \"\"}, \"colorscale\": [[0.0, \"#0d0887\"], [0.1111111111111111, \"#46039f\"], [0.2222222222222222, \"#7201a8\"], [0.3333333333333333, \"#9c179e\"], [0.4444444444444444, \"#bd3786\"], [0.5555555555555556, \"#d8576b\"], [0.6666666666666666, \"#ed7953\"], [0.7777777777777778, \"#fb9f3a\"], [0.8888888888888888, \"#fdca26\"], [1.0, \"#f0f921\"]], \"type\": \"heatmapgl\"}], \"histogram\": [{\"marker\": {\"colorbar\": {\"outlinewidth\": 0, \"ticks\": \"\"}}, \"type\": \"histogram\"}], \"histogram2d\": [{\"colorbar\": {\"outlinewidth\": 0, \"ticks\": \"\"}, \"colorscale\": [[0.0, \"#0d0887\"], [0.1111111111111111, \"#46039f\"], [0.2222222222222222, \"#7201a8\"], [0.3333333333333333, \"#9c179e\"], [0.4444444444444444, \"#bd3786\"], [0.5555555555555556, \"#d8576b\"], [0.6666666666666666, \"#ed7953\"], [0.7777777777777778, \"#fb9f3a\"], [0.8888888888888888, \"#fdca26\"], [1.0, \"#f0f921\"]], \"type\": \"histogram2d\"}], \"histogram2dcontour\": [{\"colorbar\": {\"outlinewidth\": 0, \"ticks\": \"\"}, \"colorscale\": [[0.0, \"#0d0887\"], [0.1111111111111111, \"#46039f\"], [0.2222222222222222, \"#7201a8\"], [0.3333333333333333, \"#9c179e\"], [0.4444444444444444, \"#bd3786\"], [0.5555555555555556, \"#d8576b\"], [0.6666666666666666, \"#ed7953\"], [0.7777777777777778, \"#fb9f3a\"], [0.8888888888888888, \"#fdca26\"], [1.0, \"#f0f921\"]], \"type\": \"histogram2dcontour\"}], \"mesh3d\": [{\"colorbar\": {\"outlinewidth\": 0, \"ticks\": \"\"}, \"type\": \"mesh3d\"}], \"parcoords\": [{\"line\": {\"colorbar\": {\"outlinewidth\": 0, \"ticks\": \"\"}}, \"type\": \"parcoords\"}], \"pie\": [{\"automargin\": true, \"type\": \"pie\"}], \"scatter\": [{\"marker\": {\"colorbar\": {\"outlinewidth\": 0, \"ticks\": \"\"}}, \"type\": \"scatter\"}], \"scatter3d\": [{\"line\": {\"colorbar\": {\"outlinewidth\": 0, \"ticks\": \"\"}}, \"marker\": {\"colorbar\": {\"outlinewidth\": 0, \"ticks\": \"\"}}, \"type\": \"scatter3d\"}], \"scattercarpet\": [{\"marker\": {\"colorbar\": {\"outlinewidth\": 0, \"ticks\": \"\"}}, \"type\": \"scattercarpet\"}], \"scattergeo\": [{\"marker\": {\"colorbar\": {\"outlinewidth\": 0, \"ticks\": \"\"}}, \"type\": \"scattergeo\"}], \"scattergl\": [{\"marker\": {\"colorbar\": {\"outlinewidth\": 0, \"ticks\": \"\"}}, \"type\": \"scattergl\"}], \"scattermapbox\": [{\"marker\": {\"colorbar\": {\"outlinewidth\": 0, \"ticks\": \"\"}}, \"type\": \"scattermapbox\"}], \"scatterpolar\": [{\"marker\": {\"colorbar\": {\"outlinewidth\": 0, \"ticks\": \"\"}}, \"type\": \"scatterpolar\"}], \"scatterpolargl\": [{\"marker\": {\"colorbar\": {\"outlinewidth\": 0, \"ticks\": \"\"}}, \"type\": \"scatterpolargl\"}], \"scatterternary\": [{\"marker\": {\"colorbar\": {\"outlinewidth\": 0, \"ticks\": \"\"}}, \"type\": \"scatterternary\"}], \"surface\": [{\"colorbar\": {\"outlinewidth\": 0, \"ticks\": \"\"}, \"colorscale\": [[0.0, \"#0d0887\"], [0.1111111111111111, \"#46039f\"], [0.2222222222222222, \"#7201a8\"], [0.3333333333333333, \"#9c179e\"], [0.4444444444444444, \"#bd3786\"], [0.5555555555555556, \"#d8576b\"], [0.6666666666666666, \"#ed7953\"], [0.7777777777777778, \"#fb9f3a\"], [0.8888888888888888, \"#fdca26\"], [1.0, \"#f0f921\"]], \"type\": \"surface\"}], \"table\": [{\"cells\": {\"fill\": {\"color\": \"#EBF0F8\"}, \"line\": {\"color\": \"white\"}}, \"header\": {\"fill\": {\"color\": \"#C8D4E3\"}, \"line\": {\"color\": \"white\"}}, \"type\": \"table\"}]}, \"layout\": {\"annotationdefaults\": {\"arrowcolor\": \"#2a3f5f\", \"arrowhead\": 0, \"arrowwidth\": 1}, \"coloraxis\": {\"colorbar\": {\"outlinewidth\": 0, \"ticks\": \"\"}}, \"colorscale\": {\"diverging\": [[0, \"#8e0152\"], [0.1, \"#c51b7d\"], [0.2, \"#de77ae\"], [0.3, \"#f1b6da\"], [0.4, \"#fde0ef\"], [0.5, \"#f7f7f7\"], [0.6, \"#e6f5d0\"], [0.7, \"#b8e186\"], [0.8, \"#7fbc41\"], [0.9, \"#4d9221\"], [1, \"#276419\"]], \"sequential\": [[0.0, \"#0d0887\"], [0.1111111111111111, \"#46039f\"], [0.2222222222222222, \"#7201a8\"], [0.3333333333333333, \"#9c179e\"], [0.4444444444444444, \"#bd3786\"], [0.5555555555555556, \"#d8576b\"], [0.6666666666666666, \"#ed7953\"], [0.7777777777777778, \"#fb9f3a\"], [0.8888888888888888, \"#fdca26\"], [1.0, \"#f0f921\"]], \"sequentialminus\": [[0.0, \"#0d0887\"], [0.1111111111111111, \"#46039f\"], [0.2222222222222222, \"#7201a8\"], [0.3333333333333333, \"#9c179e\"], [0.4444444444444444, \"#bd3786\"], [0.5555555555555556, \"#d8576b\"], [0.6666666666666666, \"#ed7953\"], [0.7777777777777778, \"#fb9f3a\"], [0.8888888888888888, \"#fdca26\"], [1.0, \"#f0f921\"]]}, \"colorway\": [\"#636efa\", \"#EF553B\", \"#00cc96\", \"#ab63fa\", \"#FFA15A\", \"#19d3f3\", \"#FF6692\", \"#B6E880\", \"#FF97FF\", \"#FECB52\"], \"font\": {\"color\": \"#2a3f5f\"}, \"geo\": {\"bgcolor\": \"white\", \"lakecolor\": \"white\", \"landcolor\": \"#E5ECF6\", \"showlakes\": true, \"showland\": true, \"subunitcolor\": \"white\"}, \"hoverlabel\": {\"align\": \"left\"}, \"hovermode\": \"closest\", \"mapbox\": {\"style\": \"light\"}, \"paper_bgcolor\": \"white\", \"plot_bgcolor\": \"#E5ECF6\", \"polar\": {\"angularaxis\": {\"gridcolor\": \"white\", \"linecolor\": \"white\", \"ticks\": \"\"}, \"bgcolor\": \"#E5ECF6\", \"radialaxis\": {\"gridcolor\": \"white\", \"linecolor\": \"white\", \"ticks\": \"\"}}, \"scene\": {\"xaxis\": {\"backgroundcolor\": \"#E5ECF6\", \"gridcolor\": \"white\", \"gridwidth\": 2, \"linecolor\": \"white\", \"showbackground\": true, \"ticks\": \"\", \"zerolinecolor\": \"white\"}, \"yaxis\": {\"backgroundcolor\": \"#E5ECF6\", \"gridcolor\": \"white\", \"gridwidth\": 2, \"linecolor\": \"white\", \"showbackground\": true, \"ticks\": \"\", \"zerolinecolor\": \"white\"}, \"zaxis\": {\"backgroundcolor\": \"#E5ECF6\", \"gridcolor\": \"white\", \"gridwidth\": 2, \"linecolor\": \"white\", \"showbackground\": true, \"ticks\": \"\", \"zerolinecolor\": \"white\"}}, \"shapedefaults\": {\"line\": {\"color\": \"#2a3f5f\"}}, \"ternary\": {\"aaxis\": {\"gridcolor\": \"white\", \"linecolor\": \"white\", \"ticks\": \"\"}, \"baxis\": {\"gridcolor\": \"white\", \"linecolor\": \"white\", \"ticks\": \"\"}, \"bgcolor\": \"#E5ECF6\", \"caxis\": {\"gridcolor\": \"white\", \"linecolor\": \"white\", \"ticks\": \"\"}}, \"title\": {\"x\": 0.05}, \"xaxis\": {\"automargin\": true, \"gridcolor\": \"white\", \"linecolor\": \"white\", \"ticks\": \"\", \"title\": {\"standoff\": 15}, \"zerolinecolor\": \"white\", \"zerolinewidth\": 2}, \"yaxis\": {\"automargin\": true, \"gridcolor\": \"white\", \"linecolor\": \"white\", \"ticks\": \"\", \"title\": {\"standoff\": 15}, \"zerolinecolor\": \"white\", \"zerolinewidth\": 2}}}, \"title\": {\"text\": \"Accuracy on test set per model\"}, \"xaxis\": {\"title\": {\"text\": \"Model number\"}}, \"yaxis\": {\"title\": {\"text\": \"Accuracy value/model\"}}},\n",
       "                        {\"responsive\": true}\n",
       "                    ).then(function(){\n",
       "                            \n",
       "var gd = document.getElementById('0a393ace-1ee4-4e90-bc46-29f5249b209c');\n",
       "var x = new MutationObserver(function (mutations, observer) {{\n",
       "        var display = window.getComputedStyle(gd).display;\n",
       "        if (!display || display === 'none') {{\n",
       "            console.log([gd, 'removed!']);\n",
       "            Plotly.purge(gd);\n",
       "            observer.disconnect();\n",
       "        }}\n",
       "}});\n",
       "\n",
       "// Listen for the removal of the full notebook cells\n",
       "var notebookContainer = gd.closest('#notebook-container');\n",
       "if (notebookContainer) {{\n",
       "    x.observe(notebookContainer, {childList: true});\n",
       "}}\n",
       "\n",
       "// Listen for the clearing of the current output cell\n",
       "var outputEl = gd.closest('.output');\n",
       "if (outputEl) {{\n",
       "    x.observe(outputEl, {childList: true});\n",
       "}}\n",
       "\n",
       "                        })\n",
       "                };\n",
       "                });\n",
       "            </script>\n",
       "        </div>"
      ]
     },
     "metadata": {},
     "output_type": "display_data"
    },
    {
     "data": {
      "application/vnd.plotly.v1+json": {
       "config": {
        "plotlyServerURL": "https://plot.ly"
       },
       "data": [
        {
         "marker": {
          "color": [
           "black",
           "black",
           "black",
           "red",
           "black",
           "black",
           "black",
           "black",
           "black",
           "black",
           "black",
           "black",
           "black",
           "black",
           "black",
           "black"
          ]
         },
         "mode": "markers",
         "type": "scatter",
         "x": [
          "model one",
          "model two",
          "model three",
          "model four",
          "model five",
          "model six",
          "model seven",
          "model eight",
          "model nine",
          "model ten",
          "model eleven",
          "model twelve",
          "model thirteen",
          "model fourteen",
          "model fifteen",
          "model sixteen"
         ],
         "y": [
          0.043602149892898345,
          0.0407366027228868,
          0.03069169738530772,
          0.024604177407913517,
          0.06382717649213926,
          0.037757310127102484,
          0.032798219613213116,
          0.03641150185538197,
          0.051376689617390996,
          0.03829623690666332,
          0.04591806955861369,
          0.03966886362269808,
          0.0587773434958454,
          0.04297832961954843,
          0.04149091568561534,
          0.042408216844646164
         ]
        }
       ],
       "layout": {
        "template": {
         "data": {
          "bar": [
           {
            "error_x": {
             "color": "#2a3f5f"
            },
            "error_y": {
             "color": "#2a3f5f"
            },
            "marker": {
             "line": {
              "color": "#E5ECF6",
              "width": 0.5
             }
            },
            "type": "bar"
           }
          ],
          "barpolar": [
           {
            "marker": {
             "line": {
              "color": "#E5ECF6",
              "width": 0.5
             }
            },
            "type": "barpolar"
           }
          ],
          "carpet": [
           {
            "aaxis": {
             "endlinecolor": "#2a3f5f",
             "gridcolor": "white",
             "linecolor": "white",
             "minorgridcolor": "white",
             "startlinecolor": "#2a3f5f"
            },
            "baxis": {
             "endlinecolor": "#2a3f5f",
             "gridcolor": "white",
             "linecolor": "white",
             "minorgridcolor": "white",
             "startlinecolor": "#2a3f5f"
            },
            "type": "carpet"
           }
          ],
          "choropleth": [
           {
            "colorbar": {
             "outlinewidth": 0,
             "ticks": ""
            },
            "type": "choropleth"
           }
          ],
          "contour": [
           {
            "colorbar": {
             "outlinewidth": 0,
             "ticks": ""
            },
            "colorscale": [
             [
              0,
              "#0d0887"
             ],
             [
              0.1111111111111111,
              "#46039f"
             ],
             [
              0.2222222222222222,
              "#7201a8"
             ],
             [
              0.3333333333333333,
              "#9c179e"
             ],
             [
              0.4444444444444444,
              "#bd3786"
             ],
             [
              0.5555555555555556,
              "#d8576b"
             ],
             [
              0.6666666666666666,
              "#ed7953"
             ],
             [
              0.7777777777777778,
              "#fb9f3a"
             ],
             [
              0.8888888888888888,
              "#fdca26"
             ],
             [
              1,
              "#f0f921"
             ]
            ],
            "type": "contour"
           }
          ],
          "contourcarpet": [
           {
            "colorbar": {
             "outlinewidth": 0,
             "ticks": ""
            },
            "type": "contourcarpet"
           }
          ],
          "heatmap": [
           {
            "colorbar": {
             "outlinewidth": 0,
             "ticks": ""
            },
            "colorscale": [
             [
              0,
              "#0d0887"
             ],
             [
              0.1111111111111111,
              "#46039f"
             ],
             [
              0.2222222222222222,
              "#7201a8"
             ],
             [
              0.3333333333333333,
              "#9c179e"
             ],
             [
              0.4444444444444444,
              "#bd3786"
             ],
             [
              0.5555555555555556,
              "#d8576b"
             ],
             [
              0.6666666666666666,
              "#ed7953"
             ],
             [
              0.7777777777777778,
              "#fb9f3a"
             ],
             [
              0.8888888888888888,
              "#fdca26"
             ],
             [
              1,
              "#f0f921"
             ]
            ],
            "type": "heatmap"
           }
          ],
          "heatmapgl": [
           {
            "colorbar": {
             "outlinewidth": 0,
             "ticks": ""
            },
            "colorscale": [
             [
              0,
              "#0d0887"
             ],
             [
              0.1111111111111111,
              "#46039f"
             ],
             [
              0.2222222222222222,
              "#7201a8"
             ],
             [
              0.3333333333333333,
              "#9c179e"
             ],
             [
              0.4444444444444444,
              "#bd3786"
             ],
             [
              0.5555555555555556,
              "#d8576b"
             ],
             [
              0.6666666666666666,
              "#ed7953"
             ],
             [
              0.7777777777777778,
              "#fb9f3a"
             ],
             [
              0.8888888888888888,
              "#fdca26"
             ],
             [
              1,
              "#f0f921"
             ]
            ],
            "type": "heatmapgl"
           }
          ],
          "histogram": [
           {
            "marker": {
             "colorbar": {
              "outlinewidth": 0,
              "ticks": ""
             }
            },
            "type": "histogram"
           }
          ],
          "histogram2d": [
           {
            "colorbar": {
             "outlinewidth": 0,
             "ticks": ""
            },
            "colorscale": [
             [
              0,
              "#0d0887"
             ],
             [
              0.1111111111111111,
              "#46039f"
             ],
             [
              0.2222222222222222,
              "#7201a8"
             ],
             [
              0.3333333333333333,
              "#9c179e"
             ],
             [
              0.4444444444444444,
              "#bd3786"
             ],
             [
              0.5555555555555556,
              "#d8576b"
             ],
             [
              0.6666666666666666,
              "#ed7953"
             ],
             [
              0.7777777777777778,
              "#fb9f3a"
             ],
             [
              0.8888888888888888,
              "#fdca26"
             ],
             [
              1,
              "#f0f921"
             ]
            ],
            "type": "histogram2d"
           }
          ],
          "histogram2dcontour": [
           {
            "colorbar": {
             "outlinewidth": 0,
             "ticks": ""
            },
            "colorscale": [
             [
              0,
              "#0d0887"
             ],
             [
              0.1111111111111111,
              "#46039f"
             ],
             [
              0.2222222222222222,
              "#7201a8"
             ],
             [
              0.3333333333333333,
              "#9c179e"
             ],
             [
              0.4444444444444444,
              "#bd3786"
             ],
             [
              0.5555555555555556,
              "#d8576b"
             ],
             [
              0.6666666666666666,
              "#ed7953"
             ],
             [
              0.7777777777777778,
              "#fb9f3a"
             ],
             [
              0.8888888888888888,
              "#fdca26"
             ],
             [
              1,
              "#f0f921"
             ]
            ],
            "type": "histogram2dcontour"
           }
          ],
          "mesh3d": [
           {
            "colorbar": {
             "outlinewidth": 0,
             "ticks": ""
            },
            "type": "mesh3d"
           }
          ],
          "parcoords": [
           {
            "line": {
             "colorbar": {
              "outlinewidth": 0,
              "ticks": ""
             }
            },
            "type": "parcoords"
           }
          ],
          "pie": [
           {
            "automargin": true,
            "type": "pie"
           }
          ],
          "scatter": [
           {
            "marker": {
             "colorbar": {
              "outlinewidth": 0,
              "ticks": ""
             }
            },
            "type": "scatter"
           }
          ],
          "scatter3d": [
           {
            "line": {
             "colorbar": {
              "outlinewidth": 0,
              "ticks": ""
             }
            },
            "marker": {
             "colorbar": {
              "outlinewidth": 0,
              "ticks": ""
             }
            },
            "type": "scatter3d"
           }
          ],
          "scattercarpet": [
           {
            "marker": {
             "colorbar": {
              "outlinewidth": 0,
              "ticks": ""
             }
            },
            "type": "scattercarpet"
           }
          ],
          "scattergeo": [
           {
            "marker": {
             "colorbar": {
              "outlinewidth": 0,
              "ticks": ""
             }
            },
            "type": "scattergeo"
           }
          ],
          "scattergl": [
           {
            "marker": {
             "colorbar": {
              "outlinewidth": 0,
              "ticks": ""
             }
            },
            "type": "scattergl"
           }
          ],
          "scattermapbox": [
           {
            "marker": {
             "colorbar": {
              "outlinewidth": 0,
              "ticks": ""
             }
            },
            "type": "scattermapbox"
           }
          ],
          "scatterpolar": [
           {
            "marker": {
             "colorbar": {
              "outlinewidth": 0,
              "ticks": ""
             }
            },
            "type": "scatterpolar"
           }
          ],
          "scatterpolargl": [
           {
            "marker": {
             "colorbar": {
              "outlinewidth": 0,
              "ticks": ""
             }
            },
            "type": "scatterpolargl"
           }
          ],
          "scatterternary": [
           {
            "marker": {
             "colorbar": {
              "outlinewidth": 0,
              "ticks": ""
             }
            },
            "type": "scatterternary"
           }
          ],
          "surface": [
           {
            "colorbar": {
             "outlinewidth": 0,
             "ticks": ""
            },
            "colorscale": [
             [
              0,
              "#0d0887"
             ],
             [
              0.1111111111111111,
              "#46039f"
             ],
             [
              0.2222222222222222,
              "#7201a8"
             ],
             [
              0.3333333333333333,
              "#9c179e"
             ],
             [
              0.4444444444444444,
              "#bd3786"
             ],
             [
              0.5555555555555556,
              "#d8576b"
             ],
             [
              0.6666666666666666,
              "#ed7953"
             ],
             [
              0.7777777777777778,
              "#fb9f3a"
             ],
             [
              0.8888888888888888,
              "#fdca26"
             ],
             [
              1,
              "#f0f921"
             ]
            ],
            "type": "surface"
           }
          ],
          "table": [
           {
            "cells": {
             "fill": {
              "color": "#EBF0F8"
             },
             "line": {
              "color": "white"
             }
            },
            "header": {
             "fill": {
              "color": "#C8D4E3"
             },
             "line": {
              "color": "white"
             }
            },
            "type": "table"
           }
          ]
         },
         "layout": {
          "annotationdefaults": {
           "arrowcolor": "#2a3f5f",
           "arrowhead": 0,
           "arrowwidth": 1
          },
          "coloraxis": {
           "colorbar": {
            "outlinewidth": 0,
            "ticks": ""
           }
          },
          "colorscale": {
           "diverging": [
            [
             0,
             "#8e0152"
            ],
            [
             0.1,
             "#c51b7d"
            ],
            [
             0.2,
             "#de77ae"
            ],
            [
             0.3,
             "#f1b6da"
            ],
            [
             0.4,
             "#fde0ef"
            ],
            [
             0.5,
             "#f7f7f7"
            ],
            [
             0.6,
             "#e6f5d0"
            ],
            [
             0.7,
             "#b8e186"
            ],
            [
             0.8,
             "#7fbc41"
            ],
            [
             0.9,
             "#4d9221"
            ],
            [
             1,
             "#276419"
            ]
           ],
           "sequential": [
            [
             0,
             "#0d0887"
            ],
            [
             0.1111111111111111,
             "#46039f"
            ],
            [
             0.2222222222222222,
             "#7201a8"
            ],
            [
             0.3333333333333333,
             "#9c179e"
            ],
            [
             0.4444444444444444,
             "#bd3786"
            ],
            [
             0.5555555555555556,
             "#d8576b"
            ],
            [
             0.6666666666666666,
             "#ed7953"
            ],
            [
             0.7777777777777778,
             "#fb9f3a"
            ],
            [
             0.8888888888888888,
             "#fdca26"
            ],
            [
             1,
             "#f0f921"
            ]
           ],
           "sequentialminus": [
            [
             0,
             "#0d0887"
            ],
            [
             0.1111111111111111,
             "#46039f"
            ],
            [
             0.2222222222222222,
             "#7201a8"
            ],
            [
             0.3333333333333333,
             "#9c179e"
            ],
            [
             0.4444444444444444,
             "#bd3786"
            ],
            [
             0.5555555555555556,
             "#d8576b"
            ],
            [
             0.6666666666666666,
             "#ed7953"
            ],
            [
             0.7777777777777778,
             "#fb9f3a"
            ],
            [
             0.8888888888888888,
             "#fdca26"
            ],
            [
             1,
             "#f0f921"
            ]
           ]
          },
          "colorway": [
           "#636efa",
           "#EF553B",
           "#00cc96",
           "#ab63fa",
           "#FFA15A",
           "#19d3f3",
           "#FF6692",
           "#B6E880",
           "#FF97FF",
           "#FECB52"
          ],
          "font": {
           "color": "#2a3f5f"
          },
          "geo": {
           "bgcolor": "white",
           "lakecolor": "white",
           "landcolor": "#E5ECF6",
           "showlakes": true,
           "showland": true,
           "subunitcolor": "white"
          },
          "hoverlabel": {
           "align": "left"
          },
          "hovermode": "closest",
          "mapbox": {
           "style": "light"
          },
          "paper_bgcolor": "white",
          "plot_bgcolor": "#E5ECF6",
          "polar": {
           "angularaxis": {
            "gridcolor": "white",
            "linecolor": "white",
            "ticks": ""
           },
           "bgcolor": "#E5ECF6",
           "radialaxis": {
            "gridcolor": "white",
            "linecolor": "white",
            "ticks": ""
           }
          },
          "scene": {
           "xaxis": {
            "backgroundcolor": "#E5ECF6",
            "gridcolor": "white",
            "gridwidth": 2,
            "linecolor": "white",
            "showbackground": true,
            "ticks": "",
            "zerolinecolor": "white"
           },
           "yaxis": {
            "backgroundcolor": "#E5ECF6",
            "gridcolor": "white",
            "gridwidth": 2,
            "linecolor": "white",
            "showbackground": true,
            "ticks": "",
            "zerolinecolor": "white"
           },
           "zaxis": {
            "backgroundcolor": "#E5ECF6",
            "gridcolor": "white",
            "gridwidth": 2,
            "linecolor": "white",
            "showbackground": true,
            "ticks": "",
            "zerolinecolor": "white"
           }
          },
          "shapedefaults": {
           "line": {
            "color": "#2a3f5f"
           }
          },
          "ternary": {
           "aaxis": {
            "gridcolor": "white",
            "linecolor": "white",
            "ticks": ""
           },
           "baxis": {
            "gridcolor": "white",
            "linecolor": "white",
            "ticks": ""
           },
           "bgcolor": "#E5ECF6",
           "caxis": {
            "gridcolor": "white",
            "linecolor": "white",
            "ticks": ""
           }
          },
          "title": {
           "x": 0.05
          },
          "xaxis": {
           "automargin": true,
           "gridcolor": "white",
           "linecolor": "white",
           "ticks": "",
           "title": {
            "standoff": 15
           },
           "zerolinecolor": "white",
           "zerolinewidth": 2
          },
          "yaxis": {
           "automargin": true,
           "gridcolor": "white",
           "linecolor": "white",
           "ticks": "",
           "title": {
            "standoff": 15
           },
           "zerolinecolor": "white",
           "zerolinewidth": 2
          }
         }
        },
        "title": {
         "text": "Score on test set per model"
        },
        "xaxis": {
         "title": {
          "text": "Model number"
         }
        },
        "yaxis": {
         "title": {
          "text": "Test loss/model"
         }
        }
       }
      },
      "text/html": [
       "<div>\n",
       "        \n",
       "        \n",
       "            <div id=\"7d0d9e1d-4939-448a-be03-0bf76248ba70\" class=\"plotly-graph-div\" style=\"height:525px; width:100%;\"></div>\n",
       "            <script type=\"text/javascript\">\n",
       "                require([\"plotly\"], function(Plotly) {\n",
       "                    window.PLOTLYENV=window.PLOTLYENV || {};\n",
       "                    \n",
       "                if (document.getElementById(\"7d0d9e1d-4939-448a-be03-0bf76248ba70\")) {\n",
       "                    Plotly.newPlot(\n",
       "                        '7d0d9e1d-4939-448a-be03-0bf76248ba70',\n",
       "                        [{\"marker\": {\"color\": [\"black\", \"black\", \"black\", \"red\", \"black\", \"black\", \"black\", \"black\", \"black\", \"black\", \"black\", \"black\", \"black\", \"black\", \"black\", \"black\"]}, \"mode\": \"markers\", \"type\": \"scatter\", \"x\": [\"model one\", \"model two\", \"model three\", \"model four\", \"model five\", \"model six\", \"model seven\", \"model eight\", \"model nine\", \"model ten\", \"model eleven\", \"model twelve\", \"model thirteen\", \"model fourteen\", \"model fifteen\", \"model sixteen\"], \"y\": [0.043602149892898345, 0.0407366027228868, 0.03069169738530772, 0.024604177407913517, 0.06382717649213926, 0.037757310127102484, 0.032798219613213116, 0.03641150185538197, 0.051376689617390996, 0.03829623690666332, 0.04591806955861369, 0.03966886362269808, 0.0587773434958454, 0.04297832961954843, 0.04149091568561534, 0.042408216844646164]}],\n",
       "                        {\"template\": {\"data\": {\"bar\": [{\"error_x\": {\"color\": \"#2a3f5f\"}, \"error_y\": {\"color\": \"#2a3f5f\"}, \"marker\": {\"line\": {\"color\": \"#E5ECF6\", \"width\": 0.5}}, \"type\": \"bar\"}], \"barpolar\": [{\"marker\": {\"line\": {\"color\": \"#E5ECF6\", \"width\": 0.5}}, \"type\": \"barpolar\"}], \"carpet\": [{\"aaxis\": {\"endlinecolor\": \"#2a3f5f\", \"gridcolor\": \"white\", \"linecolor\": \"white\", \"minorgridcolor\": \"white\", \"startlinecolor\": \"#2a3f5f\"}, \"baxis\": {\"endlinecolor\": \"#2a3f5f\", \"gridcolor\": \"white\", \"linecolor\": \"white\", \"minorgridcolor\": \"white\", \"startlinecolor\": \"#2a3f5f\"}, \"type\": \"carpet\"}], \"choropleth\": [{\"colorbar\": {\"outlinewidth\": 0, \"ticks\": \"\"}, \"type\": \"choropleth\"}], \"contour\": [{\"colorbar\": {\"outlinewidth\": 0, \"ticks\": \"\"}, \"colorscale\": [[0.0, \"#0d0887\"], [0.1111111111111111, \"#46039f\"], [0.2222222222222222, \"#7201a8\"], [0.3333333333333333, \"#9c179e\"], [0.4444444444444444, \"#bd3786\"], [0.5555555555555556, \"#d8576b\"], [0.6666666666666666, \"#ed7953\"], [0.7777777777777778, \"#fb9f3a\"], [0.8888888888888888, \"#fdca26\"], [1.0, \"#f0f921\"]], \"type\": \"contour\"}], \"contourcarpet\": [{\"colorbar\": {\"outlinewidth\": 0, \"ticks\": \"\"}, \"type\": \"contourcarpet\"}], \"heatmap\": [{\"colorbar\": {\"outlinewidth\": 0, \"ticks\": \"\"}, \"colorscale\": [[0.0, \"#0d0887\"], [0.1111111111111111, \"#46039f\"], [0.2222222222222222, \"#7201a8\"], [0.3333333333333333, \"#9c179e\"], [0.4444444444444444, \"#bd3786\"], [0.5555555555555556, \"#d8576b\"], [0.6666666666666666, \"#ed7953\"], [0.7777777777777778, \"#fb9f3a\"], [0.8888888888888888, \"#fdca26\"], [1.0, \"#f0f921\"]], \"type\": \"heatmap\"}], \"heatmapgl\": [{\"colorbar\": {\"outlinewidth\": 0, \"ticks\": \"\"}, \"colorscale\": [[0.0, \"#0d0887\"], [0.1111111111111111, \"#46039f\"], [0.2222222222222222, \"#7201a8\"], [0.3333333333333333, \"#9c179e\"], [0.4444444444444444, \"#bd3786\"], [0.5555555555555556, \"#d8576b\"], [0.6666666666666666, \"#ed7953\"], [0.7777777777777778, \"#fb9f3a\"], [0.8888888888888888, \"#fdca26\"], [1.0, \"#f0f921\"]], \"type\": \"heatmapgl\"}], \"histogram\": [{\"marker\": {\"colorbar\": {\"outlinewidth\": 0, \"ticks\": \"\"}}, \"type\": \"histogram\"}], \"histogram2d\": [{\"colorbar\": {\"outlinewidth\": 0, \"ticks\": \"\"}, \"colorscale\": [[0.0, \"#0d0887\"], [0.1111111111111111, \"#46039f\"], [0.2222222222222222, \"#7201a8\"], [0.3333333333333333, \"#9c179e\"], [0.4444444444444444, \"#bd3786\"], [0.5555555555555556, \"#d8576b\"], [0.6666666666666666, \"#ed7953\"], [0.7777777777777778, \"#fb9f3a\"], [0.8888888888888888, \"#fdca26\"], [1.0, \"#f0f921\"]], \"type\": \"histogram2d\"}], \"histogram2dcontour\": [{\"colorbar\": {\"outlinewidth\": 0, \"ticks\": \"\"}, \"colorscale\": [[0.0, \"#0d0887\"], [0.1111111111111111, \"#46039f\"], [0.2222222222222222, \"#7201a8\"], [0.3333333333333333, \"#9c179e\"], [0.4444444444444444, \"#bd3786\"], [0.5555555555555556, \"#d8576b\"], [0.6666666666666666, \"#ed7953\"], [0.7777777777777778, \"#fb9f3a\"], [0.8888888888888888, \"#fdca26\"], [1.0, \"#f0f921\"]], \"type\": \"histogram2dcontour\"}], \"mesh3d\": [{\"colorbar\": {\"outlinewidth\": 0, \"ticks\": \"\"}, \"type\": \"mesh3d\"}], \"parcoords\": [{\"line\": {\"colorbar\": {\"outlinewidth\": 0, \"ticks\": \"\"}}, \"type\": \"parcoords\"}], \"pie\": [{\"automargin\": true, \"type\": \"pie\"}], \"scatter\": [{\"marker\": {\"colorbar\": {\"outlinewidth\": 0, \"ticks\": \"\"}}, \"type\": \"scatter\"}], \"scatter3d\": [{\"line\": {\"colorbar\": {\"outlinewidth\": 0, \"ticks\": \"\"}}, \"marker\": {\"colorbar\": {\"outlinewidth\": 0, \"ticks\": \"\"}}, \"type\": \"scatter3d\"}], \"scattercarpet\": [{\"marker\": {\"colorbar\": {\"outlinewidth\": 0, \"ticks\": \"\"}}, \"type\": \"scattercarpet\"}], \"scattergeo\": [{\"marker\": {\"colorbar\": {\"outlinewidth\": 0, \"ticks\": \"\"}}, \"type\": \"scattergeo\"}], \"scattergl\": [{\"marker\": {\"colorbar\": {\"outlinewidth\": 0, \"ticks\": \"\"}}, \"type\": \"scattergl\"}], \"scattermapbox\": [{\"marker\": {\"colorbar\": {\"outlinewidth\": 0, \"ticks\": \"\"}}, \"type\": \"scattermapbox\"}], \"scatterpolar\": [{\"marker\": {\"colorbar\": {\"outlinewidth\": 0, \"ticks\": \"\"}}, \"type\": \"scatterpolar\"}], \"scatterpolargl\": [{\"marker\": {\"colorbar\": {\"outlinewidth\": 0, \"ticks\": \"\"}}, \"type\": \"scatterpolargl\"}], \"scatterternary\": [{\"marker\": {\"colorbar\": {\"outlinewidth\": 0, \"ticks\": \"\"}}, \"type\": \"scatterternary\"}], \"surface\": [{\"colorbar\": {\"outlinewidth\": 0, \"ticks\": \"\"}, \"colorscale\": [[0.0, \"#0d0887\"], [0.1111111111111111, \"#46039f\"], [0.2222222222222222, \"#7201a8\"], [0.3333333333333333, \"#9c179e\"], [0.4444444444444444, \"#bd3786\"], [0.5555555555555556, \"#d8576b\"], [0.6666666666666666, \"#ed7953\"], [0.7777777777777778, \"#fb9f3a\"], [0.8888888888888888, \"#fdca26\"], [1.0, \"#f0f921\"]], \"type\": \"surface\"}], \"table\": [{\"cells\": {\"fill\": {\"color\": \"#EBF0F8\"}, \"line\": {\"color\": \"white\"}}, \"header\": {\"fill\": {\"color\": \"#C8D4E3\"}, \"line\": {\"color\": \"white\"}}, \"type\": \"table\"}]}, \"layout\": {\"annotationdefaults\": {\"arrowcolor\": \"#2a3f5f\", \"arrowhead\": 0, \"arrowwidth\": 1}, \"coloraxis\": {\"colorbar\": {\"outlinewidth\": 0, \"ticks\": \"\"}}, \"colorscale\": {\"diverging\": [[0, \"#8e0152\"], [0.1, \"#c51b7d\"], [0.2, \"#de77ae\"], [0.3, \"#f1b6da\"], [0.4, \"#fde0ef\"], [0.5, \"#f7f7f7\"], [0.6, \"#e6f5d0\"], [0.7, \"#b8e186\"], [0.8, \"#7fbc41\"], [0.9, \"#4d9221\"], [1, \"#276419\"]], \"sequential\": [[0.0, \"#0d0887\"], [0.1111111111111111, \"#46039f\"], [0.2222222222222222, \"#7201a8\"], [0.3333333333333333, \"#9c179e\"], [0.4444444444444444, \"#bd3786\"], [0.5555555555555556, \"#d8576b\"], [0.6666666666666666, \"#ed7953\"], [0.7777777777777778, \"#fb9f3a\"], [0.8888888888888888, \"#fdca26\"], [1.0, \"#f0f921\"]], \"sequentialminus\": [[0.0, \"#0d0887\"], [0.1111111111111111, \"#46039f\"], [0.2222222222222222, \"#7201a8\"], [0.3333333333333333, \"#9c179e\"], [0.4444444444444444, \"#bd3786\"], [0.5555555555555556, \"#d8576b\"], [0.6666666666666666, \"#ed7953\"], [0.7777777777777778, \"#fb9f3a\"], [0.8888888888888888, \"#fdca26\"], [1.0, \"#f0f921\"]]}, \"colorway\": [\"#636efa\", \"#EF553B\", \"#00cc96\", \"#ab63fa\", \"#FFA15A\", \"#19d3f3\", \"#FF6692\", \"#B6E880\", \"#FF97FF\", \"#FECB52\"], \"font\": {\"color\": \"#2a3f5f\"}, \"geo\": {\"bgcolor\": \"white\", \"lakecolor\": \"white\", \"landcolor\": \"#E5ECF6\", \"showlakes\": true, \"showland\": true, \"subunitcolor\": \"white\"}, \"hoverlabel\": {\"align\": \"left\"}, \"hovermode\": \"closest\", \"mapbox\": {\"style\": \"light\"}, \"paper_bgcolor\": \"white\", \"plot_bgcolor\": \"#E5ECF6\", \"polar\": {\"angularaxis\": {\"gridcolor\": \"white\", \"linecolor\": \"white\", \"ticks\": \"\"}, \"bgcolor\": \"#E5ECF6\", \"radialaxis\": {\"gridcolor\": \"white\", \"linecolor\": \"white\", \"ticks\": \"\"}}, \"scene\": {\"xaxis\": {\"backgroundcolor\": \"#E5ECF6\", \"gridcolor\": \"white\", \"gridwidth\": 2, \"linecolor\": \"white\", \"showbackground\": true, \"ticks\": \"\", \"zerolinecolor\": \"white\"}, \"yaxis\": {\"backgroundcolor\": \"#E5ECF6\", \"gridcolor\": \"white\", \"gridwidth\": 2, \"linecolor\": \"white\", \"showbackground\": true, \"ticks\": \"\", \"zerolinecolor\": \"white\"}, \"zaxis\": {\"backgroundcolor\": \"#E5ECF6\", \"gridcolor\": \"white\", \"gridwidth\": 2, \"linecolor\": \"white\", \"showbackground\": true, \"ticks\": \"\", \"zerolinecolor\": \"white\"}}, \"shapedefaults\": {\"line\": {\"color\": \"#2a3f5f\"}}, \"ternary\": {\"aaxis\": {\"gridcolor\": \"white\", \"linecolor\": \"white\", \"ticks\": \"\"}, \"baxis\": {\"gridcolor\": \"white\", \"linecolor\": \"white\", \"ticks\": \"\"}, \"bgcolor\": \"#E5ECF6\", \"caxis\": {\"gridcolor\": \"white\", \"linecolor\": \"white\", \"ticks\": \"\"}}, \"title\": {\"x\": 0.05}, \"xaxis\": {\"automargin\": true, \"gridcolor\": \"white\", \"linecolor\": \"white\", \"ticks\": \"\", \"title\": {\"standoff\": 15}, \"zerolinecolor\": \"white\", \"zerolinewidth\": 2}, \"yaxis\": {\"automargin\": true, \"gridcolor\": \"white\", \"linecolor\": \"white\", \"ticks\": \"\", \"title\": {\"standoff\": 15}, \"zerolinecolor\": \"white\", \"zerolinewidth\": 2}}}, \"title\": {\"text\": \"Score on test set per model\"}, \"xaxis\": {\"title\": {\"text\": \"Model number\"}}, \"yaxis\": {\"title\": {\"text\": \"Test loss/model\"}}},\n",
       "                        {\"responsive\": true}\n",
       "                    ).then(function(){\n",
       "                            \n",
       "var gd = document.getElementById('7d0d9e1d-4939-448a-be03-0bf76248ba70');\n",
       "var x = new MutationObserver(function (mutations, observer) {{\n",
       "        var display = window.getComputedStyle(gd).display;\n",
       "        if (!display || display === 'none') {{\n",
       "            console.log([gd, 'removed!']);\n",
       "            Plotly.purge(gd);\n",
       "            observer.disconnect();\n",
       "        }}\n",
       "}});\n",
       "\n",
       "// Listen for the removal of the full notebook cells\n",
       "var notebookContainer = gd.closest('#notebook-container');\n",
       "if (notebookContainer) {{\n",
       "    x.observe(notebookContainer, {childList: true});\n",
       "}}\n",
       "\n",
       "// Listen for the clearing of the current output cell\n",
       "var outputEl = gd.closest('.output');\n",
       "if (outputEl) {{\n",
       "    x.observe(outputEl, {childList: true});\n",
       "}}\n",
       "\n",
       "                        })\n",
       "                };\n",
       "                });\n",
       "            </script>\n",
       "        </div>"
      ]
     },
     "metadata": {},
     "output_type": "display_data"
    }
   ],
   "source": [
    "colormin = 'red'\n",
    "colorother = 'black'\n",
    "clrs_acc = [colormin if result['Test Accuracy'].iloc[row]== result['Test Accuracy'].max() else colorother for row in range(len(result['Test Accuracy']))]\n",
    "clrs_loss = [colormin if result['Test Loss'].iloc[row]== result['Test Loss'].min() else colorother for row in range(len(result['Test Loss']))]\n",
    "\n",
    "x=result['Tag Name'].values.tolist()\n",
    "y=result['Test Accuracy'].values.tolist()\n",
    "fig5 = go.Figure()\n",
    "fig5.add_trace(go.Scatter(x=x, y=y,\n",
    "                          mode='markers',\n",
    "                          marker=dict(color=clrs_acc)\n",
    "                        ))\n",
    "fig5.update_layout(title=\"Accuracy on test set per model\",\n",
    "                   xaxis_title=\"Model number\",\n",
    "                   yaxis_title=\"Accuracy value/model\")\n",
    "fig5.show()\n",
    "\n",
    "#--------------------------------------------------\n",
    "\n",
    "fig6 = go.Figure()\n",
    "fig6.add_trace(go.Scatter(x=result['Tag Name'].values.tolist(), \n",
    "                          y=result['Test Loss'].values.tolist(),\n",
    "                          mode='markers',\n",
    "                          marker=dict(color=clrs_loss)\n",
    "                         ))\n",
    "\n",
    "fig6.update_layout(title=\"Score on test set per model\",\n",
    "                  xaxis_title=\"Model number\",\n",
    "                  yaxis_title=\"Test loss/model\")\n",
    "fig6.show()"
   ]
  },
  {
   "cell_type": "code",
   "execution_count": 188,
   "metadata": {},
   "outputs": [],
   "source": [
    "# colormin = 'red'\n",
    "# clrgrn = 'black'\n",
    "# clrs  = [clrred if result['Hamming Loss'].iloc[row]== result['Hamming Loss'].min() else clrgrn for row in range(len(result['Hamming Loss']))]\n",
    "\n",
    "# x=result['Batch tag'].values.tolist()\n",
    "# y=result['Hamming Loss'].values.tolist()\n",
    "# fig5 = go.Figure()\n",
    "# fig5.add_trace(go.Scatter(x=x, y=y,\n",
    "#                           mode='markers',\n",
    "#                           marker=dict(color=clrs),\n",
    "#                           text=result['Embedding tag'].tolist()\n",
    "#                         ))\n",
    "# fig5.update_layout(title=\"Hamming loss per model (the less is better)\",\n",
    "#                    xaxis_type='category',\n",
    "#                    xaxis_title=\"Model number\",\n",
    "#                    yaxis_title=\"Hamming loss value/model\",\n",
    "#                    showlegend=True)\n",
    "# fig5.show()\n",
    "\n",
    "# fig6 = go.Figure()\n",
    "# fig6.add_trace(go.Scatter(x=result['Batch tag'].values.tolist(), \n",
    "#                           y=result['Zero_one Loss'].values.tolist(),\n",
    "#                           mode='markers',\n",
    "#                           marker=dict(color=clrs)\n",
    "#                          ))\n",
    "\n",
    "# fig6.update_layout(title=\"Zero-one loss per model (the less is better)\",\n",
    "#                    xaxis_type='category',\n",
    "#                    xaxis_title=\"Model number\",\n",
    "#                    yaxis_title=\"Zero-one loss value/model\")\n",
    "# fig6.show()"
   ]
  },
  {
   "cell_type": "markdown",
   "metadata": {},
   "source": [
    "**Comparison 3: Create a classification report and a confusion matrix for the two closest models (model four, model seven)**"
   ]
  },
  {
   "cell_type": "code",
   "execution_count": 196,
   "metadata": {},
   "outputs": [],
   "source": [
    "with open(os.path.join(os.getcwd(), \"pickled_data_per_part\\\\genres_list_06032020.pkl\"), 'rb') as handle:\n",
    "    genres_list = pickle.load(handle)"
   ]
  },
  {
   "cell_type": "code",
   "execution_count": 197,
   "metadata": {},
   "outputs": [],
   "source": [
    "def create_classification_table(model):\n",
    "    \n",
    "    y_test_pred_probs = model.predict([X_test_seq_actors, X_test_seq_plot, X_test_seq_features, X_test_seq_reviews])\n",
    "    y_test_predictions = (y_test_pred_probs>0.5).astype(int)\n",
    "    \n",
    "    classification_table = classification_report(y_true=y_test, y_pred=y_test_predictions)\n",
    "    \n",
    "    return classification_table\n",
    "\n",
    "def create_confusion_matrix(model, embeddings_dim, batch_size_value):\n",
    "    \n",
    "    y_test_pred_probs = model.predict([X_test_seq_actors, X_test_seq_plot, X_test_seq_features, X_test_seq_reviews])\n",
    "    y_test_predictions = (y_test_pred_probs>0.5).astype(int)\n",
    "    \n",
    "    conf_mat=confusion_matrix(y_test.argmax(axis=1), y_test_predictions.argmax(axis=1))\n",
    "\n",
    "    conf_matrix=pd.DataFrame(conf_mat,\n",
    "                 columns=genres_list,\n",
    "                 index=genres_list)\n",
    "    \n",
    "    conf_matrix.to_pickle(os.path.join(os.getcwd(), \"model_one\\\\confusion_matrix_{0}dim_{1}batchsize_29032020.pkl\".format(str(embeddings_dim), str(batch_size_value))))\n",
    "    return conf_matrix"
   ]
  },
  {
   "cell_type": "code",
   "execution_count": 216,
   "metadata": {},
   "outputs": [
    {
     "name": "stderr",
     "output_type": "stream",
     "text": [
      "c:\\users\\spano\\appdata\\local\\programs\\python\\python37\\lib\\site-packages\\sklearn\\metrics\\_classification.py:1272: UndefinedMetricWarning:\n",
      "\n",
      "Precision and F-score are ill-defined and being set to 0.0 in samples with no predicted labels. Use `zero_division` parameter to control this behavior.\n",
      "\n"
     ]
    },
    {
     "name": "stdout",
     "output_type": "stream",
     "text": [
      "Classification report of model four\n",
      "              precision    recall  f1-score   support\n",
      "\n",
      "           0       0.99      1.00      0.99      1353\n",
      "           1       0.96      0.95      0.95       768\n",
      "           2       0.99      1.00      1.00       423\n",
      "           3       0.94      0.92      0.93       453\n",
      "           4       1.00      1.00      1.00      2857\n",
      "           5       0.94      0.98      0.96       970\n",
      "           6       0.98      1.00      0.99       778\n",
      "           7       1.00      1.00      1.00      4551\n",
      "           8       1.00      0.97      0.98       408\n",
      "           9       0.98      1.00      0.99      1027\n",
      "          10       0.90      0.89      0.90       208\n",
      "          11       0.94      0.97      0.95       487\n",
      "          12       0.98      0.98      0.98      1287\n",
      "          13       1.00      1.00      1.00       539\n",
      "          14       0.99      1.00      1.00      1256\n",
      "          15       0.74      0.35      0.47       302\n",
      "          16       0.97      0.96      0.97       243\n",
      "\n",
      "   micro avg       0.98      0.98      0.98     17910\n",
      "   macro avg       0.96      0.94      0.94     17910\n",
      "weighted avg       0.98      0.98      0.98     17910\n",
      " samples avg       0.98      0.98      0.98     17910\n",
      "\n"
     ]
    }
   ],
   "source": [
    "classification_table_one=create_classification_table(model_four)\n",
    "print(\"Classification report of model four\\n\" + str(classification_table_one))"
   ]
  },
  {
   "cell_type": "code",
   "execution_count": 202,
   "metadata": {},
   "outputs": [
    {
     "data": {
      "text/html": [
       "<div>\n",
       "<style scoped>\n",
       "    .dataframe tbody tr th:only-of-type {\n",
       "        vertical-align: middle;\n",
       "    }\n",
       "\n",
       "    .dataframe tbody tr th {\n",
       "        vertical-align: top;\n",
       "    }\n",
       "\n",
       "    .dataframe thead th {\n",
       "        text-align: right;\n",
       "    }\n",
       "</style>\n",
       "<table border=\"1\" class=\"dataframe\">\n",
       "  <thead>\n",
       "    <tr style=\"text-align: right;\">\n",
       "      <th></th>\n",
       "      <th>Action</th>\n",
       "      <th>Adventure</th>\n",
       "      <th>Animation</th>\n",
       "      <th>Children</th>\n",
       "      <th>Comedy</th>\n",
       "      <th>Crime</th>\n",
       "      <th>Documentary</th>\n",
       "      <th>Drama</th>\n",
       "      <th>Fantasy</th>\n",
       "      <th>Horror</th>\n",
       "      <th>Musical</th>\n",
       "      <th>Mystery</th>\n",
       "      <th>Romance</th>\n",
       "      <th>Sci-Fi</th>\n",
       "      <th>Thriller</th>\n",
       "      <th>War</th>\n",
       "      <th>Western</th>\n",
       "    </tr>\n",
       "  </thead>\n",
       "  <tbody>\n",
       "    <tr>\n",
       "      <td>Action</td>\n",
       "      <td>1351</td>\n",
       "      <td>0</td>\n",
       "      <td>0</td>\n",
       "      <td>0</td>\n",
       "      <td>1</td>\n",
       "      <td>0</td>\n",
       "      <td>1</td>\n",
       "      <td>0</td>\n",
       "      <td>0</td>\n",
       "      <td>0</td>\n",
       "      <td>0</td>\n",
       "      <td>0</td>\n",
       "      <td>0</td>\n",
       "      <td>0</td>\n",
       "      <td>0</td>\n",
       "      <td>0</td>\n",
       "      <td>0</td>\n",
       "    </tr>\n",
       "    <tr>\n",
       "      <td>Adventure</td>\n",
       "      <td>0</td>\n",
       "      <td>405</td>\n",
       "      <td>17</td>\n",
       "      <td>4</td>\n",
       "      <td>5</td>\n",
       "      <td>1</td>\n",
       "      <td>2</td>\n",
       "      <td>3</td>\n",
       "      <td>0</td>\n",
       "      <td>1</td>\n",
       "      <td>0</td>\n",
       "      <td>3</td>\n",
       "      <td>1</td>\n",
       "      <td>0</td>\n",
       "      <td>0</td>\n",
       "      <td>0</td>\n",
       "      <td>1</td>\n",
       "    </tr>\n",
       "    <tr>\n",
       "      <td>Animation</td>\n",
       "      <td>0</td>\n",
       "      <td>5</td>\n",
       "      <td>271</td>\n",
       "      <td>0</td>\n",
       "      <td>0</td>\n",
       "      <td>0</td>\n",
       "      <td>0</td>\n",
       "      <td>0</td>\n",
       "      <td>0</td>\n",
       "      <td>0</td>\n",
       "      <td>0</td>\n",
       "      <td>0</td>\n",
       "      <td>0</td>\n",
       "      <td>0</td>\n",
       "      <td>0</td>\n",
       "      <td>0</td>\n",
       "      <td>0</td>\n",
       "    </tr>\n",
       "    <tr>\n",
       "      <td>Children</td>\n",
       "      <td>5</td>\n",
       "      <td>7</td>\n",
       "      <td>1</td>\n",
       "      <td>167</td>\n",
       "      <td>5</td>\n",
       "      <td>0</td>\n",
       "      <td>2</td>\n",
       "      <td>16</td>\n",
       "      <td>1</td>\n",
       "      <td>1</td>\n",
       "      <td>0</td>\n",
       "      <td>0</td>\n",
       "      <td>1</td>\n",
       "      <td>0</td>\n",
       "      <td>0</td>\n",
       "      <td>0</td>\n",
       "      <td>0</td>\n",
       "    </tr>\n",
       "    <tr>\n",
       "      <td>Comedy</td>\n",
       "      <td>5</td>\n",
       "      <td>12</td>\n",
       "      <td>0</td>\n",
       "      <td>8</td>\n",
       "      <td>2322</td>\n",
       "      <td>0</td>\n",
       "      <td>0</td>\n",
       "      <td>0</td>\n",
       "      <td>0</td>\n",
       "      <td>0</td>\n",
       "      <td>0</td>\n",
       "      <td>0</td>\n",
       "      <td>0</td>\n",
       "      <td>0</td>\n",
       "      <td>0</td>\n",
       "      <td>0</td>\n",
       "      <td>0</td>\n",
       "    </tr>\n",
       "    <tr>\n",
       "      <td>Crime</td>\n",
       "      <td>4</td>\n",
       "      <td>0</td>\n",
       "      <td>0</td>\n",
       "      <td>0</td>\n",
       "      <td>0</td>\n",
       "      <td>539</td>\n",
       "      <td>1</td>\n",
       "      <td>13</td>\n",
       "      <td>0</td>\n",
       "      <td>0</td>\n",
       "      <td>0</td>\n",
       "      <td>0</td>\n",
       "      <td>0</td>\n",
       "      <td>0</td>\n",
       "      <td>0</td>\n",
       "      <td>0</td>\n",
       "      <td>0</td>\n",
       "    </tr>\n",
       "    <tr>\n",
       "      <td>Documentary</td>\n",
       "      <td>0</td>\n",
       "      <td>1</td>\n",
       "      <td>1</td>\n",
       "      <td>0</td>\n",
       "      <td>5</td>\n",
       "      <td>2</td>\n",
       "      <td>704</td>\n",
       "      <td>0</td>\n",
       "      <td>0</td>\n",
       "      <td>0</td>\n",
       "      <td>0</td>\n",
       "      <td>0</td>\n",
       "      <td>0</td>\n",
       "      <td>0</td>\n",
       "      <td>0</td>\n",
       "      <td>0</td>\n",
       "      <td>0</td>\n",
       "    </tr>\n",
       "    <tr>\n",
       "      <td>Drama</td>\n",
       "      <td>6</td>\n",
       "      <td>2</td>\n",
       "      <td>0</td>\n",
       "      <td>11</td>\n",
       "      <td>7</td>\n",
       "      <td>19</td>\n",
       "      <td>6</td>\n",
       "      <td>2678</td>\n",
       "      <td>0</td>\n",
       "      <td>0</td>\n",
       "      <td>0</td>\n",
       "      <td>0</td>\n",
       "      <td>0</td>\n",
       "      <td>0</td>\n",
       "      <td>0</td>\n",
       "      <td>0</td>\n",
       "      <td>0</td>\n",
       "    </tr>\n",
       "    <tr>\n",
       "      <td>Fantasy</td>\n",
       "      <td>2</td>\n",
       "      <td>0</td>\n",
       "      <td>0</td>\n",
       "      <td>1</td>\n",
       "      <td>0</td>\n",
       "      <td>0</td>\n",
       "      <td>0</td>\n",
       "      <td>0</td>\n",
       "      <td>55</td>\n",
       "      <td>0</td>\n",
       "      <td>0</td>\n",
       "      <td>0</td>\n",
       "      <td>0</td>\n",
       "      <td>0</td>\n",
       "      <td>0</td>\n",
       "      <td>0</td>\n",
       "      <td>0</td>\n",
       "    </tr>\n",
       "    <tr>\n",
       "      <td>Horror</td>\n",
       "      <td>1</td>\n",
       "      <td>1</td>\n",
       "      <td>0</td>\n",
       "      <td>0</td>\n",
       "      <td>0</td>\n",
       "      <td>3</td>\n",
       "      <td>4</td>\n",
       "      <td>0</td>\n",
       "      <td>0</td>\n",
       "      <td>583</td>\n",
       "      <td>0</td>\n",
       "      <td>0</td>\n",
       "      <td>0</td>\n",
       "      <td>0</td>\n",
       "      <td>0</td>\n",
       "      <td>0</td>\n",
       "      <td>0</td>\n",
       "    </tr>\n",
       "    <tr>\n",
       "      <td>Musical</td>\n",
       "      <td>5</td>\n",
       "      <td>0</td>\n",
       "      <td>0</td>\n",
       "      <td>0</td>\n",
       "      <td>0</td>\n",
       "      <td>0</td>\n",
       "      <td>0</td>\n",
       "      <td>0</td>\n",
       "      <td>0</td>\n",
       "      <td>0</td>\n",
       "      <td>23</td>\n",
       "      <td>0</td>\n",
       "      <td>0</td>\n",
       "      <td>1</td>\n",
       "      <td>0</td>\n",
       "      <td>0</td>\n",
       "      <td>0</td>\n",
       "    </tr>\n",
       "    <tr>\n",
       "      <td>Mystery</td>\n",
       "      <td>1</td>\n",
       "      <td>0</td>\n",
       "      <td>0</td>\n",
       "      <td>1</td>\n",
       "      <td>0</td>\n",
       "      <td>3</td>\n",
       "      <td>1</td>\n",
       "      <td>0</td>\n",
       "      <td>0</td>\n",
       "      <td>0</td>\n",
       "      <td>0</td>\n",
       "      <td>62</td>\n",
       "      <td>0</td>\n",
       "      <td>0</td>\n",
       "      <td>2</td>\n",
       "      <td>0</td>\n",
       "      <td>0</td>\n",
       "    </tr>\n",
       "    <tr>\n",
       "      <td>Romance</td>\n",
       "      <td>2</td>\n",
       "      <td>0</td>\n",
       "      <td>0</td>\n",
       "      <td>0</td>\n",
       "      <td>1</td>\n",
       "      <td>0</td>\n",
       "      <td>0</td>\n",
       "      <td>0</td>\n",
       "      <td>0</td>\n",
       "      <td>0</td>\n",
       "      <td>0</td>\n",
       "      <td>0</td>\n",
       "      <td>61</td>\n",
       "      <td>0</td>\n",
       "      <td>0</td>\n",
       "      <td>0</td>\n",
       "      <td>0</td>\n",
       "    </tr>\n",
       "    <tr>\n",
       "      <td>Sci-Fi</td>\n",
       "      <td>0</td>\n",
       "      <td>0</td>\n",
       "      <td>1</td>\n",
       "      <td>0</td>\n",
       "      <td>0</td>\n",
       "      <td>0</td>\n",
       "      <td>0</td>\n",
       "      <td>0</td>\n",
       "      <td>0</td>\n",
       "      <td>0</td>\n",
       "      <td>0</td>\n",
       "      <td>0</td>\n",
       "      <td>0</td>\n",
       "      <td>78</td>\n",
       "      <td>0</td>\n",
       "      <td>0</td>\n",
       "      <td>0</td>\n",
       "    </tr>\n",
       "    <tr>\n",
       "      <td>Thriller</td>\n",
       "      <td>3</td>\n",
       "      <td>0</td>\n",
       "      <td>0</td>\n",
       "      <td>0</td>\n",
       "      <td>0</td>\n",
       "      <td>5</td>\n",
       "      <td>0</td>\n",
       "      <td>1</td>\n",
       "      <td>0</td>\n",
       "      <td>2</td>\n",
       "      <td>0</td>\n",
       "      <td>2</td>\n",
       "      <td>0</td>\n",
       "      <td>0</td>\n",
       "      <td>145</td>\n",
       "      <td>0</td>\n",
       "      <td>0</td>\n",
       "    </tr>\n",
       "    <tr>\n",
       "      <td>War</td>\n",
       "      <td>7</td>\n",
       "      <td>0</td>\n",
       "      <td>0</td>\n",
       "      <td>0</td>\n",
       "      <td>0</td>\n",
       "      <td>0</td>\n",
       "      <td>0</td>\n",
       "      <td>1</td>\n",
       "      <td>0</td>\n",
       "      <td>0</td>\n",
       "      <td>0</td>\n",
       "      <td>0</td>\n",
       "      <td>0</td>\n",
       "      <td>0</td>\n",
       "      <td>0</td>\n",
       "      <td>8</td>\n",
       "      <td>1</td>\n",
       "    </tr>\n",
       "    <tr>\n",
       "      <td>Western</td>\n",
       "      <td>0</td>\n",
       "      <td>0</td>\n",
       "      <td>0</td>\n",
       "      <td>0</td>\n",
       "      <td>0</td>\n",
       "      <td>0</td>\n",
       "      <td>0</td>\n",
       "      <td>0</td>\n",
       "      <td>0</td>\n",
       "      <td>0</td>\n",
       "      <td>0</td>\n",
       "      <td>0</td>\n",
       "      <td>0</td>\n",
       "      <td>0</td>\n",
       "      <td>0</td>\n",
       "      <td>2</td>\n",
       "      <td>106</td>\n",
       "    </tr>\n",
       "  </tbody>\n",
       "</table>\n",
       "</div>"
      ],
      "text/plain": [
       "             Action  Adventure  Animation  Children  Comedy  Crime  \\\n",
       "Action         1351          0          0         0       1      0   \n",
       "Adventure         0        405         17         4       5      1   \n",
       "Animation         0          5        271         0       0      0   \n",
       "Children          5          7          1       167       5      0   \n",
       "Comedy            5         12          0         8    2322      0   \n",
       "Crime             4          0          0         0       0    539   \n",
       "Documentary       0          1          1         0       5      2   \n",
       "Drama             6          2          0        11       7     19   \n",
       "Fantasy           2          0          0         1       0      0   \n",
       "Horror            1          1          0         0       0      3   \n",
       "Musical           5          0          0         0       0      0   \n",
       "Mystery           1          0          0         1       0      3   \n",
       "Romance           2          0          0         0       1      0   \n",
       "Sci-Fi            0          0          1         0       0      0   \n",
       "Thriller          3          0          0         0       0      5   \n",
       "War               7          0          0         0       0      0   \n",
       "Western           0          0          0         0       0      0   \n",
       "\n",
       "             Documentary  Drama  Fantasy  Horror  Musical  Mystery  Romance  \\\n",
       "Action                 1      0        0       0        0        0        0   \n",
       "Adventure              2      3        0       1        0        3        1   \n",
       "Animation              0      0        0       0        0        0        0   \n",
       "Children               2     16        1       1        0        0        1   \n",
       "Comedy                 0      0        0       0        0        0        0   \n",
       "Crime                  1     13        0       0        0        0        0   \n",
       "Documentary          704      0        0       0        0        0        0   \n",
       "Drama                  6   2678        0       0        0        0        0   \n",
       "Fantasy                0      0       55       0        0        0        0   \n",
       "Horror                 4      0        0     583        0        0        0   \n",
       "Musical                0      0        0       0       23        0        0   \n",
       "Mystery                1      0        0       0        0       62        0   \n",
       "Romance                0      0        0       0        0        0       61   \n",
       "Sci-Fi                 0      0        0       0        0        0        0   \n",
       "Thriller               0      1        0       2        0        2        0   \n",
       "War                    0      1        0       0        0        0        0   \n",
       "Western                0      0        0       0        0        0        0   \n",
       "\n",
       "             Sci-Fi  Thriller  War  Western  \n",
       "Action            0         0    0        0  \n",
       "Adventure         0         0    0        1  \n",
       "Animation         0         0    0        0  \n",
       "Children          0         0    0        0  \n",
       "Comedy            0         0    0        0  \n",
       "Crime             0         0    0        0  \n",
       "Documentary       0         0    0        0  \n",
       "Drama             0         0    0        0  \n",
       "Fantasy           0         0    0        0  \n",
       "Horror            0         0    0        0  \n",
       "Musical           1         0    0        0  \n",
       "Mystery           0         2    0        0  \n",
       "Romance           0         0    0        0  \n",
       "Sci-Fi           78         0    0        0  \n",
       "Thriller          0       145    0        0  \n",
       "War               0         0    8        1  \n",
       "Western           0         0    2      106  "
      ]
     },
     "execution_count": 202,
     "metadata": {},
     "output_type": "execute_result"
    }
   ],
   "source": [
    "confusion_matrix_one=create_confusion_matrix(model_four, 50, 128)\n",
    "confusion_matrix_one"
   ]
  },
  {
   "cell_type": "code",
   "execution_count": 204,
   "metadata": {},
   "outputs": [
    {
     "name": "stdout",
     "output_type": "stream",
     "text": [
      "Classification report of model seven\n",
      "\n",
      "              precision    recall  f1-score   support\n",
      "\n",
      "           0       1.00      0.99      0.99      1353\n",
      "           1       0.93      0.99      0.96       768\n",
      "           2       0.99      1.00      1.00       423\n",
      "           3       0.93      0.93      0.93       453\n",
      "           4       1.00      1.00      1.00      2857\n",
      "           5       0.94      0.97      0.95       970\n",
      "           6       0.98      1.00      0.99       778\n",
      "           7       1.00      1.00      1.00      4551\n",
      "           8       0.96      0.96      0.96       408\n",
      "           9       0.97      1.00      0.99      1027\n",
      "          10       0.96      0.94      0.95       208\n",
      "          11       0.98      0.88      0.93       487\n",
      "          12       0.96      1.00      0.98      1287\n",
      "          13       1.00      1.00      1.00       539\n",
      "          14       0.99      1.00      0.99      1256\n",
      "          15       0.69      0.48      0.57       302\n",
      "          16       0.98      0.97      0.97       243\n",
      "\n",
      "   micro avg       0.98      0.98      0.98     17910\n",
      "   macro avg       0.96      0.95      0.95     17910\n",
      "weighted avg       0.98      0.98      0.98     17910\n",
      " samples avg       0.98      0.98      0.98     17910\n",
      "\n"
     ]
    }
   ],
   "source": [
    "classification_table_two=create_classification_table(model_seven)\n",
    "print(\"Classification report of model seven\\n\\n\" + str(classification_table_two))"
   ]
  },
  {
   "cell_type": "code",
   "execution_count": 203,
   "metadata": {},
   "outputs": [
    {
     "data": {
      "text/html": [
       "<div>\n",
       "<style scoped>\n",
       "    .dataframe tbody tr th:only-of-type {\n",
       "        vertical-align: middle;\n",
       "    }\n",
       "\n",
       "    .dataframe tbody tr th {\n",
       "        vertical-align: top;\n",
       "    }\n",
       "\n",
       "    .dataframe thead th {\n",
       "        text-align: right;\n",
       "    }\n",
       "</style>\n",
       "<table border=\"1\" class=\"dataframe\">\n",
       "  <thead>\n",
       "    <tr style=\"text-align: right;\">\n",
       "      <th></th>\n",
       "      <th>Action</th>\n",
       "      <th>Adventure</th>\n",
       "      <th>Animation</th>\n",
       "      <th>Children</th>\n",
       "      <th>Comedy</th>\n",
       "      <th>Crime</th>\n",
       "      <th>Documentary</th>\n",
       "      <th>Drama</th>\n",
       "      <th>Fantasy</th>\n",
       "      <th>Horror</th>\n",
       "      <th>Musical</th>\n",
       "      <th>Mystery</th>\n",
       "      <th>Romance</th>\n",
       "      <th>Sci-Fi</th>\n",
       "      <th>Thriller</th>\n",
       "      <th>War</th>\n",
       "      <th>Western</th>\n",
       "    </tr>\n",
       "  </thead>\n",
       "  <tbody>\n",
       "    <tr>\n",
       "      <td>Action</td>\n",
       "      <td>1335</td>\n",
       "      <td>1</td>\n",
       "      <td>1</td>\n",
       "      <td>0</td>\n",
       "      <td>7</td>\n",
       "      <td>2</td>\n",
       "      <td>0</td>\n",
       "      <td>5</td>\n",
       "      <td>0</td>\n",
       "      <td>0</td>\n",
       "      <td>0</td>\n",
       "      <td>0</td>\n",
       "      <td>0</td>\n",
       "      <td>1</td>\n",
       "      <td>0</td>\n",
       "      <td>1</td>\n",
       "      <td>0</td>\n",
       "    </tr>\n",
       "    <tr>\n",
       "      <td>Adventure</td>\n",
       "      <td>0</td>\n",
       "      <td>437</td>\n",
       "      <td>0</td>\n",
       "      <td>0</td>\n",
       "      <td>3</td>\n",
       "      <td>1</td>\n",
       "      <td>1</td>\n",
       "      <td>0</td>\n",
       "      <td>0</td>\n",
       "      <td>0</td>\n",
       "      <td>0</td>\n",
       "      <td>1</td>\n",
       "      <td>0</td>\n",
       "      <td>0</td>\n",
       "      <td>0</td>\n",
       "      <td>0</td>\n",
       "      <td>0</td>\n",
       "    </tr>\n",
       "    <tr>\n",
       "      <td>Animation</td>\n",
       "      <td>0</td>\n",
       "      <td>15</td>\n",
       "      <td>261</td>\n",
       "      <td>0</td>\n",
       "      <td>0</td>\n",
       "      <td>0</td>\n",
       "      <td>0</td>\n",
       "      <td>0</td>\n",
       "      <td>0</td>\n",
       "      <td>0</td>\n",
       "      <td>0</td>\n",
       "      <td>0</td>\n",
       "      <td>0</td>\n",
       "      <td>0</td>\n",
       "      <td>0</td>\n",
       "      <td>0</td>\n",
       "      <td>0</td>\n",
       "    </tr>\n",
       "    <tr>\n",
       "      <td>Children</td>\n",
       "      <td>2</td>\n",
       "      <td>12</td>\n",
       "      <td>1</td>\n",
       "      <td>169</td>\n",
       "      <td>5</td>\n",
       "      <td>0</td>\n",
       "      <td>2</td>\n",
       "      <td>12</td>\n",
       "      <td>1</td>\n",
       "      <td>1</td>\n",
       "      <td>0</td>\n",
       "      <td>0</td>\n",
       "      <td>0</td>\n",
       "      <td>1</td>\n",
       "      <td>0</td>\n",
       "      <td>0</td>\n",
       "      <td>0</td>\n",
       "    </tr>\n",
       "    <tr>\n",
       "      <td>Comedy</td>\n",
       "      <td>1</td>\n",
       "      <td>19</td>\n",
       "      <td>0</td>\n",
       "      <td>11</td>\n",
       "      <td>2307</td>\n",
       "      <td>0</td>\n",
       "      <td>3</td>\n",
       "      <td>3</td>\n",
       "      <td>1</td>\n",
       "      <td>2</td>\n",
       "      <td>0</td>\n",
       "      <td>0</td>\n",
       "      <td>0</td>\n",
       "      <td>0</td>\n",
       "      <td>0</td>\n",
       "      <td>0</td>\n",
       "      <td>0</td>\n",
       "    </tr>\n",
       "    <tr>\n",
       "      <td>Crime</td>\n",
       "      <td>1</td>\n",
       "      <td>0</td>\n",
       "      <td>0</td>\n",
       "      <td>0</td>\n",
       "      <td>0</td>\n",
       "      <td>540</td>\n",
       "      <td>0</td>\n",
       "      <td>3</td>\n",
       "      <td>0</td>\n",
       "      <td>8</td>\n",
       "      <td>0</td>\n",
       "      <td>0</td>\n",
       "      <td>1</td>\n",
       "      <td>1</td>\n",
       "      <td>3</td>\n",
       "      <td>0</td>\n",
       "      <td>0</td>\n",
       "    </tr>\n",
       "    <tr>\n",
       "      <td>Documentary</td>\n",
       "      <td>0</td>\n",
       "      <td>1</td>\n",
       "      <td>1</td>\n",
       "      <td>0</td>\n",
       "      <td>3</td>\n",
       "      <td>5</td>\n",
       "      <td>702</td>\n",
       "      <td>1</td>\n",
       "      <td>0</td>\n",
       "      <td>0</td>\n",
       "      <td>0</td>\n",
       "      <td>0</td>\n",
       "      <td>0</td>\n",
       "      <td>0</td>\n",
       "      <td>0</td>\n",
       "      <td>0</td>\n",
       "      <td>0</td>\n",
       "    </tr>\n",
       "    <tr>\n",
       "      <td>Drama</td>\n",
       "      <td>1</td>\n",
       "      <td>2</td>\n",
       "      <td>0</td>\n",
       "      <td>7</td>\n",
       "      <td>6</td>\n",
       "      <td>27</td>\n",
       "      <td>6</td>\n",
       "      <td>2680</td>\n",
       "      <td>0</td>\n",
       "      <td>0</td>\n",
       "      <td>0</td>\n",
       "      <td>0</td>\n",
       "      <td>0</td>\n",
       "      <td>0</td>\n",
       "      <td>0</td>\n",
       "      <td>0</td>\n",
       "      <td>0</td>\n",
       "    </tr>\n",
       "    <tr>\n",
       "      <td>Fantasy</td>\n",
       "      <td>1</td>\n",
       "      <td>0</td>\n",
       "      <td>0</td>\n",
       "      <td>1</td>\n",
       "      <td>0</td>\n",
       "      <td>0</td>\n",
       "      <td>0</td>\n",
       "      <td>0</td>\n",
       "      <td>54</td>\n",
       "      <td>0</td>\n",
       "      <td>2</td>\n",
       "      <td>0</td>\n",
       "      <td>0</td>\n",
       "      <td>0</td>\n",
       "      <td>0</td>\n",
       "      <td>0</td>\n",
       "      <td>0</td>\n",
       "    </tr>\n",
       "    <tr>\n",
       "      <td>Horror</td>\n",
       "      <td>0</td>\n",
       "      <td>1</td>\n",
       "      <td>0</td>\n",
       "      <td>0</td>\n",
       "      <td>0</td>\n",
       "      <td>1</td>\n",
       "      <td>3</td>\n",
       "      <td>0</td>\n",
       "      <td>1</td>\n",
       "      <td>586</td>\n",
       "      <td>0</td>\n",
       "      <td>0</td>\n",
       "      <td>0</td>\n",
       "      <td>0</td>\n",
       "      <td>0</td>\n",
       "      <td>0</td>\n",
       "      <td>0</td>\n",
       "    </tr>\n",
       "    <tr>\n",
       "      <td>Musical</td>\n",
       "      <td>1</td>\n",
       "      <td>0</td>\n",
       "      <td>0</td>\n",
       "      <td>0</td>\n",
       "      <td>0</td>\n",
       "      <td>0</td>\n",
       "      <td>2</td>\n",
       "      <td>0</td>\n",
       "      <td>0</td>\n",
       "      <td>0</td>\n",
       "      <td>25</td>\n",
       "      <td>0</td>\n",
       "      <td>0</td>\n",
       "      <td>1</td>\n",
       "      <td>0</td>\n",
       "      <td>0</td>\n",
       "      <td>0</td>\n",
       "    </tr>\n",
       "    <tr>\n",
       "      <td>Mystery</td>\n",
       "      <td>4</td>\n",
       "      <td>0</td>\n",
       "      <td>0</td>\n",
       "      <td>0</td>\n",
       "      <td>0</td>\n",
       "      <td>3</td>\n",
       "      <td>1</td>\n",
       "      <td>0</td>\n",
       "      <td>1</td>\n",
       "      <td>0</td>\n",
       "      <td>0</td>\n",
       "      <td>54</td>\n",
       "      <td>0</td>\n",
       "      <td>0</td>\n",
       "      <td>7</td>\n",
       "      <td>0</td>\n",
       "      <td>0</td>\n",
       "    </tr>\n",
       "    <tr>\n",
       "      <td>Romance</td>\n",
       "      <td>1</td>\n",
       "      <td>1</td>\n",
       "      <td>0</td>\n",
       "      <td>0</td>\n",
       "      <td>1</td>\n",
       "      <td>0</td>\n",
       "      <td>0</td>\n",
       "      <td>0</td>\n",
       "      <td>0</td>\n",
       "      <td>0</td>\n",
       "      <td>0</td>\n",
       "      <td>0</td>\n",
       "      <td>61</td>\n",
       "      <td>0</td>\n",
       "      <td>0</td>\n",
       "      <td>0</td>\n",
       "      <td>0</td>\n",
       "    </tr>\n",
       "    <tr>\n",
       "      <td>Sci-Fi</td>\n",
       "      <td>0</td>\n",
       "      <td>1</td>\n",
       "      <td>1</td>\n",
       "      <td>0</td>\n",
       "      <td>0</td>\n",
       "      <td>0</td>\n",
       "      <td>0</td>\n",
       "      <td>0</td>\n",
       "      <td>0</td>\n",
       "      <td>0</td>\n",
       "      <td>0</td>\n",
       "      <td>0</td>\n",
       "      <td>0</td>\n",
       "      <td>77</td>\n",
       "      <td>0</td>\n",
       "      <td>0</td>\n",
       "      <td>0</td>\n",
       "    </tr>\n",
       "    <tr>\n",
       "      <td>Thriller</td>\n",
       "      <td>1</td>\n",
       "      <td>0</td>\n",
       "      <td>0</td>\n",
       "      <td>0</td>\n",
       "      <td>1</td>\n",
       "      <td>3</td>\n",
       "      <td>0</td>\n",
       "      <td>1</td>\n",
       "      <td>0</td>\n",
       "      <td>2</td>\n",
       "      <td>0</td>\n",
       "      <td>0</td>\n",
       "      <td>3</td>\n",
       "      <td>0</td>\n",
       "      <td>147</td>\n",
       "      <td>0</td>\n",
       "      <td>0</td>\n",
       "    </tr>\n",
       "    <tr>\n",
       "      <td>War</td>\n",
       "      <td>4</td>\n",
       "      <td>0</td>\n",
       "      <td>0</td>\n",
       "      <td>1</td>\n",
       "      <td>0</td>\n",
       "      <td>0</td>\n",
       "      <td>0</td>\n",
       "      <td>1</td>\n",
       "      <td>0</td>\n",
       "      <td>0</td>\n",
       "      <td>0</td>\n",
       "      <td>0</td>\n",
       "      <td>0</td>\n",
       "      <td>0</td>\n",
       "      <td>0</td>\n",
       "      <td>11</td>\n",
       "      <td>0</td>\n",
       "    </tr>\n",
       "    <tr>\n",
       "      <td>Western</td>\n",
       "      <td>0</td>\n",
       "      <td>0</td>\n",
       "      <td>0</td>\n",
       "      <td>1</td>\n",
       "      <td>0</td>\n",
       "      <td>0</td>\n",
       "      <td>0</td>\n",
       "      <td>0</td>\n",
       "      <td>0</td>\n",
       "      <td>0</td>\n",
       "      <td>0</td>\n",
       "      <td>0</td>\n",
       "      <td>0</td>\n",
       "      <td>0</td>\n",
       "      <td>0</td>\n",
       "      <td>2</td>\n",
       "      <td>105</td>\n",
       "    </tr>\n",
       "  </tbody>\n",
       "</table>\n",
       "</div>"
      ],
      "text/plain": [
       "             Action  Adventure  Animation  Children  Comedy  Crime  \\\n",
       "Action         1335          1          1         0       7      2   \n",
       "Adventure         0        437          0         0       3      1   \n",
       "Animation         0         15        261         0       0      0   \n",
       "Children          2         12          1       169       5      0   \n",
       "Comedy            1         19          0        11    2307      0   \n",
       "Crime             1          0          0         0       0    540   \n",
       "Documentary       0          1          1         0       3      5   \n",
       "Drama             1          2          0         7       6     27   \n",
       "Fantasy           1          0          0         1       0      0   \n",
       "Horror            0          1          0         0       0      1   \n",
       "Musical           1          0          0         0       0      0   \n",
       "Mystery           4          0          0         0       0      3   \n",
       "Romance           1          1          0         0       1      0   \n",
       "Sci-Fi            0          1          1         0       0      0   \n",
       "Thriller          1          0          0         0       1      3   \n",
       "War               4          0          0         1       0      0   \n",
       "Western           0          0          0         1       0      0   \n",
       "\n",
       "             Documentary  Drama  Fantasy  Horror  Musical  Mystery  Romance  \\\n",
       "Action                 0      5        0       0        0        0        0   \n",
       "Adventure              1      0        0       0        0        1        0   \n",
       "Animation              0      0        0       0        0        0        0   \n",
       "Children               2     12        1       1        0        0        0   \n",
       "Comedy                 3      3        1       2        0        0        0   \n",
       "Crime                  0      3        0       8        0        0        1   \n",
       "Documentary          702      1        0       0        0        0        0   \n",
       "Drama                  6   2680        0       0        0        0        0   \n",
       "Fantasy                0      0       54       0        2        0        0   \n",
       "Horror                 3      0        1     586        0        0        0   \n",
       "Musical                2      0        0       0       25        0        0   \n",
       "Mystery                1      0        1       0        0       54        0   \n",
       "Romance                0      0        0       0        0        0       61   \n",
       "Sci-Fi                 0      0        0       0        0        0        0   \n",
       "Thriller               0      1        0       2        0        0        3   \n",
       "War                    0      1        0       0        0        0        0   \n",
       "Western                0      0        0       0        0        0        0   \n",
       "\n",
       "             Sci-Fi  Thriller  War  Western  \n",
       "Action            1         0    1        0  \n",
       "Adventure         0         0    0        0  \n",
       "Animation         0         0    0        0  \n",
       "Children          1         0    0        0  \n",
       "Comedy            0         0    0        0  \n",
       "Crime             1         3    0        0  \n",
       "Documentary       0         0    0        0  \n",
       "Drama             0         0    0        0  \n",
       "Fantasy           0         0    0        0  \n",
       "Horror            0         0    0        0  \n",
       "Musical           1         0    0        0  \n",
       "Mystery           0         7    0        0  \n",
       "Romance           0         0    0        0  \n",
       "Sci-Fi           77         0    0        0  \n",
       "Thriller          0       147    0        0  \n",
       "War               0         0   11        0  \n",
       "Western           0         0    2      105  "
      ]
     },
     "execution_count": 203,
     "metadata": {},
     "output_type": "execute_result"
    }
   ],
   "source": [
    "confusion_matrix_two=create_confusion_matrix(model_seven, 100, 64)\n",
    "confusion_matrix_two"
   ]
  },
  {
   "cell_type": "markdown",
   "metadata": {},
   "source": [
    "#### Comparison 4: Predicted vs Actual Genre Tags"
   ]
  },
  {
   "cell_type": "code",
   "execution_count": null,
   "metadata": {},
   "outputs": [],
   "source": [
    "X_test=pd.read_pickle(os.path.join(os.getcwd(), \"80-20 split_non-balanced\\\\20000_max_features\\\\x_test_20000_25032020.pkl\"))"
   ]
  },
  {
   "cell_type": "code",
   "execution_count": 211,
   "metadata": {},
   "outputs": [],
   "source": [
    "def predict_genre_tags(indx, model, genres_list):\n",
    "        \n",
    "    test_sequence_actors = X_test_seq_actors[indx:indx+1]\n",
    "    \n",
    "    test_sequence_plot = X_test_seq_plot[indx:indx+1]\n",
    "    \n",
    "    test_sequence_features = X_test_seq_features[indx:indx+1]\n",
    "    \n",
    "    test_sequence_reviews = X_test_seq_reviews[indx:indx+1]\n",
    "    \n",
    "    text_prediction = model.predict([test_sequence_actors, test_sequence_plot, test_sequence_features, test_sequence_reviews])\n",
    "    \n",
    "    [float(i) for i in text_prediction[0]]\n",
    "    \n",
    "    tag_probabilities = text_prediction[0][np.argsort(text_prediction[0])[-3:]]\n",
    "    \n",
    "    indexes = np.argsort(text_prediction[0])[::-1][:3]\n",
    "\n",
    "    predicted_tags = []\n",
    "    \n",
    "    for i, tag in enumerate(genres_list):\n",
    "        if i in indexes:\n",
    "            predicted_tags.append(genres_list[i])\n",
    "    \n",
    "    return predicted_tags\n",
    "\n",
    "def create_predictions_df(model, random_numbers_list, embeddings_dim, batch_size_value):\n",
    "    \n",
    "    \n",
    "    df_predictions = pd.DataFrame({'Movie Title':pd.Series([X_test['title'].iloc[random_numbers_list[0]]], dtype='str'),\n",
    "                                   'Predicted Genre tags':pd.Series([predict_genre_tags(random_numbers_list[0], model, genres_list)], dtype='str'),\n",
    "                                   'Real Genre tags':pd.Series([X_test['reduced_genres'].iloc[random_numbers_list[0]]], dtype='str')})\n",
    "\n",
    "    for i in range(len(random_numbers_list)):\n",
    "\n",
    "        df_predictions = df_predictions.append({'Movie Title':X_test['title'].iloc[random_numbers_list[i]], \n",
    "                                                'Predicted Genre tags':predict_genre_tags(random_numbers_list[i], model, genres_list),\n",
    "                                                'Real Genre tags':X_test['reduced_genres'].iloc[random_numbers_list[i]]} , ignore_index=True)\n",
    "\n",
    "    df_predictions = df_predictions.drop(df_predictions.index[0])\n",
    "    df_predictions.to_pickle(\"model_one\\\\model_one_df_predictions_{0}dim_{1}batchsize_29032020.pkl\".format(str(embeddings_dim), str(batch_size_value)))\n",
    "    \n",
    "    return df_predictions"
   ]
  },
  {
   "cell_type": "code",
   "execution_count": 209,
   "metadata": {},
   "outputs": [
    {
     "name": "stdout",
     "output_type": "stream",
     "text": [
      "Randomly saved numbers to make predictions: [5503, 2411, 661, 1584, 9625, 2469, 8393, 8680, 9096, 3150, 5575, 3796, 7468, 483, 7407, 7003, 2055, 1540, 9757, 8260]\n"
     ]
    }
   ],
   "source": [
    "random_numbers = random.sample(range(1, y_test.shape[0]), 20)\n",
    "\n",
    "save_index_of_numbers = random_numbers\n",
    "\n",
    "print(\"Randomly saved numbers to make predictions: {}\".format(save_index_of_numbers))"
   ]
  },
  {
   "cell_type": "code",
   "execution_count": 212,
   "metadata": {},
   "outputs": [],
   "source": [
    "predictions_dataframe_one=create_predictions_df(model_four, save_index_of_numbers, 50, 128)\n",
    "predictions_dataframe_two=create_predictions_df(model_seven, save_index_of_numbers, 100, 64)"
   ]
  },
  {
   "cell_type": "code",
   "execution_count": 213,
   "metadata": {},
   "outputs": [
    {
     "data": {
      "text/html": [
       "<div>\n",
       "<style scoped>\n",
       "    .dataframe tbody tr th:only-of-type {\n",
       "        vertical-align: middle;\n",
       "    }\n",
       "\n",
       "    .dataframe tbody tr th {\n",
       "        vertical-align: top;\n",
       "    }\n",
       "\n",
       "    .dataframe thead th {\n",
       "        text-align: right;\n",
       "    }\n",
       "</style>\n",
       "<table border=\"1\" class=\"dataframe\">\n",
       "  <thead>\n",
       "    <tr style=\"text-align: right;\">\n",
       "      <th></th>\n",
       "      <th>Movie Title</th>\n",
       "      <th>Predicted Genre tags</th>\n",
       "      <th>Real Genre tags</th>\n",
       "    </tr>\n",
       "  </thead>\n",
       "  <tbody>\n",
       "    <tr>\n",
       "      <td>1</td>\n",
       "      <td>Three Days of the Condor (3 Days of the Condor)</td>\n",
       "      <td>[Drama, Mystery, Romance]</td>\n",
       "      <td>[Drama, Mystery, Romance]</td>\n",
       "    </tr>\n",
       "    <tr>\n",
       "      <td>2</td>\n",
       "      <td>Nazi Pop Twins</td>\n",
       "      <td>[Comedy, Documentary, Musical]</td>\n",
       "      <td>[Documentary]</td>\n",
       "    </tr>\n",
       "    <tr>\n",
       "      <td>3</td>\n",
       "      <td>The Mark of the Hawk</td>\n",
       "      <td>[Comedy, Drama, Romance]</td>\n",
       "      <td>[Drama]</td>\n",
       "    </tr>\n",
       "    <tr>\n",
       "      <td>4</td>\n",
       "      <td>Land of Plenty (Angst and Alienation in America)</td>\n",
       "      <td>[Adventure, Drama, War]</td>\n",
       "      <td>[Drama]</td>\n",
       "    </tr>\n",
       "    <tr>\n",
       "      <td>5</td>\n",
       "      <td>The Hobbit: An Unexpected Journey</td>\n",
       "      <td>[Adventure, Animation, Fantasy]</td>\n",
       "      <td>[Adventure, Fantasy]</td>\n",
       "    </tr>\n",
       "    <tr>\n",
       "      <td>6</td>\n",
       "      <td>The Good Lie</td>\n",
       "      <td>[Comedy, Crime, Drama]</td>\n",
       "      <td>[Drama]</td>\n",
       "    </tr>\n",
       "    <tr>\n",
       "      <td>7</td>\n",
       "      <td>Cherry, Harry &amp; Raquel!</td>\n",
       "      <td>[Crime, Drama, Thriller]</td>\n",
       "      <td>[Crime, Drama, Thriller]</td>\n",
       "    </tr>\n",
       "    <tr>\n",
       "      <td>8</td>\n",
       "      <td>The Desert Rats</td>\n",
       "      <td>[Drama, Romance, War]</td>\n",
       "      <td>[Drama, War]</td>\n",
       "    </tr>\n",
       "    <tr>\n",
       "      <td>9</td>\n",
       "      <td>Blood Creek (a.k.a. Town Creek)</td>\n",
       "      <td>[Comedy, Drama, Horror]</td>\n",
       "      <td>[Horror]</td>\n",
       "    </tr>\n",
       "    <tr>\n",
       "      <td>10</td>\n",
       "      <td>The River</td>\n",
       "      <td>[Comedy, Drama, Romance]</td>\n",
       "      <td>[Drama, Romance]</td>\n",
       "    </tr>\n",
       "    <tr>\n",
       "      <td>11</td>\n",
       "      <td>Remington and the Curse of the Zombadings</td>\n",
       "      <td>[Comedy, Drama, Horror]</td>\n",
       "      <td>[Comedy, Drama, Horror]</td>\n",
       "    </tr>\n",
       "    <tr>\n",
       "      <td>12</td>\n",
       "      <td>The Alive and the Dead</td>\n",
       "      <td>[Drama, Mystery, War]</td>\n",
       "      <td>[Drama, War]</td>\n",
       "    </tr>\n",
       "    <tr>\n",
       "      <td>13</td>\n",
       "      <td>The Killing Season</td>\n",
       "      <td>[Crime, Documentary, Drama]</td>\n",
       "      <td>[Crime, Documentary]</td>\n",
       "    </tr>\n",
       "    <tr>\n",
       "      <td>14</td>\n",
       "      <td>Fracchia contro Dracula</td>\n",
       "      <td>[Comedy, Horror, Western]</td>\n",
       "      <td>[Comedy, Horror]</td>\n",
       "    </tr>\n",
       "    <tr>\n",
       "      <td>15</td>\n",
       "      <td>An Ideal Place to Kill</td>\n",
       "      <td>[Crime, Mystery, Thriller]</td>\n",
       "      <td>[Crime, Thriller]</td>\n",
       "    </tr>\n",
       "    <tr>\n",
       "      <td>16</td>\n",
       "      <td>Gentleman Jim</td>\n",
       "      <td>[Comedy, Drama, Romance]</td>\n",
       "      <td>[Comedy, Drama, Romance]</td>\n",
       "    </tr>\n",
       "    <tr>\n",
       "      <td>17</td>\n",
       "      <td>The Devil Is a Sissy</td>\n",
       "      <td>[Comedy, Drama, Romance]</td>\n",
       "      <td>[Comedy, Drama]</td>\n",
       "    </tr>\n",
       "    <tr>\n",
       "      <td>18</td>\n",
       "      <td>(500) Days of Summer</td>\n",
       "      <td>[Comedy, Drama, Romance]</td>\n",
       "      <td>[Comedy, Drama, Romance]</td>\n",
       "    </tr>\n",
       "    <tr>\n",
       "      <td>19</td>\n",
       "      <td>Khakee</td>\n",
       "      <td>[Action, Adventure, Comedy]</td>\n",
       "      <td>[Action]</td>\n",
       "    </tr>\n",
       "    <tr>\n",
       "      <td>20</td>\n",
       "      <td>Paint Your Wagon</td>\n",
       "      <td>[Comedy, Musical, Western]</td>\n",
       "      <td>[Comedy, Musical, Western]</td>\n",
       "    </tr>\n",
       "  </tbody>\n",
       "</table>\n",
       "</div>"
      ],
      "text/plain": [
       "                                         Movie Title  \\\n",
       "1    Three Days of the Condor (3 Days of the Condor)   \n",
       "2                                     Nazi Pop Twins   \n",
       "3                               The Mark of the Hawk   \n",
       "4   Land of Plenty (Angst and Alienation in America)   \n",
       "5                  The Hobbit: An Unexpected Journey   \n",
       "6                                       The Good Lie   \n",
       "7                            Cherry, Harry & Raquel!   \n",
       "8                                    The Desert Rats   \n",
       "9                    Blood Creek (a.k.a. Town Creek)   \n",
       "10                                         The River   \n",
       "11         Remington and the Curse of the Zombadings   \n",
       "12                            The Alive and the Dead   \n",
       "13                                The Killing Season   \n",
       "14                           Fracchia contro Dracula   \n",
       "15                            An Ideal Place to Kill   \n",
       "16                                     Gentleman Jim   \n",
       "17                              The Devil Is a Sissy   \n",
       "18                              (500) Days of Summer   \n",
       "19                                            Khakee   \n",
       "20                                  Paint Your Wagon   \n",
       "\n",
       "               Predicted Genre tags             Real Genre tags  \n",
       "1         [Drama, Mystery, Romance]   [Drama, Mystery, Romance]  \n",
       "2    [Comedy, Documentary, Musical]               [Documentary]  \n",
       "3          [Comedy, Drama, Romance]                     [Drama]  \n",
       "4           [Adventure, Drama, War]                     [Drama]  \n",
       "5   [Adventure, Animation, Fantasy]        [Adventure, Fantasy]  \n",
       "6            [Comedy, Crime, Drama]                     [Drama]  \n",
       "7          [Crime, Drama, Thriller]    [Crime, Drama, Thriller]  \n",
       "8             [Drama, Romance, War]                [Drama, War]  \n",
       "9           [Comedy, Drama, Horror]                    [Horror]  \n",
       "10         [Comedy, Drama, Romance]            [Drama, Romance]  \n",
       "11          [Comedy, Drama, Horror]     [Comedy, Drama, Horror]  \n",
       "12            [Drama, Mystery, War]                [Drama, War]  \n",
       "13      [Crime, Documentary, Drama]        [Crime, Documentary]  \n",
       "14        [Comedy, Horror, Western]            [Comedy, Horror]  \n",
       "15       [Crime, Mystery, Thriller]           [Crime, Thriller]  \n",
       "16         [Comedy, Drama, Romance]    [Comedy, Drama, Romance]  \n",
       "17         [Comedy, Drama, Romance]             [Comedy, Drama]  \n",
       "18         [Comedy, Drama, Romance]    [Comedy, Drama, Romance]  \n",
       "19      [Action, Adventure, Comedy]                    [Action]  \n",
       "20       [Comedy, Musical, Western]  [Comedy, Musical, Western]  "
      ]
     },
     "execution_count": 213,
     "metadata": {},
     "output_type": "execute_result"
    }
   ],
   "source": [
    "predictions_dataframe_one"
   ]
  },
  {
   "cell_type": "code",
   "execution_count": 214,
   "metadata": {},
   "outputs": [
    {
     "data": {
      "text/html": [
       "<div>\n",
       "<style scoped>\n",
       "    .dataframe tbody tr th:only-of-type {\n",
       "        vertical-align: middle;\n",
       "    }\n",
       "\n",
       "    .dataframe tbody tr th {\n",
       "        vertical-align: top;\n",
       "    }\n",
       "\n",
       "    .dataframe thead th {\n",
       "        text-align: right;\n",
       "    }\n",
       "</style>\n",
       "<table border=\"1\" class=\"dataframe\">\n",
       "  <thead>\n",
       "    <tr style=\"text-align: right;\">\n",
       "      <th></th>\n",
       "      <th>Movie Title</th>\n",
       "      <th>Predicted Genre tags</th>\n",
       "      <th>Real Genre tags</th>\n",
       "    </tr>\n",
       "  </thead>\n",
       "  <tbody>\n",
       "    <tr>\n",
       "      <td>1</td>\n",
       "      <td>Three Days of the Condor (3 Days of the Condor)</td>\n",
       "      <td>[Drama, Mystery, Romance]</td>\n",
       "      <td>[Drama, Mystery, Romance]</td>\n",
       "    </tr>\n",
       "    <tr>\n",
       "      <td>2</td>\n",
       "      <td>Nazi Pop Twins</td>\n",
       "      <td>[Crime, Documentary, Musical]</td>\n",
       "      <td>[Documentary]</td>\n",
       "    </tr>\n",
       "    <tr>\n",
       "      <td>3</td>\n",
       "      <td>The Mark of the Hawk</td>\n",
       "      <td>[Drama, Thriller, War]</td>\n",
       "      <td>[Drama]</td>\n",
       "    </tr>\n",
       "    <tr>\n",
       "      <td>4</td>\n",
       "      <td>Land of Plenty (Angst and Alienation in America)</td>\n",
       "      <td>[Drama, Thriller, War]</td>\n",
       "      <td>[Drama]</td>\n",
       "    </tr>\n",
       "    <tr>\n",
       "      <td>5</td>\n",
       "      <td>The Hobbit: An Unexpected Journey</td>\n",
       "      <td>[Adventure, Drama, Fantasy]</td>\n",
       "      <td>[Adventure, Fantasy]</td>\n",
       "    </tr>\n",
       "    <tr>\n",
       "      <td>6</td>\n",
       "      <td>The Good Lie</td>\n",
       "      <td>[Drama, Romance, Thriller]</td>\n",
       "      <td>[Drama]</td>\n",
       "    </tr>\n",
       "    <tr>\n",
       "      <td>7</td>\n",
       "      <td>Cherry, Harry &amp; Raquel!</td>\n",
       "      <td>[Crime, Drama, Thriller]</td>\n",
       "      <td>[Crime, Drama, Thriller]</td>\n",
       "    </tr>\n",
       "    <tr>\n",
       "      <td>8</td>\n",
       "      <td>The Desert Rats</td>\n",
       "      <td>[Drama, Thriller, War]</td>\n",
       "      <td>[Drama, War]</td>\n",
       "    </tr>\n",
       "    <tr>\n",
       "      <td>9</td>\n",
       "      <td>Blood Creek (a.k.a. Town Creek)</td>\n",
       "      <td>[Adventure, Horror, Mystery]</td>\n",
       "      <td>[Horror]</td>\n",
       "    </tr>\n",
       "    <tr>\n",
       "      <td>10</td>\n",
       "      <td>The River</td>\n",
       "      <td>[Action, Drama, Romance]</td>\n",
       "      <td>[Drama, Romance]</td>\n",
       "    </tr>\n",
       "    <tr>\n",
       "      <td>11</td>\n",
       "      <td>Remington and the Curse of the Zombadings</td>\n",
       "      <td>[Comedy, Drama, Horror]</td>\n",
       "      <td>[Comedy, Drama, Horror]</td>\n",
       "    </tr>\n",
       "    <tr>\n",
       "      <td>12</td>\n",
       "      <td>The Alive and the Dead</td>\n",
       "      <td>[Adventure, Drama, War]</td>\n",
       "      <td>[Drama, War]</td>\n",
       "    </tr>\n",
       "    <tr>\n",
       "      <td>13</td>\n",
       "      <td>The Killing Season</td>\n",
       "      <td>[Crime, Documentary, Musical]</td>\n",
       "      <td>[Crime, Documentary]</td>\n",
       "    </tr>\n",
       "    <tr>\n",
       "      <td>14</td>\n",
       "      <td>Fracchia contro Dracula</td>\n",
       "      <td>[Comedy, Horror, Thriller]</td>\n",
       "      <td>[Comedy, Horror]</td>\n",
       "    </tr>\n",
       "    <tr>\n",
       "      <td>15</td>\n",
       "      <td>An Ideal Place to Kill</td>\n",
       "      <td>[Action, Crime, Thriller]</td>\n",
       "      <td>[Crime, Thriller]</td>\n",
       "    </tr>\n",
       "    <tr>\n",
       "      <td>16</td>\n",
       "      <td>Gentleman Jim</td>\n",
       "      <td>[Comedy, Drama, Romance]</td>\n",
       "      <td>[Comedy, Drama, Romance]</td>\n",
       "    </tr>\n",
       "    <tr>\n",
       "      <td>17</td>\n",
       "      <td>The Devil Is a Sissy</td>\n",
       "      <td>[Comedy, Drama, Thriller]</td>\n",
       "      <td>[Comedy, Drama]</td>\n",
       "    </tr>\n",
       "    <tr>\n",
       "      <td>18</td>\n",
       "      <td>(500) Days of Summer</td>\n",
       "      <td>[Comedy, Drama, Romance]</td>\n",
       "      <td>[Comedy, Drama, Romance]</td>\n",
       "    </tr>\n",
       "    <tr>\n",
       "      <td>19</td>\n",
       "      <td>Khakee</td>\n",
       "      <td>[Action, Adventure, War]</td>\n",
       "      <td>[Action]</td>\n",
       "    </tr>\n",
       "    <tr>\n",
       "      <td>20</td>\n",
       "      <td>Paint Your Wagon</td>\n",
       "      <td>[Comedy, Musical, Western]</td>\n",
       "      <td>[Comedy, Musical, Western]</td>\n",
       "    </tr>\n",
       "  </tbody>\n",
       "</table>\n",
       "</div>"
      ],
      "text/plain": [
       "                                         Movie Title  \\\n",
       "1    Three Days of the Condor (3 Days of the Condor)   \n",
       "2                                     Nazi Pop Twins   \n",
       "3                               The Mark of the Hawk   \n",
       "4   Land of Plenty (Angst and Alienation in America)   \n",
       "5                  The Hobbit: An Unexpected Journey   \n",
       "6                                       The Good Lie   \n",
       "7                            Cherry, Harry & Raquel!   \n",
       "8                                    The Desert Rats   \n",
       "9                    Blood Creek (a.k.a. Town Creek)   \n",
       "10                                         The River   \n",
       "11         Remington and the Curse of the Zombadings   \n",
       "12                            The Alive and the Dead   \n",
       "13                                The Killing Season   \n",
       "14                           Fracchia contro Dracula   \n",
       "15                            An Ideal Place to Kill   \n",
       "16                                     Gentleman Jim   \n",
       "17                              The Devil Is a Sissy   \n",
       "18                              (500) Days of Summer   \n",
       "19                                            Khakee   \n",
       "20                                  Paint Your Wagon   \n",
       "\n",
       "             Predicted Genre tags             Real Genre tags  \n",
       "1       [Drama, Mystery, Romance]   [Drama, Mystery, Romance]  \n",
       "2   [Crime, Documentary, Musical]               [Documentary]  \n",
       "3          [Drama, Thriller, War]                     [Drama]  \n",
       "4          [Drama, Thriller, War]                     [Drama]  \n",
       "5     [Adventure, Drama, Fantasy]        [Adventure, Fantasy]  \n",
       "6      [Drama, Romance, Thriller]                     [Drama]  \n",
       "7        [Crime, Drama, Thriller]    [Crime, Drama, Thriller]  \n",
       "8          [Drama, Thriller, War]                [Drama, War]  \n",
       "9    [Adventure, Horror, Mystery]                    [Horror]  \n",
       "10       [Action, Drama, Romance]            [Drama, Romance]  \n",
       "11        [Comedy, Drama, Horror]     [Comedy, Drama, Horror]  \n",
       "12        [Adventure, Drama, War]                [Drama, War]  \n",
       "13  [Crime, Documentary, Musical]        [Crime, Documentary]  \n",
       "14     [Comedy, Horror, Thriller]            [Comedy, Horror]  \n",
       "15      [Action, Crime, Thriller]           [Crime, Thriller]  \n",
       "16       [Comedy, Drama, Romance]    [Comedy, Drama, Romance]  \n",
       "17      [Comedy, Drama, Thriller]             [Comedy, Drama]  \n",
       "18       [Comedy, Drama, Romance]    [Comedy, Drama, Romance]  \n",
       "19       [Action, Adventure, War]                    [Action]  \n",
       "20     [Comedy, Musical, Western]  [Comedy, Musical, Western]  "
      ]
     },
     "execution_count": 214,
     "metadata": {},
     "output_type": "execute_result"
    }
   ],
   "source": [
    "predictions_dataframe_two"
   ]
  },
  {
   "cell_type": "markdown",
   "metadata": {},
   "source": [
    "#### Comparison 5: Training and Validation plots"
   ]
  },
  {
   "cell_type": "code",
   "execution_count": 219,
   "metadata": {},
   "outputs": [],
   "source": [
    "history_dataframe_one=pd.read_pickle(os.path.join(os.getcwd(), \"model_one\\\\metrics_histogram_multi_input_keras_{0}dim_{1}batchsize.pkl\".format(str(50), str(128))))\n",
    "history_dataframe_two=pd.read_pickle(os.path.join(os.getcwd(), \"model_one\\\\metrics_histogram_multi_input_keras_{0}dim_{1}batchsize.pkl\".format(str(100), str(64))))"
   ]
  },
  {
   "cell_type": "code",
   "execution_count": 262,
   "metadata": {
    "scrolled": false
   },
   "outputs": [
    {
     "data": {
      "application/vnd.plotly.v1+json": {
       "config": {
        "plotlyServerURL": "https://plot.ly"
       },
       "data": [
        {
         "line": {
          "color": "rgb(102, 194, 165)"
         },
         "mode": "lines+markers",
         "name": "Training Accuracy",
         "type": "scatter",
         "x": [
          1,
          2,
          3,
          4,
          5,
          6,
          7,
          8,
          9,
          10,
          11,
          12,
          13,
          14,
          15,
          16,
          17,
          18,
          19,
          20,
          21,
          22,
          23,
          24,
          25,
          26,
          27,
          28,
          29,
          30,
          31,
          32,
          33,
          34,
          35,
          36,
          37,
          38,
          39,
          40,
          41,
          42,
          43,
          44,
          45,
          46,
          47,
          48,
          49,
          50,
          51,
          52,
          53,
          54,
          55,
          56,
          57,
          58,
          59,
          60,
          61,
          62,
          63,
          64,
          65,
          66,
          67,
          68,
          69,
          70,
          71,
          72,
          73,
          74,
          75,
          76,
          77,
          78,
          79,
          80,
          81,
          82,
          83,
          84,
          85,
          86,
          87,
          88,
          89,
          90
         ],
         "y": [
          0.9316404461860657,
          0.9793270826339722,
          0.9919880628585815,
          0.9938713908195496,
          0.9949988126754761,
          0.9958010911941528,
          0.9959290027618408,
          0.9964717626571655,
          0.9970046281814575,
          0.99739670753479,
          0.9970070123672485,
          0.9975042939186096,
          0.9978551864624023,
          0.9978776574134827,
          0.9979886412620544,
          0.9977759122848511,
          0.9982308149337769,
          0.9982056021690369,
          0.9980380535125732,
          0.9980323910713196,
          0.9983492493629456,
          0.9983851909637451,
          0.9984715580940247,
          0.9983170628547668,
          0.9983168840408325,
          0.9985471963882446,
          0.9985849857330322,
          0.9982978701591492,
          0.9985431432723999,
          0.9985880255699158,
          0.9987637996673584,
          0.9985352158546448,
          0.9986488223075867,
          0.9986564517021179,
          0.9988243579864502,
          0.9987205862998962,
          0.9985960721969604,
          0.9989521503448486,
          0.9986993670463562,
          0.9989542365074158,
          0.9987882971763611,
          0.9988448023796082,
          0.9989844560623169,
          0.9987448453903198,
          0.9989824891090393,
          0.9989107251167297,
          0.9988842010498047,
          0.998875081539154,
          0.9986318945884705,
          0.9989407658576965,
          0.9990311861038208,
          0.9988260865211487,
          0.9987670183181763,
          0.999172568321228,
          0.9991763234138489,
          0.9989522695541382,
          0.9990426301956177,
          0.9989937543869019,
          0.999016284942627,
          0.9991180896759033,
          0.9988823533058167,
          0.9990652799606323,
          0.9989727735519409,
          0.999001145362854,
          0.9989347457885742,
          0.999055802822113,
          0.9991291165351868,
          0.9989803433418274,
          0.9990407228469849,
          0.9991047978401184,
          0.9989462494850159,
          0.9990293979644775,
          0.9991405010223389,
          0.9991913437843323,
          0.9992028474807739,
          0.9993907809257507,
          0.9988522529602051,
          0.9991137981414795,
          0.9990653991699219,
          0.9990917444229126,
          0.9990538954734802,
          0.9992668628692627,
          0.9990124702453613,
          0.9990954399108887,
          0.9991464614868164,
          0.9990388751029968,
          0.9993513822555542,
          0.9991045594215393,
          0.9991781711578369,
          0.9993101358413696
         ]
        },
        {
         "line": {
          "color": "rgb(252, 141, 98)"
         },
         "marker": {
          "color": [
           "rgb(252, 141, 98)",
           "rgb(252, 141, 98)",
           "rgb(252, 141, 98)",
           "rgb(252, 141, 98)",
           "rgb(252, 141, 98)",
           "rgb(252, 141, 98)",
           "rgb(252, 141, 98)",
           "rgb(252, 141, 98)",
           "rgb(252, 141, 98)",
           "rgb(252, 141, 98)",
           "rgb(252, 141, 98)",
           "rgb(252, 141, 98)",
           "rgb(252, 141, 98)",
           "rgb(252, 141, 98)",
           "rgb(252, 141, 98)",
           "rgb(252, 141, 98)",
           "rgb(252, 141, 98)",
           "rgb(252, 141, 98)",
           "rgb(252, 141, 98)",
           "rgb(252, 141, 98)",
           "rgb(252, 141, 98)",
           "rgb(252, 141, 98)",
           "rgb(252, 141, 98)",
           "rgb(252, 141, 98)",
           "rgb(252, 141, 98)",
           "rgb(252, 141, 98)",
           "rgb(252, 141, 98)",
           "rgb(252, 141, 98)",
           "rgb(252, 141, 98)",
           "rgb(252, 141, 98)",
           "rgb(252, 141, 98)",
           "rgb(252, 141, 98)",
           "rgb(252, 141, 98)",
           "rgb(252, 141, 98)",
           "rgb(252, 141, 98)",
           "rgb(252, 141, 98)",
           "rgb(252, 141, 98)",
           "rgb(252, 141, 98)",
           "rgb(252, 141, 98)",
           "black",
           "rgb(252, 141, 98)",
           "rgb(252, 141, 98)",
           "rgb(252, 141, 98)",
           "rgb(252, 141, 98)",
           "rgb(252, 141, 98)",
           "rgb(252, 141, 98)",
           "rgb(252, 141, 98)",
           "rgb(252, 141, 98)",
           "rgb(252, 141, 98)",
           "rgb(252, 141, 98)",
           "rgb(252, 141, 98)",
           "rgb(252, 141, 98)",
           "rgb(252, 141, 98)",
           "rgb(252, 141, 98)",
           "rgb(252, 141, 98)",
           "rgb(252, 141, 98)",
           "rgb(252, 141, 98)",
           "rgb(252, 141, 98)",
           "rgb(252, 141, 98)",
           "rgb(252, 141, 98)",
           "rgb(252, 141, 98)",
           "rgb(252, 141, 98)",
           "rgb(252, 141, 98)",
           "rgb(252, 141, 98)",
           "rgb(252, 141, 98)",
           "rgb(252, 141, 98)",
           "rgb(252, 141, 98)",
           "rgb(252, 141, 98)",
           "rgb(252, 141, 98)",
           "rgb(252, 141, 98)",
           "rgb(252, 141, 98)",
           "rgb(252, 141, 98)",
           "rgb(252, 141, 98)",
           "rgb(252, 141, 98)",
           "rgb(252, 141, 98)",
           "rgb(252, 141, 98)",
           "rgb(252, 141, 98)",
           "rgb(252, 141, 98)",
           "rgb(252, 141, 98)",
           "rgb(252, 141, 98)",
           "rgb(252, 141, 98)",
           "rgb(252, 141, 98)",
           "rgb(252, 141, 98)",
           "rgb(252, 141, 98)",
           "rgb(252, 141, 98)",
           "rgb(252, 141, 98)",
           "rgb(252, 141, 98)",
           "rgb(252, 141, 98)",
           "rgb(252, 141, 98)",
           "rgb(252, 141, 98)"
          ]
         },
         "mode": "lines+markers",
         "name": "Validation Accuracy",
         "type": "scatter",
         "x": [
          1,
          2,
          3,
          4,
          5,
          6,
          7,
          8,
          9,
          10,
          11,
          12,
          13,
          14,
          15,
          16,
          17,
          18,
          19,
          20,
          21,
          22,
          23,
          24,
          25,
          26,
          27,
          28,
          29,
          30,
          31,
          32,
          33,
          34,
          35,
          36,
          37,
          38,
          39,
          40,
          41,
          42,
          43,
          44,
          45,
          46,
          47,
          48,
          49,
          50,
          51,
          52,
          53,
          54,
          55,
          56,
          57,
          58,
          59,
          60,
          61,
          62,
          63,
          64,
          65,
          66,
          67,
          68,
          69,
          70,
          71,
          72,
          73,
          74,
          75,
          76,
          77,
          78,
          79,
          80,
          81,
          82,
          83,
          84,
          85,
          86,
          87,
          88,
          89,
          90
         ],
         "y": [
          0.9597938060760498,
          0.9914155602455139,
          0.9928262233734131,
          0.9938991665840149,
          0.9944244623184204,
          0.9949195981025696,
          0.9949873685836792,
          0.9943945407867432,
          0.993719220161438,
          0.9945071339607239,
          0.9943343997001648,
          0.9953324198722839,
          0.994867205619812,
          0.9943345785140991,
          0.9952800869941711,
          0.99409419298172,
          0.994446873664856,
          0.9928485751152039,
          0.9948297142982483,
          0.9947320222854614,
          0.9949647784233093,
          0.9951973557472229,
          0.9948371648788452,
          0.9950097799301147,
          0.995204746723175,
          0.9941768646240234,
          0.9929987192153931,
          0.9949047565460205,
          0.9933591485023499,
          0.9946122169494629,
          0.9948446750640869,
          0.9936215281486511,
          0.993584156036377,
          0.9952799081802368,
          0.9939516186714172,
          0.9950025081634521,
          0.9941092133522034,
          0.9946572184562683,
          0.9946722984313965,
          0.9955276846885681,
          0.9947999119758606,
          0.9914003610610962,
          0.9926986694335938,
          0.9944170713424683,
          0.9951825141906738,
          0.9944320321083069,
          0.9942594766616821,
          0.9947322607040405,
          0.9941994547843933,
          0.9946346879005432,
          0.9948748350143433,
          0.9930739402770996,
          0.9953249096870422,
          0.993231475353241,
          0.9953625798225403,
          0.9950773119926453,
          0.9933139085769653,
          0.9939442873001099,
          0.9947548508644104,
          0.9932914972305298,
          0.9940568804740906,
          0.9940342903137207,
          0.9940268397331238,
          0.9944921135902405,
          0.9922558665275574,
          0.9931713342666626,
          0.9936441779136658,
          0.9927961230278015,
          0.9936140775680542,
          0.9938541054725647,
          0.992938756942749,
          0.9945521950721741,
          0.9931188821792603,
          0.9940493702888489,
          0.9933665990829468,
          0.9937943816184998,
          0.9935541152954102,
          0.9938843846321106,
          0.9945595264434814,
          0.9930514693260193,
          0.9931713938713074,
          0.9940192699432373,
          0.9943946599960327,
          0.991438090801239,
          0.9936144351959229,
          0.9942969083786011,
          0.9949648380279541,
          0.9918356537818909,
          0.9936441779136658,
          0.9937791228294373
         ]
        }
       ],
       "layout": {
        "annotations": [
         {
          "arrowhead": 5,
          "ax": 0,
          "ay": 40,
          "showarrow": true,
          "text": "Epoch with the highest validation accuracy",
          "x": 40,
          "xref": "x",
          "y": 0.9955276846885681,
          "yref": "y"
         }
        ],
        "showlegend": true,
        "template": {
         "data": {
          "bar": [
           {
            "error_x": {
             "color": "rgb(36,36,36)"
            },
            "error_y": {
             "color": "rgb(36,36,36)"
            },
            "marker": {
             "line": {
              "color": "white",
              "width": 0.5
             }
            },
            "type": "bar"
           }
          ],
          "barpolar": [
           {
            "marker": {
             "line": {
              "color": "white",
              "width": 0.5
             }
            },
            "type": "barpolar"
           }
          ],
          "carpet": [
           {
            "aaxis": {
             "endlinecolor": "rgb(36,36,36)",
             "gridcolor": "white",
             "linecolor": "white",
             "minorgridcolor": "white",
             "startlinecolor": "rgb(36,36,36)"
            },
            "baxis": {
             "endlinecolor": "rgb(36,36,36)",
             "gridcolor": "white",
             "linecolor": "white",
             "minorgridcolor": "white",
             "startlinecolor": "rgb(36,36,36)"
            },
            "type": "carpet"
           }
          ],
          "choropleth": [
           {
            "colorbar": {
             "outlinewidth": 1,
             "tickcolor": "rgb(36,36,36)",
             "ticks": "outside"
            },
            "type": "choropleth"
           }
          ],
          "contour": [
           {
            "colorbar": {
             "outlinewidth": 1,
             "tickcolor": "rgb(36,36,36)",
             "ticks": "outside"
            },
            "colorscale": [
             [
              0,
              "#440154"
             ],
             [
              0.1111111111111111,
              "#482878"
             ],
             [
              0.2222222222222222,
              "#3e4989"
             ],
             [
              0.3333333333333333,
              "#31688e"
             ],
             [
              0.4444444444444444,
              "#26828e"
             ],
             [
              0.5555555555555556,
              "#1f9e89"
             ],
             [
              0.6666666666666666,
              "#35b779"
             ],
             [
              0.7777777777777778,
              "#6ece58"
             ],
             [
              0.8888888888888888,
              "#b5de2b"
             ],
             [
              1,
              "#fde725"
             ]
            ],
            "type": "contour"
           }
          ],
          "contourcarpet": [
           {
            "colorbar": {
             "outlinewidth": 1,
             "tickcolor": "rgb(36,36,36)",
             "ticks": "outside"
            },
            "type": "contourcarpet"
           }
          ],
          "heatmap": [
           {
            "colorbar": {
             "outlinewidth": 1,
             "tickcolor": "rgb(36,36,36)",
             "ticks": "outside"
            },
            "colorscale": [
             [
              0,
              "#440154"
             ],
             [
              0.1111111111111111,
              "#482878"
             ],
             [
              0.2222222222222222,
              "#3e4989"
             ],
             [
              0.3333333333333333,
              "#31688e"
             ],
             [
              0.4444444444444444,
              "#26828e"
             ],
             [
              0.5555555555555556,
              "#1f9e89"
             ],
             [
              0.6666666666666666,
              "#35b779"
             ],
             [
              0.7777777777777778,
              "#6ece58"
             ],
             [
              0.8888888888888888,
              "#b5de2b"
             ],
             [
              1,
              "#fde725"
             ]
            ],
            "type": "heatmap"
           }
          ],
          "heatmapgl": [
           {
            "colorbar": {
             "outlinewidth": 1,
             "tickcolor": "rgb(36,36,36)",
             "ticks": "outside"
            },
            "colorscale": [
             [
              0,
              "#440154"
             ],
             [
              0.1111111111111111,
              "#482878"
             ],
             [
              0.2222222222222222,
              "#3e4989"
             ],
             [
              0.3333333333333333,
              "#31688e"
             ],
             [
              0.4444444444444444,
              "#26828e"
             ],
             [
              0.5555555555555556,
              "#1f9e89"
             ],
             [
              0.6666666666666666,
              "#35b779"
             ],
             [
              0.7777777777777778,
              "#6ece58"
             ],
             [
              0.8888888888888888,
              "#b5de2b"
             ],
             [
              1,
              "#fde725"
             ]
            ],
            "type": "heatmapgl"
           }
          ],
          "histogram": [
           {
            "marker": {
             "line": {
              "color": "white",
              "width": 0.6
             }
            },
            "type": "histogram"
           }
          ],
          "histogram2d": [
           {
            "colorbar": {
             "outlinewidth": 1,
             "tickcolor": "rgb(36,36,36)",
             "ticks": "outside"
            },
            "colorscale": [
             [
              0,
              "#440154"
             ],
             [
              0.1111111111111111,
              "#482878"
             ],
             [
              0.2222222222222222,
              "#3e4989"
             ],
             [
              0.3333333333333333,
              "#31688e"
             ],
             [
              0.4444444444444444,
              "#26828e"
             ],
             [
              0.5555555555555556,
              "#1f9e89"
             ],
             [
              0.6666666666666666,
              "#35b779"
             ],
             [
              0.7777777777777778,
              "#6ece58"
             ],
             [
              0.8888888888888888,
              "#b5de2b"
             ],
             [
              1,
              "#fde725"
             ]
            ],
            "type": "histogram2d"
           }
          ],
          "histogram2dcontour": [
           {
            "colorbar": {
             "outlinewidth": 1,
             "tickcolor": "rgb(36,36,36)",
             "ticks": "outside"
            },
            "colorscale": [
             [
              0,
              "#440154"
             ],
             [
              0.1111111111111111,
              "#482878"
             ],
             [
              0.2222222222222222,
              "#3e4989"
             ],
             [
              0.3333333333333333,
              "#31688e"
             ],
             [
              0.4444444444444444,
              "#26828e"
             ],
             [
              0.5555555555555556,
              "#1f9e89"
             ],
             [
              0.6666666666666666,
              "#35b779"
             ],
             [
              0.7777777777777778,
              "#6ece58"
             ],
             [
              0.8888888888888888,
              "#b5de2b"
             ],
             [
              1,
              "#fde725"
             ]
            ],
            "type": "histogram2dcontour"
           }
          ],
          "mesh3d": [
           {
            "colorbar": {
             "outlinewidth": 1,
             "tickcolor": "rgb(36,36,36)",
             "ticks": "outside"
            },
            "type": "mesh3d"
           }
          ],
          "parcoords": [
           {
            "line": {
             "colorbar": {
              "outlinewidth": 1,
              "tickcolor": "rgb(36,36,36)",
              "ticks": "outside"
             }
            },
            "type": "parcoords"
           }
          ],
          "pie": [
           {
            "automargin": true,
            "type": "pie"
           }
          ],
          "scatter": [
           {
            "marker": {
             "colorbar": {
              "outlinewidth": 1,
              "tickcolor": "rgb(36,36,36)",
              "ticks": "outside"
             }
            },
            "type": "scatter"
           }
          ],
          "scatter3d": [
           {
            "line": {
             "colorbar": {
              "outlinewidth": 1,
              "tickcolor": "rgb(36,36,36)",
              "ticks": "outside"
             }
            },
            "marker": {
             "colorbar": {
              "outlinewidth": 1,
              "tickcolor": "rgb(36,36,36)",
              "ticks": "outside"
             }
            },
            "type": "scatter3d"
           }
          ],
          "scattercarpet": [
           {
            "marker": {
             "colorbar": {
              "outlinewidth": 1,
              "tickcolor": "rgb(36,36,36)",
              "ticks": "outside"
             }
            },
            "type": "scattercarpet"
           }
          ],
          "scattergeo": [
           {
            "marker": {
             "colorbar": {
              "outlinewidth": 1,
              "tickcolor": "rgb(36,36,36)",
              "ticks": "outside"
             }
            },
            "type": "scattergeo"
           }
          ],
          "scattergl": [
           {
            "marker": {
             "colorbar": {
              "outlinewidth": 1,
              "tickcolor": "rgb(36,36,36)",
              "ticks": "outside"
             }
            },
            "type": "scattergl"
           }
          ],
          "scattermapbox": [
           {
            "marker": {
             "colorbar": {
              "outlinewidth": 1,
              "tickcolor": "rgb(36,36,36)",
              "ticks": "outside"
             }
            },
            "type": "scattermapbox"
           }
          ],
          "scatterpolar": [
           {
            "marker": {
             "colorbar": {
              "outlinewidth": 1,
              "tickcolor": "rgb(36,36,36)",
              "ticks": "outside"
             }
            },
            "type": "scatterpolar"
           }
          ],
          "scatterpolargl": [
           {
            "marker": {
             "colorbar": {
              "outlinewidth": 1,
              "tickcolor": "rgb(36,36,36)",
              "ticks": "outside"
             }
            },
            "type": "scatterpolargl"
           }
          ],
          "scatterternary": [
           {
            "marker": {
             "colorbar": {
              "outlinewidth": 1,
              "tickcolor": "rgb(36,36,36)",
              "ticks": "outside"
             }
            },
            "type": "scatterternary"
           }
          ],
          "surface": [
           {
            "colorbar": {
             "outlinewidth": 1,
             "tickcolor": "rgb(36,36,36)",
             "ticks": "outside"
            },
            "colorscale": [
             [
              0,
              "#440154"
             ],
             [
              0.1111111111111111,
              "#482878"
             ],
             [
              0.2222222222222222,
              "#3e4989"
             ],
             [
              0.3333333333333333,
              "#31688e"
             ],
             [
              0.4444444444444444,
              "#26828e"
             ],
             [
              0.5555555555555556,
              "#1f9e89"
             ],
             [
              0.6666666666666666,
              "#35b779"
             ],
             [
              0.7777777777777778,
              "#6ece58"
             ],
             [
              0.8888888888888888,
              "#b5de2b"
             ],
             [
              1,
              "#fde725"
             ]
            ],
            "type": "surface"
           }
          ],
          "table": [
           {
            "cells": {
             "fill": {
              "color": "rgb(237,237,237)"
             },
             "line": {
              "color": "white"
             }
            },
            "header": {
             "fill": {
              "color": "rgb(217,217,217)"
             },
             "line": {
              "color": "white"
             }
            },
            "type": "table"
           }
          ]
         },
         "layout": {
          "annotationdefaults": {
           "arrowhead": 0,
           "arrowwidth": 1
          },
          "coloraxis": {
           "colorbar": {
            "outlinewidth": 1,
            "tickcolor": "rgb(36,36,36)",
            "ticks": "outside"
           }
          },
          "colorscale": {
           "diverging": [
            [
             0,
             "rgb(103,0,31)"
            ],
            [
             0.1,
             "rgb(178,24,43)"
            ],
            [
             0.2,
             "rgb(214,96,77)"
            ],
            [
             0.3,
             "rgb(244,165,130)"
            ],
            [
             0.4,
             "rgb(253,219,199)"
            ],
            [
             0.5,
             "rgb(247,247,247)"
            ],
            [
             0.6,
             "rgb(209,229,240)"
            ],
            [
             0.7,
             "rgb(146,197,222)"
            ],
            [
             0.8,
             "rgb(67,147,195)"
            ],
            [
             0.9,
             "rgb(33,102,172)"
            ],
            [
             1,
             "rgb(5,48,97)"
            ]
           ],
           "sequential": [
            [
             0,
             "#440154"
            ],
            [
             0.1111111111111111,
             "#482878"
            ],
            [
             0.2222222222222222,
             "#3e4989"
            ],
            [
             0.3333333333333333,
             "#31688e"
            ],
            [
             0.4444444444444444,
             "#26828e"
            ],
            [
             0.5555555555555556,
             "#1f9e89"
            ],
            [
             0.6666666666666666,
             "#35b779"
            ],
            [
             0.7777777777777778,
             "#6ece58"
            ],
            [
             0.8888888888888888,
             "#b5de2b"
            ],
            [
             1,
             "#fde725"
            ]
           ],
           "sequentialminus": [
            [
             0,
             "#440154"
            ],
            [
             0.1111111111111111,
             "#482878"
            ],
            [
             0.2222222222222222,
             "#3e4989"
            ],
            [
             0.3333333333333333,
             "#31688e"
            ],
            [
             0.4444444444444444,
             "#26828e"
            ],
            [
             0.5555555555555556,
             "#1f9e89"
            ],
            [
             0.6666666666666666,
             "#35b779"
            ],
            [
             0.7777777777777778,
             "#6ece58"
            ],
            [
             0.8888888888888888,
             "#b5de2b"
            ],
            [
             1,
             "#fde725"
            ]
           ]
          },
          "colorway": [
           "#1F77B4",
           "#FF7F0E",
           "#2CA02C",
           "#D62728",
           "#9467BD",
           "#8C564B",
           "#E377C2",
           "#7F7F7F",
           "#BCBD22",
           "#17BECF"
          ],
          "font": {
           "color": "rgb(36,36,36)"
          },
          "geo": {
           "bgcolor": "white",
           "lakecolor": "white",
           "landcolor": "white",
           "showlakes": true,
           "showland": true,
           "subunitcolor": "white"
          },
          "hoverlabel": {
           "align": "left"
          },
          "hovermode": "closest",
          "mapbox": {
           "style": "light"
          },
          "paper_bgcolor": "white",
          "plot_bgcolor": "white",
          "polar": {
           "angularaxis": {
            "gridcolor": "rgb(232,232,232)",
            "linecolor": "rgb(36,36,36)",
            "showgrid": false,
            "showline": true,
            "ticks": "outside"
           },
           "bgcolor": "white",
           "radialaxis": {
            "gridcolor": "rgb(232,232,232)",
            "linecolor": "rgb(36,36,36)",
            "showgrid": false,
            "showline": true,
            "ticks": "outside"
           }
          },
          "scene": {
           "xaxis": {
            "backgroundcolor": "white",
            "gridcolor": "rgb(232,232,232)",
            "gridwidth": 2,
            "linecolor": "rgb(36,36,36)",
            "showbackground": true,
            "showgrid": false,
            "showline": true,
            "ticks": "outside",
            "zeroline": false,
            "zerolinecolor": "rgb(36,36,36)"
           },
           "yaxis": {
            "backgroundcolor": "white",
            "gridcolor": "rgb(232,232,232)",
            "gridwidth": 2,
            "linecolor": "rgb(36,36,36)",
            "showbackground": true,
            "showgrid": false,
            "showline": true,
            "ticks": "outside",
            "zeroline": false,
            "zerolinecolor": "rgb(36,36,36)"
           },
           "zaxis": {
            "backgroundcolor": "white",
            "gridcolor": "rgb(232,232,232)",
            "gridwidth": 2,
            "linecolor": "rgb(36,36,36)",
            "showbackground": true,
            "showgrid": false,
            "showline": true,
            "ticks": "outside",
            "zeroline": false,
            "zerolinecolor": "rgb(36,36,36)"
           }
          },
          "shapedefaults": {
           "fillcolor": "black",
           "line": {
            "width": 0
           },
           "opacity": 0.3
          },
          "ternary": {
           "aaxis": {
            "gridcolor": "rgb(232,232,232)",
            "linecolor": "rgb(36,36,36)",
            "showgrid": false,
            "showline": true,
            "ticks": "outside"
           },
           "baxis": {
            "gridcolor": "rgb(232,232,232)",
            "linecolor": "rgb(36,36,36)",
            "showgrid": false,
            "showline": true,
            "ticks": "outside"
           },
           "bgcolor": "white",
           "caxis": {
            "gridcolor": "rgb(232,232,232)",
            "linecolor": "rgb(36,36,36)",
            "showgrid": false,
            "showline": true,
            "ticks": "outside"
           }
          },
          "title": {
           "x": 0.05
          },
          "xaxis": {
           "automargin": true,
           "gridcolor": "rgb(232,232,232)",
           "linecolor": "rgb(36,36,36)",
           "showgrid": false,
           "showline": true,
           "ticks": "outside",
           "title": {
            "standoff": 15
           },
           "zeroline": false,
           "zerolinecolor": "rgb(36,36,36)"
          },
          "yaxis": {
           "automargin": true,
           "gridcolor": "rgb(232,232,232)",
           "linecolor": "rgb(36,36,36)",
           "showgrid": false,
           "showline": true,
           "ticks": "outside",
           "title": {
            "standoff": 15
           },
           "zeroline": false,
           "zerolinecolor": "rgb(36,36,36)"
          }
         }
        },
        "title": {
         "text": "Accuracy score on train & validation sets (model four)"
        },
        "xaxis": {
         "title": {
          "text": "Number of epochs"
         }
        },
        "yaxis": {
         "title": {
          "text": "Accuracy/epoch"
         }
        }
       }
      },
      "text/html": [
       "<div>\n",
       "        \n",
       "        \n",
       "            <div id=\"978be607-06b0-429d-9708-5edb571c6ab7\" class=\"plotly-graph-div\" style=\"height:525px; width:100%;\"></div>\n",
       "            <script type=\"text/javascript\">\n",
       "                require([\"plotly\"], function(Plotly) {\n",
       "                    window.PLOTLYENV=window.PLOTLYENV || {};\n",
       "                    \n",
       "                if (document.getElementById(\"978be607-06b0-429d-9708-5edb571c6ab7\")) {\n",
       "                    Plotly.newPlot(\n",
       "                        '978be607-06b0-429d-9708-5edb571c6ab7',\n",
       "                        [{\"line\": {\"color\": \"rgb(102, 194, 165)\"}, \"mode\": \"lines+markers\", \"name\": \"Training Accuracy\", \"type\": \"scatter\", \"x\": [1, 2, 3, 4, 5, 6, 7, 8, 9, 10, 11, 12, 13, 14, 15, 16, 17, 18, 19, 20, 21, 22, 23, 24, 25, 26, 27, 28, 29, 30, 31, 32, 33, 34, 35, 36, 37, 38, 39, 40, 41, 42, 43, 44, 45, 46, 47, 48, 49, 50, 51, 52, 53, 54, 55, 56, 57, 58, 59, 60, 61, 62, 63, 64, 65, 66, 67, 68, 69, 70, 71, 72, 73, 74, 75, 76, 77, 78, 79, 80, 81, 82, 83, 84, 85, 86, 87, 88, 89, 90], \"y\": [0.9316404461860657, 0.9793270826339722, 0.9919880628585815, 0.9938713908195496, 0.9949988126754761, 0.9958010911941528, 0.9959290027618408, 0.9964717626571655, 0.9970046281814575, 0.99739670753479, 0.9970070123672485, 0.9975042939186096, 0.9978551864624023, 0.9978776574134827, 0.9979886412620544, 0.9977759122848511, 0.9982308149337769, 0.9982056021690369, 0.9980380535125732, 0.9980323910713196, 0.9983492493629456, 0.9983851909637451, 0.9984715580940247, 0.9983170628547668, 0.9983168840408325, 0.9985471963882446, 0.9985849857330322, 0.9982978701591492, 0.9985431432723999, 0.9985880255699158, 0.9987637996673584, 0.9985352158546448, 0.9986488223075867, 0.9986564517021179, 0.9988243579864502, 0.9987205862998962, 0.9985960721969604, 0.9989521503448486, 0.9986993670463562, 0.9989542365074158, 0.9987882971763611, 0.9988448023796082, 0.9989844560623169, 0.9987448453903198, 0.9989824891090393, 0.9989107251167297, 0.9988842010498047, 0.998875081539154, 0.9986318945884705, 0.9989407658576965, 0.9990311861038208, 0.9988260865211487, 0.9987670183181763, 0.999172568321228, 0.9991763234138489, 0.9989522695541382, 0.9990426301956177, 0.9989937543869019, 0.999016284942627, 0.9991180896759033, 0.9988823533058167, 0.9990652799606323, 0.9989727735519409, 0.999001145362854, 0.9989347457885742, 0.999055802822113, 0.9991291165351868, 0.9989803433418274, 0.9990407228469849, 0.9991047978401184, 0.9989462494850159, 0.9990293979644775, 0.9991405010223389, 0.9991913437843323, 0.9992028474807739, 0.9993907809257507, 0.9988522529602051, 0.9991137981414795, 0.9990653991699219, 0.9990917444229126, 0.9990538954734802, 0.9992668628692627, 0.9990124702453613, 0.9990954399108887, 0.9991464614868164, 0.9990388751029968, 0.9993513822555542, 0.9991045594215393, 0.9991781711578369, 0.9993101358413696]}, {\"line\": {\"color\": \"rgb(252, 141, 98)\"}, \"marker\": {\"color\": [\"rgb(252, 141, 98)\", \"rgb(252, 141, 98)\", \"rgb(252, 141, 98)\", \"rgb(252, 141, 98)\", \"rgb(252, 141, 98)\", \"rgb(252, 141, 98)\", \"rgb(252, 141, 98)\", \"rgb(252, 141, 98)\", \"rgb(252, 141, 98)\", \"rgb(252, 141, 98)\", \"rgb(252, 141, 98)\", \"rgb(252, 141, 98)\", \"rgb(252, 141, 98)\", \"rgb(252, 141, 98)\", \"rgb(252, 141, 98)\", \"rgb(252, 141, 98)\", \"rgb(252, 141, 98)\", \"rgb(252, 141, 98)\", \"rgb(252, 141, 98)\", \"rgb(252, 141, 98)\", \"rgb(252, 141, 98)\", \"rgb(252, 141, 98)\", \"rgb(252, 141, 98)\", \"rgb(252, 141, 98)\", \"rgb(252, 141, 98)\", \"rgb(252, 141, 98)\", \"rgb(252, 141, 98)\", \"rgb(252, 141, 98)\", \"rgb(252, 141, 98)\", \"rgb(252, 141, 98)\", \"rgb(252, 141, 98)\", \"rgb(252, 141, 98)\", \"rgb(252, 141, 98)\", \"rgb(252, 141, 98)\", \"rgb(252, 141, 98)\", \"rgb(252, 141, 98)\", \"rgb(252, 141, 98)\", \"rgb(252, 141, 98)\", \"rgb(252, 141, 98)\", \"black\", \"rgb(252, 141, 98)\", \"rgb(252, 141, 98)\", \"rgb(252, 141, 98)\", \"rgb(252, 141, 98)\", \"rgb(252, 141, 98)\", \"rgb(252, 141, 98)\", \"rgb(252, 141, 98)\", \"rgb(252, 141, 98)\", \"rgb(252, 141, 98)\", \"rgb(252, 141, 98)\", \"rgb(252, 141, 98)\", \"rgb(252, 141, 98)\", \"rgb(252, 141, 98)\", \"rgb(252, 141, 98)\", \"rgb(252, 141, 98)\", \"rgb(252, 141, 98)\", \"rgb(252, 141, 98)\", \"rgb(252, 141, 98)\", \"rgb(252, 141, 98)\", \"rgb(252, 141, 98)\", \"rgb(252, 141, 98)\", \"rgb(252, 141, 98)\", \"rgb(252, 141, 98)\", \"rgb(252, 141, 98)\", \"rgb(252, 141, 98)\", \"rgb(252, 141, 98)\", \"rgb(252, 141, 98)\", \"rgb(252, 141, 98)\", \"rgb(252, 141, 98)\", \"rgb(252, 141, 98)\", \"rgb(252, 141, 98)\", \"rgb(252, 141, 98)\", \"rgb(252, 141, 98)\", \"rgb(252, 141, 98)\", \"rgb(252, 141, 98)\", \"rgb(252, 141, 98)\", \"rgb(252, 141, 98)\", \"rgb(252, 141, 98)\", \"rgb(252, 141, 98)\", \"rgb(252, 141, 98)\", \"rgb(252, 141, 98)\", \"rgb(252, 141, 98)\", \"rgb(252, 141, 98)\", \"rgb(252, 141, 98)\", \"rgb(252, 141, 98)\", \"rgb(252, 141, 98)\", \"rgb(252, 141, 98)\", \"rgb(252, 141, 98)\", \"rgb(252, 141, 98)\", \"rgb(252, 141, 98)\"]}, \"mode\": \"lines+markers\", \"name\": \"Validation Accuracy\", \"type\": \"scatter\", \"x\": [1, 2, 3, 4, 5, 6, 7, 8, 9, 10, 11, 12, 13, 14, 15, 16, 17, 18, 19, 20, 21, 22, 23, 24, 25, 26, 27, 28, 29, 30, 31, 32, 33, 34, 35, 36, 37, 38, 39, 40, 41, 42, 43, 44, 45, 46, 47, 48, 49, 50, 51, 52, 53, 54, 55, 56, 57, 58, 59, 60, 61, 62, 63, 64, 65, 66, 67, 68, 69, 70, 71, 72, 73, 74, 75, 76, 77, 78, 79, 80, 81, 82, 83, 84, 85, 86, 87, 88, 89, 90], \"y\": [0.9597938060760498, 0.9914155602455139, 0.9928262233734131, 0.9938991665840149, 0.9944244623184204, 0.9949195981025696, 0.9949873685836792, 0.9943945407867432, 0.993719220161438, 0.9945071339607239, 0.9943343997001648, 0.9953324198722839, 0.994867205619812, 0.9943345785140991, 0.9952800869941711, 0.99409419298172, 0.994446873664856, 0.9928485751152039, 0.9948297142982483, 0.9947320222854614, 0.9949647784233093, 0.9951973557472229, 0.9948371648788452, 0.9950097799301147, 0.995204746723175, 0.9941768646240234, 0.9929987192153931, 0.9949047565460205, 0.9933591485023499, 0.9946122169494629, 0.9948446750640869, 0.9936215281486511, 0.993584156036377, 0.9952799081802368, 0.9939516186714172, 0.9950025081634521, 0.9941092133522034, 0.9946572184562683, 0.9946722984313965, 0.9955276846885681, 0.9947999119758606, 0.9914003610610962, 0.9926986694335938, 0.9944170713424683, 0.9951825141906738, 0.9944320321083069, 0.9942594766616821, 0.9947322607040405, 0.9941994547843933, 0.9946346879005432, 0.9948748350143433, 0.9930739402770996, 0.9953249096870422, 0.993231475353241, 0.9953625798225403, 0.9950773119926453, 0.9933139085769653, 0.9939442873001099, 0.9947548508644104, 0.9932914972305298, 0.9940568804740906, 0.9940342903137207, 0.9940268397331238, 0.9944921135902405, 0.9922558665275574, 0.9931713342666626, 0.9936441779136658, 0.9927961230278015, 0.9936140775680542, 0.9938541054725647, 0.992938756942749, 0.9945521950721741, 0.9931188821792603, 0.9940493702888489, 0.9933665990829468, 0.9937943816184998, 0.9935541152954102, 0.9938843846321106, 0.9945595264434814, 0.9930514693260193, 0.9931713938713074, 0.9940192699432373, 0.9943946599960327, 0.991438090801239, 0.9936144351959229, 0.9942969083786011, 0.9949648380279541, 0.9918356537818909, 0.9936441779136658, 0.9937791228294373]}],\n",
       "                        {\"annotations\": [{\"arrowhead\": 5, \"ax\": 0, \"ay\": 40, \"showarrow\": true, \"text\": \"Epoch with the highest validation accuracy\", \"x\": 40, \"xref\": \"x\", \"y\": 0.9955276846885681, \"yref\": \"y\"}], \"showlegend\": true, \"template\": {\"data\": {\"bar\": [{\"error_x\": {\"color\": \"rgb(36,36,36)\"}, \"error_y\": {\"color\": \"rgb(36,36,36)\"}, \"marker\": {\"line\": {\"color\": \"white\", \"width\": 0.5}}, \"type\": \"bar\"}], \"barpolar\": [{\"marker\": {\"line\": {\"color\": \"white\", \"width\": 0.5}}, \"type\": \"barpolar\"}], \"carpet\": [{\"aaxis\": {\"endlinecolor\": \"rgb(36,36,36)\", \"gridcolor\": \"white\", \"linecolor\": \"white\", \"minorgridcolor\": \"white\", \"startlinecolor\": \"rgb(36,36,36)\"}, \"baxis\": {\"endlinecolor\": \"rgb(36,36,36)\", \"gridcolor\": \"white\", \"linecolor\": \"white\", \"minorgridcolor\": \"white\", \"startlinecolor\": \"rgb(36,36,36)\"}, \"type\": \"carpet\"}], \"choropleth\": [{\"colorbar\": {\"outlinewidth\": 1, \"tickcolor\": \"rgb(36,36,36)\", \"ticks\": \"outside\"}, \"type\": \"choropleth\"}], \"contour\": [{\"colorbar\": {\"outlinewidth\": 1, \"tickcolor\": \"rgb(36,36,36)\", \"ticks\": \"outside\"}, \"colorscale\": [[0.0, \"#440154\"], [0.1111111111111111, \"#482878\"], [0.2222222222222222, \"#3e4989\"], [0.3333333333333333, \"#31688e\"], [0.4444444444444444, \"#26828e\"], [0.5555555555555556, \"#1f9e89\"], [0.6666666666666666, \"#35b779\"], [0.7777777777777778, \"#6ece58\"], [0.8888888888888888, \"#b5de2b\"], [1.0, \"#fde725\"]], \"type\": \"contour\"}], \"contourcarpet\": [{\"colorbar\": {\"outlinewidth\": 1, \"tickcolor\": \"rgb(36,36,36)\", \"ticks\": \"outside\"}, \"type\": \"contourcarpet\"}], \"heatmap\": [{\"colorbar\": {\"outlinewidth\": 1, \"tickcolor\": \"rgb(36,36,36)\", \"ticks\": \"outside\"}, \"colorscale\": [[0.0, \"#440154\"], [0.1111111111111111, \"#482878\"], [0.2222222222222222, \"#3e4989\"], [0.3333333333333333, \"#31688e\"], [0.4444444444444444, \"#26828e\"], [0.5555555555555556, \"#1f9e89\"], [0.6666666666666666, \"#35b779\"], [0.7777777777777778, \"#6ece58\"], [0.8888888888888888, \"#b5de2b\"], [1.0, \"#fde725\"]], \"type\": \"heatmap\"}], \"heatmapgl\": [{\"colorbar\": {\"outlinewidth\": 1, \"tickcolor\": \"rgb(36,36,36)\", \"ticks\": \"outside\"}, \"colorscale\": [[0.0, \"#440154\"], [0.1111111111111111, \"#482878\"], [0.2222222222222222, \"#3e4989\"], [0.3333333333333333, \"#31688e\"], [0.4444444444444444, \"#26828e\"], [0.5555555555555556, \"#1f9e89\"], [0.6666666666666666, \"#35b779\"], [0.7777777777777778, \"#6ece58\"], [0.8888888888888888, \"#b5de2b\"], [1.0, \"#fde725\"]], \"type\": \"heatmapgl\"}], \"histogram\": [{\"marker\": {\"line\": {\"color\": \"white\", \"width\": 0.6}}, \"type\": \"histogram\"}], \"histogram2d\": [{\"colorbar\": {\"outlinewidth\": 1, \"tickcolor\": \"rgb(36,36,36)\", \"ticks\": \"outside\"}, \"colorscale\": [[0.0, \"#440154\"], [0.1111111111111111, \"#482878\"], [0.2222222222222222, \"#3e4989\"], [0.3333333333333333, \"#31688e\"], [0.4444444444444444, \"#26828e\"], [0.5555555555555556, \"#1f9e89\"], [0.6666666666666666, \"#35b779\"], [0.7777777777777778, \"#6ece58\"], [0.8888888888888888, \"#b5de2b\"], [1.0, \"#fde725\"]], \"type\": \"histogram2d\"}], \"histogram2dcontour\": [{\"colorbar\": {\"outlinewidth\": 1, \"tickcolor\": \"rgb(36,36,36)\", \"ticks\": \"outside\"}, \"colorscale\": [[0.0, \"#440154\"], [0.1111111111111111, \"#482878\"], [0.2222222222222222, \"#3e4989\"], [0.3333333333333333, \"#31688e\"], [0.4444444444444444, \"#26828e\"], [0.5555555555555556, \"#1f9e89\"], [0.6666666666666666, \"#35b779\"], [0.7777777777777778, \"#6ece58\"], [0.8888888888888888, \"#b5de2b\"], [1.0, \"#fde725\"]], \"type\": \"histogram2dcontour\"}], \"mesh3d\": [{\"colorbar\": {\"outlinewidth\": 1, \"tickcolor\": \"rgb(36,36,36)\", \"ticks\": \"outside\"}, \"type\": \"mesh3d\"}], \"parcoords\": [{\"line\": {\"colorbar\": {\"outlinewidth\": 1, \"tickcolor\": \"rgb(36,36,36)\", \"ticks\": \"outside\"}}, \"type\": \"parcoords\"}], \"pie\": [{\"automargin\": true, \"type\": \"pie\"}], \"scatter\": [{\"marker\": {\"colorbar\": {\"outlinewidth\": 1, \"tickcolor\": \"rgb(36,36,36)\", \"ticks\": \"outside\"}}, \"type\": \"scatter\"}], \"scatter3d\": [{\"line\": {\"colorbar\": {\"outlinewidth\": 1, \"tickcolor\": \"rgb(36,36,36)\", \"ticks\": \"outside\"}}, \"marker\": {\"colorbar\": {\"outlinewidth\": 1, \"tickcolor\": \"rgb(36,36,36)\", \"ticks\": \"outside\"}}, \"type\": \"scatter3d\"}], \"scattercarpet\": [{\"marker\": {\"colorbar\": {\"outlinewidth\": 1, \"tickcolor\": \"rgb(36,36,36)\", \"ticks\": \"outside\"}}, \"type\": \"scattercarpet\"}], \"scattergeo\": [{\"marker\": {\"colorbar\": {\"outlinewidth\": 1, \"tickcolor\": \"rgb(36,36,36)\", \"ticks\": \"outside\"}}, \"type\": \"scattergeo\"}], \"scattergl\": [{\"marker\": {\"colorbar\": {\"outlinewidth\": 1, \"tickcolor\": \"rgb(36,36,36)\", \"ticks\": \"outside\"}}, \"type\": \"scattergl\"}], \"scattermapbox\": [{\"marker\": {\"colorbar\": {\"outlinewidth\": 1, \"tickcolor\": \"rgb(36,36,36)\", \"ticks\": \"outside\"}}, \"type\": \"scattermapbox\"}], \"scatterpolar\": [{\"marker\": {\"colorbar\": {\"outlinewidth\": 1, \"tickcolor\": \"rgb(36,36,36)\", \"ticks\": \"outside\"}}, \"type\": \"scatterpolar\"}], \"scatterpolargl\": [{\"marker\": {\"colorbar\": {\"outlinewidth\": 1, \"tickcolor\": \"rgb(36,36,36)\", \"ticks\": \"outside\"}}, \"type\": \"scatterpolargl\"}], \"scatterternary\": [{\"marker\": {\"colorbar\": {\"outlinewidth\": 1, \"tickcolor\": \"rgb(36,36,36)\", \"ticks\": \"outside\"}}, \"type\": \"scatterternary\"}], \"surface\": [{\"colorbar\": {\"outlinewidth\": 1, \"tickcolor\": \"rgb(36,36,36)\", \"ticks\": \"outside\"}, \"colorscale\": [[0.0, \"#440154\"], [0.1111111111111111, \"#482878\"], [0.2222222222222222, \"#3e4989\"], [0.3333333333333333, \"#31688e\"], [0.4444444444444444, \"#26828e\"], [0.5555555555555556, \"#1f9e89\"], [0.6666666666666666, \"#35b779\"], [0.7777777777777778, \"#6ece58\"], [0.8888888888888888, \"#b5de2b\"], [1.0, \"#fde725\"]], \"type\": \"surface\"}], \"table\": [{\"cells\": {\"fill\": {\"color\": \"rgb(237,237,237)\"}, \"line\": {\"color\": \"white\"}}, \"header\": {\"fill\": {\"color\": \"rgb(217,217,217)\"}, \"line\": {\"color\": \"white\"}}, \"type\": \"table\"}]}, \"layout\": {\"annotationdefaults\": {\"arrowhead\": 0, \"arrowwidth\": 1}, \"coloraxis\": {\"colorbar\": {\"outlinewidth\": 1, \"tickcolor\": \"rgb(36,36,36)\", \"ticks\": \"outside\"}}, \"colorscale\": {\"diverging\": [[0.0, \"rgb(103,0,31)\"], [0.1, \"rgb(178,24,43)\"], [0.2, \"rgb(214,96,77)\"], [0.3, \"rgb(244,165,130)\"], [0.4, \"rgb(253,219,199)\"], [0.5, \"rgb(247,247,247)\"], [0.6, \"rgb(209,229,240)\"], [0.7, \"rgb(146,197,222)\"], [0.8, \"rgb(67,147,195)\"], [0.9, \"rgb(33,102,172)\"], [1.0, \"rgb(5,48,97)\"]], \"sequential\": [[0.0, \"#440154\"], [0.1111111111111111, \"#482878\"], [0.2222222222222222, \"#3e4989\"], [0.3333333333333333, \"#31688e\"], [0.4444444444444444, \"#26828e\"], [0.5555555555555556, \"#1f9e89\"], [0.6666666666666666, \"#35b779\"], [0.7777777777777778, \"#6ece58\"], [0.8888888888888888, \"#b5de2b\"], [1.0, \"#fde725\"]], \"sequentialminus\": [[0.0, \"#440154\"], [0.1111111111111111, \"#482878\"], [0.2222222222222222, \"#3e4989\"], [0.3333333333333333, \"#31688e\"], [0.4444444444444444, \"#26828e\"], [0.5555555555555556, \"#1f9e89\"], [0.6666666666666666, \"#35b779\"], [0.7777777777777778, \"#6ece58\"], [0.8888888888888888, \"#b5de2b\"], [1.0, \"#fde725\"]]}, \"colorway\": [\"#1F77B4\", \"#FF7F0E\", \"#2CA02C\", \"#D62728\", \"#9467BD\", \"#8C564B\", \"#E377C2\", \"#7F7F7F\", \"#BCBD22\", \"#17BECF\"], \"font\": {\"color\": \"rgb(36,36,36)\"}, \"geo\": {\"bgcolor\": \"white\", \"lakecolor\": \"white\", \"landcolor\": \"white\", \"showlakes\": true, \"showland\": true, \"subunitcolor\": \"white\"}, \"hoverlabel\": {\"align\": \"left\"}, \"hovermode\": \"closest\", \"mapbox\": {\"style\": \"light\"}, \"paper_bgcolor\": \"white\", \"plot_bgcolor\": \"white\", \"polar\": {\"angularaxis\": {\"gridcolor\": \"rgb(232,232,232)\", \"linecolor\": \"rgb(36,36,36)\", \"showgrid\": false, \"showline\": true, \"ticks\": \"outside\"}, \"bgcolor\": \"white\", \"radialaxis\": {\"gridcolor\": \"rgb(232,232,232)\", \"linecolor\": \"rgb(36,36,36)\", \"showgrid\": false, \"showline\": true, \"ticks\": \"outside\"}}, \"scene\": {\"xaxis\": {\"backgroundcolor\": \"white\", \"gridcolor\": \"rgb(232,232,232)\", \"gridwidth\": 2, \"linecolor\": \"rgb(36,36,36)\", \"showbackground\": true, \"showgrid\": false, \"showline\": true, \"ticks\": \"outside\", \"zeroline\": false, \"zerolinecolor\": \"rgb(36,36,36)\"}, \"yaxis\": {\"backgroundcolor\": \"white\", \"gridcolor\": \"rgb(232,232,232)\", \"gridwidth\": 2, \"linecolor\": \"rgb(36,36,36)\", \"showbackground\": true, \"showgrid\": false, \"showline\": true, \"ticks\": \"outside\", \"zeroline\": false, \"zerolinecolor\": \"rgb(36,36,36)\"}, \"zaxis\": {\"backgroundcolor\": \"white\", \"gridcolor\": \"rgb(232,232,232)\", \"gridwidth\": 2, \"linecolor\": \"rgb(36,36,36)\", \"showbackground\": true, \"showgrid\": false, \"showline\": true, \"ticks\": \"outside\", \"zeroline\": false, \"zerolinecolor\": \"rgb(36,36,36)\"}}, \"shapedefaults\": {\"fillcolor\": \"black\", \"line\": {\"width\": 0}, \"opacity\": 0.3}, \"ternary\": {\"aaxis\": {\"gridcolor\": \"rgb(232,232,232)\", \"linecolor\": \"rgb(36,36,36)\", \"showgrid\": false, \"showline\": true, \"ticks\": \"outside\"}, \"baxis\": {\"gridcolor\": \"rgb(232,232,232)\", \"linecolor\": \"rgb(36,36,36)\", \"showgrid\": false, \"showline\": true, \"ticks\": \"outside\"}, \"bgcolor\": \"white\", \"caxis\": {\"gridcolor\": \"rgb(232,232,232)\", \"linecolor\": \"rgb(36,36,36)\", \"showgrid\": false, \"showline\": true, \"ticks\": \"outside\"}}, \"title\": {\"x\": 0.05}, \"xaxis\": {\"automargin\": true, \"gridcolor\": \"rgb(232,232,232)\", \"linecolor\": \"rgb(36,36,36)\", \"showgrid\": false, \"showline\": true, \"ticks\": \"outside\", \"title\": {\"standoff\": 15}, \"zeroline\": false, \"zerolinecolor\": \"rgb(36,36,36)\"}, \"yaxis\": {\"automargin\": true, \"gridcolor\": \"rgb(232,232,232)\", \"linecolor\": \"rgb(36,36,36)\", \"showgrid\": false, \"showline\": true, \"ticks\": \"outside\", \"title\": {\"standoff\": 15}, \"zeroline\": false, \"zerolinecolor\": \"rgb(36,36,36)\"}}}, \"title\": {\"text\": \"Accuracy score on train & validation sets (model four)\"}, \"xaxis\": {\"title\": {\"text\": \"Number of epochs\"}}, \"yaxis\": {\"title\": {\"text\": \"Accuracy/epoch\"}}},\n",
       "                        {\"responsive\": true}\n",
       "                    ).then(function(){\n",
       "                            \n",
       "var gd = document.getElementById('978be607-06b0-429d-9708-5edb571c6ab7');\n",
       "var x = new MutationObserver(function (mutations, observer) {{\n",
       "        var display = window.getComputedStyle(gd).display;\n",
       "        if (!display || display === 'none') {{\n",
       "            console.log([gd, 'removed!']);\n",
       "            Plotly.purge(gd);\n",
       "            observer.disconnect();\n",
       "        }}\n",
       "}});\n",
       "\n",
       "// Listen for the removal of the full notebook cells\n",
       "var notebookContainer = gd.closest('#notebook-container');\n",
       "if (notebookContainer) {{\n",
       "    x.observe(notebookContainer, {childList: true});\n",
       "}}\n",
       "\n",
       "// Listen for the clearing of the current output cell\n",
       "var outputEl = gd.closest('.output');\n",
       "if (outputEl) {{\n",
       "    x.observe(outputEl, {childList: true});\n",
       "}}\n",
       "\n",
       "                        })\n",
       "                };\n",
       "                });\n",
       "            </script>\n",
       "        </div>"
      ]
     },
     "metadata": {},
     "output_type": "display_data"
    },
    {
     "data": {
      "application/vnd.plotly.v1+json": {
       "config": {
        "plotlyServerURL": "https://plot.ly"
       },
       "data": [
        {
         "line": {
          "color": "rgb(102, 194, 165)"
         },
         "mode": "lines+markers",
         "name": "Training Accuracy",
         "type": "scatter",
         "x": [
          1,
          2,
          3,
          4,
          5,
          6,
          7,
          8,
          9,
          10,
          11,
          12,
          13,
          14,
          15,
          16,
          17,
          18,
          19,
          20,
          21,
          22,
          23,
          24,
          25,
          26,
          27,
          28,
          29,
          30,
          31,
          32,
          33,
          34,
          35,
          36,
          37,
          38,
          39,
          40,
          41,
          42,
          43,
          44,
          45,
          46,
          47,
          48,
          49,
          50,
          51,
          52,
          53,
          54,
          55,
          56,
          57,
          58,
          59,
          60,
          61,
          62,
          63,
          64,
          65,
          66,
          67,
          68,
          69,
          70,
          71,
          72,
          73,
          74,
          75
         ],
         "y": [
          0.9383286237716675,
          0.9794629812240601,
          0.9913103580474854,
          0.9929405450820923,
          0.9936957359313965,
          0.9941576719284058,
          0.9937145709991455,
          0.9944367408752441,
          0.9947209358215332,
          0.9946891069412231,
          0.9953505396842957,
          0.9955369830131531,
          0.9953163266181946,
          0.9954953193664551,
          0.996187150478363,
          0.9960981011390686,
          0.9960364699363708,
          0.9966596961021423,
          0.9965978860855103,
          0.9967573285102844,
          0.9968127012252808,
          0.9966937899589539,
          0.9971296787261963,
          0.9965128302574158,
          0.9972953796386719,
          0.9970325231552124,
          0.9972763061523438,
          0.9974209070205688,
          0.9970088005065918,
          0.9971078634262085,
          0.9975820183753967,
          0.9975187182426453,
          0.9972427487373352,
          0.9974135160446167,
          0.9975175261497498,
          0.9975827932357788,
          0.9976949095726013,
          0.997311532497406,
          0.9978868961334229,
          0.9975789189338684,
          0.9975364804267883,
          0.9975903630256653,
          0.997736394405365,
          0.9976808428764343,
          0.9978188872337341,
          0.9979633092880249,
          0.9978950619697571,
          0.9978236556053162,
          0.9978680610656738,
          0.9979331493377686,
          0.9976266622543335,
          0.9981897473335266,
          0.9981737732887268,
          0.997631847858429,
          0.9982602596282959,
          0.9981364011764526,
          0.9977553486824036,
          0.9982160329818726,
          0.997962236404419,
          0.9979859590530396,
          0.9979662299156189,
          0.9982498288154602,
          0.9981924891471863,
          0.9978465437889099,
          0.9981056451797485,
          0.998279869556427,
          0.998267650604248,
          0.998054027557373,
          0.9982187151908875,
          0.9982571601867676,
          0.9983316659927368,
          0.9982947111129761,
          0.9982151389122009,
          0.9984567165374756,
          0.9984071850776672
         ]
        },
        {
         "line": {
          "color": "rgb(252, 141, 98)"
         },
         "marker": {
          "color": [
           "rgb(252, 141, 98)",
           "rgb(252, 141, 98)",
           "rgb(252, 141, 98)",
           "rgb(252, 141, 98)",
           "rgb(252, 141, 98)",
           "rgb(252, 141, 98)",
           "rgb(252, 141, 98)",
           "rgb(252, 141, 98)",
           "rgb(252, 141, 98)",
           "rgb(252, 141, 98)",
           "rgb(252, 141, 98)",
           "rgb(252, 141, 98)",
           "rgb(252, 141, 98)",
           "black",
           "rgb(252, 141, 98)",
           "rgb(252, 141, 98)",
           "rgb(252, 141, 98)",
           "rgb(252, 141, 98)",
           "rgb(252, 141, 98)",
           "rgb(252, 141, 98)",
           "rgb(252, 141, 98)",
           "rgb(252, 141, 98)",
           "rgb(252, 141, 98)",
           "rgb(252, 141, 98)",
           "rgb(252, 141, 98)",
           "rgb(252, 141, 98)",
           "rgb(252, 141, 98)",
           "rgb(252, 141, 98)",
           "rgb(252, 141, 98)",
           "rgb(252, 141, 98)",
           "rgb(252, 141, 98)",
           "rgb(252, 141, 98)",
           "rgb(252, 141, 98)",
           "rgb(252, 141, 98)",
           "rgb(252, 141, 98)",
           "rgb(252, 141, 98)",
           "rgb(252, 141, 98)",
           "rgb(252, 141, 98)",
           "rgb(252, 141, 98)",
           "rgb(252, 141, 98)",
           "rgb(252, 141, 98)",
           "rgb(252, 141, 98)",
           "rgb(252, 141, 98)",
           "rgb(252, 141, 98)",
           "rgb(252, 141, 98)",
           "rgb(252, 141, 98)",
           "rgb(252, 141, 98)",
           "rgb(252, 141, 98)",
           "rgb(252, 141, 98)",
           "rgb(252, 141, 98)",
           "rgb(252, 141, 98)",
           "rgb(252, 141, 98)",
           "rgb(252, 141, 98)",
           "rgb(252, 141, 98)",
           "rgb(252, 141, 98)",
           "rgb(252, 141, 98)",
           "rgb(252, 141, 98)",
           "rgb(252, 141, 98)",
           "rgb(252, 141, 98)",
           "rgb(252, 141, 98)",
           "rgb(252, 141, 98)",
           "rgb(252, 141, 98)",
           "rgb(252, 141, 98)",
           "rgb(252, 141, 98)",
           "rgb(252, 141, 98)",
           "rgb(252, 141, 98)",
           "rgb(252, 141, 98)",
           "rgb(252, 141, 98)",
           "rgb(252, 141, 98)",
           "rgb(252, 141, 98)",
           "rgb(252, 141, 98)",
           "rgb(252, 141, 98)",
           "rgb(252, 141, 98)",
           "rgb(252, 141, 98)",
           "rgb(252, 141, 98)"
          ]
         },
         "mode": "lines+markers",
         "name": "Validation Accuracy",
         "type": "scatter",
         "x": [
          1,
          2,
          3,
          4,
          5,
          6,
          7,
          8,
          9,
          10,
          11,
          12,
          13,
          14,
          15,
          16,
          17,
          18,
          19,
          20,
          21,
          22,
          23,
          24,
          25,
          26,
          27,
          28,
          29,
          30,
          31,
          32,
          33,
          34,
          35,
          36,
          37,
          38,
          39,
          40,
          41,
          42,
          43,
          44,
          45,
          46,
          47,
          48,
          49,
          50,
          51,
          52,
          53,
          54,
          55,
          56,
          57,
          58,
          59,
          60,
          61,
          62,
          63,
          64,
          65,
          66,
          67,
          68,
          69,
          70,
          71,
          72,
          73,
          74,
          75
         ],
         "y": [
          0.9711323976516724,
          0.9885339736938477,
          0.9935086965560913,
          0.9905375838279724,
          0.994619607925415,
          0.9931263327598572,
          0.9934563040733337,
          0.9944994449615479,
          0.9939218759536743,
          0.9930586218833923,
          0.9942818880081177,
          0.995219886302948,
          0.9935840368270874,
          0.9955205321311951,
          0.9930888414382935,
          0.9944170713424683,
          0.9946345686912537,
          0.9943044781684875,
          0.9932761788368225,
          0.9919107556343079,
          0.9935314059257507,
          0.9941844940185547,
          0.994777262210846,
          0.9945971369743347,
          0.9952800273895264,
          0.9941017627716064,
          0.9944618940353394,
          0.9947996139526367,
          0.9942595362663269,
          0.9951302409172058,
          0.9943721294403076,
          0.9950476288795471,
          0.9941167831420898,
          0.9946570992469788,
          0.9938691854476929,
          0.9937566518783569,
          0.9952275156974792,
          0.9953399896621704,
          0.9932013750076294,
          0.9935014247894287,
          0.9936743974685669,
          0.9941394329071045,
          0.9946646690368652,
          0.9927435517311096,
          0.9949051141738892,
          0.9945894479751587,
          0.9941393733024597,
          0.9946796894073486,
          0.9953551292419434,
          0.9920380115509033,
          0.9944247007369995,
          0.9944847226142883,
          0.9951452016830444,
          0.9947470426559448,
          0.9952877163887024,
          0.9938316345214844,
          0.9932389259338379,
          0.9937418103218079,
          0.9947322010993958,
          0.9930890202522278,
          0.994019091129303,
          0.994619607925415,
          0.9942893981933594,
          0.9925185441970825,
          0.9946273565292358,
          0.994874894618988,
          0.994206964969635,
          0.9930964112281799,
          0.9947996735572815,
          0.9944470524787903,
          0.9946195483207703,
          0.9949198961257935,
          0.9931339025497437,
          0.9946721196174622,
          0.9946497082710266
         ]
        }
       ],
       "layout": {
        "annotations": [
         {
          "arrowhead": 5,
          "ax": 0,
          "ay": 40,
          "showarrow": true,
          "text": "Epoch with the highest validation accuracy",
          "x": 14,
          "xref": "x",
          "y": 0.9955205321311951,
          "yref": "y"
         }
        ],
        "showlegend": true,
        "template": {
         "data": {
          "bar": [
           {
            "error_x": {
             "color": "rgb(36,36,36)"
            },
            "error_y": {
             "color": "rgb(36,36,36)"
            },
            "marker": {
             "line": {
              "color": "white",
              "width": 0.5
             }
            },
            "type": "bar"
           }
          ],
          "barpolar": [
           {
            "marker": {
             "line": {
              "color": "white",
              "width": 0.5
             }
            },
            "type": "barpolar"
           }
          ],
          "carpet": [
           {
            "aaxis": {
             "endlinecolor": "rgb(36,36,36)",
             "gridcolor": "white",
             "linecolor": "white",
             "minorgridcolor": "white",
             "startlinecolor": "rgb(36,36,36)"
            },
            "baxis": {
             "endlinecolor": "rgb(36,36,36)",
             "gridcolor": "white",
             "linecolor": "white",
             "minorgridcolor": "white",
             "startlinecolor": "rgb(36,36,36)"
            },
            "type": "carpet"
           }
          ],
          "choropleth": [
           {
            "colorbar": {
             "outlinewidth": 1,
             "tickcolor": "rgb(36,36,36)",
             "ticks": "outside"
            },
            "type": "choropleth"
           }
          ],
          "contour": [
           {
            "colorbar": {
             "outlinewidth": 1,
             "tickcolor": "rgb(36,36,36)",
             "ticks": "outside"
            },
            "colorscale": [
             [
              0,
              "#440154"
             ],
             [
              0.1111111111111111,
              "#482878"
             ],
             [
              0.2222222222222222,
              "#3e4989"
             ],
             [
              0.3333333333333333,
              "#31688e"
             ],
             [
              0.4444444444444444,
              "#26828e"
             ],
             [
              0.5555555555555556,
              "#1f9e89"
             ],
             [
              0.6666666666666666,
              "#35b779"
             ],
             [
              0.7777777777777778,
              "#6ece58"
             ],
             [
              0.8888888888888888,
              "#b5de2b"
             ],
             [
              1,
              "#fde725"
             ]
            ],
            "type": "contour"
           }
          ],
          "contourcarpet": [
           {
            "colorbar": {
             "outlinewidth": 1,
             "tickcolor": "rgb(36,36,36)",
             "ticks": "outside"
            },
            "type": "contourcarpet"
           }
          ],
          "heatmap": [
           {
            "colorbar": {
             "outlinewidth": 1,
             "tickcolor": "rgb(36,36,36)",
             "ticks": "outside"
            },
            "colorscale": [
             [
              0,
              "#440154"
             ],
             [
              0.1111111111111111,
              "#482878"
             ],
             [
              0.2222222222222222,
              "#3e4989"
             ],
             [
              0.3333333333333333,
              "#31688e"
             ],
             [
              0.4444444444444444,
              "#26828e"
             ],
             [
              0.5555555555555556,
              "#1f9e89"
             ],
             [
              0.6666666666666666,
              "#35b779"
             ],
             [
              0.7777777777777778,
              "#6ece58"
             ],
             [
              0.8888888888888888,
              "#b5de2b"
             ],
             [
              1,
              "#fde725"
             ]
            ],
            "type": "heatmap"
           }
          ],
          "heatmapgl": [
           {
            "colorbar": {
             "outlinewidth": 1,
             "tickcolor": "rgb(36,36,36)",
             "ticks": "outside"
            },
            "colorscale": [
             [
              0,
              "#440154"
             ],
             [
              0.1111111111111111,
              "#482878"
             ],
             [
              0.2222222222222222,
              "#3e4989"
             ],
             [
              0.3333333333333333,
              "#31688e"
             ],
             [
              0.4444444444444444,
              "#26828e"
             ],
             [
              0.5555555555555556,
              "#1f9e89"
             ],
             [
              0.6666666666666666,
              "#35b779"
             ],
             [
              0.7777777777777778,
              "#6ece58"
             ],
             [
              0.8888888888888888,
              "#b5de2b"
             ],
             [
              1,
              "#fde725"
             ]
            ],
            "type": "heatmapgl"
           }
          ],
          "histogram": [
           {
            "marker": {
             "line": {
              "color": "white",
              "width": 0.6
             }
            },
            "type": "histogram"
           }
          ],
          "histogram2d": [
           {
            "colorbar": {
             "outlinewidth": 1,
             "tickcolor": "rgb(36,36,36)",
             "ticks": "outside"
            },
            "colorscale": [
             [
              0,
              "#440154"
             ],
             [
              0.1111111111111111,
              "#482878"
             ],
             [
              0.2222222222222222,
              "#3e4989"
             ],
             [
              0.3333333333333333,
              "#31688e"
             ],
             [
              0.4444444444444444,
              "#26828e"
             ],
             [
              0.5555555555555556,
              "#1f9e89"
             ],
             [
              0.6666666666666666,
              "#35b779"
             ],
             [
              0.7777777777777778,
              "#6ece58"
             ],
             [
              0.8888888888888888,
              "#b5de2b"
             ],
             [
              1,
              "#fde725"
             ]
            ],
            "type": "histogram2d"
           }
          ],
          "histogram2dcontour": [
           {
            "colorbar": {
             "outlinewidth": 1,
             "tickcolor": "rgb(36,36,36)",
             "ticks": "outside"
            },
            "colorscale": [
             [
              0,
              "#440154"
             ],
             [
              0.1111111111111111,
              "#482878"
             ],
             [
              0.2222222222222222,
              "#3e4989"
             ],
             [
              0.3333333333333333,
              "#31688e"
             ],
             [
              0.4444444444444444,
              "#26828e"
             ],
             [
              0.5555555555555556,
              "#1f9e89"
             ],
             [
              0.6666666666666666,
              "#35b779"
             ],
             [
              0.7777777777777778,
              "#6ece58"
             ],
             [
              0.8888888888888888,
              "#b5de2b"
             ],
             [
              1,
              "#fde725"
             ]
            ],
            "type": "histogram2dcontour"
           }
          ],
          "mesh3d": [
           {
            "colorbar": {
             "outlinewidth": 1,
             "tickcolor": "rgb(36,36,36)",
             "ticks": "outside"
            },
            "type": "mesh3d"
           }
          ],
          "parcoords": [
           {
            "line": {
             "colorbar": {
              "outlinewidth": 1,
              "tickcolor": "rgb(36,36,36)",
              "ticks": "outside"
             }
            },
            "type": "parcoords"
           }
          ],
          "pie": [
           {
            "automargin": true,
            "type": "pie"
           }
          ],
          "scatter": [
           {
            "marker": {
             "colorbar": {
              "outlinewidth": 1,
              "tickcolor": "rgb(36,36,36)",
              "ticks": "outside"
             }
            },
            "type": "scatter"
           }
          ],
          "scatter3d": [
           {
            "line": {
             "colorbar": {
              "outlinewidth": 1,
              "tickcolor": "rgb(36,36,36)",
              "ticks": "outside"
             }
            },
            "marker": {
             "colorbar": {
              "outlinewidth": 1,
              "tickcolor": "rgb(36,36,36)",
              "ticks": "outside"
             }
            },
            "type": "scatter3d"
           }
          ],
          "scattercarpet": [
           {
            "marker": {
             "colorbar": {
              "outlinewidth": 1,
              "tickcolor": "rgb(36,36,36)",
              "ticks": "outside"
             }
            },
            "type": "scattercarpet"
           }
          ],
          "scattergeo": [
           {
            "marker": {
             "colorbar": {
              "outlinewidth": 1,
              "tickcolor": "rgb(36,36,36)",
              "ticks": "outside"
             }
            },
            "type": "scattergeo"
           }
          ],
          "scattergl": [
           {
            "marker": {
             "colorbar": {
              "outlinewidth": 1,
              "tickcolor": "rgb(36,36,36)",
              "ticks": "outside"
             }
            },
            "type": "scattergl"
           }
          ],
          "scattermapbox": [
           {
            "marker": {
             "colorbar": {
              "outlinewidth": 1,
              "tickcolor": "rgb(36,36,36)",
              "ticks": "outside"
             }
            },
            "type": "scattermapbox"
           }
          ],
          "scatterpolar": [
           {
            "marker": {
             "colorbar": {
              "outlinewidth": 1,
              "tickcolor": "rgb(36,36,36)",
              "ticks": "outside"
             }
            },
            "type": "scatterpolar"
           }
          ],
          "scatterpolargl": [
           {
            "marker": {
             "colorbar": {
              "outlinewidth": 1,
              "tickcolor": "rgb(36,36,36)",
              "ticks": "outside"
             }
            },
            "type": "scatterpolargl"
           }
          ],
          "scatterternary": [
           {
            "marker": {
             "colorbar": {
              "outlinewidth": 1,
              "tickcolor": "rgb(36,36,36)",
              "ticks": "outside"
             }
            },
            "type": "scatterternary"
           }
          ],
          "surface": [
           {
            "colorbar": {
             "outlinewidth": 1,
             "tickcolor": "rgb(36,36,36)",
             "ticks": "outside"
            },
            "colorscale": [
             [
              0,
              "#440154"
             ],
             [
              0.1111111111111111,
              "#482878"
             ],
             [
              0.2222222222222222,
              "#3e4989"
             ],
             [
              0.3333333333333333,
              "#31688e"
             ],
             [
              0.4444444444444444,
              "#26828e"
             ],
             [
              0.5555555555555556,
              "#1f9e89"
             ],
             [
              0.6666666666666666,
              "#35b779"
             ],
             [
              0.7777777777777778,
              "#6ece58"
             ],
             [
              0.8888888888888888,
              "#b5de2b"
             ],
             [
              1,
              "#fde725"
             ]
            ],
            "type": "surface"
           }
          ],
          "table": [
           {
            "cells": {
             "fill": {
              "color": "rgb(237,237,237)"
             },
             "line": {
              "color": "white"
             }
            },
            "header": {
             "fill": {
              "color": "rgb(217,217,217)"
             },
             "line": {
              "color": "white"
             }
            },
            "type": "table"
           }
          ]
         },
         "layout": {
          "annotationdefaults": {
           "arrowhead": 0,
           "arrowwidth": 1
          },
          "coloraxis": {
           "colorbar": {
            "outlinewidth": 1,
            "tickcolor": "rgb(36,36,36)",
            "ticks": "outside"
           }
          },
          "colorscale": {
           "diverging": [
            [
             0,
             "rgb(103,0,31)"
            ],
            [
             0.1,
             "rgb(178,24,43)"
            ],
            [
             0.2,
             "rgb(214,96,77)"
            ],
            [
             0.3,
             "rgb(244,165,130)"
            ],
            [
             0.4,
             "rgb(253,219,199)"
            ],
            [
             0.5,
             "rgb(247,247,247)"
            ],
            [
             0.6,
             "rgb(209,229,240)"
            ],
            [
             0.7,
             "rgb(146,197,222)"
            ],
            [
             0.8,
             "rgb(67,147,195)"
            ],
            [
             0.9,
             "rgb(33,102,172)"
            ],
            [
             1,
             "rgb(5,48,97)"
            ]
           ],
           "sequential": [
            [
             0,
             "#440154"
            ],
            [
             0.1111111111111111,
             "#482878"
            ],
            [
             0.2222222222222222,
             "#3e4989"
            ],
            [
             0.3333333333333333,
             "#31688e"
            ],
            [
             0.4444444444444444,
             "#26828e"
            ],
            [
             0.5555555555555556,
             "#1f9e89"
            ],
            [
             0.6666666666666666,
             "#35b779"
            ],
            [
             0.7777777777777778,
             "#6ece58"
            ],
            [
             0.8888888888888888,
             "#b5de2b"
            ],
            [
             1,
             "#fde725"
            ]
           ],
           "sequentialminus": [
            [
             0,
             "#440154"
            ],
            [
             0.1111111111111111,
             "#482878"
            ],
            [
             0.2222222222222222,
             "#3e4989"
            ],
            [
             0.3333333333333333,
             "#31688e"
            ],
            [
             0.4444444444444444,
             "#26828e"
            ],
            [
             0.5555555555555556,
             "#1f9e89"
            ],
            [
             0.6666666666666666,
             "#35b779"
            ],
            [
             0.7777777777777778,
             "#6ece58"
            ],
            [
             0.8888888888888888,
             "#b5de2b"
            ],
            [
             1,
             "#fde725"
            ]
           ]
          },
          "colorway": [
           "#1F77B4",
           "#FF7F0E",
           "#2CA02C",
           "#D62728",
           "#9467BD",
           "#8C564B",
           "#E377C2",
           "#7F7F7F",
           "#BCBD22",
           "#17BECF"
          ],
          "font": {
           "color": "rgb(36,36,36)"
          },
          "geo": {
           "bgcolor": "white",
           "lakecolor": "white",
           "landcolor": "white",
           "showlakes": true,
           "showland": true,
           "subunitcolor": "white"
          },
          "hoverlabel": {
           "align": "left"
          },
          "hovermode": "closest",
          "mapbox": {
           "style": "light"
          },
          "paper_bgcolor": "white",
          "plot_bgcolor": "white",
          "polar": {
           "angularaxis": {
            "gridcolor": "rgb(232,232,232)",
            "linecolor": "rgb(36,36,36)",
            "showgrid": false,
            "showline": true,
            "ticks": "outside"
           },
           "bgcolor": "white",
           "radialaxis": {
            "gridcolor": "rgb(232,232,232)",
            "linecolor": "rgb(36,36,36)",
            "showgrid": false,
            "showline": true,
            "ticks": "outside"
           }
          },
          "scene": {
           "xaxis": {
            "backgroundcolor": "white",
            "gridcolor": "rgb(232,232,232)",
            "gridwidth": 2,
            "linecolor": "rgb(36,36,36)",
            "showbackground": true,
            "showgrid": false,
            "showline": true,
            "ticks": "outside",
            "zeroline": false,
            "zerolinecolor": "rgb(36,36,36)"
           },
           "yaxis": {
            "backgroundcolor": "white",
            "gridcolor": "rgb(232,232,232)",
            "gridwidth": 2,
            "linecolor": "rgb(36,36,36)",
            "showbackground": true,
            "showgrid": false,
            "showline": true,
            "ticks": "outside",
            "zeroline": false,
            "zerolinecolor": "rgb(36,36,36)"
           },
           "zaxis": {
            "backgroundcolor": "white",
            "gridcolor": "rgb(232,232,232)",
            "gridwidth": 2,
            "linecolor": "rgb(36,36,36)",
            "showbackground": true,
            "showgrid": false,
            "showline": true,
            "ticks": "outside",
            "zeroline": false,
            "zerolinecolor": "rgb(36,36,36)"
           }
          },
          "shapedefaults": {
           "fillcolor": "black",
           "line": {
            "width": 0
           },
           "opacity": 0.3
          },
          "ternary": {
           "aaxis": {
            "gridcolor": "rgb(232,232,232)",
            "linecolor": "rgb(36,36,36)",
            "showgrid": false,
            "showline": true,
            "ticks": "outside"
           },
           "baxis": {
            "gridcolor": "rgb(232,232,232)",
            "linecolor": "rgb(36,36,36)",
            "showgrid": false,
            "showline": true,
            "ticks": "outside"
           },
           "bgcolor": "white",
           "caxis": {
            "gridcolor": "rgb(232,232,232)",
            "linecolor": "rgb(36,36,36)",
            "showgrid": false,
            "showline": true,
            "ticks": "outside"
           }
          },
          "title": {
           "x": 0.05
          },
          "xaxis": {
           "automargin": true,
           "gridcolor": "rgb(232,232,232)",
           "linecolor": "rgb(36,36,36)",
           "showgrid": false,
           "showline": true,
           "ticks": "outside",
           "title": {
            "standoff": 15
           },
           "zeroline": false,
           "zerolinecolor": "rgb(36,36,36)"
          },
          "yaxis": {
           "automargin": true,
           "gridcolor": "rgb(232,232,232)",
           "linecolor": "rgb(36,36,36)",
           "showgrid": false,
           "showline": true,
           "ticks": "outside",
           "title": {
            "standoff": 15
           },
           "zeroline": false,
           "zerolinecolor": "rgb(36,36,36)"
          }
         }
        },
        "title": {
         "text": "Accuracy score on train & validation sets (model seven)"
        },
        "xaxis": {
         "title": {
          "text": "Number of epochs"
         }
        },
        "yaxis": {
         "title": {
          "text": "Accuracy/epoch"
         }
        }
       }
      },
      "text/html": [
       "<div>\n",
       "        \n",
       "        \n",
       "            <div id=\"d21a6621-6124-4e55-b5a3-4fda142c9d05\" class=\"plotly-graph-div\" style=\"height:525px; width:100%;\"></div>\n",
       "            <script type=\"text/javascript\">\n",
       "                require([\"plotly\"], function(Plotly) {\n",
       "                    window.PLOTLYENV=window.PLOTLYENV || {};\n",
       "                    \n",
       "                if (document.getElementById(\"d21a6621-6124-4e55-b5a3-4fda142c9d05\")) {\n",
       "                    Plotly.newPlot(\n",
       "                        'd21a6621-6124-4e55-b5a3-4fda142c9d05',\n",
       "                        [{\"line\": {\"color\": \"rgb(102, 194, 165)\"}, \"mode\": \"lines+markers\", \"name\": \"Training Accuracy\", \"type\": \"scatter\", \"x\": [1, 2, 3, 4, 5, 6, 7, 8, 9, 10, 11, 12, 13, 14, 15, 16, 17, 18, 19, 20, 21, 22, 23, 24, 25, 26, 27, 28, 29, 30, 31, 32, 33, 34, 35, 36, 37, 38, 39, 40, 41, 42, 43, 44, 45, 46, 47, 48, 49, 50, 51, 52, 53, 54, 55, 56, 57, 58, 59, 60, 61, 62, 63, 64, 65, 66, 67, 68, 69, 70, 71, 72, 73, 74, 75], \"y\": [0.9383286237716675, 0.9794629812240601, 0.9913103580474854, 0.9929405450820923, 0.9936957359313965, 0.9941576719284058, 0.9937145709991455, 0.9944367408752441, 0.9947209358215332, 0.9946891069412231, 0.9953505396842957, 0.9955369830131531, 0.9953163266181946, 0.9954953193664551, 0.996187150478363, 0.9960981011390686, 0.9960364699363708, 0.9966596961021423, 0.9965978860855103, 0.9967573285102844, 0.9968127012252808, 0.9966937899589539, 0.9971296787261963, 0.9965128302574158, 0.9972953796386719, 0.9970325231552124, 0.9972763061523438, 0.9974209070205688, 0.9970088005065918, 0.9971078634262085, 0.9975820183753967, 0.9975187182426453, 0.9972427487373352, 0.9974135160446167, 0.9975175261497498, 0.9975827932357788, 0.9976949095726013, 0.997311532497406, 0.9978868961334229, 0.9975789189338684, 0.9975364804267883, 0.9975903630256653, 0.997736394405365, 0.9976808428764343, 0.9978188872337341, 0.9979633092880249, 0.9978950619697571, 0.9978236556053162, 0.9978680610656738, 0.9979331493377686, 0.9976266622543335, 0.9981897473335266, 0.9981737732887268, 0.997631847858429, 0.9982602596282959, 0.9981364011764526, 0.9977553486824036, 0.9982160329818726, 0.997962236404419, 0.9979859590530396, 0.9979662299156189, 0.9982498288154602, 0.9981924891471863, 0.9978465437889099, 0.9981056451797485, 0.998279869556427, 0.998267650604248, 0.998054027557373, 0.9982187151908875, 0.9982571601867676, 0.9983316659927368, 0.9982947111129761, 0.9982151389122009, 0.9984567165374756, 0.9984071850776672]}, {\"line\": {\"color\": \"rgb(252, 141, 98)\"}, \"marker\": {\"color\": [\"rgb(252, 141, 98)\", \"rgb(252, 141, 98)\", \"rgb(252, 141, 98)\", \"rgb(252, 141, 98)\", \"rgb(252, 141, 98)\", \"rgb(252, 141, 98)\", \"rgb(252, 141, 98)\", \"rgb(252, 141, 98)\", \"rgb(252, 141, 98)\", \"rgb(252, 141, 98)\", \"rgb(252, 141, 98)\", \"rgb(252, 141, 98)\", \"rgb(252, 141, 98)\", \"black\", \"rgb(252, 141, 98)\", \"rgb(252, 141, 98)\", \"rgb(252, 141, 98)\", \"rgb(252, 141, 98)\", \"rgb(252, 141, 98)\", \"rgb(252, 141, 98)\", \"rgb(252, 141, 98)\", \"rgb(252, 141, 98)\", \"rgb(252, 141, 98)\", \"rgb(252, 141, 98)\", \"rgb(252, 141, 98)\", \"rgb(252, 141, 98)\", \"rgb(252, 141, 98)\", \"rgb(252, 141, 98)\", \"rgb(252, 141, 98)\", \"rgb(252, 141, 98)\", \"rgb(252, 141, 98)\", \"rgb(252, 141, 98)\", \"rgb(252, 141, 98)\", \"rgb(252, 141, 98)\", \"rgb(252, 141, 98)\", \"rgb(252, 141, 98)\", \"rgb(252, 141, 98)\", \"rgb(252, 141, 98)\", \"rgb(252, 141, 98)\", \"rgb(252, 141, 98)\", \"rgb(252, 141, 98)\", \"rgb(252, 141, 98)\", \"rgb(252, 141, 98)\", \"rgb(252, 141, 98)\", \"rgb(252, 141, 98)\", \"rgb(252, 141, 98)\", \"rgb(252, 141, 98)\", \"rgb(252, 141, 98)\", \"rgb(252, 141, 98)\", \"rgb(252, 141, 98)\", \"rgb(252, 141, 98)\", \"rgb(252, 141, 98)\", \"rgb(252, 141, 98)\", \"rgb(252, 141, 98)\", \"rgb(252, 141, 98)\", \"rgb(252, 141, 98)\", \"rgb(252, 141, 98)\", \"rgb(252, 141, 98)\", \"rgb(252, 141, 98)\", \"rgb(252, 141, 98)\", \"rgb(252, 141, 98)\", \"rgb(252, 141, 98)\", \"rgb(252, 141, 98)\", \"rgb(252, 141, 98)\", \"rgb(252, 141, 98)\", \"rgb(252, 141, 98)\", \"rgb(252, 141, 98)\", \"rgb(252, 141, 98)\", \"rgb(252, 141, 98)\", \"rgb(252, 141, 98)\", \"rgb(252, 141, 98)\", \"rgb(252, 141, 98)\", \"rgb(252, 141, 98)\", \"rgb(252, 141, 98)\", \"rgb(252, 141, 98)\"]}, \"mode\": \"lines+markers\", \"name\": \"Validation Accuracy\", \"type\": \"scatter\", \"x\": [1, 2, 3, 4, 5, 6, 7, 8, 9, 10, 11, 12, 13, 14, 15, 16, 17, 18, 19, 20, 21, 22, 23, 24, 25, 26, 27, 28, 29, 30, 31, 32, 33, 34, 35, 36, 37, 38, 39, 40, 41, 42, 43, 44, 45, 46, 47, 48, 49, 50, 51, 52, 53, 54, 55, 56, 57, 58, 59, 60, 61, 62, 63, 64, 65, 66, 67, 68, 69, 70, 71, 72, 73, 74, 75], \"y\": [0.9711323976516724, 0.9885339736938477, 0.9935086965560913, 0.9905375838279724, 0.994619607925415, 0.9931263327598572, 0.9934563040733337, 0.9944994449615479, 0.9939218759536743, 0.9930586218833923, 0.9942818880081177, 0.995219886302948, 0.9935840368270874, 0.9955205321311951, 0.9930888414382935, 0.9944170713424683, 0.9946345686912537, 0.9943044781684875, 0.9932761788368225, 0.9919107556343079, 0.9935314059257507, 0.9941844940185547, 0.994777262210846, 0.9945971369743347, 0.9952800273895264, 0.9941017627716064, 0.9944618940353394, 0.9947996139526367, 0.9942595362663269, 0.9951302409172058, 0.9943721294403076, 0.9950476288795471, 0.9941167831420898, 0.9946570992469788, 0.9938691854476929, 0.9937566518783569, 0.9952275156974792, 0.9953399896621704, 0.9932013750076294, 0.9935014247894287, 0.9936743974685669, 0.9941394329071045, 0.9946646690368652, 0.9927435517311096, 0.9949051141738892, 0.9945894479751587, 0.9941393733024597, 0.9946796894073486, 0.9953551292419434, 0.9920380115509033, 0.9944247007369995, 0.9944847226142883, 0.9951452016830444, 0.9947470426559448, 0.9952877163887024, 0.9938316345214844, 0.9932389259338379, 0.9937418103218079, 0.9947322010993958, 0.9930890202522278, 0.994019091129303, 0.994619607925415, 0.9942893981933594, 0.9925185441970825, 0.9946273565292358, 0.994874894618988, 0.994206964969635, 0.9930964112281799, 0.9947996735572815, 0.9944470524787903, 0.9946195483207703, 0.9949198961257935, 0.9931339025497437, 0.9946721196174622, 0.9946497082710266]}],\n",
       "                        {\"annotations\": [{\"arrowhead\": 5, \"ax\": 0, \"ay\": 40, \"showarrow\": true, \"text\": \"Epoch with the highest validation accuracy\", \"x\": 14, \"xref\": \"x\", \"y\": 0.9955205321311951, \"yref\": \"y\"}], \"showlegend\": true, \"template\": {\"data\": {\"bar\": [{\"error_x\": {\"color\": \"rgb(36,36,36)\"}, \"error_y\": {\"color\": \"rgb(36,36,36)\"}, \"marker\": {\"line\": {\"color\": \"white\", \"width\": 0.5}}, \"type\": \"bar\"}], \"barpolar\": [{\"marker\": {\"line\": {\"color\": \"white\", \"width\": 0.5}}, \"type\": \"barpolar\"}], \"carpet\": [{\"aaxis\": {\"endlinecolor\": \"rgb(36,36,36)\", \"gridcolor\": \"white\", \"linecolor\": \"white\", \"minorgridcolor\": \"white\", \"startlinecolor\": \"rgb(36,36,36)\"}, \"baxis\": {\"endlinecolor\": \"rgb(36,36,36)\", \"gridcolor\": \"white\", \"linecolor\": \"white\", \"minorgridcolor\": \"white\", \"startlinecolor\": \"rgb(36,36,36)\"}, \"type\": \"carpet\"}], \"choropleth\": [{\"colorbar\": {\"outlinewidth\": 1, \"tickcolor\": \"rgb(36,36,36)\", \"ticks\": \"outside\"}, \"type\": \"choropleth\"}], \"contour\": [{\"colorbar\": {\"outlinewidth\": 1, \"tickcolor\": \"rgb(36,36,36)\", \"ticks\": \"outside\"}, \"colorscale\": [[0.0, \"#440154\"], [0.1111111111111111, \"#482878\"], [0.2222222222222222, \"#3e4989\"], [0.3333333333333333, \"#31688e\"], [0.4444444444444444, \"#26828e\"], [0.5555555555555556, \"#1f9e89\"], [0.6666666666666666, \"#35b779\"], [0.7777777777777778, \"#6ece58\"], [0.8888888888888888, \"#b5de2b\"], [1.0, \"#fde725\"]], \"type\": \"contour\"}], \"contourcarpet\": [{\"colorbar\": {\"outlinewidth\": 1, \"tickcolor\": \"rgb(36,36,36)\", \"ticks\": \"outside\"}, \"type\": \"contourcarpet\"}], \"heatmap\": [{\"colorbar\": {\"outlinewidth\": 1, \"tickcolor\": \"rgb(36,36,36)\", \"ticks\": \"outside\"}, \"colorscale\": [[0.0, \"#440154\"], [0.1111111111111111, \"#482878\"], [0.2222222222222222, \"#3e4989\"], [0.3333333333333333, \"#31688e\"], [0.4444444444444444, \"#26828e\"], [0.5555555555555556, \"#1f9e89\"], [0.6666666666666666, \"#35b779\"], [0.7777777777777778, \"#6ece58\"], [0.8888888888888888, \"#b5de2b\"], [1.0, \"#fde725\"]], \"type\": \"heatmap\"}], \"heatmapgl\": [{\"colorbar\": {\"outlinewidth\": 1, \"tickcolor\": \"rgb(36,36,36)\", \"ticks\": \"outside\"}, \"colorscale\": [[0.0, \"#440154\"], [0.1111111111111111, \"#482878\"], [0.2222222222222222, \"#3e4989\"], [0.3333333333333333, \"#31688e\"], [0.4444444444444444, \"#26828e\"], [0.5555555555555556, \"#1f9e89\"], [0.6666666666666666, \"#35b779\"], [0.7777777777777778, \"#6ece58\"], [0.8888888888888888, \"#b5de2b\"], [1.0, \"#fde725\"]], \"type\": \"heatmapgl\"}], \"histogram\": [{\"marker\": {\"line\": {\"color\": \"white\", \"width\": 0.6}}, \"type\": \"histogram\"}], \"histogram2d\": [{\"colorbar\": {\"outlinewidth\": 1, \"tickcolor\": \"rgb(36,36,36)\", \"ticks\": \"outside\"}, \"colorscale\": [[0.0, \"#440154\"], [0.1111111111111111, \"#482878\"], [0.2222222222222222, \"#3e4989\"], [0.3333333333333333, \"#31688e\"], [0.4444444444444444, \"#26828e\"], [0.5555555555555556, \"#1f9e89\"], [0.6666666666666666, \"#35b779\"], [0.7777777777777778, \"#6ece58\"], [0.8888888888888888, \"#b5de2b\"], [1.0, \"#fde725\"]], \"type\": \"histogram2d\"}], \"histogram2dcontour\": [{\"colorbar\": {\"outlinewidth\": 1, \"tickcolor\": \"rgb(36,36,36)\", \"ticks\": \"outside\"}, \"colorscale\": [[0.0, \"#440154\"], [0.1111111111111111, \"#482878\"], [0.2222222222222222, \"#3e4989\"], [0.3333333333333333, \"#31688e\"], [0.4444444444444444, \"#26828e\"], [0.5555555555555556, \"#1f9e89\"], [0.6666666666666666, \"#35b779\"], [0.7777777777777778, \"#6ece58\"], [0.8888888888888888, \"#b5de2b\"], [1.0, \"#fde725\"]], \"type\": \"histogram2dcontour\"}], \"mesh3d\": [{\"colorbar\": {\"outlinewidth\": 1, \"tickcolor\": \"rgb(36,36,36)\", \"ticks\": \"outside\"}, \"type\": \"mesh3d\"}], \"parcoords\": [{\"line\": {\"colorbar\": {\"outlinewidth\": 1, \"tickcolor\": \"rgb(36,36,36)\", \"ticks\": \"outside\"}}, \"type\": \"parcoords\"}], \"pie\": [{\"automargin\": true, \"type\": \"pie\"}], \"scatter\": [{\"marker\": {\"colorbar\": {\"outlinewidth\": 1, \"tickcolor\": \"rgb(36,36,36)\", \"ticks\": \"outside\"}}, \"type\": \"scatter\"}], \"scatter3d\": [{\"line\": {\"colorbar\": {\"outlinewidth\": 1, \"tickcolor\": \"rgb(36,36,36)\", \"ticks\": \"outside\"}}, \"marker\": {\"colorbar\": {\"outlinewidth\": 1, \"tickcolor\": \"rgb(36,36,36)\", \"ticks\": \"outside\"}}, \"type\": \"scatter3d\"}], \"scattercarpet\": [{\"marker\": {\"colorbar\": {\"outlinewidth\": 1, \"tickcolor\": \"rgb(36,36,36)\", \"ticks\": \"outside\"}}, \"type\": \"scattercarpet\"}], \"scattergeo\": [{\"marker\": {\"colorbar\": {\"outlinewidth\": 1, \"tickcolor\": \"rgb(36,36,36)\", \"ticks\": \"outside\"}}, \"type\": \"scattergeo\"}], \"scattergl\": [{\"marker\": {\"colorbar\": {\"outlinewidth\": 1, \"tickcolor\": \"rgb(36,36,36)\", \"ticks\": \"outside\"}}, \"type\": \"scattergl\"}], \"scattermapbox\": [{\"marker\": {\"colorbar\": {\"outlinewidth\": 1, \"tickcolor\": \"rgb(36,36,36)\", \"ticks\": \"outside\"}}, \"type\": \"scattermapbox\"}], \"scatterpolar\": [{\"marker\": {\"colorbar\": {\"outlinewidth\": 1, \"tickcolor\": \"rgb(36,36,36)\", \"ticks\": \"outside\"}}, \"type\": \"scatterpolar\"}], \"scatterpolargl\": [{\"marker\": {\"colorbar\": {\"outlinewidth\": 1, \"tickcolor\": \"rgb(36,36,36)\", \"ticks\": \"outside\"}}, \"type\": \"scatterpolargl\"}], \"scatterternary\": [{\"marker\": {\"colorbar\": {\"outlinewidth\": 1, \"tickcolor\": \"rgb(36,36,36)\", \"ticks\": \"outside\"}}, \"type\": \"scatterternary\"}], \"surface\": [{\"colorbar\": {\"outlinewidth\": 1, \"tickcolor\": \"rgb(36,36,36)\", \"ticks\": \"outside\"}, \"colorscale\": [[0.0, \"#440154\"], [0.1111111111111111, \"#482878\"], [0.2222222222222222, \"#3e4989\"], [0.3333333333333333, \"#31688e\"], [0.4444444444444444, \"#26828e\"], [0.5555555555555556, \"#1f9e89\"], [0.6666666666666666, \"#35b779\"], [0.7777777777777778, \"#6ece58\"], [0.8888888888888888, \"#b5de2b\"], [1.0, \"#fde725\"]], \"type\": \"surface\"}], \"table\": [{\"cells\": {\"fill\": {\"color\": \"rgb(237,237,237)\"}, \"line\": {\"color\": \"white\"}}, \"header\": {\"fill\": {\"color\": \"rgb(217,217,217)\"}, \"line\": {\"color\": \"white\"}}, \"type\": \"table\"}]}, \"layout\": {\"annotationdefaults\": {\"arrowhead\": 0, \"arrowwidth\": 1}, \"coloraxis\": {\"colorbar\": {\"outlinewidth\": 1, \"tickcolor\": \"rgb(36,36,36)\", \"ticks\": \"outside\"}}, \"colorscale\": {\"diverging\": [[0.0, \"rgb(103,0,31)\"], [0.1, \"rgb(178,24,43)\"], [0.2, \"rgb(214,96,77)\"], [0.3, \"rgb(244,165,130)\"], [0.4, \"rgb(253,219,199)\"], [0.5, \"rgb(247,247,247)\"], [0.6, \"rgb(209,229,240)\"], [0.7, \"rgb(146,197,222)\"], [0.8, \"rgb(67,147,195)\"], [0.9, \"rgb(33,102,172)\"], [1.0, \"rgb(5,48,97)\"]], \"sequential\": [[0.0, \"#440154\"], [0.1111111111111111, \"#482878\"], [0.2222222222222222, \"#3e4989\"], [0.3333333333333333, \"#31688e\"], [0.4444444444444444, \"#26828e\"], [0.5555555555555556, \"#1f9e89\"], [0.6666666666666666, \"#35b779\"], [0.7777777777777778, \"#6ece58\"], [0.8888888888888888, \"#b5de2b\"], [1.0, \"#fde725\"]], \"sequentialminus\": [[0.0, \"#440154\"], [0.1111111111111111, \"#482878\"], [0.2222222222222222, \"#3e4989\"], [0.3333333333333333, \"#31688e\"], [0.4444444444444444, \"#26828e\"], [0.5555555555555556, \"#1f9e89\"], [0.6666666666666666, \"#35b779\"], [0.7777777777777778, \"#6ece58\"], [0.8888888888888888, \"#b5de2b\"], [1.0, \"#fde725\"]]}, \"colorway\": [\"#1F77B4\", \"#FF7F0E\", \"#2CA02C\", \"#D62728\", \"#9467BD\", \"#8C564B\", \"#E377C2\", \"#7F7F7F\", \"#BCBD22\", \"#17BECF\"], \"font\": {\"color\": \"rgb(36,36,36)\"}, \"geo\": {\"bgcolor\": \"white\", \"lakecolor\": \"white\", \"landcolor\": \"white\", \"showlakes\": true, \"showland\": true, \"subunitcolor\": \"white\"}, \"hoverlabel\": {\"align\": \"left\"}, \"hovermode\": \"closest\", \"mapbox\": {\"style\": \"light\"}, \"paper_bgcolor\": \"white\", \"plot_bgcolor\": \"white\", \"polar\": {\"angularaxis\": {\"gridcolor\": \"rgb(232,232,232)\", \"linecolor\": \"rgb(36,36,36)\", \"showgrid\": false, \"showline\": true, \"ticks\": \"outside\"}, \"bgcolor\": \"white\", \"radialaxis\": {\"gridcolor\": \"rgb(232,232,232)\", \"linecolor\": \"rgb(36,36,36)\", \"showgrid\": false, \"showline\": true, \"ticks\": \"outside\"}}, \"scene\": {\"xaxis\": {\"backgroundcolor\": \"white\", \"gridcolor\": \"rgb(232,232,232)\", \"gridwidth\": 2, \"linecolor\": \"rgb(36,36,36)\", \"showbackground\": true, \"showgrid\": false, \"showline\": true, \"ticks\": \"outside\", \"zeroline\": false, \"zerolinecolor\": \"rgb(36,36,36)\"}, \"yaxis\": {\"backgroundcolor\": \"white\", \"gridcolor\": \"rgb(232,232,232)\", \"gridwidth\": 2, \"linecolor\": \"rgb(36,36,36)\", \"showbackground\": true, \"showgrid\": false, \"showline\": true, \"ticks\": \"outside\", \"zeroline\": false, \"zerolinecolor\": \"rgb(36,36,36)\"}, \"zaxis\": {\"backgroundcolor\": \"white\", \"gridcolor\": \"rgb(232,232,232)\", \"gridwidth\": 2, \"linecolor\": \"rgb(36,36,36)\", \"showbackground\": true, \"showgrid\": false, \"showline\": true, \"ticks\": \"outside\", \"zeroline\": false, \"zerolinecolor\": \"rgb(36,36,36)\"}}, \"shapedefaults\": {\"fillcolor\": \"black\", \"line\": {\"width\": 0}, \"opacity\": 0.3}, \"ternary\": {\"aaxis\": {\"gridcolor\": \"rgb(232,232,232)\", \"linecolor\": \"rgb(36,36,36)\", \"showgrid\": false, \"showline\": true, \"ticks\": \"outside\"}, \"baxis\": {\"gridcolor\": \"rgb(232,232,232)\", \"linecolor\": \"rgb(36,36,36)\", \"showgrid\": false, \"showline\": true, \"ticks\": \"outside\"}, \"bgcolor\": \"white\", \"caxis\": {\"gridcolor\": \"rgb(232,232,232)\", \"linecolor\": \"rgb(36,36,36)\", \"showgrid\": false, \"showline\": true, \"ticks\": \"outside\"}}, \"title\": {\"x\": 0.05}, \"xaxis\": {\"automargin\": true, \"gridcolor\": \"rgb(232,232,232)\", \"linecolor\": \"rgb(36,36,36)\", \"showgrid\": false, \"showline\": true, \"ticks\": \"outside\", \"title\": {\"standoff\": 15}, \"zeroline\": false, \"zerolinecolor\": \"rgb(36,36,36)\"}, \"yaxis\": {\"automargin\": true, \"gridcolor\": \"rgb(232,232,232)\", \"linecolor\": \"rgb(36,36,36)\", \"showgrid\": false, \"showline\": true, \"ticks\": \"outside\", \"title\": {\"standoff\": 15}, \"zeroline\": false, \"zerolinecolor\": \"rgb(36,36,36)\"}}}, \"title\": {\"text\": \"Accuracy score on train & validation sets (model seven)\"}, \"xaxis\": {\"title\": {\"text\": \"Number of epochs\"}}, \"yaxis\": {\"title\": {\"text\": \"Accuracy/epoch\"}}},\n",
       "                        {\"responsive\": true}\n",
       "                    ).then(function(){\n",
       "                            \n",
       "var gd = document.getElementById('d21a6621-6124-4e55-b5a3-4fda142c9d05');\n",
       "var x = new MutationObserver(function (mutations, observer) {{\n",
       "        var display = window.getComputedStyle(gd).display;\n",
       "        if (!display || display === 'none') {{\n",
       "            console.log([gd, 'removed!']);\n",
       "            Plotly.purge(gd);\n",
       "            observer.disconnect();\n",
       "        }}\n",
       "}});\n",
       "\n",
       "// Listen for the removal of the full notebook cells\n",
       "var notebookContainer = gd.closest('#notebook-container');\n",
       "if (notebookContainer) {{\n",
       "    x.observe(notebookContainer, {childList: true});\n",
       "}}\n",
       "\n",
       "// Listen for the clearing of the current output cell\n",
       "var outputEl = gd.closest('.output');\n",
       "if (outputEl) {{\n",
       "    x.observe(outputEl, {childList: true});\n",
       "}}\n",
       "\n",
       "                        })\n",
       "                };\n",
       "                });\n",
       "            </script>\n",
       "        </div>"
      ]
     },
     "metadata": {},
     "output_type": "display_data"
    }
   ],
   "source": [
    "colormin = 'black'\n",
    "colormax = 'black'\n",
    "colorother = 'rgb(252, 141, 98)'\n",
    "clrs_acc_model_four = [colormax if history_dataframe_one.val_accuracy.iloc[row]==history_dataframe_one.val_accuracy.max() else colorother for row in range(len(history_dataframe_one.val_accuracy))]\n",
    "clrs_acc_model_seven = [colormax if history_dataframe_two.val_accuracy.iloc[row]==history_dataframe_two.val_accuracy.max() else colorother for row in range(len(history_dataframe_two.val_accuracy))]\n",
    "\n",
    "clrs_loss=[colormin if history_dataframe_one.val_loss.iloc[row]==history_dataframe_one.val_loss.min() else colorother for row in range(len(history_dataframe_one.val_loss))]\n",
    "\n",
    "#Accuracy of model four\n",
    "fig1=go.Figure()\n",
    "\n",
    "fig1.add_trace(go.Scatter(x=history_dataframe_one.epoch.tolist(), \n",
    "                          y=history_dataframe_one.accuracy.tolist(),\n",
    "                          mode='lines+markers',\n",
    "                          name='Training Accuracy',\n",
    "                          line=dict(color='rgb(102, 194, 165)')))\n",
    "\n",
    "fig1.add_trace(go.Scatter(x=history_dataframe_one.epoch.tolist(), \n",
    "                          y=history_dataframe_one.val_accuracy.tolist(),\n",
    "                          mode='lines+markers',\n",
    "                          name='Validation Accuracy',\n",
    "                          line=dict(color='rgb(252, 141, 98)'),\n",
    "                          marker=dict(color=clrs_acc_model_four)))\n",
    "\n",
    "fig1.update_layout(template=\"simple_white\",\n",
    "                   title=\"Accuracy score on train & validation sets (model four)\",\n",
    "                   xaxis_title=\"Number of epochs\",\n",
    "                   yaxis_title=\"Accuracy/epoch\")\n",
    "\n",
    "fig1.update_layout(showlegend=True,\n",
    "                   annotations=[dict(x=history_dataframe_one.epoch[history_dataframe_one.val_accuracy==history_dataframe_one.val_accuracy.max()].tolist()[0],\n",
    "                                     y=history_dataframe_one.val_accuracy.max(),\n",
    "                                     xref=\"x\",yref=\"y\",\n",
    "                                     text=\"Epoch with the highest validation accuracy\",\n",
    "                                     showarrow=True,\n",
    "                                     arrowhead=5,\n",
    "                                     ax=0,ay=40)])\n",
    "\n",
    "fig1.show()\n",
    "\n",
    "#---------------------------------------------------------\n",
    "\n",
    "#Accuracy of model seven\n",
    "\n",
    "fig2=go.Figure()\n",
    "\n",
    "fig2.add_trace(go.Scatter(x=history_dataframe_two.epoch.tolist(), \n",
    "                          y=history_dataframe_two.accuracy.tolist(),\n",
    "                          mode='lines+markers',\n",
    "                          name='Training Accuracy',\n",
    "                          line=dict(color='rgb(102, 194, 165)')))\n",
    "\n",
    "fig2.add_trace(go.Scatter(x=history_dataframe_two.epoch.tolist(), \n",
    "                          y=history_dataframe_two.val_accuracy.tolist(),\n",
    "                          mode='lines+markers',\n",
    "                          name='Validation Accuracy',\n",
    "                          line=dict(color='rgb(252, 141, 98)'),\n",
    "                          marker=dict(color=clrs_acc_model_seven)))\n",
    "\n",
    "fig2.update_layout(template=\"simple_white\",\n",
    "                   title=\"Accuracy score on train & validation sets (model seven)\",\n",
    "                   xaxis_title=\"Number of epochs\",\n",
    "                   yaxis_title=\"Accuracy/epoch\")\n",
    "\n",
    "fig2.update_layout(showlegend=True,\n",
    "                   annotations=[dict(x=history_dataframe_two.epoch[history_dataframe_two.val_accuracy==history_dataframe_two.val_accuracy.max()].tolist()[0],\n",
    "                                     y=history_dataframe_two.val_accuracy.max(),\n",
    "                                     xref=\"x\",yref=\"y\",\n",
    "                                     text=\"Epoch with the highest validation accuracy\",\n",
    "                                     showarrow=True,\n",
    "                                     arrowhead=5,\n",
    "                                     ax=0,ay=40)])\n",
    "\n",
    "fig2.show()"
   ]
  },
  {
   "cell_type": "code",
   "execution_count": 263,
   "metadata": {
    "scrolled": false
   },
   "outputs": [
    {
     "data": {
      "application/vnd.plotly.v1+json": {
       "config": {
        "plotlyServerURL": "https://plot.ly"
       },
       "data": [
        {
         "line": {
          "color": "rgb(102, 194, 165)"
         },
         "mode": "lines+markers",
         "name": "Training Loss",
         "type": "scatter",
         "x": [
          1,
          2,
          3,
          4,
          5,
          6,
          7,
          8,
          9,
          10,
          11,
          12,
          13,
          14,
          15,
          16,
          17,
          18,
          19,
          20,
          21,
          22,
          23,
          24,
          25,
          26,
          27,
          28,
          29,
          30,
          31,
          32,
          33,
          34,
          35,
          36,
          37,
          38,
          39,
          40,
          41,
          42,
          43,
          44,
          45,
          46,
          47,
          48,
          49,
          50,
          51,
          52,
          53,
          54,
          55,
          56,
          57,
          58,
          59,
          60,
          61,
          62,
          63,
          64,
          65,
          66,
          67,
          68,
          69,
          70,
          71,
          72,
          73,
          74,
          75,
          76,
          77,
          78,
          79,
          80,
          81,
          82,
          83,
          84,
          85,
          86,
          87,
          88,
          89,
          90
         ],
         "y": [
          0.26201849846077746,
          0.08589260328711626,
          0.046984958143466135,
          0.03887531537821969,
          0.0338639127488919,
          0.03235931548029938,
          0.03187959672152912,
          0.030490030353168412,
          0.027286540979109927,
          0.02503914584753542,
          0.031849452618728805,
          0.025745241585129933,
          0.023515297606618905,
          0.023209605208037182,
          0.024455131691127913,
          0.025066711994093577,
          0.02195997511391674,
          0.02248443289672623,
          0.024136062063196122,
          0.024099340776411862,
          0.02041656051499403,
          0.02145715765304296,
          0.02049256094617995,
          0.022209771204049534,
          0.02226760484765427,
          0.019508316019649106,
          0.019538436472355796,
          0.023583306527065986,
          0.019134414359313495,
          0.019692383649901737,
          0.018014797174520845,
          0.019520923982994796,
          0.019371982884815148,
          0.019029915805583705,
          0.017654861982613335,
          0.018878578172417674,
          0.020510342072564025,
          0.015699692352750122,
          0.019195826157850208,
          0.016925623976846625,
          0.017931900667951816,
          0.017532947637922888,
          0.015782862390602514,
          0.01910929140573216,
          0.01627522924035589,
          0.016768923020952488,
          0.016942128303823988,
          0.01695495697457389,
          0.020066122906501463,
          0.01666930196800227,
          0.015144562616315358,
          0.017416361748837213,
          0.019536593438487092,
          0.013437442344560345,
          0.014175762572224778,
          0.01677624077537299,
          0.015159070295421469,
          0.016311636469098154,
          0.01592913400583422,
          0.014846993080447518,
          0.017040495122657918,
          0.015387533707745229,
          0.01597231768442916,
          0.01636892781740063,
          0.01655384950725852,
          0.015590124658623222,
          0.014053193768556172,
          0.016219942428876463,
          0.016234400146013017,
          0.014282520336941175,
          0.01711882969218619,
          0.016755379149940207,
          0.014622527635212795,
          0.0139977556700385,
          0.014433828815708077,
          0.011150607304818285,
          0.01911792169865308,
          0.014968259269662127,
          0.01592156206244697,
          0.015309805319157942,
          0.015921229845792015,
          0.01319734984987958,
          0.01630884428838268,
          0.014836561262143732,
          0.014541606220748918,
          0.01671601926876521,
          0.012297559305973012,
          0.015418604076073773,
          0.014838485137412673,
          0.012549702605235101
         ]
        },
        {
         "line": {
          "color": "rgb(252, 141, 98)"
         },
         "marker": {
          "color": [
           "rgb(252, 141, 98)",
           "rgb(252, 141, 98)",
           "rgb(252, 141, 98)",
           "rgb(252, 141, 98)",
           "rgb(252, 141, 98)",
           "rgb(252, 141, 98)",
           "rgb(252, 141, 98)",
           "rgb(252, 141, 98)",
           "rgb(252, 141, 98)",
           "rgb(252, 141, 98)",
           "rgb(252, 141, 98)",
           "rgb(252, 141, 98)",
           "rgb(252, 141, 98)",
           "rgb(252, 141, 98)",
           "rgb(252, 141, 98)",
           "rgb(252, 141, 98)",
           "rgb(252, 141, 98)",
           "rgb(252, 141, 98)",
           "rgb(252, 141, 98)",
           "rgb(252, 141, 98)",
           "rgb(252, 141, 98)",
           "rgb(252, 141, 98)",
           "rgb(252, 141, 98)",
           "rgb(252, 141, 98)",
           "rgb(252, 141, 98)",
           "rgb(252, 141, 98)",
           "rgb(252, 141, 98)",
           "rgb(252, 141, 98)",
           "rgb(252, 141, 98)",
           "rgb(252, 141, 98)",
           "rgb(252, 141, 98)",
           "rgb(252, 141, 98)",
           "rgb(252, 141, 98)",
           "rgb(252, 141, 98)",
           "rgb(252, 141, 98)",
           "rgb(252, 141, 98)",
           "rgb(252, 141, 98)",
           "rgb(252, 141, 98)",
           "rgb(252, 141, 98)",
           "black",
           "rgb(252, 141, 98)",
           "rgb(252, 141, 98)",
           "rgb(252, 141, 98)",
           "rgb(252, 141, 98)",
           "rgb(252, 141, 98)",
           "rgb(252, 141, 98)",
           "rgb(252, 141, 98)",
           "rgb(252, 141, 98)",
           "rgb(252, 141, 98)",
           "rgb(252, 141, 98)",
           "rgb(252, 141, 98)",
           "rgb(252, 141, 98)",
           "rgb(252, 141, 98)",
           "rgb(252, 141, 98)",
           "rgb(252, 141, 98)",
           "rgb(252, 141, 98)",
           "rgb(252, 141, 98)",
           "rgb(252, 141, 98)",
           "rgb(252, 141, 98)",
           "rgb(252, 141, 98)",
           "rgb(252, 141, 98)",
           "rgb(252, 141, 98)",
           "rgb(252, 141, 98)",
           "rgb(252, 141, 98)",
           "rgb(252, 141, 98)",
           "rgb(252, 141, 98)",
           "rgb(252, 141, 98)",
           "rgb(252, 141, 98)",
           "rgb(252, 141, 98)",
           "rgb(252, 141, 98)",
           "rgb(252, 141, 98)",
           "rgb(252, 141, 98)",
           "rgb(252, 141, 98)",
           "rgb(252, 141, 98)",
           "rgb(252, 141, 98)",
           "rgb(252, 141, 98)",
           "rgb(252, 141, 98)",
           "rgb(252, 141, 98)",
           "rgb(252, 141, 98)",
           "rgb(252, 141, 98)",
           "rgb(252, 141, 98)",
           "rgb(252, 141, 98)",
           "rgb(252, 141, 98)",
           "rgb(252, 141, 98)",
           "rgb(252, 141, 98)",
           "rgb(252, 141, 98)",
           "rgb(252, 141, 98)",
           "rgb(252, 141, 98)",
           "rgb(252, 141, 98)",
           "rgb(252, 141, 98)"
          ]
         },
         "mode": "lines+markers",
         "name": "Validation Loss",
         "type": "scatter",
         "x": [
          1,
          2,
          3,
          4,
          5,
          6,
          7,
          8,
          9,
          10,
          11,
          12,
          13,
          14,
          15,
          16,
          17,
          18,
          19,
          20,
          21,
          22,
          23,
          24,
          25,
          26,
          27,
          28,
          29,
          30,
          31,
          32,
          33,
          34,
          35,
          36,
          37,
          38,
          39,
          40,
          41,
          42,
          43,
          44,
          45,
          46,
          47,
          48,
          49,
          50,
          51,
          52,
          53,
          54,
          55,
          56,
          57,
          58,
          59,
          60,
          61,
          62,
          63,
          64,
          65,
          66,
          67,
          68,
          69,
          70,
          71,
          72,
          73,
          74,
          75,
          76,
          77,
          78,
          79,
          80,
          81,
          82,
          83,
          84,
          85,
          86,
          87,
          88,
          89,
          90
         ],
         "y": [
          0.13503960376796195,
          0.052640233980117516,
          0.0482123483351138,
          0.03638231863224593,
          0.03517137438824916,
          0.03385793756717838,
          0.032704224517027904,
          0.03437492255007891,
          0.038476121809705666,
          0.034871295415742284,
          0.038304506234006316,
          0.0306898836516455,
          0.030002968161271716,
          0.03744722607802533,
          0.02893211971243694,
          0.04192442959429948,
          0.030019979026975993,
          0.040830505265977736,
          0.036816717232519884,
          0.03178429128280182,
          0.03574115684794625,
          0.032193420755914894,
          0.03118369489858795,
          0.03626307810139087,
          0.03230345093919954,
          0.03419678289757378,
          0.042404043086520384,
          0.032408628183153154,
          0.03682753505592277,
          0.03209625791255986,
          0.030191838318352066,
          0.04122703081624881,
          0.03685991652143566,
          0.029711075796717085,
          0.03754177689172127,
          0.028552813500371237,
          0.030792851938643555,
          0.03445732807340192,
          0.04270578348765128,
          0.025073831347079283,
          0.03348012766864382,
          0.04360293169185236,
          0.043317264740751295,
          0.03155536328895403,
          0.03154719096912248,
          0.03324750508808454,
          0.03670335924156635,
          0.03649304347548319,
          0.04332546336049555,
          0.034695678741397534,
          0.034064268975849285,
          0.04182860027465959,
          0.02761358697652163,
          0.03039659051758505,
          0.0263422777761491,
          0.02716601402183351,
          0.035281688988109926,
          0.03628887165927555,
          0.026781963891373377,
          0.03530344179360854,
          0.04475618846403699,
          0.033984586841705154,
          0.03776158516177992,
          0.03718497525054226,
          0.05451454264117163,
          0.043397846576460834,
          0.03879116747981204,
          0.04041131185886887,
          0.0419542118911727,
          0.04118119476552915,
          0.04935128935606204,
          0.03821734373832801,
          0.03905048776317698,
          0.03655542752993382,
          0.03841350533829491,
          0.03346636743379926,
          0.0397083954131182,
          0.044144357611047534,
          0.03837091981174691,
          0.04970438516076114,
          0.04188951685224387,
          0.04326007151739803,
          0.02996754908340442,
          0.05880622969877813,
          0.038426375902627465,
          0.03347766291982651,
          0.026342576026768233,
          0.04596364264232587,
          0.04250936225742873,
          0.03267830568930677
         ]
        }
       ],
       "layout": {
        "annotations": [
         {
          "arrowhead": 5,
          "ax": 0,
          "ay": -40,
          "showarrow": true,
          "text": "Epoch with the lowest validation loss",
          "x": 40,
          "xref": "x",
          "y": 0.025073831347079283,
          "yref": "y"
         }
        ],
        "showlegend": true,
        "template": {
         "data": {
          "bar": [
           {
            "error_x": {
             "color": "rgb(36,36,36)"
            },
            "error_y": {
             "color": "rgb(36,36,36)"
            },
            "marker": {
             "line": {
              "color": "white",
              "width": 0.5
             }
            },
            "type": "bar"
           }
          ],
          "barpolar": [
           {
            "marker": {
             "line": {
              "color": "white",
              "width": 0.5
             }
            },
            "type": "barpolar"
           }
          ],
          "carpet": [
           {
            "aaxis": {
             "endlinecolor": "rgb(36,36,36)",
             "gridcolor": "white",
             "linecolor": "white",
             "minorgridcolor": "white",
             "startlinecolor": "rgb(36,36,36)"
            },
            "baxis": {
             "endlinecolor": "rgb(36,36,36)",
             "gridcolor": "white",
             "linecolor": "white",
             "minorgridcolor": "white",
             "startlinecolor": "rgb(36,36,36)"
            },
            "type": "carpet"
           }
          ],
          "choropleth": [
           {
            "colorbar": {
             "outlinewidth": 1,
             "tickcolor": "rgb(36,36,36)",
             "ticks": "outside"
            },
            "type": "choropleth"
           }
          ],
          "contour": [
           {
            "colorbar": {
             "outlinewidth": 1,
             "tickcolor": "rgb(36,36,36)",
             "ticks": "outside"
            },
            "colorscale": [
             [
              0,
              "#440154"
             ],
             [
              0.1111111111111111,
              "#482878"
             ],
             [
              0.2222222222222222,
              "#3e4989"
             ],
             [
              0.3333333333333333,
              "#31688e"
             ],
             [
              0.4444444444444444,
              "#26828e"
             ],
             [
              0.5555555555555556,
              "#1f9e89"
             ],
             [
              0.6666666666666666,
              "#35b779"
             ],
             [
              0.7777777777777778,
              "#6ece58"
             ],
             [
              0.8888888888888888,
              "#b5de2b"
             ],
             [
              1,
              "#fde725"
             ]
            ],
            "type": "contour"
           }
          ],
          "contourcarpet": [
           {
            "colorbar": {
             "outlinewidth": 1,
             "tickcolor": "rgb(36,36,36)",
             "ticks": "outside"
            },
            "type": "contourcarpet"
           }
          ],
          "heatmap": [
           {
            "colorbar": {
             "outlinewidth": 1,
             "tickcolor": "rgb(36,36,36)",
             "ticks": "outside"
            },
            "colorscale": [
             [
              0,
              "#440154"
             ],
             [
              0.1111111111111111,
              "#482878"
             ],
             [
              0.2222222222222222,
              "#3e4989"
             ],
             [
              0.3333333333333333,
              "#31688e"
             ],
             [
              0.4444444444444444,
              "#26828e"
             ],
             [
              0.5555555555555556,
              "#1f9e89"
             ],
             [
              0.6666666666666666,
              "#35b779"
             ],
             [
              0.7777777777777778,
              "#6ece58"
             ],
             [
              0.8888888888888888,
              "#b5de2b"
             ],
             [
              1,
              "#fde725"
             ]
            ],
            "type": "heatmap"
           }
          ],
          "heatmapgl": [
           {
            "colorbar": {
             "outlinewidth": 1,
             "tickcolor": "rgb(36,36,36)",
             "ticks": "outside"
            },
            "colorscale": [
             [
              0,
              "#440154"
             ],
             [
              0.1111111111111111,
              "#482878"
             ],
             [
              0.2222222222222222,
              "#3e4989"
             ],
             [
              0.3333333333333333,
              "#31688e"
             ],
             [
              0.4444444444444444,
              "#26828e"
             ],
             [
              0.5555555555555556,
              "#1f9e89"
             ],
             [
              0.6666666666666666,
              "#35b779"
             ],
             [
              0.7777777777777778,
              "#6ece58"
             ],
             [
              0.8888888888888888,
              "#b5de2b"
             ],
             [
              1,
              "#fde725"
             ]
            ],
            "type": "heatmapgl"
           }
          ],
          "histogram": [
           {
            "marker": {
             "line": {
              "color": "white",
              "width": 0.6
             }
            },
            "type": "histogram"
           }
          ],
          "histogram2d": [
           {
            "colorbar": {
             "outlinewidth": 1,
             "tickcolor": "rgb(36,36,36)",
             "ticks": "outside"
            },
            "colorscale": [
             [
              0,
              "#440154"
             ],
             [
              0.1111111111111111,
              "#482878"
             ],
             [
              0.2222222222222222,
              "#3e4989"
             ],
             [
              0.3333333333333333,
              "#31688e"
             ],
             [
              0.4444444444444444,
              "#26828e"
             ],
             [
              0.5555555555555556,
              "#1f9e89"
             ],
             [
              0.6666666666666666,
              "#35b779"
             ],
             [
              0.7777777777777778,
              "#6ece58"
             ],
             [
              0.8888888888888888,
              "#b5de2b"
             ],
             [
              1,
              "#fde725"
             ]
            ],
            "type": "histogram2d"
           }
          ],
          "histogram2dcontour": [
           {
            "colorbar": {
             "outlinewidth": 1,
             "tickcolor": "rgb(36,36,36)",
             "ticks": "outside"
            },
            "colorscale": [
             [
              0,
              "#440154"
             ],
             [
              0.1111111111111111,
              "#482878"
             ],
             [
              0.2222222222222222,
              "#3e4989"
             ],
             [
              0.3333333333333333,
              "#31688e"
             ],
             [
              0.4444444444444444,
              "#26828e"
             ],
             [
              0.5555555555555556,
              "#1f9e89"
             ],
             [
              0.6666666666666666,
              "#35b779"
             ],
             [
              0.7777777777777778,
              "#6ece58"
             ],
             [
              0.8888888888888888,
              "#b5de2b"
             ],
             [
              1,
              "#fde725"
             ]
            ],
            "type": "histogram2dcontour"
           }
          ],
          "mesh3d": [
           {
            "colorbar": {
             "outlinewidth": 1,
             "tickcolor": "rgb(36,36,36)",
             "ticks": "outside"
            },
            "type": "mesh3d"
           }
          ],
          "parcoords": [
           {
            "line": {
             "colorbar": {
              "outlinewidth": 1,
              "tickcolor": "rgb(36,36,36)",
              "ticks": "outside"
             }
            },
            "type": "parcoords"
           }
          ],
          "pie": [
           {
            "automargin": true,
            "type": "pie"
           }
          ],
          "scatter": [
           {
            "marker": {
             "colorbar": {
              "outlinewidth": 1,
              "tickcolor": "rgb(36,36,36)",
              "ticks": "outside"
             }
            },
            "type": "scatter"
           }
          ],
          "scatter3d": [
           {
            "line": {
             "colorbar": {
              "outlinewidth": 1,
              "tickcolor": "rgb(36,36,36)",
              "ticks": "outside"
             }
            },
            "marker": {
             "colorbar": {
              "outlinewidth": 1,
              "tickcolor": "rgb(36,36,36)",
              "ticks": "outside"
             }
            },
            "type": "scatter3d"
           }
          ],
          "scattercarpet": [
           {
            "marker": {
             "colorbar": {
              "outlinewidth": 1,
              "tickcolor": "rgb(36,36,36)",
              "ticks": "outside"
             }
            },
            "type": "scattercarpet"
           }
          ],
          "scattergeo": [
           {
            "marker": {
             "colorbar": {
              "outlinewidth": 1,
              "tickcolor": "rgb(36,36,36)",
              "ticks": "outside"
             }
            },
            "type": "scattergeo"
           }
          ],
          "scattergl": [
           {
            "marker": {
             "colorbar": {
              "outlinewidth": 1,
              "tickcolor": "rgb(36,36,36)",
              "ticks": "outside"
             }
            },
            "type": "scattergl"
           }
          ],
          "scattermapbox": [
           {
            "marker": {
             "colorbar": {
              "outlinewidth": 1,
              "tickcolor": "rgb(36,36,36)",
              "ticks": "outside"
             }
            },
            "type": "scattermapbox"
           }
          ],
          "scatterpolar": [
           {
            "marker": {
             "colorbar": {
              "outlinewidth": 1,
              "tickcolor": "rgb(36,36,36)",
              "ticks": "outside"
             }
            },
            "type": "scatterpolar"
           }
          ],
          "scatterpolargl": [
           {
            "marker": {
             "colorbar": {
              "outlinewidth": 1,
              "tickcolor": "rgb(36,36,36)",
              "ticks": "outside"
             }
            },
            "type": "scatterpolargl"
           }
          ],
          "scatterternary": [
           {
            "marker": {
             "colorbar": {
              "outlinewidth": 1,
              "tickcolor": "rgb(36,36,36)",
              "ticks": "outside"
             }
            },
            "type": "scatterternary"
           }
          ],
          "surface": [
           {
            "colorbar": {
             "outlinewidth": 1,
             "tickcolor": "rgb(36,36,36)",
             "ticks": "outside"
            },
            "colorscale": [
             [
              0,
              "#440154"
             ],
             [
              0.1111111111111111,
              "#482878"
             ],
             [
              0.2222222222222222,
              "#3e4989"
             ],
             [
              0.3333333333333333,
              "#31688e"
             ],
             [
              0.4444444444444444,
              "#26828e"
             ],
             [
              0.5555555555555556,
              "#1f9e89"
             ],
             [
              0.6666666666666666,
              "#35b779"
             ],
             [
              0.7777777777777778,
              "#6ece58"
             ],
             [
              0.8888888888888888,
              "#b5de2b"
             ],
             [
              1,
              "#fde725"
             ]
            ],
            "type": "surface"
           }
          ],
          "table": [
           {
            "cells": {
             "fill": {
              "color": "rgb(237,237,237)"
             },
             "line": {
              "color": "white"
             }
            },
            "header": {
             "fill": {
              "color": "rgb(217,217,217)"
             },
             "line": {
              "color": "white"
             }
            },
            "type": "table"
           }
          ]
         },
         "layout": {
          "annotationdefaults": {
           "arrowhead": 0,
           "arrowwidth": 1
          },
          "coloraxis": {
           "colorbar": {
            "outlinewidth": 1,
            "tickcolor": "rgb(36,36,36)",
            "ticks": "outside"
           }
          },
          "colorscale": {
           "diverging": [
            [
             0,
             "rgb(103,0,31)"
            ],
            [
             0.1,
             "rgb(178,24,43)"
            ],
            [
             0.2,
             "rgb(214,96,77)"
            ],
            [
             0.3,
             "rgb(244,165,130)"
            ],
            [
             0.4,
             "rgb(253,219,199)"
            ],
            [
             0.5,
             "rgb(247,247,247)"
            ],
            [
             0.6,
             "rgb(209,229,240)"
            ],
            [
             0.7,
             "rgb(146,197,222)"
            ],
            [
             0.8,
             "rgb(67,147,195)"
            ],
            [
             0.9,
             "rgb(33,102,172)"
            ],
            [
             1,
             "rgb(5,48,97)"
            ]
           ],
           "sequential": [
            [
             0,
             "#440154"
            ],
            [
             0.1111111111111111,
             "#482878"
            ],
            [
             0.2222222222222222,
             "#3e4989"
            ],
            [
             0.3333333333333333,
             "#31688e"
            ],
            [
             0.4444444444444444,
             "#26828e"
            ],
            [
             0.5555555555555556,
             "#1f9e89"
            ],
            [
             0.6666666666666666,
             "#35b779"
            ],
            [
             0.7777777777777778,
             "#6ece58"
            ],
            [
             0.8888888888888888,
             "#b5de2b"
            ],
            [
             1,
             "#fde725"
            ]
           ],
           "sequentialminus": [
            [
             0,
             "#440154"
            ],
            [
             0.1111111111111111,
             "#482878"
            ],
            [
             0.2222222222222222,
             "#3e4989"
            ],
            [
             0.3333333333333333,
             "#31688e"
            ],
            [
             0.4444444444444444,
             "#26828e"
            ],
            [
             0.5555555555555556,
             "#1f9e89"
            ],
            [
             0.6666666666666666,
             "#35b779"
            ],
            [
             0.7777777777777778,
             "#6ece58"
            ],
            [
             0.8888888888888888,
             "#b5de2b"
            ],
            [
             1,
             "#fde725"
            ]
           ]
          },
          "colorway": [
           "#1F77B4",
           "#FF7F0E",
           "#2CA02C",
           "#D62728",
           "#9467BD",
           "#8C564B",
           "#E377C2",
           "#7F7F7F",
           "#BCBD22",
           "#17BECF"
          ],
          "font": {
           "color": "rgb(36,36,36)"
          },
          "geo": {
           "bgcolor": "white",
           "lakecolor": "white",
           "landcolor": "white",
           "showlakes": true,
           "showland": true,
           "subunitcolor": "white"
          },
          "hoverlabel": {
           "align": "left"
          },
          "hovermode": "closest",
          "mapbox": {
           "style": "light"
          },
          "paper_bgcolor": "white",
          "plot_bgcolor": "white",
          "polar": {
           "angularaxis": {
            "gridcolor": "rgb(232,232,232)",
            "linecolor": "rgb(36,36,36)",
            "showgrid": false,
            "showline": true,
            "ticks": "outside"
           },
           "bgcolor": "white",
           "radialaxis": {
            "gridcolor": "rgb(232,232,232)",
            "linecolor": "rgb(36,36,36)",
            "showgrid": false,
            "showline": true,
            "ticks": "outside"
           }
          },
          "scene": {
           "xaxis": {
            "backgroundcolor": "white",
            "gridcolor": "rgb(232,232,232)",
            "gridwidth": 2,
            "linecolor": "rgb(36,36,36)",
            "showbackground": true,
            "showgrid": false,
            "showline": true,
            "ticks": "outside",
            "zeroline": false,
            "zerolinecolor": "rgb(36,36,36)"
           },
           "yaxis": {
            "backgroundcolor": "white",
            "gridcolor": "rgb(232,232,232)",
            "gridwidth": 2,
            "linecolor": "rgb(36,36,36)",
            "showbackground": true,
            "showgrid": false,
            "showline": true,
            "ticks": "outside",
            "zeroline": false,
            "zerolinecolor": "rgb(36,36,36)"
           },
           "zaxis": {
            "backgroundcolor": "white",
            "gridcolor": "rgb(232,232,232)",
            "gridwidth": 2,
            "linecolor": "rgb(36,36,36)",
            "showbackground": true,
            "showgrid": false,
            "showline": true,
            "ticks": "outside",
            "zeroline": false,
            "zerolinecolor": "rgb(36,36,36)"
           }
          },
          "shapedefaults": {
           "fillcolor": "black",
           "line": {
            "width": 0
           },
           "opacity": 0.3
          },
          "ternary": {
           "aaxis": {
            "gridcolor": "rgb(232,232,232)",
            "linecolor": "rgb(36,36,36)",
            "showgrid": false,
            "showline": true,
            "ticks": "outside"
           },
           "baxis": {
            "gridcolor": "rgb(232,232,232)",
            "linecolor": "rgb(36,36,36)",
            "showgrid": false,
            "showline": true,
            "ticks": "outside"
           },
           "bgcolor": "white",
           "caxis": {
            "gridcolor": "rgb(232,232,232)",
            "linecolor": "rgb(36,36,36)",
            "showgrid": false,
            "showline": true,
            "ticks": "outside"
           }
          },
          "title": {
           "x": 0.05
          },
          "xaxis": {
           "automargin": true,
           "gridcolor": "rgb(232,232,232)",
           "linecolor": "rgb(36,36,36)",
           "showgrid": false,
           "showline": true,
           "ticks": "outside",
           "title": {
            "standoff": 15
           },
           "zeroline": false,
           "zerolinecolor": "rgb(36,36,36)"
          },
          "yaxis": {
           "automargin": true,
           "gridcolor": "rgb(232,232,232)",
           "linecolor": "rgb(36,36,36)",
           "showgrid": false,
           "showline": true,
           "ticks": "outside",
           "title": {
            "standoff": 15
           },
           "zeroline": false,
           "zerolinecolor": "rgb(36,36,36)"
          }
         }
        },
        "title": {
         "text": "Loss score on train & validation sets (model four)"
        },
        "xaxis": {
         "title": {
          "text": "Number of epochs"
         }
        },
        "yaxis": {
         "title": {
          "text": "Loss/epoch"
         }
        }
       }
      },
      "text/html": [
       "<div>\n",
       "        \n",
       "        \n",
       "            <div id=\"7bfa8028-101c-4a90-834f-079921e2e9ec\" class=\"plotly-graph-div\" style=\"height:525px; width:100%;\"></div>\n",
       "            <script type=\"text/javascript\">\n",
       "                require([\"plotly\"], function(Plotly) {\n",
       "                    window.PLOTLYENV=window.PLOTLYENV || {};\n",
       "                    \n",
       "                if (document.getElementById(\"7bfa8028-101c-4a90-834f-079921e2e9ec\")) {\n",
       "                    Plotly.newPlot(\n",
       "                        '7bfa8028-101c-4a90-834f-079921e2e9ec',\n",
       "                        [{\"line\": {\"color\": \"rgb(102, 194, 165)\"}, \"mode\": \"lines+markers\", \"name\": \"Training Loss\", \"type\": \"scatter\", \"x\": [1, 2, 3, 4, 5, 6, 7, 8, 9, 10, 11, 12, 13, 14, 15, 16, 17, 18, 19, 20, 21, 22, 23, 24, 25, 26, 27, 28, 29, 30, 31, 32, 33, 34, 35, 36, 37, 38, 39, 40, 41, 42, 43, 44, 45, 46, 47, 48, 49, 50, 51, 52, 53, 54, 55, 56, 57, 58, 59, 60, 61, 62, 63, 64, 65, 66, 67, 68, 69, 70, 71, 72, 73, 74, 75, 76, 77, 78, 79, 80, 81, 82, 83, 84, 85, 86, 87, 88, 89, 90], \"y\": [0.26201849846077746, 0.08589260328711626, 0.046984958143466135, 0.03887531537821969, 0.0338639127488919, 0.03235931548029938, 0.03187959672152912, 0.030490030353168412, 0.027286540979109927, 0.02503914584753542, 0.031849452618728805, 0.025745241585129933, 0.023515297606618905, 0.023209605208037182, 0.024455131691127913, 0.025066711994093577, 0.02195997511391674, 0.02248443289672623, 0.024136062063196122, 0.024099340776411862, 0.02041656051499403, 0.02145715765304296, 0.02049256094617995, 0.022209771204049534, 0.02226760484765427, 0.019508316019649106, 0.019538436472355796, 0.023583306527065986, 0.019134414359313495, 0.019692383649901737, 0.018014797174520845, 0.019520923982994796, 0.019371982884815148, 0.019029915805583705, 0.017654861982613335, 0.018878578172417674, 0.020510342072564025, 0.015699692352750122, 0.019195826157850208, 0.016925623976846625, 0.017931900667951816, 0.017532947637922888, 0.015782862390602514, 0.01910929140573216, 0.01627522924035589, 0.016768923020952488, 0.016942128303823988, 0.01695495697457389, 0.020066122906501463, 0.01666930196800227, 0.015144562616315358, 0.017416361748837213, 0.019536593438487092, 0.013437442344560345, 0.014175762572224778, 0.01677624077537299, 0.015159070295421469, 0.016311636469098154, 0.01592913400583422, 0.014846993080447518, 0.017040495122657918, 0.015387533707745229, 0.01597231768442916, 0.01636892781740063, 0.01655384950725852, 0.015590124658623222, 0.014053193768556172, 0.016219942428876463, 0.016234400146013017, 0.014282520336941175, 0.01711882969218619, 0.016755379149940207, 0.014622527635212795, 0.0139977556700385, 0.014433828815708077, 0.011150607304818285, 0.01911792169865308, 0.014968259269662127, 0.01592156206244697, 0.015309805319157942, 0.015921229845792015, 0.01319734984987958, 0.01630884428838268, 0.014836561262143732, 0.014541606220748918, 0.01671601926876521, 0.012297559305973012, 0.015418604076073773, 0.014838485137412673, 0.012549702605235101]}, {\"line\": {\"color\": \"rgb(252, 141, 98)\"}, \"marker\": {\"color\": [\"rgb(252, 141, 98)\", \"rgb(252, 141, 98)\", \"rgb(252, 141, 98)\", \"rgb(252, 141, 98)\", \"rgb(252, 141, 98)\", \"rgb(252, 141, 98)\", \"rgb(252, 141, 98)\", \"rgb(252, 141, 98)\", \"rgb(252, 141, 98)\", \"rgb(252, 141, 98)\", \"rgb(252, 141, 98)\", \"rgb(252, 141, 98)\", \"rgb(252, 141, 98)\", \"rgb(252, 141, 98)\", \"rgb(252, 141, 98)\", \"rgb(252, 141, 98)\", \"rgb(252, 141, 98)\", \"rgb(252, 141, 98)\", \"rgb(252, 141, 98)\", \"rgb(252, 141, 98)\", \"rgb(252, 141, 98)\", \"rgb(252, 141, 98)\", \"rgb(252, 141, 98)\", \"rgb(252, 141, 98)\", \"rgb(252, 141, 98)\", \"rgb(252, 141, 98)\", \"rgb(252, 141, 98)\", \"rgb(252, 141, 98)\", \"rgb(252, 141, 98)\", \"rgb(252, 141, 98)\", \"rgb(252, 141, 98)\", \"rgb(252, 141, 98)\", \"rgb(252, 141, 98)\", \"rgb(252, 141, 98)\", \"rgb(252, 141, 98)\", \"rgb(252, 141, 98)\", \"rgb(252, 141, 98)\", \"rgb(252, 141, 98)\", \"rgb(252, 141, 98)\", \"black\", \"rgb(252, 141, 98)\", \"rgb(252, 141, 98)\", \"rgb(252, 141, 98)\", \"rgb(252, 141, 98)\", \"rgb(252, 141, 98)\", \"rgb(252, 141, 98)\", \"rgb(252, 141, 98)\", \"rgb(252, 141, 98)\", \"rgb(252, 141, 98)\", \"rgb(252, 141, 98)\", \"rgb(252, 141, 98)\", \"rgb(252, 141, 98)\", \"rgb(252, 141, 98)\", \"rgb(252, 141, 98)\", \"rgb(252, 141, 98)\", \"rgb(252, 141, 98)\", \"rgb(252, 141, 98)\", \"rgb(252, 141, 98)\", \"rgb(252, 141, 98)\", \"rgb(252, 141, 98)\", \"rgb(252, 141, 98)\", \"rgb(252, 141, 98)\", \"rgb(252, 141, 98)\", \"rgb(252, 141, 98)\", \"rgb(252, 141, 98)\", \"rgb(252, 141, 98)\", \"rgb(252, 141, 98)\", \"rgb(252, 141, 98)\", \"rgb(252, 141, 98)\", \"rgb(252, 141, 98)\", \"rgb(252, 141, 98)\", \"rgb(252, 141, 98)\", \"rgb(252, 141, 98)\", \"rgb(252, 141, 98)\", \"rgb(252, 141, 98)\", \"rgb(252, 141, 98)\", \"rgb(252, 141, 98)\", \"rgb(252, 141, 98)\", \"rgb(252, 141, 98)\", \"rgb(252, 141, 98)\", \"rgb(252, 141, 98)\", \"rgb(252, 141, 98)\", \"rgb(252, 141, 98)\", \"rgb(252, 141, 98)\", \"rgb(252, 141, 98)\", \"rgb(252, 141, 98)\", \"rgb(252, 141, 98)\", \"rgb(252, 141, 98)\", \"rgb(252, 141, 98)\", \"rgb(252, 141, 98)\"]}, \"mode\": \"lines+markers\", \"name\": \"Validation Loss\", \"type\": \"scatter\", \"x\": [1, 2, 3, 4, 5, 6, 7, 8, 9, 10, 11, 12, 13, 14, 15, 16, 17, 18, 19, 20, 21, 22, 23, 24, 25, 26, 27, 28, 29, 30, 31, 32, 33, 34, 35, 36, 37, 38, 39, 40, 41, 42, 43, 44, 45, 46, 47, 48, 49, 50, 51, 52, 53, 54, 55, 56, 57, 58, 59, 60, 61, 62, 63, 64, 65, 66, 67, 68, 69, 70, 71, 72, 73, 74, 75, 76, 77, 78, 79, 80, 81, 82, 83, 84, 85, 86, 87, 88, 89, 90], \"y\": [0.13503960376796195, 0.052640233980117516, 0.0482123483351138, 0.03638231863224593, 0.03517137438824916, 0.03385793756717838, 0.032704224517027904, 0.03437492255007891, 0.038476121809705666, 0.034871295415742284, 0.038304506234006316, 0.0306898836516455, 0.030002968161271716, 0.03744722607802533, 0.02893211971243694, 0.04192442959429948, 0.030019979026975993, 0.040830505265977736, 0.036816717232519884, 0.03178429128280182, 0.03574115684794625, 0.032193420755914894, 0.03118369489858795, 0.03626307810139087, 0.03230345093919954, 0.03419678289757378, 0.042404043086520384, 0.032408628183153154, 0.03682753505592277, 0.03209625791255986, 0.030191838318352066, 0.04122703081624881, 0.03685991652143566, 0.029711075796717085, 0.03754177689172127, 0.028552813500371237, 0.030792851938643555, 0.03445732807340192, 0.04270578348765128, 0.025073831347079283, 0.03348012766864382, 0.04360293169185236, 0.043317264740751295, 0.03155536328895403, 0.03154719096912248, 0.03324750508808454, 0.03670335924156635, 0.03649304347548319, 0.04332546336049555, 0.034695678741397534, 0.034064268975849285, 0.04182860027465959, 0.02761358697652163, 0.03039659051758505, 0.0263422777761491, 0.02716601402183351, 0.035281688988109926, 0.03628887165927555, 0.026781963891373377, 0.03530344179360854, 0.04475618846403699, 0.033984586841705154, 0.03776158516177992, 0.03718497525054226, 0.05451454264117163, 0.043397846576460834, 0.03879116747981204, 0.04041131185886887, 0.0419542118911727, 0.04118119476552915, 0.04935128935606204, 0.03821734373832801, 0.03905048776317698, 0.03655542752993382, 0.03841350533829491, 0.03346636743379926, 0.0397083954131182, 0.044144357611047534, 0.03837091981174691, 0.04970438516076114, 0.04188951685224387, 0.04326007151739803, 0.02996754908340442, 0.05880622969877813, 0.038426375902627465, 0.03347766291982651, 0.026342576026768233, 0.04596364264232587, 0.04250936225742873, 0.03267830568930677]}],\n",
       "                        {\"annotations\": [{\"arrowhead\": 5, \"ax\": 0, \"ay\": -40, \"showarrow\": true, \"text\": \"Epoch with the lowest validation loss\", \"x\": 40, \"xref\": \"x\", \"y\": 0.025073831347079283, \"yref\": \"y\"}], \"showlegend\": true, \"template\": {\"data\": {\"bar\": [{\"error_x\": {\"color\": \"rgb(36,36,36)\"}, \"error_y\": {\"color\": \"rgb(36,36,36)\"}, \"marker\": {\"line\": {\"color\": \"white\", \"width\": 0.5}}, \"type\": \"bar\"}], \"barpolar\": [{\"marker\": {\"line\": {\"color\": \"white\", \"width\": 0.5}}, \"type\": \"barpolar\"}], \"carpet\": [{\"aaxis\": {\"endlinecolor\": \"rgb(36,36,36)\", \"gridcolor\": \"white\", \"linecolor\": \"white\", \"minorgridcolor\": \"white\", \"startlinecolor\": \"rgb(36,36,36)\"}, \"baxis\": {\"endlinecolor\": \"rgb(36,36,36)\", \"gridcolor\": \"white\", \"linecolor\": \"white\", \"minorgridcolor\": \"white\", \"startlinecolor\": \"rgb(36,36,36)\"}, \"type\": \"carpet\"}], \"choropleth\": [{\"colorbar\": {\"outlinewidth\": 1, \"tickcolor\": \"rgb(36,36,36)\", \"ticks\": \"outside\"}, \"type\": \"choropleth\"}], \"contour\": [{\"colorbar\": {\"outlinewidth\": 1, \"tickcolor\": \"rgb(36,36,36)\", \"ticks\": \"outside\"}, \"colorscale\": [[0.0, \"#440154\"], [0.1111111111111111, \"#482878\"], [0.2222222222222222, \"#3e4989\"], [0.3333333333333333, \"#31688e\"], [0.4444444444444444, \"#26828e\"], [0.5555555555555556, \"#1f9e89\"], [0.6666666666666666, \"#35b779\"], [0.7777777777777778, \"#6ece58\"], [0.8888888888888888, \"#b5de2b\"], [1.0, \"#fde725\"]], \"type\": \"contour\"}], \"contourcarpet\": [{\"colorbar\": {\"outlinewidth\": 1, \"tickcolor\": \"rgb(36,36,36)\", \"ticks\": \"outside\"}, \"type\": \"contourcarpet\"}], \"heatmap\": [{\"colorbar\": {\"outlinewidth\": 1, \"tickcolor\": \"rgb(36,36,36)\", \"ticks\": \"outside\"}, \"colorscale\": [[0.0, \"#440154\"], [0.1111111111111111, \"#482878\"], [0.2222222222222222, \"#3e4989\"], [0.3333333333333333, \"#31688e\"], [0.4444444444444444, \"#26828e\"], [0.5555555555555556, \"#1f9e89\"], [0.6666666666666666, \"#35b779\"], [0.7777777777777778, \"#6ece58\"], [0.8888888888888888, \"#b5de2b\"], [1.0, \"#fde725\"]], \"type\": \"heatmap\"}], \"heatmapgl\": [{\"colorbar\": {\"outlinewidth\": 1, \"tickcolor\": \"rgb(36,36,36)\", \"ticks\": \"outside\"}, \"colorscale\": [[0.0, \"#440154\"], [0.1111111111111111, \"#482878\"], [0.2222222222222222, \"#3e4989\"], [0.3333333333333333, \"#31688e\"], [0.4444444444444444, \"#26828e\"], [0.5555555555555556, \"#1f9e89\"], [0.6666666666666666, \"#35b779\"], [0.7777777777777778, \"#6ece58\"], [0.8888888888888888, \"#b5de2b\"], [1.0, \"#fde725\"]], \"type\": \"heatmapgl\"}], \"histogram\": [{\"marker\": {\"line\": {\"color\": \"white\", \"width\": 0.6}}, \"type\": \"histogram\"}], \"histogram2d\": [{\"colorbar\": {\"outlinewidth\": 1, \"tickcolor\": \"rgb(36,36,36)\", \"ticks\": \"outside\"}, \"colorscale\": [[0.0, \"#440154\"], [0.1111111111111111, \"#482878\"], [0.2222222222222222, \"#3e4989\"], [0.3333333333333333, \"#31688e\"], [0.4444444444444444, \"#26828e\"], [0.5555555555555556, \"#1f9e89\"], [0.6666666666666666, \"#35b779\"], [0.7777777777777778, \"#6ece58\"], [0.8888888888888888, \"#b5de2b\"], [1.0, \"#fde725\"]], \"type\": \"histogram2d\"}], \"histogram2dcontour\": [{\"colorbar\": {\"outlinewidth\": 1, \"tickcolor\": \"rgb(36,36,36)\", \"ticks\": \"outside\"}, \"colorscale\": [[0.0, \"#440154\"], [0.1111111111111111, \"#482878\"], [0.2222222222222222, \"#3e4989\"], [0.3333333333333333, \"#31688e\"], [0.4444444444444444, \"#26828e\"], [0.5555555555555556, \"#1f9e89\"], [0.6666666666666666, \"#35b779\"], [0.7777777777777778, \"#6ece58\"], [0.8888888888888888, \"#b5de2b\"], [1.0, \"#fde725\"]], \"type\": \"histogram2dcontour\"}], \"mesh3d\": [{\"colorbar\": {\"outlinewidth\": 1, \"tickcolor\": \"rgb(36,36,36)\", \"ticks\": \"outside\"}, \"type\": \"mesh3d\"}], \"parcoords\": [{\"line\": {\"colorbar\": {\"outlinewidth\": 1, \"tickcolor\": \"rgb(36,36,36)\", \"ticks\": \"outside\"}}, \"type\": \"parcoords\"}], \"pie\": [{\"automargin\": true, \"type\": \"pie\"}], \"scatter\": [{\"marker\": {\"colorbar\": {\"outlinewidth\": 1, \"tickcolor\": \"rgb(36,36,36)\", \"ticks\": \"outside\"}}, \"type\": \"scatter\"}], \"scatter3d\": [{\"line\": {\"colorbar\": {\"outlinewidth\": 1, \"tickcolor\": \"rgb(36,36,36)\", \"ticks\": \"outside\"}}, \"marker\": {\"colorbar\": {\"outlinewidth\": 1, \"tickcolor\": \"rgb(36,36,36)\", \"ticks\": \"outside\"}}, \"type\": \"scatter3d\"}], \"scattercarpet\": [{\"marker\": {\"colorbar\": {\"outlinewidth\": 1, \"tickcolor\": \"rgb(36,36,36)\", \"ticks\": \"outside\"}}, \"type\": \"scattercarpet\"}], \"scattergeo\": [{\"marker\": {\"colorbar\": {\"outlinewidth\": 1, \"tickcolor\": \"rgb(36,36,36)\", \"ticks\": \"outside\"}}, \"type\": \"scattergeo\"}], \"scattergl\": [{\"marker\": {\"colorbar\": {\"outlinewidth\": 1, \"tickcolor\": \"rgb(36,36,36)\", \"ticks\": \"outside\"}}, \"type\": \"scattergl\"}], \"scattermapbox\": [{\"marker\": {\"colorbar\": {\"outlinewidth\": 1, \"tickcolor\": \"rgb(36,36,36)\", \"ticks\": \"outside\"}}, \"type\": \"scattermapbox\"}], \"scatterpolar\": [{\"marker\": {\"colorbar\": {\"outlinewidth\": 1, \"tickcolor\": \"rgb(36,36,36)\", \"ticks\": \"outside\"}}, \"type\": \"scatterpolar\"}], \"scatterpolargl\": [{\"marker\": {\"colorbar\": {\"outlinewidth\": 1, \"tickcolor\": \"rgb(36,36,36)\", \"ticks\": \"outside\"}}, \"type\": \"scatterpolargl\"}], \"scatterternary\": [{\"marker\": {\"colorbar\": {\"outlinewidth\": 1, \"tickcolor\": \"rgb(36,36,36)\", \"ticks\": \"outside\"}}, \"type\": \"scatterternary\"}], \"surface\": [{\"colorbar\": {\"outlinewidth\": 1, \"tickcolor\": \"rgb(36,36,36)\", \"ticks\": \"outside\"}, \"colorscale\": [[0.0, \"#440154\"], [0.1111111111111111, \"#482878\"], [0.2222222222222222, \"#3e4989\"], [0.3333333333333333, \"#31688e\"], [0.4444444444444444, \"#26828e\"], [0.5555555555555556, \"#1f9e89\"], [0.6666666666666666, \"#35b779\"], [0.7777777777777778, \"#6ece58\"], [0.8888888888888888, \"#b5de2b\"], [1.0, \"#fde725\"]], \"type\": \"surface\"}], \"table\": [{\"cells\": {\"fill\": {\"color\": \"rgb(237,237,237)\"}, \"line\": {\"color\": \"white\"}}, \"header\": {\"fill\": {\"color\": \"rgb(217,217,217)\"}, \"line\": {\"color\": \"white\"}}, \"type\": \"table\"}]}, \"layout\": {\"annotationdefaults\": {\"arrowhead\": 0, \"arrowwidth\": 1}, \"coloraxis\": {\"colorbar\": {\"outlinewidth\": 1, \"tickcolor\": \"rgb(36,36,36)\", \"ticks\": \"outside\"}}, \"colorscale\": {\"diverging\": [[0.0, \"rgb(103,0,31)\"], [0.1, \"rgb(178,24,43)\"], [0.2, \"rgb(214,96,77)\"], [0.3, \"rgb(244,165,130)\"], [0.4, \"rgb(253,219,199)\"], [0.5, \"rgb(247,247,247)\"], [0.6, \"rgb(209,229,240)\"], [0.7, \"rgb(146,197,222)\"], [0.8, \"rgb(67,147,195)\"], [0.9, \"rgb(33,102,172)\"], [1.0, \"rgb(5,48,97)\"]], \"sequential\": [[0.0, \"#440154\"], [0.1111111111111111, \"#482878\"], [0.2222222222222222, \"#3e4989\"], [0.3333333333333333, \"#31688e\"], [0.4444444444444444, \"#26828e\"], [0.5555555555555556, \"#1f9e89\"], [0.6666666666666666, \"#35b779\"], [0.7777777777777778, \"#6ece58\"], [0.8888888888888888, \"#b5de2b\"], [1.0, \"#fde725\"]], \"sequentialminus\": [[0.0, \"#440154\"], [0.1111111111111111, \"#482878\"], [0.2222222222222222, \"#3e4989\"], [0.3333333333333333, \"#31688e\"], [0.4444444444444444, \"#26828e\"], [0.5555555555555556, \"#1f9e89\"], [0.6666666666666666, \"#35b779\"], [0.7777777777777778, \"#6ece58\"], [0.8888888888888888, \"#b5de2b\"], [1.0, \"#fde725\"]]}, \"colorway\": [\"#1F77B4\", \"#FF7F0E\", \"#2CA02C\", \"#D62728\", \"#9467BD\", \"#8C564B\", \"#E377C2\", \"#7F7F7F\", \"#BCBD22\", \"#17BECF\"], \"font\": {\"color\": \"rgb(36,36,36)\"}, \"geo\": {\"bgcolor\": \"white\", \"lakecolor\": \"white\", \"landcolor\": \"white\", \"showlakes\": true, \"showland\": true, \"subunitcolor\": \"white\"}, \"hoverlabel\": {\"align\": \"left\"}, \"hovermode\": \"closest\", \"mapbox\": {\"style\": \"light\"}, \"paper_bgcolor\": \"white\", \"plot_bgcolor\": \"white\", \"polar\": {\"angularaxis\": {\"gridcolor\": \"rgb(232,232,232)\", \"linecolor\": \"rgb(36,36,36)\", \"showgrid\": false, \"showline\": true, \"ticks\": \"outside\"}, \"bgcolor\": \"white\", \"radialaxis\": {\"gridcolor\": \"rgb(232,232,232)\", \"linecolor\": \"rgb(36,36,36)\", \"showgrid\": false, \"showline\": true, \"ticks\": \"outside\"}}, \"scene\": {\"xaxis\": {\"backgroundcolor\": \"white\", \"gridcolor\": \"rgb(232,232,232)\", \"gridwidth\": 2, \"linecolor\": \"rgb(36,36,36)\", \"showbackground\": true, \"showgrid\": false, \"showline\": true, \"ticks\": \"outside\", \"zeroline\": false, \"zerolinecolor\": \"rgb(36,36,36)\"}, \"yaxis\": {\"backgroundcolor\": \"white\", \"gridcolor\": \"rgb(232,232,232)\", \"gridwidth\": 2, \"linecolor\": \"rgb(36,36,36)\", \"showbackground\": true, \"showgrid\": false, \"showline\": true, \"ticks\": \"outside\", \"zeroline\": false, \"zerolinecolor\": \"rgb(36,36,36)\"}, \"zaxis\": {\"backgroundcolor\": \"white\", \"gridcolor\": \"rgb(232,232,232)\", \"gridwidth\": 2, \"linecolor\": \"rgb(36,36,36)\", \"showbackground\": true, \"showgrid\": false, \"showline\": true, \"ticks\": \"outside\", \"zeroline\": false, \"zerolinecolor\": \"rgb(36,36,36)\"}}, \"shapedefaults\": {\"fillcolor\": \"black\", \"line\": {\"width\": 0}, \"opacity\": 0.3}, \"ternary\": {\"aaxis\": {\"gridcolor\": \"rgb(232,232,232)\", \"linecolor\": \"rgb(36,36,36)\", \"showgrid\": false, \"showline\": true, \"ticks\": \"outside\"}, \"baxis\": {\"gridcolor\": \"rgb(232,232,232)\", \"linecolor\": \"rgb(36,36,36)\", \"showgrid\": false, \"showline\": true, \"ticks\": \"outside\"}, \"bgcolor\": \"white\", \"caxis\": {\"gridcolor\": \"rgb(232,232,232)\", \"linecolor\": \"rgb(36,36,36)\", \"showgrid\": false, \"showline\": true, \"ticks\": \"outside\"}}, \"title\": {\"x\": 0.05}, \"xaxis\": {\"automargin\": true, \"gridcolor\": \"rgb(232,232,232)\", \"linecolor\": \"rgb(36,36,36)\", \"showgrid\": false, \"showline\": true, \"ticks\": \"outside\", \"title\": {\"standoff\": 15}, \"zeroline\": false, \"zerolinecolor\": \"rgb(36,36,36)\"}, \"yaxis\": {\"automargin\": true, \"gridcolor\": \"rgb(232,232,232)\", \"linecolor\": \"rgb(36,36,36)\", \"showgrid\": false, \"showline\": true, \"ticks\": \"outside\", \"title\": {\"standoff\": 15}, \"zeroline\": false, \"zerolinecolor\": \"rgb(36,36,36)\"}}}, \"title\": {\"text\": \"Loss score on train & validation sets (model four)\"}, \"xaxis\": {\"title\": {\"text\": \"Number of epochs\"}}, \"yaxis\": {\"title\": {\"text\": \"Loss/epoch\"}}},\n",
       "                        {\"responsive\": true}\n",
       "                    ).then(function(){\n",
       "                            \n",
       "var gd = document.getElementById('7bfa8028-101c-4a90-834f-079921e2e9ec');\n",
       "var x = new MutationObserver(function (mutations, observer) {{\n",
       "        var display = window.getComputedStyle(gd).display;\n",
       "        if (!display || display === 'none') {{\n",
       "            console.log([gd, 'removed!']);\n",
       "            Plotly.purge(gd);\n",
       "            observer.disconnect();\n",
       "        }}\n",
       "}});\n",
       "\n",
       "// Listen for the removal of the full notebook cells\n",
       "var notebookContainer = gd.closest('#notebook-container');\n",
       "if (notebookContainer) {{\n",
       "    x.observe(notebookContainer, {childList: true});\n",
       "}}\n",
       "\n",
       "// Listen for the clearing of the current output cell\n",
       "var outputEl = gd.closest('.output');\n",
       "if (outputEl) {{\n",
       "    x.observe(outputEl, {childList: true});\n",
       "}}\n",
       "\n",
       "                        })\n",
       "                };\n",
       "                });\n",
       "            </script>\n",
       "        </div>"
      ]
     },
     "metadata": {},
     "output_type": "display_data"
    },
    {
     "data": {
      "application/vnd.plotly.v1+json": {
       "config": {
        "plotlyServerURL": "https://plot.ly"
       },
       "data": [
        {
         "line": {
          "color": "rgb(102, 194, 165)"
         },
         "mode": "lines+markers",
         "name": "Training Loss",
         "type": "scatter",
         "x": [
          1,
          2,
          3,
          4,
          5,
          6,
          7,
          8,
          9,
          10,
          11,
          12,
          13,
          14,
          15,
          16,
          17,
          18,
          19,
          20,
          21,
          22,
          23,
          24,
          25,
          26,
          27,
          28,
          29,
          30,
          31,
          32,
          33,
          34,
          35,
          36,
          37,
          38,
          39,
          40,
          41,
          42,
          43,
          44,
          45,
          46,
          47,
          48,
          49,
          50,
          51,
          52,
          53,
          54,
          55,
          56,
          57,
          58,
          59,
          60,
          61,
          62,
          63,
          64,
          65,
          66,
          67,
          68,
          69,
          70,
          71,
          72,
          73,
          74,
          75
         ],
         "y": [
          0.242696256117254,
          0.09486106578566011,
          0.05496021834256403,
          0.04913682456998551,
          0.04686784133038255,
          0.04569238427354664,
          0.052124963721772326,
          0.0461812671044933,
          0.04537511327322441,
          0.04466986421068184,
          0.04335971514883521,
          0.042372676872144466,
          0.04541013423666062,
          0.04512017129416593,
          0.038718224478638534,
          0.03823824341363106,
          0.03997297215965755,
          0.03652110815689456,
          0.03743499381602536,
          0.035615329271884724,
          0.03666536385512062,
          0.038142465642790814,
          0.034188731581278144,
          0.039358754901856675,
          0.0337598247361691,
          0.0341271188369662,
          0.03225900920813165,
          0.03244932973757386,
          0.03523219527293672,
          0.034834461408804675,
          0.0304865954456938,
          0.03131362452309151,
          0.03374329678127202,
          0.03294343205138308,
          0.032544212348277105,
          0.030260553560601394,
          0.031024697847535487,
          0.03449942785330483,
          0.02756826079890256,
          0.03222044259615121,
          0.03242676156757353,
          0.031071822517780495,
          0.029939761961178472,
          0.03158548592635598,
          0.029985095313073043,
          0.028766149063365627,
          0.028505630020832572,
          0.030939396791404387,
          0.02985258775307993,
          0.028913424648039164,
          0.03218646417971531,
          0.026005504389491972,
          0.02611424105288431,
          0.03236976891878198,
          0.02470154967505072,
          0.027623470987147482,
          0.030913564912655046,
          0.027532097181213685,
          0.030523636649093668,
          0.028266272003777692,
          0.029943006014610085,
          0.02574944379357774,
          0.026150874198580844,
          0.030995415042719392,
          0.02807855986077804,
          0.02614903186646397,
          0.02629942918323997,
          0.029233825018965317,
          0.02665831588117989,
          0.02607698888197297,
          0.024655775837051343,
          0.026597006872418474,
          0.027960776847660122,
          0.02441249629406289,
          0.02584409488604895
         ]
        },
        {
         "line": {
          "color": "rgb(252, 141, 98)"
         },
         "marker": {
          "color": [
           "rgb(252, 141, 98)",
           "rgb(252, 141, 98)",
           "rgb(252, 141, 98)",
           "rgb(252, 141, 98)",
           "rgb(252, 141, 98)",
           "rgb(252, 141, 98)",
           "rgb(252, 141, 98)",
           "rgb(252, 141, 98)",
           "rgb(252, 141, 98)",
           "rgb(252, 141, 98)",
           "rgb(252, 141, 98)",
           "rgb(252, 141, 98)",
           "rgb(252, 141, 98)",
           "rgb(252, 141, 98)",
           "rgb(252, 141, 98)",
           "rgb(252, 141, 98)",
           "rgb(252, 141, 98)",
           "rgb(252, 141, 98)",
           "rgb(252, 141, 98)",
           "rgb(252, 141, 98)",
           "rgb(252, 141, 98)",
           "rgb(252, 141, 98)",
           "rgb(252, 141, 98)",
           "rgb(252, 141, 98)",
           "black",
           "rgb(252, 141, 98)",
           "rgb(252, 141, 98)",
           "rgb(252, 141, 98)",
           "rgb(252, 141, 98)",
           "rgb(252, 141, 98)",
           "rgb(252, 141, 98)",
           "rgb(252, 141, 98)",
           "rgb(252, 141, 98)",
           "rgb(252, 141, 98)",
           "rgb(252, 141, 98)",
           "rgb(252, 141, 98)",
           "rgb(252, 141, 98)",
           "rgb(252, 141, 98)",
           "rgb(252, 141, 98)",
           "rgb(252, 141, 98)",
           "rgb(252, 141, 98)",
           "rgb(252, 141, 98)",
           "rgb(252, 141, 98)",
           "rgb(252, 141, 98)",
           "rgb(252, 141, 98)",
           "rgb(252, 141, 98)",
           "rgb(252, 141, 98)",
           "rgb(252, 141, 98)",
           "rgb(252, 141, 98)",
           "rgb(252, 141, 98)",
           "rgb(252, 141, 98)",
           "rgb(252, 141, 98)",
           "rgb(252, 141, 98)",
           "rgb(252, 141, 98)",
           "rgb(252, 141, 98)",
           "rgb(252, 141, 98)",
           "rgb(252, 141, 98)",
           "rgb(252, 141, 98)",
           "rgb(252, 141, 98)",
           "rgb(252, 141, 98)",
           "rgb(252, 141, 98)",
           "rgb(252, 141, 98)",
           "rgb(252, 141, 98)",
           "rgb(252, 141, 98)",
           "rgb(252, 141, 98)",
           "rgb(252, 141, 98)",
           "rgb(252, 141, 98)",
           "rgb(252, 141, 98)",
           "rgb(252, 141, 98)",
           "rgb(252, 141, 98)",
           "rgb(252, 141, 98)",
           "rgb(252, 141, 98)",
           "rgb(252, 141, 98)",
           "rgb(252, 141, 98)",
           "rgb(252, 141, 98)"
          ]
         },
         "mode": "lines+markers",
         "name": "Validation Loss",
         "type": "scatter",
         "x": [
          1,
          2,
          3,
          4,
          5,
          6,
          7,
          8,
          9,
          10,
          11,
          12,
          13,
          14,
          15,
          16,
          17,
          18,
          19,
          20,
          21,
          22,
          23,
          24,
          25,
          26,
          27,
          28,
          29,
          30,
          31,
          32,
          33,
          34,
          35,
          36,
          37,
          38,
          39,
          40,
          41,
          42,
          43,
          44,
          45,
          46,
          47,
          48,
          49,
          50,
          51,
          52,
          53,
          54,
          55,
          56,
          57,
          58,
          59,
          60,
          61,
          62,
          63,
          64,
          65,
          66,
          67,
          68,
          69,
          70,
          71,
          72,
          73,
          74,
          75
         ],
         "y": [
          0.12556455502485436,
          0.06436888006291139,
          0.048403364235169576,
          0.06399595217085688,
          0.04370482710189761,
          0.04598171511620553,
          0.04154567255389403,
          0.042928593413100465,
          0.050019359338464506,
          0.05004310192848471,
          0.04640693611144974,
          0.04190649509540184,
          0.069822239169989,
          0.039278186625790454,
          0.05274127641226324,
          0.04732456816152918,
          0.0483267753223312,
          0.04665093891686635,
          0.046440723271702365,
          0.05181044558832301,
          0.04646794138126249,
          0.04443271032822407,
          0.0408445960978819,
          0.05671659314897781,
          0.033074598837824924,
          0.042586482545219066,
          0.04172022343879452,
          0.041244957508146954,
          0.04080196566302826,
          0.04066830027065786,
          0.04190654821322271,
          0.036064860456728756,
          0.04709598743017572,
          0.03934098153713331,
          0.050469278868196084,
          0.05250645246884701,
          0.03510525379824629,
          0.035338419837308545,
          0.050308971375793446,
          0.046450888301541815,
          0.04667335402043229,
          0.04704379576142763,
          0.045129130668923906,
          0.05814940539500074,
          0.034878908607945756,
          0.03856667095733732,
          0.041783939277636094,
          0.040424995670849034,
          0.040123555826842745,
          0.04894814125234519,
          0.03637602853731684,
          0.038137753764605827,
          0.03767528773182919,
          0.0464990380326922,
          0.04403932996750988,
          0.04650823441386938,
          0.05778063284543297,
          0.048216317989058545,
          0.03610236072868379,
          0.04920086601639998,
          0.041405250453906396,
          0.03890235159493387,
          0.05064399044479334,
          0.05471483463572823,
          0.043853304121609565,
          0.04137717429056644,
          0.04130917901130701,
          0.05582885399588153,
          0.039156943241245724,
          0.044027533737170575,
          0.04227983069265508,
          0.040570937365574836,
          0.04134685526770556,
          0.04116724752101656,
          0.04074936680279987
         ]
        }
       ],
       "layout": {
        "annotations": [
         {
          "arrowhead": 5,
          "ax": 0,
          "ay": -65,
          "showarrow": true,
          "text": "Epoch with the lowest validation loss",
          "x": 25,
          "xref": "x",
          "y": 0.033074598837824924,
          "yref": "y"
         }
        ],
        "showlegend": true,
        "template": {
         "data": {
          "bar": [
           {
            "error_x": {
             "color": "rgb(36,36,36)"
            },
            "error_y": {
             "color": "rgb(36,36,36)"
            },
            "marker": {
             "line": {
              "color": "white",
              "width": 0.5
             }
            },
            "type": "bar"
           }
          ],
          "barpolar": [
           {
            "marker": {
             "line": {
              "color": "white",
              "width": 0.5
             }
            },
            "type": "barpolar"
           }
          ],
          "carpet": [
           {
            "aaxis": {
             "endlinecolor": "rgb(36,36,36)",
             "gridcolor": "white",
             "linecolor": "white",
             "minorgridcolor": "white",
             "startlinecolor": "rgb(36,36,36)"
            },
            "baxis": {
             "endlinecolor": "rgb(36,36,36)",
             "gridcolor": "white",
             "linecolor": "white",
             "minorgridcolor": "white",
             "startlinecolor": "rgb(36,36,36)"
            },
            "type": "carpet"
           }
          ],
          "choropleth": [
           {
            "colorbar": {
             "outlinewidth": 1,
             "tickcolor": "rgb(36,36,36)",
             "ticks": "outside"
            },
            "type": "choropleth"
           }
          ],
          "contour": [
           {
            "colorbar": {
             "outlinewidth": 1,
             "tickcolor": "rgb(36,36,36)",
             "ticks": "outside"
            },
            "colorscale": [
             [
              0,
              "#440154"
             ],
             [
              0.1111111111111111,
              "#482878"
             ],
             [
              0.2222222222222222,
              "#3e4989"
             ],
             [
              0.3333333333333333,
              "#31688e"
             ],
             [
              0.4444444444444444,
              "#26828e"
             ],
             [
              0.5555555555555556,
              "#1f9e89"
             ],
             [
              0.6666666666666666,
              "#35b779"
             ],
             [
              0.7777777777777778,
              "#6ece58"
             ],
             [
              0.8888888888888888,
              "#b5de2b"
             ],
             [
              1,
              "#fde725"
             ]
            ],
            "type": "contour"
           }
          ],
          "contourcarpet": [
           {
            "colorbar": {
             "outlinewidth": 1,
             "tickcolor": "rgb(36,36,36)",
             "ticks": "outside"
            },
            "type": "contourcarpet"
           }
          ],
          "heatmap": [
           {
            "colorbar": {
             "outlinewidth": 1,
             "tickcolor": "rgb(36,36,36)",
             "ticks": "outside"
            },
            "colorscale": [
             [
              0,
              "#440154"
             ],
             [
              0.1111111111111111,
              "#482878"
             ],
             [
              0.2222222222222222,
              "#3e4989"
             ],
             [
              0.3333333333333333,
              "#31688e"
             ],
             [
              0.4444444444444444,
              "#26828e"
             ],
             [
              0.5555555555555556,
              "#1f9e89"
             ],
             [
              0.6666666666666666,
              "#35b779"
             ],
             [
              0.7777777777777778,
              "#6ece58"
             ],
             [
              0.8888888888888888,
              "#b5de2b"
             ],
             [
              1,
              "#fde725"
             ]
            ],
            "type": "heatmap"
           }
          ],
          "heatmapgl": [
           {
            "colorbar": {
             "outlinewidth": 1,
             "tickcolor": "rgb(36,36,36)",
             "ticks": "outside"
            },
            "colorscale": [
             [
              0,
              "#440154"
             ],
             [
              0.1111111111111111,
              "#482878"
             ],
             [
              0.2222222222222222,
              "#3e4989"
             ],
             [
              0.3333333333333333,
              "#31688e"
             ],
             [
              0.4444444444444444,
              "#26828e"
             ],
             [
              0.5555555555555556,
              "#1f9e89"
             ],
             [
              0.6666666666666666,
              "#35b779"
             ],
             [
              0.7777777777777778,
              "#6ece58"
             ],
             [
              0.8888888888888888,
              "#b5de2b"
             ],
             [
              1,
              "#fde725"
             ]
            ],
            "type": "heatmapgl"
           }
          ],
          "histogram": [
           {
            "marker": {
             "line": {
              "color": "white",
              "width": 0.6
             }
            },
            "type": "histogram"
           }
          ],
          "histogram2d": [
           {
            "colorbar": {
             "outlinewidth": 1,
             "tickcolor": "rgb(36,36,36)",
             "ticks": "outside"
            },
            "colorscale": [
             [
              0,
              "#440154"
             ],
             [
              0.1111111111111111,
              "#482878"
             ],
             [
              0.2222222222222222,
              "#3e4989"
             ],
             [
              0.3333333333333333,
              "#31688e"
             ],
             [
              0.4444444444444444,
              "#26828e"
             ],
             [
              0.5555555555555556,
              "#1f9e89"
             ],
             [
              0.6666666666666666,
              "#35b779"
             ],
             [
              0.7777777777777778,
              "#6ece58"
             ],
             [
              0.8888888888888888,
              "#b5de2b"
             ],
             [
              1,
              "#fde725"
             ]
            ],
            "type": "histogram2d"
           }
          ],
          "histogram2dcontour": [
           {
            "colorbar": {
             "outlinewidth": 1,
             "tickcolor": "rgb(36,36,36)",
             "ticks": "outside"
            },
            "colorscale": [
             [
              0,
              "#440154"
             ],
             [
              0.1111111111111111,
              "#482878"
             ],
             [
              0.2222222222222222,
              "#3e4989"
             ],
             [
              0.3333333333333333,
              "#31688e"
             ],
             [
              0.4444444444444444,
              "#26828e"
             ],
             [
              0.5555555555555556,
              "#1f9e89"
             ],
             [
              0.6666666666666666,
              "#35b779"
             ],
             [
              0.7777777777777778,
              "#6ece58"
             ],
             [
              0.8888888888888888,
              "#b5de2b"
             ],
             [
              1,
              "#fde725"
             ]
            ],
            "type": "histogram2dcontour"
           }
          ],
          "mesh3d": [
           {
            "colorbar": {
             "outlinewidth": 1,
             "tickcolor": "rgb(36,36,36)",
             "ticks": "outside"
            },
            "type": "mesh3d"
           }
          ],
          "parcoords": [
           {
            "line": {
             "colorbar": {
              "outlinewidth": 1,
              "tickcolor": "rgb(36,36,36)",
              "ticks": "outside"
             }
            },
            "type": "parcoords"
           }
          ],
          "pie": [
           {
            "automargin": true,
            "type": "pie"
           }
          ],
          "scatter": [
           {
            "marker": {
             "colorbar": {
              "outlinewidth": 1,
              "tickcolor": "rgb(36,36,36)",
              "ticks": "outside"
             }
            },
            "type": "scatter"
           }
          ],
          "scatter3d": [
           {
            "line": {
             "colorbar": {
              "outlinewidth": 1,
              "tickcolor": "rgb(36,36,36)",
              "ticks": "outside"
             }
            },
            "marker": {
             "colorbar": {
              "outlinewidth": 1,
              "tickcolor": "rgb(36,36,36)",
              "ticks": "outside"
             }
            },
            "type": "scatter3d"
           }
          ],
          "scattercarpet": [
           {
            "marker": {
             "colorbar": {
              "outlinewidth": 1,
              "tickcolor": "rgb(36,36,36)",
              "ticks": "outside"
             }
            },
            "type": "scattercarpet"
           }
          ],
          "scattergeo": [
           {
            "marker": {
             "colorbar": {
              "outlinewidth": 1,
              "tickcolor": "rgb(36,36,36)",
              "ticks": "outside"
             }
            },
            "type": "scattergeo"
           }
          ],
          "scattergl": [
           {
            "marker": {
             "colorbar": {
              "outlinewidth": 1,
              "tickcolor": "rgb(36,36,36)",
              "ticks": "outside"
             }
            },
            "type": "scattergl"
           }
          ],
          "scattermapbox": [
           {
            "marker": {
             "colorbar": {
              "outlinewidth": 1,
              "tickcolor": "rgb(36,36,36)",
              "ticks": "outside"
             }
            },
            "type": "scattermapbox"
           }
          ],
          "scatterpolar": [
           {
            "marker": {
             "colorbar": {
              "outlinewidth": 1,
              "tickcolor": "rgb(36,36,36)",
              "ticks": "outside"
             }
            },
            "type": "scatterpolar"
           }
          ],
          "scatterpolargl": [
           {
            "marker": {
             "colorbar": {
              "outlinewidth": 1,
              "tickcolor": "rgb(36,36,36)",
              "ticks": "outside"
             }
            },
            "type": "scatterpolargl"
           }
          ],
          "scatterternary": [
           {
            "marker": {
             "colorbar": {
              "outlinewidth": 1,
              "tickcolor": "rgb(36,36,36)",
              "ticks": "outside"
             }
            },
            "type": "scatterternary"
           }
          ],
          "surface": [
           {
            "colorbar": {
             "outlinewidth": 1,
             "tickcolor": "rgb(36,36,36)",
             "ticks": "outside"
            },
            "colorscale": [
             [
              0,
              "#440154"
             ],
             [
              0.1111111111111111,
              "#482878"
             ],
             [
              0.2222222222222222,
              "#3e4989"
             ],
             [
              0.3333333333333333,
              "#31688e"
             ],
             [
              0.4444444444444444,
              "#26828e"
             ],
             [
              0.5555555555555556,
              "#1f9e89"
             ],
             [
              0.6666666666666666,
              "#35b779"
             ],
             [
              0.7777777777777778,
              "#6ece58"
             ],
             [
              0.8888888888888888,
              "#b5de2b"
             ],
             [
              1,
              "#fde725"
             ]
            ],
            "type": "surface"
           }
          ],
          "table": [
           {
            "cells": {
             "fill": {
              "color": "rgb(237,237,237)"
             },
             "line": {
              "color": "white"
             }
            },
            "header": {
             "fill": {
              "color": "rgb(217,217,217)"
             },
             "line": {
              "color": "white"
             }
            },
            "type": "table"
           }
          ]
         },
         "layout": {
          "annotationdefaults": {
           "arrowhead": 0,
           "arrowwidth": 1
          },
          "coloraxis": {
           "colorbar": {
            "outlinewidth": 1,
            "tickcolor": "rgb(36,36,36)",
            "ticks": "outside"
           }
          },
          "colorscale": {
           "diverging": [
            [
             0,
             "rgb(103,0,31)"
            ],
            [
             0.1,
             "rgb(178,24,43)"
            ],
            [
             0.2,
             "rgb(214,96,77)"
            ],
            [
             0.3,
             "rgb(244,165,130)"
            ],
            [
             0.4,
             "rgb(253,219,199)"
            ],
            [
             0.5,
             "rgb(247,247,247)"
            ],
            [
             0.6,
             "rgb(209,229,240)"
            ],
            [
             0.7,
             "rgb(146,197,222)"
            ],
            [
             0.8,
             "rgb(67,147,195)"
            ],
            [
             0.9,
             "rgb(33,102,172)"
            ],
            [
             1,
             "rgb(5,48,97)"
            ]
           ],
           "sequential": [
            [
             0,
             "#440154"
            ],
            [
             0.1111111111111111,
             "#482878"
            ],
            [
             0.2222222222222222,
             "#3e4989"
            ],
            [
             0.3333333333333333,
             "#31688e"
            ],
            [
             0.4444444444444444,
             "#26828e"
            ],
            [
             0.5555555555555556,
             "#1f9e89"
            ],
            [
             0.6666666666666666,
             "#35b779"
            ],
            [
             0.7777777777777778,
             "#6ece58"
            ],
            [
             0.8888888888888888,
             "#b5de2b"
            ],
            [
             1,
             "#fde725"
            ]
           ],
           "sequentialminus": [
            [
             0,
             "#440154"
            ],
            [
             0.1111111111111111,
             "#482878"
            ],
            [
             0.2222222222222222,
             "#3e4989"
            ],
            [
             0.3333333333333333,
             "#31688e"
            ],
            [
             0.4444444444444444,
             "#26828e"
            ],
            [
             0.5555555555555556,
             "#1f9e89"
            ],
            [
             0.6666666666666666,
             "#35b779"
            ],
            [
             0.7777777777777778,
             "#6ece58"
            ],
            [
             0.8888888888888888,
             "#b5de2b"
            ],
            [
             1,
             "#fde725"
            ]
           ]
          },
          "colorway": [
           "#1F77B4",
           "#FF7F0E",
           "#2CA02C",
           "#D62728",
           "#9467BD",
           "#8C564B",
           "#E377C2",
           "#7F7F7F",
           "#BCBD22",
           "#17BECF"
          ],
          "font": {
           "color": "rgb(36,36,36)"
          },
          "geo": {
           "bgcolor": "white",
           "lakecolor": "white",
           "landcolor": "white",
           "showlakes": true,
           "showland": true,
           "subunitcolor": "white"
          },
          "hoverlabel": {
           "align": "left"
          },
          "hovermode": "closest",
          "mapbox": {
           "style": "light"
          },
          "paper_bgcolor": "white",
          "plot_bgcolor": "white",
          "polar": {
           "angularaxis": {
            "gridcolor": "rgb(232,232,232)",
            "linecolor": "rgb(36,36,36)",
            "showgrid": false,
            "showline": true,
            "ticks": "outside"
           },
           "bgcolor": "white",
           "radialaxis": {
            "gridcolor": "rgb(232,232,232)",
            "linecolor": "rgb(36,36,36)",
            "showgrid": false,
            "showline": true,
            "ticks": "outside"
           }
          },
          "scene": {
           "xaxis": {
            "backgroundcolor": "white",
            "gridcolor": "rgb(232,232,232)",
            "gridwidth": 2,
            "linecolor": "rgb(36,36,36)",
            "showbackground": true,
            "showgrid": false,
            "showline": true,
            "ticks": "outside",
            "zeroline": false,
            "zerolinecolor": "rgb(36,36,36)"
           },
           "yaxis": {
            "backgroundcolor": "white",
            "gridcolor": "rgb(232,232,232)",
            "gridwidth": 2,
            "linecolor": "rgb(36,36,36)",
            "showbackground": true,
            "showgrid": false,
            "showline": true,
            "ticks": "outside",
            "zeroline": false,
            "zerolinecolor": "rgb(36,36,36)"
           },
           "zaxis": {
            "backgroundcolor": "white",
            "gridcolor": "rgb(232,232,232)",
            "gridwidth": 2,
            "linecolor": "rgb(36,36,36)",
            "showbackground": true,
            "showgrid": false,
            "showline": true,
            "ticks": "outside",
            "zeroline": false,
            "zerolinecolor": "rgb(36,36,36)"
           }
          },
          "shapedefaults": {
           "fillcolor": "black",
           "line": {
            "width": 0
           },
           "opacity": 0.3
          },
          "ternary": {
           "aaxis": {
            "gridcolor": "rgb(232,232,232)",
            "linecolor": "rgb(36,36,36)",
            "showgrid": false,
            "showline": true,
            "ticks": "outside"
           },
           "baxis": {
            "gridcolor": "rgb(232,232,232)",
            "linecolor": "rgb(36,36,36)",
            "showgrid": false,
            "showline": true,
            "ticks": "outside"
           },
           "bgcolor": "white",
           "caxis": {
            "gridcolor": "rgb(232,232,232)",
            "linecolor": "rgb(36,36,36)",
            "showgrid": false,
            "showline": true,
            "ticks": "outside"
           }
          },
          "title": {
           "x": 0.05
          },
          "xaxis": {
           "automargin": true,
           "gridcolor": "rgb(232,232,232)",
           "linecolor": "rgb(36,36,36)",
           "showgrid": false,
           "showline": true,
           "ticks": "outside",
           "title": {
            "standoff": 15
           },
           "zeroline": false,
           "zerolinecolor": "rgb(36,36,36)"
          },
          "yaxis": {
           "automargin": true,
           "gridcolor": "rgb(232,232,232)",
           "linecolor": "rgb(36,36,36)",
           "showgrid": false,
           "showline": true,
           "ticks": "outside",
           "title": {
            "standoff": 15
           },
           "zeroline": false,
           "zerolinecolor": "rgb(36,36,36)"
          }
         }
        },
        "title": {
         "text": "Loss score on train & validation sets (model four)"
        },
        "xaxis": {
         "title": {
          "text": "Number of epochs"
         }
        },
        "yaxis": {
         "title": {
          "text": "Loss/epoch"
         }
        }
       }
      },
      "text/html": [
       "<div>\n",
       "        \n",
       "        \n",
       "            <div id=\"dca9397f-1ac9-4edf-bf74-07efc5d7be7e\" class=\"plotly-graph-div\" style=\"height:525px; width:100%;\"></div>\n",
       "            <script type=\"text/javascript\">\n",
       "                require([\"plotly\"], function(Plotly) {\n",
       "                    window.PLOTLYENV=window.PLOTLYENV || {};\n",
       "                    \n",
       "                if (document.getElementById(\"dca9397f-1ac9-4edf-bf74-07efc5d7be7e\")) {\n",
       "                    Plotly.newPlot(\n",
       "                        'dca9397f-1ac9-4edf-bf74-07efc5d7be7e',\n",
       "                        [{\"line\": {\"color\": \"rgb(102, 194, 165)\"}, \"mode\": \"lines+markers\", \"name\": \"Training Loss\", \"type\": \"scatter\", \"x\": [1, 2, 3, 4, 5, 6, 7, 8, 9, 10, 11, 12, 13, 14, 15, 16, 17, 18, 19, 20, 21, 22, 23, 24, 25, 26, 27, 28, 29, 30, 31, 32, 33, 34, 35, 36, 37, 38, 39, 40, 41, 42, 43, 44, 45, 46, 47, 48, 49, 50, 51, 52, 53, 54, 55, 56, 57, 58, 59, 60, 61, 62, 63, 64, 65, 66, 67, 68, 69, 70, 71, 72, 73, 74, 75], \"y\": [0.242696256117254, 0.09486106578566011, 0.05496021834256403, 0.04913682456998551, 0.04686784133038255, 0.04569238427354664, 0.052124963721772326, 0.0461812671044933, 0.04537511327322441, 0.04466986421068184, 0.04335971514883521, 0.042372676872144466, 0.04541013423666062, 0.04512017129416593, 0.038718224478638534, 0.03823824341363106, 0.03997297215965755, 0.03652110815689456, 0.03743499381602536, 0.035615329271884724, 0.03666536385512062, 0.038142465642790814, 0.034188731581278144, 0.039358754901856675, 0.0337598247361691, 0.0341271188369662, 0.03225900920813165, 0.03244932973757386, 0.03523219527293672, 0.034834461408804675, 0.0304865954456938, 0.03131362452309151, 0.03374329678127202, 0.03294343205138308, 0.032544212348277105, 0.030260553560601394, 0.031024697847535487, 0.03449942785330483, 0.02756826079890256, 0.03222044259615121, 0.03242676156757353, 0.031071822517780495, 0.029939761961178472, 0.03158548592635598, 0.029985095313073043, 0.028766149063365627, 0.028505630020832572, 0.030939396791404387, 0.02985258775307993, 0.028913424648039164, 0.03218646417971531, 0.026005504389491972, 0.02611424105288431, 0.03236976891878198, 0.02470154967505072, 0.027623470987147482, 0.030913564912655046, 0.027532097181213685, 0.030523636649093668, 0.028266272003777692, 0.029943006014610085, 0.02574944379357774, 0.026150874198580844, 0.030995415042719392, 0.02807855986077804, 0.02614903186646397, 0.02629942918323997, 0.029233825018965317, 0.02665831588117989, 0.02607698888197297, 0.024655775837051343, 0.026597006872418474, 0.027960776847660122, 0.02441249629406289, 0.02584409488604895]}, {\"line\": {\"color\": \"rgb(252, 141, 98)\"}, \"marker\": {\"color\": [\"rgb(252, 141, 98)\", \"rgb(252, 141, 98)\", \"rgb(252, 141, 98)\", \"rgb(252, 141, 98)\", \"rgb(252, 141, 98)\", \"rgb(252, 141, 98)\", \"rgb(252, 141, 98)\", \"rgb(252, 141, 98)\", \"rgb(252, 141, 98)\", \"rgb(252, 141, 98)\", \"rgb(252, 141, 98)\", \"rgb(252, 141, 98)\", \"rgb(252, 141, 98)\", \"rgb(252, 141, 98)\", \"rgb(252, 141, 98)\", \"rgb(252, 141, 98)\", \"rgb(252, 141, 98)\", \"rgb(252, 141, 98)\", \"rgb(252, 141, 98)\", \"rgb(252, 141, 98)\", \"rgb(252, 141, 98)\", \"rgb(252, 141, 98)\", \"rgb(252, 141, 98)\", \"rgb(252, 141, 98)\", \"black\", \"rgb(252, 141, 98)\", \"rgb(252, 141, 98)\", \"rgb(252, 141, 98)\", \"rgb(252, 141, 98)\", \"rgb(252, 141, 98)\", \"rgb(252, 141, 98)\", \"rgb(252, 141, 98)\", \"rgb(252, 141, 98)\", \"rgb(252, 141, 98)\", \"rgb(252, 141, 98)\", \"rgb(252, 141, 98)\", \"rgb(252, 141, 98)\", \"rgb(252, 141, 98)\", \"rgb(252, 141, 98)\", \"rgb(252, 141, 98)\", \"rgb(252, 141, 98)\", \"rgb(252, 141, 98)\", \"rgb(252, 141, 98)\", \"rgb(252, 141, 98)\", \"rgb(252, 141, 98)\", \"rgb(252, 141, 98)\", \"rgb(252, 141, 98)\", \"rgb(252, 141, 98)\", \"rgb(252, 141, 98)\", \"rgb(252, 141, 98)\", \"rgb(252, 141, 98)\", \"rgb(252, 141, 98)\", \"rgb(252, 141, 98)\", \"rgb(252, 141, 98)\", \"rgb(252, 141, 98)\", \"rgb(252, 141, 98)\", \"rgb(252, 141, 98)\", \"rgb(252, 141, 98)\", \"rgb(252, 141, 98)\", \"rgb(252, 141, 98)\", \"rgb(252, 141, 98)\", \"rgb(252, 141, 98)\", \"rgb(252, 141, 98)\", \"rgb(252, 141, 98)\", \"rgb(252, 141, 98)\", \"rgb(252, 141, 98)\", \"rgb(252, 141, 98)\", \"rgb(252, 141, 98)\", \"rgb(252, 141, 98)\", \"rgb(252, 141, 98)\", \"rgb(252, 141, 98)\", \"rgb(252, 141, 98)\", \"rgb(252, 141, 98)\", \"rgb(252, 141, 98)\", \"rgb(252, 141, 98)\"]}, \"mode\": \"lines+markers\", \"name\": \"Validation Loss\", \"type\": \"scatter\", \"x\": [1, 2, 3, 4, 5, 6, 7, 8, 9, 10, 11, 12, 13, 14, 15, 16, 17, 18, 19, 20, 21, 22, 23, 24, 25, 26, 27, 28, 29, 30, 31, 32, 33, 34, 35, 36, 37, 38, 39, 40, 41, 42, 43, 44, 45, 46, 47, 48, 49, 50, 51, 52, 53, 54, 55, 56, 57, 58, 59, 60, 61, 62, 63, 64, 65, 66, 67, 68, 69, 70, 71, 72, 73, 74, 75], \"y\": [0.12556455502485436, 0.06436888006291139, 0.048403364235169576, 0.06399595217085688, 0.04370482710189761, 0.04598171511620553, 0.04154567255389403, 0.042928593413100465, 0.050019359338464506, 0.05004310192848471, 0.04640693611144974, 0.04190649509540184, 0.069822239169989, 0.039278186625790454, 0.05274127641226324, 0.04732456816152918, 0.0483267753223312, 0.04665093891686635, 0.046440723271702365, 0.05181044558832301, 0.04646794138126249, 0.04443271032822407, 0.0408445960978819, 0.05671659314897781, 0.033074598837824924, 0.042586482545219066, 0.04172022343879452, 0.041244957508146954, 0.04080196566302826, 0.04066830027065786, 0.04190654821322271, 0.036064860456728756, 0.04709598743017572, 0.03934098153713331, 0.050469278868196084, 0.05250645246884701, 0.03510525379824629, 0.035338419837308545, 0.050308971375793446, 0.046450888301541815, 0.04667335402043229, 0.04704379576142763, 0.045129130668923906, 0.05814940539500074, 0.034878908607945756, 0.03856667095733732, 0.041783939277636094, 0.040424995670849034, 0.040123555826842745, 0.04894814125234519, 0.03637602853731684, 0.038137753764605827, 0.03767528773182919, 0.0464990380326922, 0.04403932996750988, 0.04650823441386938, 0.05778063284543297, 0.048216317989058545, 0.03610236072868379, 0.04920086601639998, 0.041405250453906396, 0.03890235159493387, 0.05064399044479334, 0.05471483463572823, 0.043853304121609565, 0.04137717429056644, 0.04130917901130701, 0.05582885399588153, 0.039156943241245724, 0.044027533737170575, 0.04227983069265508, 0.040570937365574836, 0.04134685526770556, 0.04116724752101656, 0.04074936680279987]}],\n",
       "                        {\"annotations\": [{\"arrowhead\": 5, \"ax\": 0, \"ay\": -65, \"showarrow\": true, \"text\": \"Epoch with the lowest validation loss\", \"x\": 25, \"xref\": \"x\", \"y\": 0.033074598837824924, \"yref\": \"y\"}], \"showlegend\": true, \"template\": {\"data\": {\"bar\": [{\"error_x\": {\"color\": \"rgb(36,36,36)\"}, \"error_y\": {\"color\": \"rgb(36,36,36)\"}, \"marker\": {\"line\": {\"color\": \"white\", \"width\": 0.5}}, \"type\": \"bar\"}], \"barpolar\": [{\"marker\": {\"line\": {\"color\": \"white\", \"width\": 0.5}}, \"type\": \"barpolar\"}], \"carpet\": [{\"aaxis\": {\"endlinecolor\": \"rgb(36,36,36)\", \"gridcolor\": \"white\", \"linecolor\": \"white\", \"minorgridcolor\": \"white\", \"startlinecolor\": \"rgb(36,36,36)\"}, \"baxis\": {\"endlinecolor\": \"rgb(36,36,36)\", \"gridcolor\": \"white\", \"linecolor\": \"white\", \"minorgridcolor\": \"white\", \"startlinecolor\": \"rgb(36,36,36)\"}, \"type\": \"carpet\"}], \"choropleth\": [{\"colorbar\": {\"outlinewidth\": 1, \"tickcolor\": \"rgb(36,36,36)\", \"ticks\": \"outside\"}, \"type\": \"choropleth\"}], \"contour\": [{\"colorbar\": {\"outlinewidth\": 1, \"tickcolor\": \"rgb(36,36,36)\", \"ticks\": \"outside\"}, \"colorscale\": [[0.0, \"#440154\"], [0.1111111111111111, \"#482878\"], [0.2222222222222222, \"#3e4989\"], [0.3333333333333333, \"#31688e\"], [0.4444444444444444, \"#26828e\"], [0.5555555555555556, \"#1f9e89\"], [0.6666666666666666, \"#35b779\"], [0.7777777777777778, \"#6ece58\"], [0.8888888888888888, \"#b5de2b\"], [1.0, \"#fde725\"]], \"type\": \"contour\"}], \"contourcarpet\": [{\"colorbar\": {\"outlinewidth\": 1, \"tickcolor\": \"rgb(36,36,36)\", \"ticks\": \"outside\"}, \"type\": \"contourcarpet\"}], \"heatmap\": [{\"colorbar\": {\"outlinewidth\": 1, \"tickcolor\": \"rgb(36,36,36)\", \"ticks\": \"outside\"}, \"colorscale\": [[0.0, \"#440154\"], [0.1111111111111111, \"#482878\"], [0.2222222222222222, \"#3e4989\"], [0.3333333333333333, \"#31688e\"], [0.4444444444444444, \"#26828e\"], [0.5555555555555556, \"#1f9e89\"], [0.6666666666666666, \"#35b779\"], [0.7777777777777778, \"#6ece58\"], [0.8888888888888888, \"#b5de2b\"], [1.0, \"#fde725\"]], \"type\": \"heatmap\"}], \"heatmapgl\": [{\"colorbar\": {\"outlinewidth\": 1, \"tickcolor\": \"rgb(36,36,36)\", \"ticks\": \"outside\"}, \"colorscale\": [[0.0, \"#440154\"], [0.1111111111111111, \"#482878\"], [0.2222222222222222, \"#3e4989\"], [0.3333333333333333, \"#31688e\"], [0.4444444444444444, \"#26828e\"], [0.5555555555555556, \"#1f9e89\"], [0.6666666666666666, \"#35b779\"], [0.7777777777777778, \"#6ece58\"], [0.8888888888888888, \"#b5de2b\"], [1.0, \"#fde725\"]], \"type\": \"heatmapgl\"}], \"histogram\": [{\"marker\": {\"line\": {\"color\": \"white\", \"width\": 0.6}}, \"type\": \"histogram\"}], \"histogram2d\": [{\"colorbar\": {\"outlinewidth\": 1, \"tickcolor\": \"rgb(36,36,36)\", \"ticks\": \"outside\"}, \"colorscale\": [[0.0, \"#440154\"], [0.1111111111111111, \"#482878\"], [0.2222222222222222, \"#3e4989\"], [0.3333333333333333, \"#31688e\"], [0.4444444444444444, \"#26828e\"], [0.5555555555555556, \"#1f9e89\"], [0.6666666666666666, \"#35b779\"], [0.7777777777777778, \"#6ece58\"], [0.8888888888888888, \"#b5de2b\"], [1.0, \"#fde725\"]], \"type\": \"histogram2d\"}], \"histogram2dcontour\": [{\"colorbar\": {\"outlinewidth\": 1, \"tickcolor\": \"rgb(36,36,36)\", \"ticks\": \"outside\"}, \"colorscale\": [[0.0, \"#440154\"], [0.1111111111111111, \"#482878\"], [0.2222222222222222, \"#3e4989\"], [0.3333333333333333, \"#31688e\"], [0.4444444444444444, \"#26828e\"], [0.5555555555555556, \"#1f9e89\"], [0.6666666666666666, \"#35b779\"], [0.7777777777777778, \"#6ece58\"], [0.8888888888888888, \"#b5de2b\"], [1.0, \"#fde725\"]], \"type\": \"histogram2dcontour\"}], \"mesh3d\": [{\"colorbar\": {\"outlinewidth\": 1, \"tickcolor\": \"rgb(36,36,36)\", \"ticks\": \"outside\"}, \"type\": \"mesh3d\"}], \"parcoords\": [{\"line\": {\"colorbar\": {\"outlinewidth\": 1, \"tickcolor\": \"rgb(36,36,36)\", \"ticks\": \"outside\"}}, \"type\": \"parcoords\"}], \"pie\": [{\"automargin\": true, \"type\": \"pie\"}], \"scatter\": [{\"marker\": {\"colorbar\": {\"outlinewidth\": 1, \"tickcolor\": \"rgb(36,36,36)\", \"ticks\": \"outside\"}}, \"type\": \"scatter\"}], \"scatter3d\": [{\"line\": {\"colorbar\": {\"outlinewidth\": 1, \"tickcolor\": \"rgb(36,36,36)\", \"ticks\": \"outside\"}}, \"marker\": {\"colorbar\": {\"outlinewidth\": 1, \"tickcolor\": \"rgb(36,36,36)\", \"ticks\": \"outside\"}}, \"type\": \"scatter3d\"}], \"scattercarpet\": [{\"marker\": {\"colorbar\": {\"outlinewidth\": 1, \"tickcolor\": \"rgb(36,36,36)\", \"ticks\": \"outside\"}}, \"type\": \"scattercarpet\"}], \"scattergeo\": [{\"marker\": {\"colorbar\": {\"outlinewidth\": 1, \"tickcolor\": \"rgb(36,36,36)\", \"ticks\": \"outside\"}}, \"type\": \"scattergeo\"}], \"scattergl\": [{\"marker\": {\"colorbar\": {\"outlinewidth\": 1, \"tickcolor\": \"rgb(36,36,36)\", \"ticks\": \"outside\"}}, \"type\": \"scattergl\"}], \"scattermapbox\": [{\"marker\": {\"colorbar\": {\"outlinewidth\": 1, \"tickcolor\": \"rgb(36,36,36)\", \"ticks\": \"outside\"}}, \"type\": \"scattermapbox\"}], \"scatterpolar\": [{\"marker\": {\"colorbar\": {\"outlinewidth\": 1, \"tickcolor\": \"rgb(36,36,36)\", \"ticks\": \"outside\"}}, \"type\": \"scatterpolar\"}], \"scatterpolargl\": [{\"marker\": {\"colorbar\": {\"outlinewidth\": 1, \"tickcolor\": \"rgb(36,36,36)\", \"ticks\": \"outside\"}}, \"type\": \"scatterpolargl\"}], \"scatterternary\": [{\"marker\": {\"colorbar\": {\"outlinewidth\": 1, \"tickcolor\": \"rgb(36,36,36)\", \"ticks\": \"outside\"}}, \"type\": \"scatterternary\"}], \"surface\": [{\"colorbar\": {\"outlinewidth\": 1, \"tickcolor\": \"rgb(36,36,36)\", \"ticks\": \"outside\"}, \"colorscale\": [[0.0, \"#440154\"], [0.1111111111111111, \"#482878\"], [0.2222222222222222, \"#3e4989\"], [0.3333333333333333, \"#31688e\"], [0.4444444444444444, \"#26828e\"], [0.5555555555555556, \"#1f9e89\"], [0.6666666666666666, \"#35b779\"], [0.7777777777777778, \"#6ece58\"], [0.8888888888888888, \"#b5de2b\"], [1.0, \"#fde725\"]], \"type\": \"surface\"}], \"table\": [{\"cells\": {\"fill\": {\"color\": \"rgb(237,237,237)\"}, \"line\": {\"color\": \"white\"}}, \"header\": {\"fill\": {\"color\": \"rgb(217,217,217)\"}, \"line\": {\"color\": \"white\"}}, \"type\": \"table\"}]}, \"layout\": {\"annotationdefaults\": {\"arrowhead\": 0, \"arrowwidth\": 1}, \"coloraxis\": {\"colorbar\": {\"outlinewidth\": 1, \"tickcolor\": \"rgb(36,36,36)\", \"ticks\": \"outside\"}}, \"colorscale\": {\"diverging\": [[0.0, \"rgb(103,0,31)\"], [0.1, \"rgb(178,24,43)\"], [0.2, \"rgb(214,96,77)\"], [0.3, \"rgb(244,165,130)\"], [0.4, \"rgb(253,219,199)\"], [0.5, \"rgb(247,247,247)\"], [0.6, \"rgb(209,229,240)\"], [0.7, \"rgb(146,197,222)\"], [0.8, \"rgb(67,147,195)\"], [0.9, \"rgb(33,102,172)\"], [1.0, \"rgb(5,48,97)\"]], \"sequential\": [[0.0, \"#440154\"], [0.1111111111111111, \"#482878\"], [0.2222222222222222, \"#3e4989\"], [0.3333333333333333, \"#31688e\"], [0.4444444444444444, \"#26828e\"], [0.5555555555555556, \"#1f9e89\"], [0.6666666666666666, \"#35b779\"], [0.7777777777777778, \"#6ece58\"], [0.8888888888888888, \"#b5de2b\"], [1.0, \"#fde725\"]], \"sequentialminus\": [[0.0, \"#440154\"], [0.1111111111111111, \"#482878\"], [0.2222222222222222, \"#3e4989\"], [0.3333333333333333, \"#31688e\"], [0.4444444444444444, \"#26828e\"], [0.5555555555555556, \"#1f9e89\"], [0.6666666666666666, \"#35b779\"], [0.7777777777777778, \"#6ece58\"], [0.8888888888888888, \"#b5de2b\"], [1.0, \"#fde725\"]]}, \"colorway\": [\"#1F77B4\", \"#FF7F0E\", \"#2CA02C\", \"#D62728\", \"#9467BD\", \"#8C564B\", \"#E377C2\", \"#7F7F7F\", \"#BCBD22\", \"#17BECF\"], \"font\": {\"color\": \"rgb(36,36,36)\"}, \"geo\": {\"bgcolor\": \"white\", \"lakecolor\": \"white\", \"landcolor\": \"white\", \"showlakes\": true, \"showland\": true, \"subunitcolor\": \"white\"}, \"hoverlabel\": {\"align\": \"left\"}, \"hovermode\": \"closest\", \"mapbox\": {\"style\": \"light\"}, \"paper_bgcolor\": \"white\", \"plot_bgcolor\": \"white\", \"polar\": {\"angularaxis\": {\"gridcolor\": \"rgb(232,232,232)\", \"linecolor\": \"rgb(36,36,36)\", \"showgrid\": false, \"showline\": true, \"ticks\": \"outside\"}, \"bgcolor\": \"white\", \"radialaxis\": {\"gridcolor\": \"rgb(232,232,232)\", \"linecolor\": \"rgb(36,36,36)\", \"showgrid\": false, \"showline\": true, \"ticks\": \"outside\"}}, \"scene\": {\"xaxis\": {\"backgroundcolor\": \"white\", \"gridcolor\": \"rgb(232,232,232)\", \"gridwidth\": 2, \"linecolor\": \"rgb(36,36,36)\", \"showbackground\": true, \"showgrid\": false, \"showline\": true, \"ticks\": \"outside\", \"zeroline\": false, \"zerolinecolor\": \"rgb(36,36,36)\"}, \"yaxis\": {\"backgroundcolor\": \"white\", \"gridcolor\": \"rgb(232,232,232)\", \"gridwidth\": 2, \"linecolor\": \"rgb(36,36,36)\", \"showbackground\": true, \"showgrid\": false, \"showline\": true, \"ticks\": \"outside\", \"zeroline\": false, \"zerolinecolor\": \"rgb(36,36,36)\"}, \"zaxis\": {\"backgroundcolor\": \"white\", \"gridcolor\": \"rgb(232,232,232)\", \"gridwidth\": 2, \"linecolor\": \"rgb(36,36,36)\", \"showbackground\": true, \"showgrid\": false, \"showline\": true, \"ticks\": \"outside\", \"zeroline\": false, \"zerolinecolor\": \"rgb(36,36,36)\"}}, \"shapedefaults\": {\"fillcolor\": \"black\", \"line\": {\"width\": 0}, \"opacity\": 0.3}, \"ternary\": {\"aaxis\": {\"gridcolor\": \"rgb(232,232,232)\", \"linecolor\": \"rgb(36,36,36)\", \"showgrid\": false, \"showline\": true, \"ticks\": \"outside\"}, \"baxis\": {\"gridcolor\": \"rgb(232,232,232)\", \"linecolor\": \"rgb(36,36,36)\", \"showgrid\": false, \"showline\": true, \"ticks\": \"outside\"}, \"bgcolor\": \"white\", \"caxis\": {\"gridcolor\": \"rgb(232,232,232)\", \"linecolor\": \"rgb(36,36,36)\", \"showgrid\": false, \"showline\": true, \"ticks\": \"outside\"}}, \"title\": {\"x\": 0.05}, \"xaxis\": {\"automargin\": true, \"gridcolor\": \"rgb(232,232,232)\", \"linecolor\": \"rgb(36,36,36)\", \"showgrid\": false, \"showline\": true, \"ticks\": \"outside\", \"title\": {\"standoff\": 15}, \"zeroline\": false, \"zerolinecolor\": \"rgb(36,36,36)\"}, \"yaxis\": {\"automargin\": true, \"gridcolor\": \"rgb(232,232,232)\", \"linecolor\": \"rgb(36,36,36)\", \"showgrid\": false, \"showline\": true, \"ticks\": \"outside\", \"title\": {\"standoff\": 15}, \"zeroline\": false, \"zerolinecolor\": \"rgb(36,36,36)\"}}}, \"title\": {\"text\": \"Loss score on train & validation sets (model four)\"}, \"xaxis\": {\"title\": {\"text\": \"Number of epochs\"}}, \"yaxis\": {\"title\": {\"text\": \"Loss/epoch\"}}},\n",
       "                        {\"responsive\": true}\n",
       "                    ).then(function(){\n",
       "                            \n",
       "var gd = document.getElementById('dca9397f-1ac9-4edf-bf74-07efc5d7be7e');\n",
       "var x = new MutationObserver(function (mutations, observer) {{\n",
       "        var display = window.getComputedStyle(gd).display;\n",
       "        if (!display || display === 'none') {{\n",
       "            console.log([gd, 'removed!']);\n",
       "            Plotly.purge(gd);\n",
       "            observer.disconnect();\n",
       "        }}\n",
       "}});\n",
       "\n",
       "// Listen for the removal of the full notebook cells\n",
       "var notebookContainer = gd.closest('#notebook-container');\n",
       "if (notebookContainer) {{\n",
       "    x.observe(notebookContainer, {childList: true});\n",
       "}}\n",
       "\n",
       "// Listen for the clearing of the current output cell\n",
       "var outputEl = gd.closest('.output');\n",
       "if (outputEl) {{\n",
       "    x.observe(outputEl, {childList: true});\n",
       "}}\n",
       "\n",
       "                        })\n",
       "                };\n",
       "                });\n",
       "            </script>\n",
       "        </div>"
      ]
     },
     "metadata": {},
     "output_type": "display_data"
    }
   ],
   "source": [
    "colormin = 'black'\n",
    "colorother = 'rgb(252, 141, 98)'\n",
    "\n",
    "clrs_loss_model_four=[colormin if history_dataframe_one.val_loss.iloc[row]==history_dataframe_one.val_loss.min() else colorother for row in range(len(history_dataframe_one.val_loss))]\n",
    "clrs_loss_model_seven=[colormin if history_dataframe_two.val_loss.iloc[row]==history_dataframe_two.val_loss.min() else colorother for row in range(len(history_dataframe_two.val_loss))]\n",
    "\n",
    "#Loss of model four\n",
    "\n",
    "fig3=go.Figure()\n",
    "\n",
    "fig3.add_trace(go.Scatter(x=history_dataframe_one.epoch.tolist(), \n",
    "                          y=history_dataframe_one.loss.tolist(),\n",
    "                          mode='lines+markers',\n",
    "                          name='Training Loss',\n",
    "                          line=dict(color='rgb(102, 194, 165)')))\n",
    "\n",
    "fig3.add_trace(go.Scatter(x=history_dataframe_one.epoch.tolist(), \n",
    "                          y=history_dataframe_one.val_loss.tolist(),\n",
    "                          mode='lines+markers',\n",
    "                          name='Validation Loss',\n",
    "                          line=dict(color='rgb(252, 141, 98)'),\n",
    "                          marker=dict(color=clrs_loss_model_four)))\n",
    "\n",
    "fig3.update_layout(template=\"simple_white\",\n",
    "                   title=\"Loss score on train & validation sets (model four)\",\n",
    "                   xaxis_title=\"Number of epochs\",\n",
    "                   yaxis_title=\"Loss/epoch\")\n",
    "\n",
    "fig3.update_layout(showlegend=True,\n",
    "                   annotations=[dict(x=history_dataframe_one.epoch[history_dataframe_one.val_loss==history_dataframe_one.val_loss.min()].tolist()[0],\n",
    "                                     y=history_dataframe_one.val_loss.min(),\n",
    "                                     xref=\"x\",yref=\"y\",\n",
    "                                     text=\"Epoch with the lowest validation loss\",\n",
    "                                     showarrow=True,\n",
    "                                     arrowhead=5,\n",
    "                                     ax=0,ay=-40)])\n",
    "fig3.show()\n",
    "\n",
    "#---------------------------------------------------------\n",
    "\n",
    "#Loss of model seven\n",
    "\n",
    "fig4=go.Figure()\n",
    "\n",
    "fig4.add_trace(go.Scatter(x=history_dataframe_two.epoch.tolist(), \n",
    "                          y=history_dataframe_two.loss.tolist(),\n",
    "                          mode='lines+markers',\n",
    "                          name='Training Loss',\n",
    "                          line=dict(color='rgb(102, 194, 165)')))\n",
    "\n",
    "fig4.add_trace(go.Scatter(x=history_dataframe_two.epoch.tolist(), \n",
    "                          y=history_dataframe_two.val_loss.tolist(),\n",
    "                          mode='lines+markers',\n",
    "                          name='Validation Loss',\n",
    "                          line=dict(color='rgb(252, 141, 98)'),\n",
    "                          marker=dict(color=clrs_loss_model_seven)))\n",
    "\n",
    "fig4.update_layout(template=\"simple_white\",\n",
    "                   title=\"Loss score on train & validation sets (model four)\",\n",
    "                   xaxis_title=\"Number of epochs\",\n",
    "                   yaxis_title=\"Loss/epoch\")\n",
    "\n",
    "fig4.update_layout(showlegend=True,\n",
    "                   annotations=[dict(x=history_dataframe_two.epoch[history_dataframe_two.val_loss==history_dataframe_two.val_loss.min()].tolist()[0],\n",
    "                                     y=history_dataframe_two.val_loss.min(),\n",
    "                                     xref=\"x\",yref=\"y\",\n",
    "                                     text=\"Epoch with the lowest validation loss\",\n",
    "                                     showarrow=True,\n",
    "                                     arrowhead=5,\n",
    "                                     ax=0,ay=-65)])\n",
    "fig4.show()"
   ]
  },
  {
   "cell_type": "markdown",
   "metadata": {},
   "source": [
    "<b>- - - - - - - - - - - - - - - - - - - - - - - - - - - - - - - - - - - - - - - - - - - - - - - - - - - - - - - - - - - - - - - - - - - - - - - - - - - - - -  </b>"
   ]
  }
 ],
 "metadata": {
  "kernelspec": {
   "display_name": "Python 3",
   "language": "python",
   "name": "python3"
  },
  "language_info": {
   "codemirror_mode": {
    "name": "ipython",
    "version": 3
   },
   "file_extension": ".py",
   "mimetype": "text/x-python",
   "name": "python",
   "nbconvert_exporter": "python",
   "pygments_lexer": "ipython3",
   "version": "3.7.4"
  }
 },
 "nbformat": 4,
 "nbformat_minor": 2
}
