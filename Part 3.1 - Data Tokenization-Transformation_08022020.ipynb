{
 "cells": [
  {
   "cell_type": "markdown",
   "metadata": {},
   "source": [
    "#### Import the libraries"
   ]
  },
  {
   "cell_type": "code",
   "execution_count": 1,
   "metadata": {},
   "outputs": [],
   "source": [
    "# For cleaning and preparing the dataset\n",
    "# -> dataframe manipulation\n",
    "# -> text manipulation\n",
    "# -> Web Scrapping\n",
    "\n",
    "import pandas as pd\n",
    "import numpy as np\n",
    "from bs4 import BeautifulSoup\n",
    "import requests\n",
    "from tabulate import tabulate\n",
    "import re\n",
    "\n",
    "import random\n",
    "\n",
    "# Module to serialize the content produced from the execution of the code\n",
    "\n",
    "import pickle\n",
    "\n",
    "# Module to monitor the progress of a python for loop\n",
    "\n",
    "from tqdm import tqdm_notebook\n",
    "\n",
    "# Module to manipulate text in python - NLTK package\n",
    "\n",
    "import nltk\n",
    "from nltk import word_tokenize\n",
    "from nltk.stem import PorterStemmer\n",
    "from nltk.corpus import stopwords\n",
    "\n",
    "# Module to compute word vectorizers and compute the cosine distance\n",
    "\n",
    "from sklearn.feature_extraction.text import TfidfVectorizer\n",
    "from sklearn.feature_extraction.text import CountVectorizer\n",
    "from sklearn.metrics.pairwise import cosine_distances\n",
    "\n",
    "import string\n",
    "import itertools\n",
    "\n",
    "# from IPython.core.display import display, HTML\n",
    "# display(HTML(\"<style>.container { width:70% !important; }</style>\"))"
   ]
  },
  {
   "cell_type": "markdown",
   "metadata": {},
   "source": [
    "#### Keras Libraries"
   ]
  },
  {
   "cell_type": "code",
   "execution_count": 2,
   "metadata": {},
   "outputs": [
    {
     "name": "stdout",
     "output_type": "stream",
     "text": [
      "TensorFlow version:  2.1.0\n",
      "Version:  2.1.0\n",
      "Eager mode:  True\n",
      "Hub version:  0.7.0\n",
      "GPU is NOT AVAILABLE\n",
      "Wall time: 3.45 s\n"
     ]
    }
   ],
   "source": [
    "%%time\n",
    "\n",
    "from nltk.stem import WordNetLemmatizer\n",
    "\n",
    "from tensorflow.python.keras.preprocessing.text import Tokenizer\n",
    "from tensorflow.python.keras.preprocessing.sequence import pad_sequences\n",
    "\n",
    "from sklearn.model_selection import train_test_split\n",
    "from sklearn.preprocessing import MultiLabelBinarizer\n",
    "\n",
    "from time import time\n",
    "\n",
    "#--------------------------------------------------------------\n",
    "\n",
    "import tensorflow as tf\n",
    "from tensorflow import keras\n",
    "\n",
    "from tensorflow.keras import layers\n",
    "from tensorflow.keras import models\n",
    "\n",
    "from tensorflow.keras.callbacks import ModelCheckpoint, EarlyStopping\n",
    "\n",
    "#---------------------------------------------------------------\n",
    "\n",
    "%matplotlib inline\n",
    "import matplotlib.image as mpimg\n",
    "import matplotlib.pyplot as plt\n",
    "from pylab import rcParams\n",
    "\n",
    "import pydot\n",
    "import pydotplus\n",
    "import graphviz\n",
    "\n",
    "from IPython.display import SVG\n",
    "from tensorflow.keras.utils import model_to_dot\n",
    "\n",
    "from tensorflow.keras.models import load_model\n",
    "from tensorflow.keras.models import model_from_json\n",
    "import json\n",
    "\n",
    "# Import ML FLow\n",
    "import mlflow.tensorflow\n",
    "import mlflow.pyfunc\n",
    "from tensorflow.keras import regularizers\n",
    "import datetime\n",
    "\n",
    "# Import TensorBoard\n",
    "import tensorflow_docs as tfdocs\n",
    "import tensorflow_docs.plots as tfplots\n",
    "import tensorflow_docs.modeling as tfmodel\n",
    "from tensorflow.keras import regularizers\n",
    "# from tensorboard import default\n",
    "# from tensorboard import program\n",
    "\n",
    "import tensorflow_hub as hub\n",
    "import bert\n",
    "from bert import tokenization\n",
    "from bert.tokenization import FullTokenizer\n",
    "\n",
    "#Visualize Model\n",
    "\n",
    "def visualize_model(model):\n",
    "    return SVG(model_to_dot(model, show_shapes= True, show_layer_names=True, dpi=65).create(prog='dot', format='svg'))\n",
    "\n",
    "from tensorflow.keras.utils import plot_model\n",
    "\n",
    "from packaging import version\n",
    "\n",
    "print(\"TensorFlow version: \", tf.__version__)\n",
    "assert version.parse(tf.__version__).release[0] >= 2, \\\n",
    "    \"This notebook requires TensorFlow 2.0 or above.\"\n",
    "\n",
    "print(\"Version: \", tf.__version__)\n",
    "print(\"Eager mode: \", tf.executing_eagerly())\n",
    "print(\"Hub version: \", hub.__version__)\n",
    "print(\"GPU is\", \"available\" if tf.config.list_physical_devices('GPU') else \"NOT AVAILABLE\")"
   ]
  },
  {
   "cell_type": "markdown",
   "metadata": {},
   "source": [
    "#### Import the dataset (this demonstrates how the genres have been cleaned)"
   ]
  },
  {
   "cell_type": "code",
   "execution_count": null,
   "metadata": {},
   "outputs": [],
   "source": [
    "dataset = pd.read_pickle('dataset_part_2_25012020.pkl')\n",
    "\n",
    "print(\"\\nThe shape of the dataset that will be used in Keras classifier is: {}\".format(dataset.shape))"
   ]
  },
  {
   "cell_type": "markdown",
   "metadata": {},
   "source": [
    "#### -- -- -- -- -- -- -- -- -- -- -- -- -- -- -- -- -- -- -- -- -- -- -- -- -- -- -- -- -- -- -- -- -- -- -- -- -- -- -- -- -- -- -- -- -- -- -- --"
   ]
  },
  {
   "cell_type": "markdown",
   "metadata": {},
   "source": [
    "#### Check the correlation between user ratings and IMDB ratings"
   ]
  },
  {
   "cell_type": "code",
   "execution_count": null,
   "metadata": {},
   "outputs": [],
   "source": [
    "k2, p = stats.normaltest(dataset.rating)\n",
    "print(\"p = {:g}\".format(p))\n",
    "\n",
    "alpha = 0.05\n",
    "if p < alpha:  # null hypothesis: x comes from a normal distribution\n",
    "    print(\"The null hypothesis can be rejected\")\n",
    "else:\n",
    "    print(\"The null hypothesis cannot be rejected\")"
   ]
  },
  {
   "cell_type": "code",
   "execution_count": null,
   "metadata": {},
   "outputs": [],
   "source": [
    "from scipy import stats\n",
    "dataset['imdb_rating'] = dataset['imdb_rating'].astype(float)\n",
    "\n",
    "k2, p = stats.normaltest(dataset.imdb_rating)\n",
    "print(\"p = {:g}\".format(p))\n",
    "\n",
    "alpha = 0.05\n",
    "if p < alpha:  # null hypothesis: x comes from a normal distribution\n",
    "    print(\"The null hypothesis can be rejected\")\n",
    "else:\n",
    "    print(\"The null hypothesis cannot be rejected\")"
   ]
  },
  {
   "cell_type": "code",
   "execution_count": null,
   "metadata": {},
   "outputs": [],
   "source": [
    "from scipy.stats import spearmanr\n",
    "rho, pval = spearmanr(dataset.rating,dataset.imdb_rating)"
   ]
  },
  {
   "cell_type": "code",
   "execution_count": null,
   "metadata": {},
   "outputs": [],
   "source": [
    "rho"
   ]
  },
  {
   "cell_type": "code",
   "execution_count": null,
   "metadata": {},
   "outputs": [],
   "source": [
    "import seaborn as sns\n",
    "sns.scatterplot('rating','imdb_rating',data=dataset)\n",
    "plt.title('user rating vs IMDB rating', fontsize=18)\n",
    "plt.ylabel('IMDB rating', fontsize=16)\n",
    "plt.xlabel('user rating', fontsize=16)"
   ]
  },
  {
   "cell_type": "markdown",
   "metadata": {},
   "source": [
    "#### -- -- -- -- -- -- -- -- -- -- -- -- -- -- -- -- -- -- -- -- -- -- -- -- -- -- -- -- -- -- -- -- -- -- -- -- -- -- -- -- -- -- -- -- -- -- -- --"
   ]
  },
  {
   "cell_type": "markdown",
   "metadata": {},
   "source": [
    "#### Understand the dependent variable: Genres of each movie\n",
    "\n",
    "Check their frequency distribution"
   ]
  },
  {
   "cell_type": "code",
   "execution_count": null,
   "metadata": {},
   "outputs": [],
   "source": [
    "dataset['genres'].explode().value_counts()"
   ]
  },
  {
   "cell_type": "code",
   "execution_count": null,
   "metadata": {},
   "outputs": [],
   "source": [
    "round(dataset['genres'].explode().value_counts(normalize=True) * 100,3)"
   ]
  },
  {
   "cell_type": "code",
   "execution_count": null,
   "metadata": {},
   "outputs": [],
   "source": [
    "# STEP 1: Remove genres less than 1% frequency\n",
    "\n",
    "dataset['reduced_genres'] = dataset['genres'].apply(\n",
    "    lambda row: [val for val in row if val not in ['IMAX', 'Sport', 'Adult', 'News', 'Reality-TV',\n",
    "                                                   'Film-Noir', 'Short', 'Family', 'Biography', 'Music', 'History']])"
   ]
  },
  {
   "cell_type": "code",
   "execution_count": null,
   "metadata": {},
   "outputs": [],
   "source": [
    "dataset['reduced_genres'].shape"
   ]
  },
  {
   "cell_type": "code",
   "execution_count": null,
   "metadata": {},
   "outputs": [],
   "source": [
    "# STEP 2: Find indexes with EMPTY LISTST\n",
    "\n",
    "dataset_empty_lists = dataset[dataset.reduced_genres.apply(lambda c: c==[])]\n",
    "\n",
    "remove_indices = dataset_empty_lists.index.to_list()\n",
    "\n",
    "dataset_empty_lists"
   ]
  },
  {
   "cell_type": "code",
   "execution_count": null,
   "metadata": {},
   "outputs": [],
   "source": [
    "# STEP 3: Remove the indexes with EMPTY LISTS\n",
    "\n",
    "dataset_frequent_genres =  dataset[~dataset.index.isin(remove_indices)]"
   ]
  },
  {
   "cell_type": "code",
   "execution_count": null,
   "metadata": {},
   "outputs": [],
   "source": [
    "dataset_frequent_genres.shape"
   ]
  },
  {
   "cell_type": "code",
   "execution_count": null,
   "metadata": {},
   "outputs": [],
   "source": [
    "dataset_frequent_genres = dataset_frequent_genres.reset_index(drop=True)\n",
    "\n",
    "dataset_frequent_genres.shape"
   ]
  },
  {
   "cell_type": "code",
   "execution_count": null,
   "metadata": {},
   "outputs": [],
   "source": [
    "round(dataset_frequent_genres['reduced_genres'].explode().value_counts(normalize=True) * 100,3)\n",
    "\n",
    "# remember to cut the percentages of drama and comedy!"
   ]
  },
  {
   "cell_type": "code",
   "execution_count": null,
   "metadata": {},
   "outputs": [],
   "source": [
    "dataset_frequent_genres.to_pickle(\"dataset_part_2_05022020.pkl\")"
   ]
  },
  {
   "cell_type": "markdown",
   "metadata": {},
   "source": [
    "#### -- -- -- -- -- -- -- -- -- -- -- -- -- -- -- -- -- -- -- -- -- -- -- -- -- -- -- -- -- -- -- -- -- -- -- -- -- -- -- -- -- -- -- -- -- -- -- --"
   ]
  },
  {
   "cell_type": "markdown",
   "metadata": {},
   "source": [
    "#### #1 Import cleaned of redundant genres dataset and genres_list"
   ]
  },
  {
   "cell_type": "code",
   "execution_count": 3,
   "metadata": {},
   "outputs": [
    {
     "name": "stdout",
     "output_type": "stream",
     "text": [
      "\n",
      "The shape of the dataset that will be used in Keras classifier is: (49123, 13)\n"
     ]
    }
   ],
   "source": [
    "# import dataset\n",
    "dataset_frequent_genres = pd.read_pickle('dataset_part_2_05022020.pkl')\n",
    "\n",
    "print(\"\\nThe shape of the dataset that will be used in Keras classifier is: {}\".format(dataset_frequent_genres.shape))"
   ]
  },
  {
   "cell_type": "code",
   "execution_count": 4,
   "metadata": {},
   "outputs": [],
   "source": [
    "# Multy hot encoding since a Movie can have more than 1 genres assigned!\n",
    "\n",
    "mlb = MultiLabelBinarizer()\n",
    "dataset_frequent_genres = dataset_frequent_genres.join(pd.DataFrame(mlb.fit_transform(dataset_frequent_genres['reduced_genres']),\n",
    "                                                                    columns=mlb.classes_,\n",
    "                                                                    index=dataset_frequent_genres.index))"
   ]
  },
  {
   "cell_type": "code",
   "execution_count": 5,
   "metadata": {},
   "outputs": [
    {
     "data": {
      "text/plain": [
       "Index(['title', 'genres', 'rating', 'imdb_url', 'reviews_url', 'actors',\n",
       "       'plot', 'imdb_rating', 'director', 'reviews', 'sentiment_value',\n",
       "       'movie_features', 'reduced_genres', 'Action', 'Adventure', 'Animation',\n",
       "       'Children', 'Comedy', 'Crime', 'Documentary', 'Drama', 'Fantasy',\n",
       "       'Horror', 'Musical', 'Mystery', 'Romance', 'Sci-Fi', 'Thriller', 'War',\n",
       "       'Western'],\n",
       "      dtype='object')"
      ]
     },
     "execution_count": 5,
     "metadata": {},
     "output_type": "execute_result"
    }
   ],
   "source": [
    "dataset_frequent_genres.columns"
   ]
  },
  {
   "cell_type": "code",
   "execution_count": null,
   "metadata": {},
   "outputs": [],
   "source": [
    "# import genres\n",
    "genres_list = dataset_frequent_genres.columns[13:30].to_list() #13:30\n",
    "\n",
    "with open('genres_list_08022020.pkl', 'wb') as handle:\n",
    "    pickle.dump(genres_list, handle)"
   ]
  },
  {
   "cell_type": "markdown",
   "metadata": {},
   "source": [
    "#### #2 Prune the movie reviews (keep only the first review for each movie)"
   ]
  },
  {
   "cell_type": "code",
   "execution_count": 6,
   "metadata": {},
   "outputs": [],
   "source": [
    "dataset_frequent_genres['reviews_length'] = dataset_frequent_genres.reviews.apply(lambda x: len(x))"
   ]
  },
  {
   "cell_type": "code",
   "execution_count": 7,
   "metadata": {},
   "outputs": [
    {
     "data": {
      "text/plain": [
       "3326"
      ]
     },
     "execution_count": 7,
     "metadata": {},
     "output_type": "execute_result"
    }
   ],
   "source": [
    "len(dataset_frequent_genres['reviews_length'][dataset_frequent_genres['reviews_length']==1])\n",
    "\n",
    "# Since I don't want to loose 3326 movies, I will keep only the first review for each movie."
   ]
  },
  {
   "cell_type": "code",
   "execution_count": 8,
   "metadata": {},
   "outputs": [],
   "source": [
    "dataset_frequent_genres.loc[:, 'reviews_pruned'] = dataset_frequent_genres.reviews.apply(lambda x: x[0])"
   ]
  },
  {
   "cell_type": "code",
   "execution_count": 9,
   "metadata": {},
   "outputs": [
    {
     "data": {
      "text/plain": [
       "'This version of the classic novel by Mark Twain makes a nice little movie, but fails to capture the humorous spirit of the book. Many hilarious scenes are missing and the writers have taken too many liberties with the plot.Jonathan Taylor Thomas is wonderful as Tom Sawyer. Unfortunately his charm does not last until the very end of the movie, but seems to fade after a while. It might possibly have something to do with the fact, that, even though this movie is based on \"The Adventures Of Tom Sawyer\", it\\'s actually Huck\\'s character that steals the whole show.I had a bit of a problem with the way Huck Finn was portrayed in this movie. Of course Brad Renfro is a fantastic actor (his performance is probably the best thing about this film) and he manages to give Huck Finn many tragic and deep aspects. Unfortunately Mark Twain\\'s Huck Finn is neither tragic or very deep. One can only wonder why Huck has been made the brooding hero, when it\\'s actually Tom Sawyer, who is supposed to be the brightest star in this story.Despite the many sugar-coated scenes and the fact that both Tom and Huck are a bit out-of-character, this movie is still something worth seeing. Injun Joe and Muff Potter are both realistic and Rachael Leigh Cook makes a brilliant and not-so-girly Becky Thatcher! The sets and wardrobe look very authentic, but they alone are not enough to bring the evergreen story wholly alive.'"
      ]
     },
     "execution_count": 9,
     "metadata": {},
     "output_type": "execute_result"
    }
   ],
   "source": [
    "dataset_frequent_genres.reviews_pruned.iloc[7]"
   ]
  },
  {
   "cell_type": "code",
   "execution_count": 10,
   "metadata": {},
   "outputs": [],
   "source": [
    "table = str.maketrans(dict.fromkeys(string.punctuation))\n",
    "dataset_frequent_genres.loc[:, 'reviews_pruned'] = dataset_frequent_genres.loc[:, 'reviews_pruned'].apply(lambda x: x.translate(table))"
   ]
  },
  {
   "cell_type": "code",
   "execution_count": 11,
   "metadata": {},
   "outputs": [
    {
     "data": {
      "text/plain": [
       "'This version of the classic novel by Mark Twain makes a nice little movie but fails to capture the humorous spirit of the book Many hilarious scenes are missing and the writers have taken too many liberties with the plotJonathan Taylor Thomas is wonderful as Tom Sawyer Unfortunately his charm does not last until the very end of the movie but seems to fade after a while It might possibly have something to do with the fact that even though this movie is based on The Adventures Of Tom Sawyer its actually Hucks character that steals the whole showI had a bit of a problem with the way Huck Finn was portrayed in this movie Of course Brad Renfro is a fantastic actor his performance is probably the best thing about this film and he manages to give Huck Finn many tragic and deep aspects Unfortunately Mark Twains Huck Finn is neither tragic or very deep One can only wonder why Huck has been made the brooding hero when its actually Tom Sawyer who is supposed to be the brightest star in this storyDespite the many sugarcoated scenes and the fact that both Tom and Huck are a bit outofcharacter this movie is still something worth seeing Injun Joe and Muff Potter are both realistic and Rachael Leigh Cook makes a brilliant and notsogirly Becky Thatcher The sets and wardrobe look very authentic but they alone are not enough to bring the evergreen story wholly alive'"
      ]
     },
     "execution_count": 11,
     "metadata": {},
     "output_type": "execute_result"
    }
   ],
   "source": [
    "dataset_frequent_genres.reviews_pruned.iloc[7]"
   ]
  },
  {
   "cell_type": "markdown",
   "metadata": {},
   "source": [
    "#### -- -- -- -- -- -- -- -- -- -- -- -- -- -- -- -- -- -- -- -- -- -- -- -- -- -- -- -- -- -- -- -- -- -- -- -- -- -- -- -- -- -- -- -- -- -- -- --"
   ]
  },
  {
   "cell_type": "markdown",
   "metadata": {},
   "source": [
    "#### #3 Unify (join) the columns of Actors and Reviews in order to achive a dataframe cell with a unique TEXT (corpus) and not a LIST of texts"
   ]
  },
  {
   "cell_type": "code",
   "execution_count": 12,
   "metadata": {},
   "outputs": [],
   "source": [
    "# Function 1: Actors\n",
    "def unify_actors(row):\n",
    "    return ', '.join(row['actors'])\n",
    "\n",
    "# Function 2: Reviews\n",
    "def unify_reviews(row):\n",
    "    return ', '.join(row['reviews'])"
   ]
  },
  {
   "cell_type": "code",
   "execution_count": 13,
   "metadata": {
    "scrolled": true
   },
   "outputs": [
    {
     "name": "stdout",
     "output_type": "stream",
     "text": [
      "Actors before: ['Tom Hanks', 'Tim Allen', 'Don Rickles', 'Jim Varney', 'Wallace Shawn', 'John Ratzenberger', 'Annie Potts', 'John Morris', 'Erik von Detten', 'Laurie Metcalf', 'R. Lee Ermey', 'Sarah Freeman', 'Penn Jillette', 'Jack Angel', 'Spencer Aste']\n",
      "Actors after: Tom Hanks, Tim Allen, Don Rickles, Jim Varney, Wallace Shawn, John Ratzenberger, Annie Potts, John Morris, Erik von Detten, Laurie Metcalf, R. Lee Ermey, Sarah Freeman, Penn Jillette, Jack Angel, Spencer Aste\n",
      "\n",
      "Reviews before: [\"Andy's toys live a reasonable life of fun and peace, their only worries are birthdays and Christmases, when new toys could easily replace those already there.  One such birthday Andy's top toy, Woody the cowboy, finds himself in direct competition with Andy's new Buzz Lightyear doll.  When rivalries boil over Woody tries to hide Buzz down the side of the bed but accidentally pushes him out the window, the other tops expel Woody, and he leaves with no choice but to find Buzz and return him to the house.  But with only two days before Andy moves house, time is of the essence.Given how often the same mix of animation, wit, jokes and kids humour has been used since Toy Story (Ice Age, Monsters Inc, Bugs Life) it is easy to forget how refreshing it was when it first came out.  I have just watched it again and it is dating a little in comparison to more recent twists on the formula.  It seems each one has to be sharper and have more references etc in the background.  However it is still very funny and deserves praise for being the first of a successful formula.The plot is simple but effective and actually has genuine drama and excitement to it.  The main story is fun but the degree of character development is what really shores it up.  The conflict between Buzz and Woody is taken deeper than this and, when confronted by the truth of his status as a toy, Buzz's turmoil is very real as opposed to him being a cartoon character and nothing more.  Despite the two strong leads there is a real depth in the support cast.  They may not actually have that many lines, but they have all the funniest lines.  Most of the `adult' wit comes from the Potato Head, dinosaur, the pig and slinky dog.  They are funny and are very well used.  In fact the majority of this humour and plot will go right over kids heads.Looking back on it, I do feel a cynical edge on it in so much as this film must really have helped sales of the toy companies in the film.  It's hard not to see the marketing department standing behind this film rubbing their hands.  However the actual product is so wonderfully fun that I forgot this quickly.  The voice work is excellent and the characters match the actors. Hanks is good as Woody and Allen has a good B-movie type voice for Buzz. Varney, Ratzenberger, Ermey (doing his usual), Rickles and others are all really good in the support roles and, probably, come out as the favourite characters for adults.Overall this is a classic film that will appeal to adults as much as to kids (if not more).  A good plot and a really sharp script make the already short running time fly by.  The only downside is that your kids will want you to go out and buy the damn things!\", 'I am a big fan of the animated movies coming from the Pixar Studios. They are always looking for the newest technological possibilities to use in their movies, creating movies that are more than just worth a watch, even when they were made a decade ago.The movie is about toys that come to life when their owner is asleep or not in the same room. When the young boy\\'s birthday is coming up, all the toys are nervous. They don\\'t want to be ignored when the new one arrives. Woody the cowboy is their \"leader\" because he\\'s the most popular one of them all. He\\'s the only one that hasn\\'t got to be afraid, but than a new favorite arrives ... Buzz Lightyear. He hates him and tries everything possible to get rid of him, but as the time passes by they learn to appreciate each other...When you see Toy Story, you may think that the different human like characters (Woody the cowboy for instance) aren\\'t always as perfect as we are used to see in todays animated movies. Perhaps that\\'s true, but if you keep in mind that all this was done in 1995, when computers weren\\'t yet as strong and the technology for creating such movies was almost unknown, than you can only have a lot of respect for what the creators did. I loved the story and liked the animations a lot. I give it an 8.5/10.', 'This is a very clever animated story that was a big hit, and justifiably so. It had a terrific sequel and if a third film came out, that would probably be a hit, too.When this came out, computer technology just was beginning to strut its stuff. Man, this looked awesome. Now, it\\'s routine because animation, which took a giant leap with this movie, has made a lot more giant strides.The humor in here, however, is what made this so popular. There are tons of funny lines, issued by characters voiced by Tom Hanks, Tim Allen, Jim Varney, Don Rickles, Wallace Shawn and John Ratzenberger, among others. As good as Hanks is as \"Woody\" and Allen as \"Buzz Armstrong,\" I think the supporting characters just about stole the show: Mr. Potato Head, Slinky, Rex the dinosaur, etc.Multiple viewings don\\'t diminish the entertainment, either. There are so many things to catch, audibly and visually, that you always seem to discover something new. The colors in here are beautiful, too. This is a guaranteed \"winner\" as is the sequel.', 'Y\\'know, I always suspected that my toys were coming to life when I wasn\\'t looking! In Andy\\'s Room, his toys lead lives of noisy desperation come every birthday and Christmas - no one wants to be one-upped by a new addition to the toy box. Nominally led by Cowboy Woody (there\\'s a Brokeback joke in there just waiting to happen), Mr. Potato Head, Rex the Dinosaur, Ham the piggybank, Bo Peep, Slinky the dog and a smattering of other playthings go about their toy business of playing checkers, hanging with the hometoys and \"plastic corrosion awareness meetings,\" until Andy\\'s birthday party, when they gather expectantly around a transistor radio, listening to the reports of their toy soldier troops \"in the field\" (downstairs watching Andy\\'s gift-opening), hoping that no gift will be exciting enough to cause Andy to neglect *them.* There is. His name is Buzz Lightyear, Space Ranger.Directed by Pixar mainstay John Lasseter, with the voice talents of Tom Hanks (as Woody), Don Rickles, John Ratzenberger (forever Cliff from *Cheers*), R. Lee Ermey, Annie Potts, Jim Varney and Tim Allen (as Buzz), *Toy Story* is that *rara avis* that succeeds on all levels \\x96 in its animation, storyline, character development, its messages of friendship and self-realization and, most importantly, its entertainment value. The fact that this is a cartoon (or animated feature \\x96 just what DO we call this new wave of computer-generated movies?) is incidental. Which makes the slightly dodgy animation (of the \"real people\") irrelevant - it gets the point across with or without the technological finesse.The \"Disney Movie\" has become synonymous with maudlin messages, redneck fundamentalism, anachronistic family values, boneheaded parents, smart-mouthing youngsters, too-hip-to-be-smart teens and insufferable pets. Though Disney\\'s tyrannical umbrella overarches this film\\'s production studio, Pixar Animation, *Toy Story* somehow avoided all trace of Disney\\'s craven hand, which is doubly surprising, considering this is Pixar\\'s first feature length film, after years of experimentation. Right outa the gate and right outa the field.Sure, there are \"messages,\" but they are heartfelt, rather than maudlin (Woody tells Buzz during Buzz\\'s greatest depression that it matters not what Buzz thinks of himself, what makes him important is what his owner, Andy, thinks of him); there are emotional segments, which are truly heartbreaking, rather than cheesy (when Buzz\\'s escape attempt lands him with a broken arm, proving he is Not A Flying Toy, the lyric, \"Clearly I will go sailing no more,\" launches a thousand hankies); and the portrayal of Andy\\'s family was Pixar\\'s triumphal achievement. Boldly contravening Disney\\'s *idée fixe* of the 1950\\'s nuclear family and Norman Rockwell fantasies, one of the many incarnations of a modern-day family is presented: a single mother with two kids, who are neither geniuses nor monsters, just normal children; happy to visit Pizza Planet and disappointed when favorite toys are lost.Buzz \\x96 who believes he is a real life space ranger on a mission to save the universe - become Andy\\'s favorite toy over Woody. The funny thing is: though Buzz believes he is real, he still adheres to toy protocol of \"playing inert\" when humans are in the area. (Maybe it\\'s instinct?) When he mentions saving a toy from Sid, the vicious boy next door, how does he propose to do it if he is to adhere to the inert protocol? Buzz\\'s ingenuousness regarding his role as a toy infuriates Woody to the point of attempted toy-assassination. Through a concatenation of accidents, both he and Buzz become lost and must use teamwork, trust and ingenuity to beat their path back to Andy, which finds them ensconced in scorchingly funny vignettes (Buzz fastening himself in an over-sized seatbelt; both falling in with green, three-eyed aliens; Buzz hyperventilating as \"Mrs. Nesbitt\"). During a climactic rocket ride, the callback line, \"This is not flying - this is falling with style,\" simply seals this movie\\'s greatness.At least I now have a plausible explanation as to why my toys always got lost: after going about their toy business, they would just go inert anywhere they happened to be, instead of paying attention to their master\\'s infallible toy filing system\\x85.', 'Toy Story is the film that started Pixar Animated Studios into its long string of never ending success. What Pixar does is not just absorb the younger demographic and keep the older ones mildly entertained. It completely absorbs everyone watching no matter the age or the level of maturity, films of Pixar, starting from Toy Story, have kept a certain magical touch around it with an unexpected amount of depth. Everyone as a child imagines their toys will come alive and go on their own adventures. One of the great things Pixar does is that it does not attract audiences with its overloaded superstar casts but rather with its material. The only superstar here is Tom Hanks and Tim Allen is the next most aforementioned voice over. Unlike what most people think their is an actually a method to casting for animated films as there is to a live-action one. As a result of this Pixar stays faithful to its material and creates a great genuine and warm feeling around the film and its characters.', \"Toy Story is a sheer delight to view on the screen.  The characters are well done, the plot is exceptional, and the best thing of all, the film is entirely produced on the computer.  The animation is extraordinary in it's ability to bring such great entertainment to the screen.  The film also teaches some good lessons for the kids like friendship (mainly between Woody and Buzz Light-year).  Spectacular entertainment all around and one of the best films Disney has come with.\", \"Toy Story is not only the best Disney film because it has the best story and the best animation, but also because of the excellent actors chosen to provide the voices of the animals. The casting was perfect from top to bottom, and the movie provides an excellent adventure story about friendship and loyalty that keeps you engrossed until the nail-biting climax.\\nTom Hanks and Tim Allen provided excellent voices for Woody and Buzz Lightyear -their performances alone are one of the biggest things that made this such a spectacular movie. Besides that, though, you have the excellent story that is not only noteworthy because it has never really been told from this perspective before, but also because it was just told so well. All of the characters in the film are very well developed and all have appropriate and effective actors chosen to provide their voices. And of course, who could forget the revolutionary animation! The computer animation used for this movie not only made it startlingly realistic but also opened up tons of possibilities, and thankfully the filmmakers chose to explore these possibilities. There are dozens of things that are hidden in the woodwork throughout the film, as well as in the songs \\x96 note, for example, the subtle playing of the Indiana Jones theme song in the scene where Woody knocks Buzz out the window with the desk lamp.\\nToy Story is by far the best Disney film ever made, it's pretty much perfect. It's adventurous, it's exciting, it's entertaining, it's good for the whole family, it's got great characters, story, and plot, and above all, it's fun.\", \"Though I am not a big fan of computer animation,I have to give the folks at Pixar credit.This brand of animation is nothing short of brilliant.The attention to detail,such as eye and body movement is quite remarkable.Computers allow them to make their characters as close to human like as possible,something we have never seen in traditional hand drawn animation,though the latter will always be the closest to my heart.Combine this excellence with a genuinely good story idea and a top notch voice cast and the result is good family entertainment.It's obvious that the people at Pixar are not only caring perfectionists when it comes to film making,but they care about our kids,something rarely seen today.Highly recommended for any home library.\", 'Just in case you were also wondering what happened to all the toys that went missing when you were a kid, the answer is clear: They escaped.\"Toy Story\" is the kind of children\\'s movie adults can enjoy just as much, because it very cleverly mines deep deposits of nostalgia from the memory banks. That may be the reason the 1990s bedroom of young Andy is populated by playthings of the 1960s, 1970s, and 1980s. If Andy was a real boy of his time, there would be a computer and a TV/Nintendo, and not much else.The voicings of the various toys add to the enjoyability. Tom Hanks was the biggest star of the moment when \"Toy Story\" came out, and he works with that likeability by creating a stable center as Woody the cowboy doll. Don Rickles has the screen role of his career (not that \"Kelly\\'s Heroes\" was Oscar material) as a prickly Mr. Potato Head, while Jim Varney and R. Lee Ermey are standouts in the supporting cast.Tim Allen gives the movie\\'s best performance, as a newfangled toy that takes Woody\\'s place in Andy\\'s heart but can\\'t bring himself to accept that he\\'s just a plastic plaything. It\\'s the role of the story that gives him the best lines (\"I don\\'t believe that man has ever been to medical school\"), but Allen delivers them with real panache. He more than holds his own, and you kind of see where he took off with that note-perfect William Shatner parody he perfected on screen in the underrated \"Galaxy Quest.\"While this movie\\'s use of computer animation makes it a milestone, it neither represents the most innovative use of the technology or the cleverest Pixar-ated treatment of a story. \"A Bug\\'s Life\" seems a more worthy apex; that story was funnier, worked better on its own merits, and used the animation to better effect. But given how novel all of this was in 1995, \"Toy Story\" could have been a lot less thought-through than it was, and still made gobs of money. The fact it is instead invested with real heart, and can be watched and enjoyed today just as easily as when it debuted nearly 10 years ago, is a tribute to the people behind it.I like Randy Newman\\'s music, just not here, and while the animation textures are surprisingly lifelike, there are places, especially with Scud the dog but also with the baby\\'s drool, where it falls short. The story itself gets kind of rote with repeat viewings, though the transition to Sid\\'s bedroom and its sad mutilated toys is a genius moment. So too are the vending machine aliens, who gape in rapt wonder at the judgment of \"the claw.\" If it reached for pathos a little less often, \"Toy Story\" would be an undeniable classic.As it is, it is very, very good, the kind of film that\\'s only good for children, even (especially?) the inner ones.', \"Toy story was a fun, imaginative renewal of the animated genre already when it was released in 1995. It continues to be one of the epic children's movies.Behind several of the voices are well-known actor, such as Tom Hanks, Tim Allen, Don Rickles. That said, personally I have no affection for real-life, callous trophy hunters like R. Lee Ermey, which is playing the role of the sergeant.\", 'Disney and Pixar studios team up and brought us an imaginative adventure story about a little boy named Andy who loves playing with his toys, with his best friend being a cowboy doll named Woody. However, when Andy and not body else is looking, the toys come to life. Woody is the leader of the toys in Andy\\'s room, which include a Mr. Potato Head, Slinky the Dog, Rex the Dinosaur, Hamm the Pig and Bo-Peep the girl doll. However, when Andy\\'s get new toy space ranger Buzz Lightyear for his birthday, Buzz takes the place of Woody of being leader of the toys and Andy\\'s new best friend. Brewing with jealously, Woody attempts to get rid of Buzz, but both ended up lost outside of Andy\\'s house. As a result, they must find their way back to Andy\\'s house before they move - first trying to get through Andy\\'s weird neighbor and toy torturer Sid.This is filmed in brilliant and colorful computer animation - very detailed and realistic. The story is full of surprises and adventure, from Woody and Buzz getting lost in a pizza shop to them trying to break loose out of Sid\\'s house to get back to Andy\\'s. The movie is also filled with comedy; you will have to watch the movie to appreciate and understand the humor only live toys could make. And, there are toe-tapping songs you would learn to love including Randy Newman\\'s opening song \"You\\'ve Got a Friend in Me.\" While this movie\\'s plot is full of non-stop fun and adventure, making every moment exciting and entertaining, the film also concentrates on friendship and teamwork and overcoming all odds. While I mostly enjoyed this movie, I wished that Woody was not made out to be hated on so much by the other toys after Woody\\'s jealous behavior towards Buzz. I thought this takes away at Woody\\'s hero status too much especially for his first movie.But overall, this is one of Disney\\'s best work, which will make you suspend your disbelief and expand your imagination. Also, hands down to a great voice cast: Tom Hanks, Tim Allen, Annie Potts and Jim Varney.Grade B+', 'I\\'m 19, going on 20 in six days. I don\\'t need to tell you that \"Toy Story\" is a movie tailor-made for the kiddies, but there\\'s a special reservation for adults too. I should know, as should anyone who views it with an open mind. We\\'ve all had our favorite toys. For guys, like me, there\\'s a 90% chance you played with either Transformers or G.I. Joe or Teenage Mutant Ninja Turtles or all three when you were six, seven, eight, or nine years-old. For me, it was Teenage Mutant Ninja Turtles and Godzilla action figures. I\\'d always imagine living out wild fantasy adventures in my room or basement; ah, the joy of being a kid again. But that\\'s part of \"Toy Story\\'s\" fun appeal. It gives you a chance to relive your childhood again. Today I saw for the first time in about eight years and it\\'s still just as fresh and inventive as Pixar, probably the best film studio in computer animation, conceived it back in 1995. In the room of young Andy, the toys are alive - when he\\'s not present of course, and cowboy Woody (voiced by Tom Hanks) is the boy\\'s favorite item. But all that changes on Andy\\'s birthday and a new toy given to him on that day captures the boy\\'s heart - Buzz Lightyear (voiced by Tim Allen). Of course, any replacement of this sort inspires jealousy, and pretty soon Buzz is the new \"it\" item of the bedroom. Andy\\'s given into everything Buzz Lightyear, even new bedsheets - bedsheets! - leaving poor Woody on the short end of the stick. But the thing is, Buzz has trouble believing he\\'s just a simple toy and nothing more, as he thinks he\\'s actually BUZZ LIGHTYEAR! It also seems this couldn\\'t have come at a worse time for the toys, as Andy and his mother are moving away, which is causing all sorts of chaos as Woody tries to get everything organized so nobody is left behind, and that\\'s exactly what happens with rivals Woody and Buzz, who are misplaced and must find their beloved Andy before they move. Not only that, they must also battle Sid, the serial killer in-training kid that lives next door and tortures toys. As directed by John Lasseter and his army of screenwriters including himself, Andrew Stanton (who would co-direct Pixar\\'s future hit \"Finding Nemo\" in 2003) and Joel Cohen, \"Toy Story\" is true imaginative fantasy realized in superb animation. It more than brings the kid in you to the surface, it makes you want to be a kid again, as many toys have cameos including Army Men (including the Sergeant who\\'s voiced by R. Lee Ermey) and Mr. Potato Head (voiced by Don Rickles). I love \"Toy Story,\" and I think anyone who views it thoughtfully will love it too.10/10', 'What a wonderful integration of classic toys and a superb plot. It\\'s a new height in animation (though things have gotten even more impressive long since). The voicings of Tim Allen as Buzz and Tom Hanks as Woody, with their inherent connection to their toy beings, with an incredible supporting cast, make this a romp to end all romps. There is a strain between the realities of the world and the fact that even though they are sentient beings, they are still toys. Buzz has lights that flash but he can\\'t really fly. Woody has the ludicrous string on his back that allows him to deliver his catch phrases. Then there is the neighborhood villain, Sid, who is a maimer and destroyer of toys. There is the quest for the mishandled and lost. And a finale that is worthy of everything that has been set up. What really makes this work is the \"humanity\" of the characters. There is love and a true connection among them. If you have never seen this, it is worth every minute.', \"When Toy Story came, in 1995,I was 9 years old and it was a remarkable animation;Pixar wasn't famous like today, and we didn't have movies like Shrek and Finding Nemo. But I have to say that even in the present days this movie is awesome and has great graphics. Only to start, the story: The toys have life of their own, and every time we humans are distant from them, they have their lives and their own plans. Woody, until Buzz LightYear comes up,was Andy's favorite toy and also the leader of all of them. Jealous of Buzz's fame, Woody tries to get a rid of him, and because of that is totally ignored by the others toys, who once were his friends and admired him. Looking what he did, Woody goes search Buzz and them many adventures happen.\", \"A wonderfully sculpted piece of filmmaking. It brings us into a new age and may this new age have films that are just as delightfully witty as this pleasing film for all ages. The laughs are constant, there's great creativity at work, from the artists and the numerous talents who lend their voices. Hanks, Allen, Rickles and Ermey stand out in their performances.\", 'I see that my previous comment on this film was deleted.This is the thing that started it all: Pixar. Somewhat photorealistic modeling. Deep, deep attention to story dynamics. An animated feature not so polished since \"Snow White.\" Something worthy. Something that led to the reinvention of Disney.Its an iconic turning point, like \"Citizen Kane,\" \"2001,\" \"Bonnie and Clyde,\" Greenaway\\'s \"Tempest.\" (and others) Many things after change. So it should be seen on its historical basis alone. Here already you can see that Pixar decides to combine goals. They want the movie to be just as good as the best non- animated movie. There is the well-documented attention to refining and refining the story dynamics so that the narrative spine simply works. That took years. What I mean by combined goals is that they also realized that they were presenting something relatively new in their three D modeling capability. So they wanted to have that new cinematic vocabulary enhance the narrative dynamics and vice versa. It is subtle here, not fully developed until \"Nemo.\" But its plain to see when pointed out: the camera simply moves in ways that a real one does not. There are a broader set of intimate and distanced observer perspectives. These are not overused, lest you notice them, but you can see that out tolerance and viewing skill has slowly evolved from this to the later Pixar projects. (At this writing, that is \"Wall-E.\") The business about family and desired roles are not \"the point\" as some would say, but strategies to explore this deeper narrative power.Ted\\'s Evaluation -- 3 of 3: Worth watching.', \"This first entirely computer animated film by Disney is a pretty good effort, but the film seems lacks that extra something, that makes it good. The action, which does not seem to stop is \\x91only' pretty thrilling and the film overall is \\x91only' kind of funny (I didn't burst out with laughter once). Therefore this film can not achieve the rating good (8 out of 10) by me, for a good film (in my opinion) is good on more than just one or two levels and it has to cover the entire film (preferably exceeding in more than one genre). Nonetheless this is (again) no disappointment by Disney.\\n7 out of 10 (an average rating for a Disney animated feature)\", \"Toy Story is a good movie. It has good characters and a decent story. But is it really worth the hype? Yes, it's the first fully computer animated movie ever made and that's very impressive. For that reason alone, it will stand out in history. But I certainly never really thought it was the brilliant classic everyone else thought it was. Its animation is great but the story suffers from major pacing issues. There are entire moments of the movie right in the middle that bore me every time and don't stop boring me until I get to the film's climax, when it picks up again. A lot of trimming should have been done in the middle. Toy Story is good but its sequels are a lot better. So is it bad? No. But it's not brilliant. If this were 2-D, I doubt it would receive this high praise.\", '\"Toy Story\" is a real sight to behold because it is the first feature-length, computer-animated film.  Once you get passed the amazing visual effects, you see a really great film that works because of interesting characters and a second-to-none screenplay.  Even the roughest of critics would have trouble finding problems with this winner.  5 stars out of 5.', \"Hilarious. Thrilling animated tale of toys in our lives. Wondrous done and fast moving. the story unfolds like smoothly and Tom hanks voice is a delight to hear as always. Toys have been a really close part of our childhood whether we care to admit or not. When i was a kid, i din't go to bed hearing bedtime stories, i went exhausted playing (swat cats and power rangers). I used to tie a towel round my neck and fly around. Cars also were a big favorite like the need for speed kind. i used to race them crash them build fortress with chess pieces and escape with the cars. I was a mad kid. Understandably so the real juice of a boy's best friend, toys. The juice of that relationship is captured and created fantastically in this movie. Got to run because there is a snake in my boot. Check the movie out.\", \"It has a cowboy doll, a space doll and a dinossaur. They all speak 10/10. I enjoy this movie as a kid. It as great animations. All children must watch. The beginning of a 3 movie's story. Consider watchingwhile sober. Nevertheless is a good movie and you should watch it. It's a about a kid that has some toys and they all speak like real people but when people apperas they just act like real toys not moving and all. I rather wathc this kind of movies white other people than alone. I liked this film very much and you should buy it in blueray so you can see all the greatness behind the cenaries and all the other elements.\", \"Toy Story is one of those rare animated movies, designed for children, that adults can enjoy.Plot In A Paragraph: Sheriff Woody (Tom Hanks) is 8 year old Andy's favourite toy, however his world falls apart when Andy gets a Buzz Lightyear (Tim Allen) figure for his birthday and he has to play second fiddle to the new space ranger.I loved this movie. Over the years I have watched it with both my kids and nieces and nephews and they have all enjoyed it. Watching it now, it has lost none of its charm. Tom Hanks is superb as Woody, Tim Allen (who I'm not a fan of) is delightful as the deluded Buzz Lightyear who is not aware he is an action figure, but for me the stand out voice was John Ratzenberger as Pork Chop the Piggy Bank.\", \"This wonderful, heart-warming animated film has been considered a classic for many, many years.The story centers around Andy's toys who live happy, fun and peaceful lives, their only concern being birthdays and Christmases, when new toys could replace them. On one such birthday Andy's favourite toy, Woody the cowboy, finds himself competing against Andy's new Buzz Lightyear action figure. When rivalries boil over, Woody tries to hide Buzz under Andy's bed, but accidentally pushes him out the window. The other toys exile Woody for this action, which leaves him no other choice, but to find Buzz and bring him back. However, with only two days before Andy's family moves, time is of the essence\\x85 Not only is Toy Story a terrifically fun 80 minute adventure, but it also speaks about friendship and has underlying themes of what friendship really means and the importance of it. As a matter of fact, almost all aspects of the movie (such as the story, message, animation, voice cast, tone and humour) were extremely well executed. For truth, this really is a great movie for everyone – young and old – and would be an excellent choice for those looking for something light- hearted and family friendly.\", '\"Toy Story\" is one of the best children\\'s films ever. It\\'s cute and funny, and Tom Hanks and Tim Allen are hilarious! All of the toys are very funny, and the movie is sure pleasure! A family hit! I give it a 10 out of 10!']\n"
     ]
    },
    {
     "name": "stdout",
     "output_type": "stream",
     "text": [
      "Reviews after: Andy's toys live a reasonable life of fun and peace, their only worries are birthdays and Christmases, when new toys could easily replace those already there.  One such birthday Andy's top toy, Woody the cowboy, finds himself in direct competition with Andy's new Buzz Lightyear doll.  When rivalries boil over Woody tries to hide Buzz down the side of the bed but accidentally pushes him out the window, the other tops expel Woody, and he leaves with no choice but to find Buzz and return him to the house.  But with only two days before Andy moves house, time is of the essence.Given how often the same mix of animation, wit, jokes and kids humour has been used since Toy Story (Ice Age, Monsters Inc, Bugs Life) it is easy to forget how refreshing it was when it first came out.  I have just watched it again and it is dating a little in comparison to more recent twists on the formula.  It seems each one has to be sharper and have more references etc in the background.  However it is still very funny and deserves praise for being the first of a successful formula.The plot is simple but effective and actually has genuine drama and excitement to it.  The main story is fun but the degree of character development is what really shores it up.  The conflict between Buzz and Woody is taken deeper than this and, when confronted by the truth of his status as a toy, Buzz's turmoil is very real as opposed to him being a cartoon character and nothing more.  Despite the two strong leads there is a real depth in the support cast.  They may not actually have that many lines, but they have all the funniest lines.  Most of the `adult' wit comes from the Potato Head, dinosaur, the pig and slinky dog.  They are funny and are very well used.  In fact the majority of this humour and plot will go right over kids heads.Looking back on it, I do feel a cynical edge on it in so much as this film must really have helped sales of the toy companies in the film.  It's hard not to see the marketing department standing behind this film rubbing their hands.  However the actual product is so wonderfully fun that I forgot this quickly.  The voice work is excellent and the characters match the actors. Hanks is good as Woody and Allen has a good B-movie type voice for Buzz. Varney, Ratzenberger, Ermey (doing his usual), Rickles and others are all really good in the support roles and, probably, come out as the favourite characters for adults.Overall this is a classic film that will appeal to adults as much as to kids (if not more).  A good plot and a really sharp script make the already short running time fly by.  The only downside is that your kids will want you to go out and buy the damn things!, I am a big fan of the animated movies coming from the Pixar Studios. They are always looking for the newest technological possibilities to use in their movies, creating movies that are more than just worth a watch, even when they were made a decade ago.The movie is about toys that come to life when their owner is asleep or not in the same room. When the young boy's birthday is coming up, all the toys are nervous. They don't want to be ignored when the new one arrives. Woody the cowboy is their \"leader\" because he's the most popular one of them all. He's the only one that hasn't got to be afraid, but than a new favorite arrives ... Buzz Lightyear. He hates him and tries everything possible to get rid of him, but as the time passes by they learn to appreciate each other...When you see Toy Story, you may think that the different human like characters (Woody the cowboy for instance) aren't always as perfect as we are used to see in todays animated movies. Perhaps that's true, but if you keep in mind that all this was done in 1995, when computers weren't yet as strong and the technology for creating such movies was almost unknown, than you can only have a lot of respect for what the creators did. I loved the story and liked the animations a lot. I give it an 8.5/10., This is a very clever animated story that was a big hit, and justifiably so. It had a terrific sequel and if a third film came out, that would probably be a hit, too.When this came out, computer technology just was beginning to strut its stuff. Man, this looked awesome. Now, it's routine because animation, which took a giant leap with this movie, has made a lot more giant strides.The humor in here, however, is what made this so popular. There are tons of funny lines, issued by characters voiced by Tom Hanks, Tim Allen, Jim Varney, Don Rickles, Wallace Shawn and John Ratzenberger, among others. As good as Hanks is as \"Woody\" and Allen as \"Buzz Armstrong,\" I think the supporting characters just about stole the show: Mr. Potato Head, Slinky, Rex the dinosaur, etc.Multiple viewings don't diminish the entertainment, either. There are so many things to catch, audibly and visually, that you always seem to discover something new. The colors in here are beautiful, too. This is a guaranteed \"winner\" as is the sequel., Y'know, I always suspected that my toys were coming to life when I wasn't looking! In Andy's Room, his toys lead lives of noisy desperation come every birthday and Christmas - no one wants to be one-upped by a new addition to the toy box. Nominally led by Cowboy Woody (there's a Brokeback joke in there just waiting to happen), Mr. Potato Head, Rex the Dinosaur, Ham the piggybank, Bo Peep, Slinky the dog and a smattering of other playthings go about their toy business of playing checkers, hanging with the hometoys and \"plastic corrosion awareness meetings,\" until Andy's birthday party, when they gather expectantly around a transistor radio, listening to the reports of their toy soldier troops \"in the field\" (downstairs watching Andy's gift-opening), hoping that no gift will be exciting enough to cause Andy to neglect *them.* There is. His name is Buzz Lightyear, Space Ranger.Directed by Pixar mainstay John Lasseter, with the voice talents of Tom Hanks (as Woody), Don Rickles, John Ratzenberger (forever Cliff from *Cheers*), R. Lee Ermey, Annie Potts, Jim Varney and Tim Allen (as Buzz), *Toy Story* is that *rara avis* that succeeds on all levels  in its animation, storyline, character development, its messages of friendship and self-realization and, most importantly, its entertainment value. The fact that this is a cartoon (or animated feature  just what DO we call this new wave of computer-generated movies?) is incidental. Which makes the slightly dodgy animation (of the \"real people\") irrelevant - it gets the point across with or without the technological finesse.The \"Disney Movie\" has become synonymous with maudlin messages, redneck fundamentalism, anachronistic family values, boneheaded parents, smart-mouthing youngsters, too-hip-to-be-smart teens and insufferable pets. Though Disney's tyrannical umbrella overarches this film's production studio, Pixar Animation, *Toy Story* somehow avoided all trace of Disney's craven hand, which is doubly surprising, considering this is Pixar's first feature length film, after years of experimentation. Right outa the gate and right outa the field.Sure, there are \"messages,\" but they are heartfelt, rather than maudlin (Woody tells Buzz during Buzz's greatest depression that it matters not what Buzz thinks of himself, what makes him important is what his owner, Andy, thinks of him); there are emotional segments, which are truly heartbreaking, rather than cheesy (when Buzz's escape attempt lands him with a broken arm, proving he is Not A Flying Toy, the lyric, \"Clearly I will go sailing no more,\" launches a thousand hankies); and the portrayal of Andy's family was Pixar's triumphal achievement. Boldly contravening Disney's *idée fixe* of the 1950's nuclear family and Norman Rockwell fantasies, one of the many incarnations of a modern-day family is presented: a single mother with two kids, who are neither geniuses nor monsters, just normal children; happy to visit Pizza Planet and disappointed when favorite toys are lost.Buzz  who believes he is a real life space ranger on a mission to save the universe - become Andy's favorite toy over Woody. The funny thing is: though Buzz believes he is real, he still adheres to toy protocol of \"playing inert\" when humans are in the area. (Maybe it's instinct?) When he mentions saving a toy from Sid, the vicious boy next door, how does he propose to do it if he is to adhere to the inert protocol? Buzz's ingenuousness regarding his role as a toy infuriates Woody to the point of attempted toy-assassination. Through a concatenation of accidents, both he and Buzz become lost and must use teamwork, trust and ingenuity to beat their path back to Andy, which finds them ensconced in scorchingly funny vignettes (Buzz fastening himself in an over-sized seatbelt; both falling in with green, three-eyed aliens; Buzz hyperventilating as \"Mrs. Nesbitt\"). During a climactic rocket ride, the callback line, \"This is not flying - this is falling with style,\" simply seals this movie's greatness.At least I now have a plausible explanation as to why my toys always got lost: after going about their toy business, they would just go inert anywhere they happened to be, instead of paying attention to their master's infallible toy filing system",
      "., Toy Story is the film that started Pixar Animated Studios into its long string of never ending success. What Pixar does is not just absorb the younger demographic and keep the older ones mildly entertained. It completely absorbs everyone watching no matter the age or the level of maturity, films of Pixar, starting from Toy Story, have kept a certain magical touch around it with an unexpected amount of depth. Everyone as a child imagines their toys will come alive and go on their own adventures. One of the great things Pixar does is that it does not attract audiences with its overloaded superstar casts but rather with its material. The only superstar here is Tom Hanks and Tim Allen is the next most aforementioned voice over. Unlike what most people think their is an actually a method to casting for animated films as there is to a live-action one. As a result of this Pixar stays faithful to its material and creates a great genuine and warm feeling around the film and its characters., Toy Story is a sheer delight to view on the screen.  The characters are well done, the plot is exceptional, and the best thing of all, the film is entirely produced on the computer.  The animation is extraordinary in it's ability to bring such great entertainment to the screen.  The film also teaches some good lessons for the kids like friendship (mainly between Woody and Buzz Light-year).  Spectacular entertainment all around and one of the best films Disney has come with., Toy Story is not only the best Disney film because it has the best story and the best animation, but also because of the excellent actors chosen to provide the voices of the animals. The casting was perfect from top to bottom, and the movie provides an excellent adventure story about friendship and loyalty that keeps you engrossed until the nail-biting climax.\n",
      "Tom Hanks and Tim Allen provided excellent voices for Woody and Buzz Lightyear -their performances alone are one of the biggest things that made this such a spectacular movie. Besides that, though, you have the excellent story that is not only noteworthy because it has never really been told from this perspective before, but also because it was just told so well. All of the characters in the film are very well developed and all have appropriate and effective actors chosen to provide their voices. And of course, who could forget the revolutionary animation! The computer animation used for this movie not only made it startlingly realistic but also opened up tons of possibilities, and thankfully the filmmakers chose to explore these possibilities. There are dozens of things that are hidden in the woodwork throughout the film, as well as in the songs  note, for example, the subtle playing of the Indiana Jones theme song in the scene where Woody knocks Buzz out the window with the desk lamp.\n",
      "Toy Story is by far the best Disney film ever made, it's pretty much perfect. It's adventurous, it's exciting, it's entertaining, it's good for the whole family, it's got great characters, story, and plot, and above all, it's fun., Though I am not a big fan of computer animation,I have to give the folks at Pixar credit.This brand of animation is nothing short of brilliant.The attention to detail,such as eye and body movement is quite remarkable.Computers allow them to make their characters as close to human like as possible,something we have never seen in traditional hand drawn animation,though the latter will always be the closest to my heart.Combine this excellence with a genuinely good story idea and a top notch voice cast and the result is good family entertainment.It's obvious that the people at Pixar are not only caring perfectionists when it comes to film making,but they care about our kids,something rarely seen today.Highly recommended for any home library., Just in case you were also wondering what happened to all the toys that went missing when you were a kid, the answer is clear: They escaped.\"Toy Story\" is the kind of children's movie adults can enjoy just as much, because it very cleverly mines deep deposits of nostalgia from the memory banks. That may be the reason the 1990s bedroom of young Andy is populated by playthings of the 1960s, 1970s, and 1980s. If Andy was a real boy of his time, there would be a computer and a TV/Nintendo, and not much else.The voicings of the various toys add to the enjoyability. Tom Hanks was the biggest star of the moment when \"Toy Story\" came out, and he works with that likeability by creating a stable center as Woody the cowboy doll. Don Rickles has the screen role of his career (not that \"Kelly's Heroes\" was Oscar material) as a prickly Mr. Potato Head, while Jim Varney and R. Lee Ermey are standouts in the supporting cast.Tim Allen gives the movie's best performance, as a newfangled toy that takes Woody's place in Andy's heart but can't bring himself to accept that he's just a plastic plaything. It's the role of the story that gives him the best lines (\"I don't believe that man has ever been to medical school\"), but Allen delivers them with real panache. He more than holds his own, and you kind of see where he took off with that note-perfect William Shatner parody he perfected on screen in the underrated \"Galaxy Quest.\"While this movie's use of computer animation makes it a milestone, it neither represents the most innovative use of the technology or the cleverest Pixar-ated treatment of a story. \"A Bug's Life\" seems a more worthy apex; that story was funnier, worked better on its own merits, and used the animation to better effect. But given how novel all of this was in 1995, \"Toy Story\" could have been a lot less thought-through than it was, and still made gobs of money. The fact it is instead invested with real heart, and can be watched and enjoyed today just as easily as when it debuted nearly 10 years ago, is a tribute to the people behind it.I like Randy Newman's music, just not here, and while the animation textures are surprisingly lifelike, there are places, especially with Scud the dog but also with the baby's drool, where it falls short. The story itself gets kind of rote with repeat viewings, though the transition to Sid's bedroom and its sad mutilated toys is a genius moment. So too are the vending machine aliens, who gape in rapt wonder at the judgment of \"the claw.\" If it reached for pathos a little less often, \"Toy Story\" would be an undeniable classic.As it is, it is very, very good, the kind of film that's only good for children, even (especially?) the inner ones., Toy story was a fun, imaginative renewal of the animated genre already when it was released in 1995. It continues to be one of the epic children's movies.Behind several of the voices are well-known actor, such as Tom Hanks, Tim Allen, Don Rickles. That said, personally I have no affection for real-life, callous trophy hunters like R. Lee Ermey, which is playing the role of the sergeant., Disney and Pixar studios team up and brought us an imaginative adventure story about a little boy named Andy who loves playing with his toys, with his best friend being a cowboy doll named Woody. However, when Andy and not body else is looking, the toys come to life. Woody is the leader of the toys in Andy's room, which include a Mr. Potato Head, Slinky the Dog, Rex the Dinosaur, Hamm the Pig and Bo-Peep the girl doll. However, when Andy's get new toy space ranger Buzz Lightyear for his birthday, Buzz takes the place of Woody of being leader of the toys and Andy's new best friend. Brewing with jealously, Woody attempts to get rid of Buzz, but both ended up lost outside of Andy's house. As a result, they must find their way back to Andy's house before they move - first trying to get through Andy's weird neighbor and toy torturer Sid.This is filmed in brilliant and colorful computer animation - very detailed and realistic. The story is full of surprises and adventure, from Woody and Buzz getting lost in a pizza shop to them trying to break loose out of Sid's house to get back to Andy's. The movie is also filled with comedy; you will have to watch the movie to appreciate and understand the humor only live toys could make. And, there are toe-tapping songs you would learn to love including Randy Newman's opening song \"You've Got a Friend in Me.\" While this movie's plot is full of non-stop fun and adventure, making every moment exciting and entertaining, the film also concentrates on friendship and teamwork and overcoming all odds. While I mostly enjoyed this movie, I wished that Woody was not made out to be hated on so much by the other toys after Woody's jealous behavior towards Buzz. I thought this takes away at Woody's hero status too much especially for his first movie.But overall, this is one of Disney's best work, which will make you suspend your disbelief and expand your imagination. Also, hands down to a great voice cast: Tom Hanks, Tim Allen, Annie Potts and Jim Varney.Grade B+, I'm 19, going on 20 in six days. I don't need to tell you that \"Toy Story\" is a movie tailor-made for the kiddies, but there's a special reservation for adults too. I should know, as should anyone who views it with an open mind. We've all had our favorite toys. For guys, like me, there's a 90% chance you played with either Transformers or G.I. Joe or Teenage Mutant Ninja Turtles or all three when you were six, seven, eight, or nine years-old. For me, it was Teenage Mutant Ninja Turtles and Godzilla action figures. I'd always imagine living out wild fantasy adventures in my room or basement; ah, the joy of being a kid again. But that's part of \"Toy Story's\" fun appeal. It gives you a chance to relive your childhood again. Today I saw for the first time in about eight years and it's still just as fresh and inventive as Pixar, probably the best film studio in computer animation, conceived it back in 1995. In the room of young Andy, the toys are alive - when he's not present of course, and cowboy Woody (voiced by Tom Hanks) is the boy's favorite item. But all that changes on Andy's birthday and a new toy given to him on that day captures the boy's heart - Buzz Lightyear (voiced by Tim Allen). Of course, any replacement of this sort inspires jealousy, and pretty soon Buzz is the new \"it\" item of the bedroom. Andy's given into everything Buzz Lightyear, even new bedsheets - bedsheets! - leaving poor Woody on the short end of the stick. But the thing is, Buzz has trouble believing he's just a simple toy and nothing more, as he thinks he's actually BUZZ LIGHTYEAR! It also seems this couldn't have come at a worse time for the toys, as Andy and his mother are moving away, which is causing all sorts of chaos as Woody tries to get everything organized so nobody is left behind, and that's exactly what happens with rivals Woody and Buzz, who are misplaced and must find their beloved Andy before they move. Not only that, they must also battle Sid, the serial killer in-training kid that lives next door and tortures toys. As directed by John Lasseter and his army of screenwriters including himself, Andrew Stanton (who would co-direct Pixar's future hit \"Finding Nemo\" in 2003) and Joel Cohen, \"Toy Story\" is true imaginative fantasy realized in superb animation. It more than brings the kid in you to the surface, it makes you want to be a kid again, as many toys have cameos including Army Men (including the Sergeant who's voiced by R. Lee Ermey) and Mr. Potato Head (voiced by Don Rickles). I love \"Toy Story,\" and I think anyone who views it thoughtfully will love it too.10/10, What a wonderful integration of classic toys and a superb plot. It's a new height in animation (though things have gotten even more impressive long since). The voicings of Tim Allen as Buzz and Tom Hanks as Woody, with their inherent connection to their toy beings, with an incredible supporting cast, make this a romp to end all romps. There is a strain between the realities of the world and the fact that even though they are sentient beings, they are still toys. Buzz has lights that flash but he can't really fly. Woody has the ludicrous string on his back that allows him to deliver his catch phrases. Then there is the neighborhood villain, Sid, who is a maimer and destroyer of toys. There is the quest for the mishandled and lost. And a finale that is worthy of everything that has been set up. What really makes this work is the \"humanity\" of the characters. There is love and a true connection among them. If you have never seen this, it is worth every minute., When Toy Story came, in 1995,I was 9 years old and it was a remarkable animation;Pixar wasn't famous like today, and we didn't have movies like Shrek and Finding Nemo. But I have to say that even in the present days this movie is awesome and has great graphics. Only to start, the story: The toys have life of their own, and every time we humans are distant from them, they have their lives and their own plans. Woody, until Buzz LightYear comes up,was Andy's favorite toy and also the leader of all of them. Jealous of Buzz's fame, Woody tries to get a rid of him, and because of that is totally ignored by the others toys, who once were his friends and admired him. Looking what he did, Woody goes search Buzz and them many adventures happen., A wonderfully sculpted piece of filmmaking. It brings us into a new age and may this new age have films that are just as delightfully witty as this pleasing film for all ages. The laughs are constant, there's great creativity at work, from the artists and the numerous talents who lend their voices. Hanks, Allen, Rickles and Ermey stand out in their performances., I see that my previous comment on this film was deleted.This is the thing that started it all: Pixar. Somewhat photorealistic modeling. Deep, deep attention to story dynamics. An animated feature not so polished since \"Snow White.\" Something worthy. Something that led to the reinvention of Disney.Its an iconic turning point, like \"Citizen Kane,\" \"2001,\" \"Bonnie and Clyde,\" Greenaway's \"Tempest.\" (and others) Many things after change. So it should be seen on its historical basis alone. Here already you can see that Pixar decides to combine goals. They want the movie to be just as good as the best non- animated movie. There is the well-documented attention to refining and refining the story dynamics so that the narrative spine simply works. That took years. What I mean by combined goals is that they also realized that they were presenting something relatively new in their three D modeling capability. So they wanted to have that new cinematic vocabulary enhance the narrative dynamics and vice versa. It is subtle here, not fully developed until \"Nemo.\" But its plain to see when pointed out: the camera simply moves in ways that a real one does not. There are a broader set of intimate and distanced observer perspectives. These are not overused, lest you notice them, but you can see that out tolerance and viewing skill has slowly evolved from this to the later Pixar projects. (At this writing, that is \"Wall-E.\") The business about family and desired roles are not \"the point\" as some would say, but strategies to explore this deeper narrative power.Ted's Evaluation -- 3 of 3: Worth watching., This first entirely computer animated film by Disney is a pretty good effort, but the film seems lacks that extra something, that makes it good. The action, which does not seem to stop is only' pretty thrilling and the film overall is only' kind of funny (I didn't burst out with laughter once). Therefore this film can not achieve the rating good (8 out of 10) by me, for a good film (in my opinion) is good on more than just one or two levels and it has to cover the entire film (preferably exceeding in more than one genre). Nonetheless this is (again) no disappointment by Disney.\n"
     ]
    },
    {
     "name": "stdout",
     "output_type": "stream",
     "text": [
      "7 out of 10 (an average rating for a Disney animated feature), Toy Story is a good movie. It has good characters and a decent story. But is it really worth the hype? Yes, it's the first fully computer animated movie ever made and that's very impressive. For that reason alone, it will stand out in history. But I certainly never really thought it was the brilliant classic everyone else thought it was. Its animation is great but the story suffers from major pacing issues. There are entire moments of the movie right in the middle that bore me every time and don't stop boring me until I get to the film's climax, when it picks up again. A lot of trimming should have been done in the middle. Toy Story is good but its sequels are a lot better. So is it bad? No. But it's not brilliant. If this were 2-D, I doubt it would receive this high praise., \"Toy Story\" is a real sight to behold because it is the first feature-length, computer-animated film.  Once you get passed the amazing visual effects, you see a really great film that works because of interesting characters and a second-to-none screenplay.  Even the roughest of critics would have trouble finding problems with this winner.  5 stars out of 5., Hilarious. Thrilling animated tale of toys in our lives. Wondrous done and fast moving. the story unfolds like smoothly and Tom hanks voice is a delight to hear as always. Toys have been a really close part of our childhood whether we care to admit or not. When i was a kid, i din't go to bed hearing bedtime stories, i went exhausted playing (swat cats and power rangers). I used to tie a towel round my neck and fly around. Cars also were a big favorite like the need for speed kind. i used to race them crash them build fortress with chess pieces and escape with the cars. I was a mad kid. Understandably so the real juice of a boy's best friend, toys. The juice of that relationship is captured and created fantastically in this movie. Got to run because there is a snake in my boot. Check the movie out., It has a cowboy doll, a space doll and a dinossaur. They all speak 10/10. I enjoy this movie as a kid. It as great animations. All children must watch. The beginning of a 3 movie's story. Consider watchingwhile sober. Nevertheless is a good movie and you should watch it. It's a about a kid that has some toys and they all speak like real people but when people apperas they just act like real toys not moving and all. I rather wathc this kind of movies white other people than alone. I liked this film very much and you should buy it in blueray so you can see all the greatness behind the cenaries and all the other elements., Toy Story is one of those rare animated movies, designed for children, that adults can enjoy.Plot In A Paragraph: Sheriff Woody (Tom Hanks) is 8 year old Andy's favourite toy, however his world falls apart when Andy gets a Buzz Lightyear (Tim Allen) figure for his birthday and he has to play second fiddle to the new space ranger.I loved this movie. Over the years I have watched it with both my kids and nieces and nephews and they have all enjoyed it. Watching it now, it has lost none of its charm. Tom Hanks is superb as Woody, Tim Allen (who I'm not a fan of) is delightful as the deluded Buzz Lightyear who is not aware he is an action figure, but for me the stand out voice was John Ratzenberger as Pork Chop the Piggy Bank., This wonderful, heart-warming animated film has been considered a classic for many, many years.The story centers around Andy's toys who live happy, fun and peaceful lives, their only concern being birthdays and Christmases, when new toys could replace them. On one such birthday Andy's favourite toy, Woody the cowboy, finds himself competing against Andy's new Buzz Lightyear action figure. When rivalries boil over, Woody tries to hide Buzz under Andy's bed, but accidentally pushes him out the window. The other toys exile Woody for this action, which leaves him no other choice, but to find Buzz and bring him back. However, with only two days before Andy's family moves, time is of the essence",
      " Not only is Toy Story a terrifically fun 80 minute adventure, but it also speaks about friendship and has underlying themes of what friendship really means and the importance of it. As a matter of fact, almost all aspects of the movie (such as the story, message, animation, voice cast, tone and humour) were extremely well executed. For truth, this really is a great movie for everyone – young and old – and would be an excellent choice for those looking for something light- hearted and family friendly., \"Toy Story\" is one of the best children's films ever. It's cute and funny, and Tom Hanks and Tim Allen are hilarious! All of the toys are very funny, and the movie is sure pleasure! A family hit! I give it a 10 out of 10!\n"
     ]
    }
   ],
   "source": [
    "dataset_frequent_genres['actors_unified'] = dataset_frequent_genres.apply(unify_actors, axis=1)\n",
    "dataset_frequent_genres['reviews_unified'] = dataset_frequent_genres.apply(unify_reviews, axis=1)\n",
    "\n",
    "print(\"Actors before: {}\".format(dataset_frequent_genres.actors.iloc[0]))\n",
    "print(\"Actors after: {}\\n\".format(dataset_frequent_genres.actors_unified.iloc[0]))\n",
    "\n",
    "print(\"Reviews before: {}\".format(dataset_frequent_genres.reviews.iloc[0]))\n",
    "print(\"Reviews after: {}\".format(dataset_frequent_genres.reviews_unified.iloc[0]))"
   ]
  },
  {
   "cell_type": "markdown",
   "metadata": {},
   "source": [
    "#### #4 Functions"
   ]
  },
  {
   "cell_type": "code",
   "execution_count": 14,
   "metadata": {},
   "outputs": [],
   "source": [
    "# - - - - - - - - - - - - - - - - - - - - - - - - - - - - - - - - - - - - - - - - \n",
    "\n",
    "class Keras_Configurations_model1():\n",
    "    \n",
    "        MAX_FEATURES = 20000\n",
    "\n",
    "class Keras_Configurations_model2():\n",
    "\n",
    "    MAX_FEATURES = 17500\n",
    "    \n",
    "class Keras_Configurations_model3():\n",
    "        \n",
    "        MAX_FEATURES = 20000\n",
    "\n",
    "# - - - - - - - - - - - - - - - - - - - - - - - - - - - - - - - - - - - - - - - - \n",
    "\n",
    "# Function 1\n",
    "\n",
    "def inference_function(indx, model, x_test_seq, x_test, genres_list):\n",
    "    \n",
    "    test_sequence = x_test_seq[indx:indx+1]\n",
    "    \n",
    "    text_prediction = model.predict(test_sequence)\n",
    "    \n",
    "    [float(i) for i in text_prediction[0]]\n",
    "    \n",
    "    tag_probabilities = text_prediction[0][np.argsort(text_prediction[0])[-3:]]\n",
    "    \n",
    "    indexes = np.argsort(text_prediction[0])[::-1][:3]\n",
    "\n",
    "    predicted_tags = []\n",
    "    \n",
    "    for i, tag in enumerate(genres_list):\n",
    "        if i in indexes:\n",
    "            predicted_tags.append(genres_list[i])\n",
    "    \n",
    "    return print('\\n\\nMovie Title: {}'.format(x_test['Movie Title'].iloc[indx]), '\\n\\nPredicted Genre labels: {}'.format(predicted_tags), '\\n\\nWith predicted probabilities: {}'.format(tag_probabilities), '\\n\\nThe actual Genre labels: {}'.format(x_test['Genres'].iloc[indx]), \"\\n\\n\", \"---------------------------------------------------------------------------------------------------------\")\n",
    "\n",
    "# - - - - - - - - - - - - - - - - - - - - - - - - - - - - - - - - - - - - - - - - \n",
    "\n",
    "# Function 2\n",
    "\n",
    "def preprocess_text(text):\n",
    "    \n",
    "    stop_words = set(stopwords.words('english'))\n",
    "    \n",
    "    lemmatizer = WordNetLemmatizer()\n",
    "    \n",
    "    no_stopword_text = [word for word in text.split(' ') if not word in stop_words]\n",
    "    \n",
    "    lemmatized_text = [lemmatizer.lemmatize(word, pos='v') for word in no_stopword_text]\n",
    "    \n",
    "    lowercase_text = [word.lower() for word in lemmatized_text]\n",
    "    \n",
    "    return ' '.join(lowercase_text)\n",
    "\n",
    "def transform_actors(column_name, dataset):\n",
    "    \n",
    "#     actors_list = []\n",
    "\n",
    "#     for i in range(len(actors_column)):\n",
    "#         actors_list.append([element.lower() for element in actors_column.iloc[i]])\n",
    "\n",
    "#     dataset.loc[:, 'clean_actors'] = actors_list\n",
    "\n",
    "    dataset.loc[:, 'clean_actors'] = dataset.loc[:, column_name].apply(lambda x: x.lower())\n",
    "\n",
    "def transform_plot(column_name, dataset):\n",
    "    \n",
    "    stop_words = set(stopwords.words('english'))\n",
    "\n",
    "    lemmatizer = WordNetLemmatizer()\n",
    "    \n",
    "    dataset.loc[:, 'clean_plot_summary'] = dataset.loc[:, column_name].apply(lambda x: preprocess_text(x))\n",
    "\n",
    "def transform_features(column_name, dataset):\n",
    "    \n",
    "    dataset.loc[:, 'clean_combined_features'] = dataset.loc[:, column_name].apply(lambda x: preprocess_text(x))\n",
    "    \n",
    "def transform_reviews(column_name, dataset):\n",
    "    \n",
    "#     reviews_list = []\n",
    "    \n",
    "#     for i in range(len(reviews_column)):\n",
    "#         reviews_list.append([preprocess_text(element) for element in reviews_column.iloc[i]])\n",
    "\n",
    "#     dataset.loc[:, 'clean_reviews'] = reviews_list\n",
    "    \n",
    "    dataset.loc[:, 'clean_reviews'] = dataset.loc[:, column_name].apply(lambda x: preprocess_text(x))\n",
    "\n",
    "# - - - - - - - - - - - - - - - - - - - - - - - - - - - - - - - - - - - - - - - - \n",
    "\n",
    "# Function 3.1 (version 1 - create different X trains)\n",
    "\n",
    "# def split_dataset(column_name, labels, dataset):\n",
    "    \n",
    "#     X = dataset[[column_name,'title', 'reduced_genres']]\n",
    "    \n",
    "#     y = labels #dataset['reduced_genres']\n",
    "\n",
    "#     #X_train, X_test, y_train, y_test = train_test_split(X, y, test_size=0.20, random_state=42, shuffle = True, stratify = y)\n",
    "#     #X_train, X_test, y_train, y_test = train_test_split(X, y, test_size=0.20, random_state=42)\n",
    "\n",
    "    \n",
    "#     return X_train, X_test, y_train, y_test\n",
    "\n",
    "# version 3.2\n",
    "\n",
    "def split_dataset(labels, dataset):\n",
    "    \n",
    "    X = dataset[['title', 'clean_actors', 'clean_plot_summary', 'clean_combined_features', 'clean_reviews', 'reduced_genres']]\n",
    "    \n",
    "    y = labels #dataset['reduced_genres']\n",
    "\n",
    "    #X_train, X_test, y_train, y_test = train_test_split(X, y, test_size=0.20, random_state=42, shuffle = True, stratify = y)\n",
    "    X_train, X_test, y_train, y_test = train_test_split(X, y, test_size=0.20, random_state=42, shuffle= True)\n",
    "    \n",
    "    # change test size to 50-50 percent not 80-20!\n",
    "    return X_train, X_test, y_train, y_test\n",
    "\n",
    "# - - - - - - - - - - - - - - - - - - - - - - - - - - - - - - - - - - - - - - - -\n",
    "\n",
    "# Function 4\n",
    "\n",
    "def keras_tokenization(variable, x_train, x_test):\n",
    "    \n",
    "    if variable == \"actors\":\n",
    "\n",
    "        actors_tokenizer = Tokenizer(num_words=Keras_Configurations_model1.MAX_FEATURES, lower=True, split=',', oov_token = '<OOV>')\n",
    "    \n",
    "        actors_tokenizer.fit_on_texts(list(x_train.loc[:, 'clean_actors']))\n",
    "\n",
    "        actors_tokenizer.word_index = {e:i for e,i in actors_tokenizer.word_index.items() if i <= Keras_Configurations_model1.MAX_FEATURES}\n",
    "    \n",
    "        actors_tokenizer.word_index[actors_tokenizer.oov_token] = Keras_Configurations_model1.MAX_FEATURES + 1\n",
    "\n",
    "        x_train.loc[:, 'actors_seqs'] = actors_tokenizer.texts_to_sequences(x_train.loc[:, 'clean_actors'])\n",
    "    \n",
    "        x_test.loc[:, 'actors_seqs'] = actors_tokenizer.texts_to_sequences(x_test.loc[:, 'clean_actors'])\n",
    "\n",
    "        vocabulary_size_frequent_words = len(actors_tokenizer.word_index) + 1\n",
    "        \n",
    "        tokenizer = actors_tokenizer\n",
    "            \n",
    "    elif variable == \"plot\":\n",
    "        \n",
    "        plot_tokenizer = Tokenizer(num_words=Keras_Configurations_model2.MAX_FEATURES, lower=True, split=' ', oov_token = '<OOV>')\n",
    "        \n",
    "        plot_tokenizer.fit_on_texts(list(x_train.loc[:, 'clean_plot_summary']))\n",
    "\n",
    "        plot_tokenizer.word_index = {e:i for e,i in plot_tokenizer.word_index.items() if i <= Keras_Configurations_model2.MAX_FEATURES}\n",
    "        \n",
    "        plot_tokenizer.word_index[plot_tokenizer.oov_token] = Keras_Configurations_model2.MAX_FEATURES + 1\n",
    "\n",
    "        x_train.loc[:, 'plot_summary_seqs'] = plot_tokenizer.texts_to_sequences(x_train.loc[:, 'clean_plot_summary'])\n",
    "        \n",
    "        x_test.loc[:, 'plot_summary_seqs'] = plot_tokenizer.texts_to_sequences(x_test.loc[:, 'clean_plot_summary'])\n",
    "\n",
    "        vocabulary_size_frequent_words = len(plot_tokenizer.word_index) + 1\n",
    "        \n",
    "        tokenizer = plot_tokenizer\n",
    "        \n",
    "    elif variable == \"features\":\n",
    "        \n",
    "        combined_features_tokenizer = Tokenizer(num_words=Keras_Configurations_model3.MAX_FEATURES, lower=True, split=' ', oov_token = '<OOV>')\n",
    "        \n",
    "        combined_features_tokenizer.fit_on_texts(list(x_train.loc[:, 'clean_combined_features']))\n",
    "\n",
    "        combined_features_tokenizer.word_index = {e:i for e,i in combined_features_tokenizer.word_index.items() if i <= Keras_Configurations_model3.MAX_FEATURES}\n",
    "        \n",
    "        combined_features_tokenizer.word_index[combined_features_tokenizer.oov_token] = Keras_Configurations_model3.MAX_FEATURES + 1\n",
    "\n",
    "        x_train.loc[:, 'combined_features_seqs'] = combined_features_tokenizer.texts_to_sequences(x_train.loc[:, 'clean_combined_features'])\n",
    "        \n",
    "        x_test.loc[:, 'combined_features_seqs'] = combined_features_tokenizer.texts_to_sequences(x_test.loc[:, 'clean_combined_features'])\n",
    "\n",
    "        vocabulary_size_frequent_words = len(combined_features_tokenizer.word_index) + 1\n",
    "        \n",
    "        tokenizer = combined_features_tokenizer\n",
    "        \n",
    "    elif variable == \"reviews\":\n",
    "        \n",
    "        reviews_tokenizer = Tokenizer(num_words=40000, lower=True, split=' ', oov_token = '<OOV>')\n",
    "        \n",
    "        reviews_tokenizer.fit_on_texts(x_train.loc[:, 'clean_reviews'])\n",
    "\n",
    "        reviews_tokenizer.word_index = {e:i for e,i in reviews_tokenizer.word_index.items() if i <= 40000}\n",
    "        \n",
    "        reviews_tokenizer.word_index[reviews_tokenizer.oov_token] = 40000 + 1\n",
    "\n",
    "        x_train.loc[:, 'reviews_seqs'] = x_train.loc[:, 'clean_reviews'].apply(lambda x: reviews_tokenizer.texts_to_sequences(x))\n",
    "        \n",
    "        x_test.loc[:, 'reviews_seqs'] = x_test.loc[:, 'clean_reviews'].apply(lambda x: reviews_tokenizer.texts_to_sequences(x))\n",
    "\n",
    "        vocabulary_size_frequent_words = len(reviews_tokenizer.word_index) + 1\n",
    "        \n",
    "        tokenizer = reviews_tokenizer\n",
    "        \n",
    "    return vocabulary_size_frequent_words, tokenizer\n",
    "\n",
    "# - - - - - - - - - - - - - - - - - - - - - - - - - - - - - - - - - - - - - - - - \n",
    "\n",
    "# Function 5\n",
    "\n",
    "def padding_sequnce_length(variable, x_train):\n",
    "    \n",
    "    if variable == \"actors\":\n",
    "    \n",
    "        all_train_lengths =  list(x_train.actors_seqs.apply(len))\n",
    "\n",
    "        maxlen = int(np.percentile(all_train_lengths, q=90))\n",
    "\n",
    "        print('Max Length of the pad sequence for Actors: {}\\n'.format(maxlen))\n",
    "        \n",
    "    elif variable == \"plot\":\n",
    "        \n",
    "        all_train_lengths = list(x_train.plot_summary_seqs.apply(len))\n",
    "\n",
    "        maxlen = int(np.percentile(all_train_lengths, q=90))\n",
    "\n",
    "        print('Max Length of each padding sequence for Plot summary text: {}\\n'.format(maxlen))\n",
    "        \n",
    "    elif variable == \"features\":\n",
    "        \n",
    "        all_train_lengths =  list(x_train.combined_features_seqs.apply(len))\n",
    "\n",
    "        maxlen = int(np.percentile(all_train_lengths, q=90))\n",
    "\n",
    "        print('Max Length of each padding sequence for Movie features text: {}\\n'.format(maxlen))\n",
    "        \n",
    "    elif variable == \"reviews\":\n",
    "        \n",
    "        all_train_lengths =  list(x_train.reviews_seqs.apply(len))\n",
    "\n",
    "        maxlen = int(np.percentile(all_train_lengths, q=90))\n",
    "\n",
    "        print('Max Length of each padding sequence for Reviews text: {}\\n'.format(maxlen))\n",
    "        \n",
    "    return maxlen\n",
    "\n",
    "# - - - - - - - - - - - - - - - - - - - - - - - - - - - - - - - - - - - - - - - - \n",
    "\n",
    "# Function 6\n",
    "\n",
    "# the input data for a deep learning model must be a single tensor (of shape e.g. (batch_size, 6, vocab_size) in this case), \n",
    "# samples that are shorter than the longest item need to be padded with some placeholder value.\n",
    "\n",
    "#url https://www.tensorflow.org/guide/keras/masking_and_padding\n",
    "def padding_sequence(variable, x_train, x_test, y_train, y_test, maxlen):\n",
    "    \n",
    "    if variable == \"actors\":\n",
    "        \n",
    "        x_train_seq = pad_sequences(x_train.loc[:, 'actors_seqs'], padding='post', maxlen=maxlen)\n",
    "    \n",
    "        x_test_seq = pad_sequences(x_test.loc[:, 'actors_seqs'], padding='post', maxlen=maxlen)\n",
    "        \n",
    "        #--------------------------------------------------------------------\n",
    "        \n",
    "        # Task 1: Discussed with Mr. Louridas\n",
    "        \n",
    "        #padded_shapes = ([100], [None]) # ([None],())\n",
    "        \n",
    "        #x_train_seq = x_train.values.shuffle(1000).padded_batch(32, padded_shapes = padded_shapes) # shuffle is the length of the longest string\n",
    "        #x_test_seq = x_test.values.shuffle(1000).padded_batch(32, padded_shapes = padded_shapes)\n",
    "\n",
    "        #--------------------------------------------------------------------\n",
    "        \n",
    "        assert len(x_train_seq) == len(y_train) # x_train_seq\n",
    "\n",
    "        assert len(x_test_seq) == len(y_test) # x_test_seq\n",
    "        \n",
    "    elif variable == \"plot\":\n",
    "        \n",
    "        x_train_seq = pad_sequences(x_train.loc[:, 'plot_summary_seqs'], padding='post', maxlen=maxlen)\n",
    "    \n",
    "        x_test_seq = pad_sequences(x_test.loc[:, 'plot_summary_seqs'], padding='post', maxlen=maxlen)\n",
    "\n",
    "        assert len(x_train_seq) == len(y_train)\n",
    "\n",
    "        assert len(x_test_seq) == len(y_test)\n",
    "        \n",
    "    elif variable == \"features\":\n",
    "        \n",
    "        x_train_seq = pad_sequences(x_train.loc[:, 'combined_features_seqs'], padding='post', maxlen=maxlen)\n",
    "    \n",
    "        x_test_seq = pad_sequences(x_test.loc[:, 'combined_features_seqs'], padding='post', maxlen=maxlen)\n",
    "\n",
    "        assert len(x_train_seq) == len(y_train)\n",
    "\n",
    "        assert len(x_test_seq) == len(y_test)\n",
    "        \n",
    "    elif variable == \"reviews\":\n",
    "        \n",
    "        x_train_seq = pad_sequences(x_train.loc[:, 'reviews_seqs'], padding='post', maxlen=maxlen)\n",
    "    \n",
    "        x_test_seq = pad_sequences(x_test.loc[:, 'reviews_seqs'], padding='post', maxlen=maxlen)\n",
    "\n",
    "        assert len(x_train_seq) == len(y_train)\n",
    "\n",
    "        assert len(x_test_seq) == len(y_test)\n",
    "        \n",
    "    return x_train_seq, x_test_seq"
   ]
  },
  {
   "cell_type": "code",
   "execution_count": 15,
   "metadata": {
    "scrolled": false
   },
   "outputs": [
    {
     "name": "stdout",
     "output_type": "stream",
     "text": [
      "---------------------------------------------------------------------------------\n",
      "\n",
      "Transfrom the column of the actors\n",
      "\n",
      "Transfrom the column of the plot summary\n",
      "\n",
      "Transfrom the column of the movie features\n",
      "\n",
      "Transfrom the column of the movie reviews\n",
      "\n",
      "Wall time: 1min 17s\n"
     ]
    }
   ],
   "source": [
    "%%time\n",
    "# - - - - - - - - - - - - - - - - - - - - - - - - - - - - - - - - - - - - - - - - - - - - - - - - - - - - - - - - - - - - -\n",
    "# Transfrom the columns\n",
    "print(\"---------------------------------------------------------------------------------\\n\")\n",
    "print(\"Transfrom the column of the actors\\n\")\n",
    "transform_actors(\"actors_unified\", dataset_frequent_genres) # function 3: transform_actors\n",
    "\n",
    "print(\"Transfrom the column of the plot summary\\n\")\n",
    "transform_plot(\"plot\", dataset_frequent_genres) # function 3: transform_plot\n",
    "\n",
    "print(\"Transfrom the column of the movie features\\n\")\n",
    "transform_features(\"movie_features\", dataset_frequent_genres) # function 3: transform_features\n",
    "\n",
    "print(\"Transfrom the column of the movie reviews\\n\")\n",
    "transform_reviews(\"reviews_pruned\", dataset_frequent_genres) # function 3: transform_reviews"
   ]
  },
  {
   "cell_type": "code",
   "execution_count": 16,
   "metadata": {},
   "outputs": [
    {
     "name": "stdout",
     "output_type": "stream",
     "text": [
      "\n",
      "---------------------------------------------------------------------------------\n",
      "\n",
      "Split the dataset into train & validation set\n",
      "\n"
     ]
    }
   ],
   "source": [
    "# - - - - - - - - - - - - - - - - - - - - - - - - - - - - - - - - - - - - - - - - - - - - - - - - - - - - - - - - - - - - -\n",
    "# Split the dataset into train & validation set\n",
    "print(\"\\n---------------------------------------------------------------------------------\")\n",
    "print(\"\\nSplit the dataset into train & validation set\\n\")\n",
    "\n",
    "X_train, X_test, y_train, y_test = split_dataset(dataset_frequent_genres.iloc[:, 13:30], dataset_frequent_genres) #13:30"
   ]
  },
  {
   "cell_type": "code",
   "execution_count": 17,
   "metadata": {},
   "outputs": [
    {
     "name": "stdout",
     "output_type": "stream",
     "text": [
      "X_train shape:(39298, 6)\n",
      "X_test shape:(9825, 6)\n",
      "y_train shape:(39298, 17)\n",
      "y_test shape:(9825, 17)\n"
     ]
    }
   ],
   "source": [
    "print(\"X_train shape:{}\".format(X_train.shape))\n",
    "print(\"X_test shape:{}\".format(X_test.shape))\n",
    "print(\"y_train shape:{}\".format(y_train.shape))\n",
    "print(\"y_test shape:{}\".format(y_test.shape))"
   ]
  },
  {
   "cell_type": "markdown",
   "metadata": {},
   "source": [
    "#### - - - - - - - - - - - - - - - - - - - - - - - - - - - - - - - - - - - - - - - - - - - - - - - - - - - - - - - - - - - - - - - -"
   ]
  },
  {
   "cell_type": "markdown",
   "metadata": {},
   "source": [
    "#### Prune the most frequent genres (drama, comedy) - this is for the balancing the data"
   ]
  },
  {
   "cell_type": "markdown",
   "metadata": {},
   "source": [
    "#### Check the frequency of each genre tag in TRAIN, TEST datasets and prune the high frequent genres to re-balance both train and test datasets"
   ]
  },
  {
   "cell_type": "code",
   "execution_count": 18,
   "metadata": {},
   "outputs": [
    {
     "data": {
      "text/plain": [
       "Drama          25.280\n",
       "Comedy         15.903\n",
       "Action          7.566\n",
       "Romance         7.319\n",
       "Thriller        6.996\n",
       "Horror          5.749\n",
       "Crime           5.404\n",
       "Documentary     4.353\n",
       "Adventure       4.267\n",
       "Sci-Fi          3.001\n",
       "Mystery         2.722\n",
       "Children        2.542\n",
       "Animation       2.401\n",
       "Fantasy         2.314\n",
       "War             1.664\n",
       "Western         1.346\n",
       "Musical         1.172\n",
       "Name: reduced_genres, dtype: float64"
      ]
     },
     "execution_count": 18,
     "metadata": {},
     "output_type": "execute_result"
    }
   ],
   "source": [
    "round(X_train['reduced_genres'].explode().value_counts(normalize=True) * 100,3)"
   ]
  },
  {
   "cell_type": "code",
   "execution_count": null,
   "metadata": {},
   "outputs": [],
   "source": [
    "X_train.iloc[0:10]"
   ]
  },
  {
   "cell_type": "code",
   "execution_count": null,
   "metadata": {},
   "outputs": [],
   "source": [
    "# Re-balance genre Drama\n",
    "\n",
    "X_train_drama = X_train[X_train[\"reduced_genres\"].apply(lambda x: \"Drama\" in x)]\n",
    "X_train_drama_out = X_train_drama.sample(frac=.85)\n",
    "remove_indexes = X_train_drama_out.index\n",
    "X_train_updated_version1 = X_train[~X_train.index.isin(remove_indexes)]\n",
    "print(\"X_train updated shape: {}\".format(X_train_updated_version1.shape))\n",
    "\n",
    "y_train_updated_version1 = y_train[~y_train.index.isin(remove_indexes)]\n",
    "print(\"y_train updated shape: {}\".format(y_train_updated_version1.shape))"
   ]
  },
  {
   "cell_type": "code",
   "execution_count": null,
   "metadata": {},
   "outputs": [],
   "source": [
    "round(X_train_updated_version1['reduced_genres'].explode().value_counts(normalize=True) * 100,3)"
   ]
  },
  {
   "cell_type": "code",
   "execution_count": null,
   "metadata": {},
   "outputs": [],
   "source": [
    "# Re-balance genre Comedy\n",
    "\n",
    "X_train_comedy = X_train_updated_version1[X_train_updated_version1[\"reduced_genres\"].apply(lambda x: \"Comedy\" in x)]\n",
    "X_train_comedy_out = X_train_comedy.sample(frac=.75)\n",
    "remove_indexes = X_train_comedy_out.index\n",
    "X_train_updated_version2 = X_train_updated_version1[~X_train_updated_version1.index.isin(remove_indexes)]\n",
    "print(\"X_train updated shape: {}\".format(X_train_updated_version2.shape))\n",
    "\n",
    "y_train_updated_version2 = y_train_updated_version1[~y_train_updated_version1.index.isin(remove_indexes)]\n",
    "print(\"y_train updated shape: {}\".format(y_train_updated_version2.shape))"
   ]
  },
  {
   "cell_type": "code",
   "execution_count": null,
   "metadata": {},
   "outputs": [],
   "source": [
    "round(X_train_updated_version2['reduced_genres'].explode().value_counts(normalize=True) * 100,3)"
   ]
  },
  {
   "cell_type": "markdown",
   "metadata": {},
   "source": [
    "- - - - - - - - - - - - - - - - - - - - - - - - - - - - - - - - - - - - - - - -"
   ]
  },
  {
   "cell_type": "code",
   "execution_count": null,
   "metadata": {},
   "outputs": [],
   "source": [
    "round(X_test['reduced_genres'].explode().value_counts(normalize=True) * 100,3)"
   ]
  },
  {
   "cell_type": "code",
   "execution_count": null,
   "metadata": {},
   "outputs": [],
   "source": [
    "# Re-balance genre Drama\n",
    "\n",
    "X_test_drama = X_test[X_test[\"reduced_genres\"].apply(lambda x: \"Drama\" in x)]\n",
    "X_test_drama_out = X_test_drama.sample(frac=.85)\n",
    "remove_indexes = X_test_drama_out.index\n",
    "X_test_updated_version1 = X_test[~X_test.index.isin(remove_indexes)]\n",
    "X_test_updated_version1.shape\n",
    "print(\"X_test updated shape: {}\".format(X_test_updated_version1.shape))\n",
    "\n",
    "y_test_updated_version1 = y_test[~y_test.index.isin(remove_indexes)]\n",
    "print(\"y_test updated shape: {}\".format(y_test_updated_version1.shape))"
   ]
  },
  {
   "cell_type": "code",
   "execution_count": null,
   "metadata": {},
   "outputs": [],
   "source": [
    "# Re-balance genre Comedy\n",
    "\n",
    "X_test_comedy = X_test_updated_version1[X_test_updated_version1[\"reduced_genres\"].apply(lambda x: \"Comedy\" in x)]\n",
    "X_test_comedy_out = X_test_comedy.sample(frac=.75)\n",
    "remove_indexes = X_test_comedy_out.index\n",
    "X_test_updated_version2 = X_test_updated_version1[~X_test_updated_version1.index.isin(remove_indexes)]\n",
    "print(\"X_test updated shape: {}\".format(X_test_updated_version2.shape))\n",
    "\n",
    "y_test_updated_version2 = y_test_updated_version1[~y_test_updated_version1.index.isin(remove_indexes)]\n",
    "print(\"y_test updated shape: {}\".format(y_test_updated_version2.shape))"
   ]
  },
  {
   "cell_type": "code",
   "execution_count": null,
   "metadata": {},
   "outputs": [],
   "source": [
    "round(X_test_updated_version2['reduced_genres'].explode().value_counts(normalize=True) * 100,3)"
   ]
  },
  {
   "cell_type": "code",
   "execution_count": null,
   "metadata": {},
   "outputs": [],
   "source": [
    "# After dropping the frequent genre tags (Drama & Comedy)\n",
    "\n",
    "print(\"X_train shape:{}\".format(X_train_updated_version2.shape))\n",
    "print(\"X_test shape:{}\".format(X_test_updated_version2.shape))\n",
    "print(\"y_train shape:{}\".format(y_train_updated_version2.shape))\n",
    "print(\"y_test shape:{}\".format(y_test_updated_version2.shape))\n",
    "\n",
    "# These are the X and y datasets with 50-50 split and closely balanced genre tags.\n",
    "# Even though balanced, the total number of data points reduced by 14,000 movies.\n",
    "\n",
    "#--------------------------------\n",
    "\n",
    "# These are the X and y datasets with 80-20 split and closely balanced genre tags.\n",
    "# Even though balanced, the total number of data points reduced by 12,000 movies."
   ]
  },
  {
   "cell_type": "code",
   "execution_count": null,
   "metadata": {},
   "outputs": [],
   "source": [
    "# Before dropping the frequent genre tags (Drama & Comedy)\n",
    "\n",
    "print(\"X_train shape:{}\".format(X_train.shape))\n",
    "print(\"X_test shape:{}\".format(X_test.shape))\n",
    "print(\"y_train shape:{}\".format(y_train.shape))\n",
    "print(\"y_test shape:{}\".format(y_test.shape))"
   ]
  },
  {
   "cell_type": "markdown",
   "metadata": {},
   "source": [
    "#### End of data re-balancing\n",
    "#### - - - - - - - - - - - - - - - - - - - - - - - - - - - - - - - - - - - - - - - - - - - - - - - - - - - - - - - - - - - - - - - -"
   ]
  },
  {
   "cell_type": "code",
   "execution_count": 19,
   "metadata": {},
   "outputs": [
    {
     "name": "stdout",
     "output_type": "stream",
     "text": [
      "Wall time: 15 ms\n"
     ]
    }
   ],
   "source": [
    "%%time\n",
    "# Separate each different input column (actors, plot, features)\n",
    "\n",
    "# BECAREFUL: X_train = before balancing the data, X_train_updated_version2 is for the balanced data\n",
    "\n",
    "X_train_actors = X_train[[\"title\", \"clean_actors\", \"reduced_genres\"]]\n",
    "X_train_plot = X_train[[\"title\", \"clean_plot_summary\", \"reduced_genres\"]]\n",
    "X_train_features = X_train[[\"title\", \"clean_combined_features\", \"reduced_genres\"]]\n",
    "X_train_reviews = X_train[[\"title\", \"clean_reviews\", \"reduced_genres\"]]\n",
    "# In X_train and X_test I also use columns \"title\" and \"genres\" since they will be both used later for making inference with predictions\n",
    "\n",
    "assert X_train_actors.shape==X_train_plot.shape==X_train_features.shape==X_train_reviews.shape\n",
    "\n",
    "X_test_actors = X_test[[\"title\", \"clean_actors\", \"reduced_genres\"]]\n",
    "X_test_plot = X_test[[\"title\", \"clean_plot_summary\", \"reduced_genres\"]]\n",
    "X_test_features = X_test[[\"title\", \"clean_combined_features\", \"reduced_genres\"]]\n",
    "X_test_reviews = X_test[[\"title\", \"clean_reviews\", \"reduced_genres\"]]\n",
    "\n",
    "assert X_test_actors.shape==X_test_plot.shape==X_test_features.shape==X_test_reviews.shape"
   ]
  },
  {
   "cell_type": "code",
   "execution_count": 20,
   "metadata": {},
   "outputs": [
    {
     "name": "stdout",
     "output_type": "stream",
     "text": [
      "Wall time: 0 ns\n",
      "\n",
      "---------------------------------------------------------------------------------\n",
      "\n",
      "Tokenize the dataset (using the keras tokenizer)\n",
      "\n"
     ]
    },
    {
     "name": "stderr",
     "output_type": "stream",
     "text": [
      "c:\\users\\spano\\appdata\\local\\programs\\python\\python37\\lib\\site-packages\\pandas\\core\\indexing.py:376: SettingWithCopyWarning: \n",
      "A value is trying to be set on a copy of a slice from a DataFrame.\n",
      "Try using .loc[row_indexer,col_indexer] = value instead\n",
      "\n",
      "See the caveats in the documentation: http://pandas.pydata.org/pandas-docs/stable/user_guide/indexing.html#returning-a-view-versus-a-copy\n",
      "  self.obj[key] = _infer_fill_value(value)\n",
      "c:\\users\\spano\\appdata\\local\\programs\\python\\python37\\lib\\site-packages\\pandas\\core\\indexing.py:494: SettingWithCopyWarning: \n",
      "A value is trying to be set on a copy of a slice from a DataFrame.\n",
      "Try using .loc[row_indexer,col_indexer] = value instead\n",
      "\n",
      "See the caveats in the documentation: http://pandas.pydata.org/pandas-docs/stable/user_guide/indexing.html#returning-a-view-versus-a-copy\n",
      "  self.obj[item] = s\n"
     ]
    },
    {
     "name": "stdout",
     "output_type": "stream",
     "text": [
      "\n",
      "Actors tokenized with maximum number of words: 20001\n",
      "\n",
      "\n",
      "Plot Summary tokenized with maximum number of words: 17501\n",
      "\n",
      "\n",
      "Movie Features tokenized with maximum number of words: 20001\n",
      "\n"
     ]
    }
   ],
   "source": [
    "%time #(This block of code should be executed each time the split range changes (80-20-> 50-50))\n",
    "# - - - - - - - - - - - - - - - - - - - - - - - - - - - - - - - - - - - - - - - - - - - - - - - - - - - - - - - - - - - - -\n",
    "# Tokenize the dataset (using the keras tokenizer)\n",
    "print(\"\\n---------------------------------------------------------------------------------\")\n",
    "print(\"\\nTokenize the dataset (using the keras tokenizer)\\n\")\n",
    "\n",
    "vocabulary_size_frequent_words_actors, tokenizer_actors = keras_tokenization(\"actors\", X_train_actors, X_test_actors) # function 5: keras_tokenization\n",
    "print(\"\\nActors tokenized with maximum number of words: {}\\n\".format(vocabulary_size_frequent_words_actors))\n",
    "\n",
    "vocabulary_size_frequent_words_plot, tokenizer_plot = keras_tokenization(\"plot\", X_train_plot, X_test_plot) # function 5: keras_tokenization\n",
    "print(\"\\nPlot Summary tokenized with maximum number of words: {}\\n\".format(vocabulary_size_frequent_words_plot))\n",
    "\n",
    "vocabulary_size_frequent_words_features, tokenizer_features = keras_tokenization(\"features\", X_train_features, X_test_features) # function 5: keras_tokenization\n",
    "print(\"\\nMovie Features tokenized with maximum number of words: {}\\n\".format(vocabulary_size_frequent_words_features))"
   ]
  },
  {
   "cell_type": "code",
   "execution_count": 21,
   "metadata": {},
   "outputs": [
    {
     "name": "stdout",
     "output_type": "stream",
     "text": [
      "\n",
      "Movie Reviews tokenized with maximum number of words: 40001\n",
      "\n",
      "Wall time: 5min 55s\n"
     ]
    }
   ],
   "source": [
    "%%time\n",
    "vocabulary_size_frequent_words_reviews, tokenizer_reviews = keras_tokenization(\"reviews\", X_train_reviews, X_test_reviews) # function 5: keras_tokenization\n",
    "print(\"\\nMovie Reviews tokenized with maximum number of words: {}\\n\".format(vocabulary_size_frequent_words_reviews))\n",
    "\n",
    "# Done once and then was pickled...due to long time of completion!"
   ]
  },
  {
   "cell_type": "markdown",
   "metadata": {},
   "source": [
    "#### Comment: The three below blocks of code where executed once and then were pickled!"
   ]
  },
  {
   "cell_type": "code",
   "execution_count": 24,
   "metadata": {},
   "outputs": [
    {
     "name": "stderr",
     "output_type": "stream",
     "text": [
      "c:\\users\\spano\\appdata\\local\\programs\\python\\python37\\lib\\site-packages\\pandas\\core\\indexing.py:576: SettingWithCopyWarning: \n",
      "A value is trying to be set on a copy of a slice from a DataFrame.\n",
      "Try using .loc[row_indexer,col_indexer] = value instead\n",
      "\n",
      "See the caveats in the documentation: http://pandas.pydata.org/pandas-docs/stable/user_guide/indexing.html#returning-a-view-versus-a-copy\n",
      "  self.obj[item_labels[indexer[info_axis]]] = value\n"
     ]
    }
   ],
   "source": [
    "# X_train_reviews.loc[:, 'reviews_seqs'] = X_train_reviews.loc[:, 'reviews_seqs'].apply(lambda x: [[40001] if len(sublist)==0 else sublist for sublist in x])\n",
    "# X_test_reviews.loc[:, 'reviews_seqs'] = X_test_reviews.loc[:, 'reviews_seqs'].apply(lambda x: [[40001] if len(sublist)==0 else sublist for sublist in x])"
   ]
  },
  {
   "cell_type": "code",
   "execution_count": 25,
   "metadata": {},
   "outputs": [],
   "source": [
    "# X_train_reviews.loc[:, 'reviews_seqs'] = X_train_reviews.loc[:, 'reviews_seqs'].apply(lambda x: list(itertools.chain.from_iterable(x)))\n",
    "# X_test_reviews.loc[:, 'reviews_seqs'] = X_test_reviews.loc[:, 'reviews_seqs'].apply(lambda x: list(itertools.chain.from_iterable(x)))"
   ]
  },
  {
   "cell_type": "code",
   "execution_count": null,
   "metadata": {},
   "outputs": [],
   "source": [
    "#### PICKLE THE Reviews Tokenizer\n",
    "\n",
    "# saving\n",
    "# with open('reviews_tokenizer_06022020.pkl', 'wb') as handle:\n",
    "#     pickle.dump(tokenizer_reviews, handle, protocol=pickle.HIGHEST_PROTOCOL)"
   ]
  },
  {
   "cell_type": "code",
   "execution_count": null,
   "metadata": {},
   "outputs": [],
   "source": [
    "# X_train_reviews.to_pickle(\"x_train_reviews_06022020.pkl\")\n",
    "# X_test_reviews.to_pickle(\"x_test_reviews_06022020.pkl\")"
   ]
  },
  {
   "cell_type": "code",
   "execution_count": null,
   "metadata": {},
   "outputs": [],
   "source": [
    "#### Load THE Reviews Tokenizer and X_train_reviews, X_test_reviews\n",
    "\n",
    "# loading\n",
    "# with open('reviews_tokenizer_06022020.pkl', 'rb') as handle:\n",
    "#     tokenizer = pickle.load(handle)\n",
    "\n",
    "# X_train_reviews = pd.read_pickle(\"x_train_reviews_06022020.pkl\")\n",
    "# X_test_reviews = pd.read_pickle(\"x_test_reviews_06022020.pkl\")"
   ]
  },
  {
   "cell_type": "code",
   "execution_count": 26,
   "metadata": {},
   "outputs": [
    {
     "name": "stdout",
     "output_type": "stream",
     "text": [
      "\n",
      "---------------------------------------------------------------------------------\n",
      "\n",
      "Specify the length of the maxlen variable (length is a parameter for the optimal padding execution)\n",
      "\n",
      "Max Length of the pad sequence for Actors: 17\n",
      "\n",
      "Max Length of each padding sequence for Plot summary text: 23\n",
      "\n",
      "Max Length of each padding sequence for Movie features text: 60\n",
      "\n",
      "Max Length of each padding sequence for Reviews text: 2067\n",
      "\n",
      "\n",
      "---------------------------------------------------------------------------------\n",
      "\n",
      "Create the padding sequence of texts\n",
      "\n",
      "\n",
      "Actors padded sequences created\n",
      "\n",
      "Plot padded sequences created\n",
      "\n",
      "Movie Features padded sequences created\n",
      "\n",
      "Movie Reviews padded sequences created\n",
      "Wall time: 3.5 s\n"
     ]
    }
   ],
   "source": [
    "%%time\n",
    "\n",
    "# BECAREFUL: y_train/y_test: BEFORE re-balancing the dataset, y_train_updated_version2/y_test_updated_version2: AFTER re-balancing the dataset\n",
    "\n",
    "# - - - - - - - - - - - - - - - - - - - - - - - - - - - - - - - - - - - - - - - - - - - - - - - - - - - - - - - - - - - - -\n",
    "# Specify the length of the maxlen variable\n",
    "print(\"\\n---------------------------------------------------------------------------------\")\n",
    "print(\"\\nSpecify the length of the maxlen variable (length is a parameter for the optimal padding execution)\\n\")\n",
    "\n",
    "maxlen_actors = padding_sequnce_length(\"actors\", X_train_actors) # function 6: padding_sequnce_length\n",
    "maxlen_plot = padding_sequnce_length(\"plot\", X_train_plot) # function 6: padding_sequnce_length\n",
    "maxlen_features = padding_sequnce_length(\"features\", X_train_features) # function 6: padding_sequnce_length\n",
    "maxlen_reviews = padding_sequnce_length(\"reviews\", X_train_reviews) # function 6: padding_sequnce_length\n",
    "\n",
    "# - - - - - - - - - - - - - - - - - - - - - - - - - - - - - - - - - - - - - - - - - - - - - - - - - - - - - - - - - - - - -\n",
    "# Create the padding sequence of texts\n",
    "print(\"\\n---------------------------------------------------------------------------------\")\n",
    "print(\"\\nCreate the padding sequence of texts\\n\")\n",
    "\n",
    "X_train_seq_actors, X_test_seq_actors = padding_sequence(\"actors\", X_train_actors, X_test_actors, y_train, y_test, maxlen_actors) # function 7: padding_sequence\n",
    "print(\"\\nActors padded sequences created\\n\")\n",
    "\n",
    "X_train_seq_plot, X_test_seq_plot = padding_sequence(\"plot\", X_train_plot, X_test_plot, y_train, y_test, maxlen_plot) # function 7: padding_sequence\n",
    "print(\"Plot padded sequences created\\n\")\n",
    "\n",
    "X_train_seq_features, X_test_seq_features = padding_sequence(\"features\", X_train_features, X_test_features, y_train, y_test, maxlen_features) # function 7: padding_sequence\n",
    "print(\"Movie Features padded sequences created\\n\")\n",
    "\n",
    "X_train_seq_reviews, X_test_seq_reviews = padding_sequence(\"reviews\", X_train_reviews, X_test_reviews, y_train, y_test, maxlen_reviews) # function 7: padding_sequence\n",
    "print(\"Movie Reviews padded sequences created\")"
   ]
  },
  {
   "cell_type": "markdown",
   "metadata": {},
   "source": [
    "#### - - - - - - - - - - - - - - - - - - - - - - - - - - - - - - - - - - - - - - - -"
   ]
  },
  {
   "cell_type": "markdown",
   "metadata": {},
   "source": [
    "#### #1st case of data: 80-20 split and non-balanced dataset!"
   ]
  },
  {
   "cell_type": "markdown",
   "metadata": {},
   "source": [
    "* X_train & X_test with <b>80-20</b> split and <b>non-balanced genre</b> tags"
   ]
  },
  {
   "cell_type": "code",
   "execution_count": 27,
   "metadata": {},
   "outputs": [
    {
     "name": "stdout",
     "output_type": "stream",
     "text": [
      "X_train_seq_actors shape:(39298, 17)\n",
      "X_train_seq_plot shape:(39298, 23)\n",
      "X_train_seq_features shape:(39298, 60)\n",
      "X_train_seq_reviews shape:(39298, 2067)\n",
      "\n",
      "X_test_seq_actors shape:(9825, 17)\n",
      "X_test_seq_plot shape:(9825, 23)\n",
      "X_test_seq_features shape:(9825, 60)\n",
      "X_test_seq_reviews shape:(9825, 2067)\n"
     ]
    }
   ],
   "source": [
    "print(\"X_train_seq_actors shape:{}\".format(X_train_seq_actors.shape)) #80-20 split\n",
    "print(\"X_train_seq_plot shape:{}\".format(X_train_seq_plot.shape)) #80-20 split\n",
    "print(\"X_train_seq_features shape:{}\".format(X_train_seq_features.shape)) #80-20 split\n",
    "print(\"X_train_seq_reviews shape:{}\\n\".format(X_train_seq_reviews.shape)) #80-20 split\n",
    "\n",
    "print(\"X_test_seq_actors shape:{}\".format(X_test_seq_actors.shape)) #80-20 split\n",
    "print(\"X_test_seq_plot shape:{}\".format(X_test_seq_plot.shape)) #80-20 split\n",
    "print(\"X_test_seq_features shape:{}\".format(X_test_seq_features.shape)) #80-20 split\n",
    "print(\"X_test_seq_reviews shape:{}\".format(X_test_seq_reviews.shape)) #80-20 split"
   ]
  },
  {
   "cell_type": "markdown",
   "metadata": {},
   "source": [
    "* y_train & y_test with <b>80-20</b> split and <b>non-balanced genre</b> tags"
   ]
  },
  {
   "cell_type": "code",
   "execution_count": 28,
   "metadata": {},
   "outputs": [
    {
     "name": "stdout",
     "output_type": "stream",
     "text": [
      "y_train shape:(39298, 17)\n",
      "y_test shape:(9825, 17)\n"
     ]
    }
   ],
   "source": [
    "print(\"y_train shape:{}\".format(y_train.shape)) #80-20 split\n",
    "print(\"y_test shape:{}\".format(y_test.shape)) #80-20 split"
   ]
  },
  {
   "cell_type": "code",
   "execution_count": 29,
   "metadata": {},
   "outputs": [],
   "source": [
    "np.save(\"x_train_seq_actors_80-20_non-balanced_07022020\", X_train_seq_actors)\n",
    "np.save(\"x_train_seq_plot_80-20_non-balanced_07022020\", X_train_seq_plot)\n",
    "np.save(\"x_train_seq_features_80-20_non-balanced_07022020\", X_train_seq_features)\n",
    "np.save(\"x_train_seq_reviews_80-20_non-balanced_07022020\", X_train_seq_reviews)\n",
    "\n",
    "np.save(\"x_test_seq_actors_80-20_non-balanced_07022020\", X_test_seq_actors)\n",
    "np.save(\"x_test_seq_plot_80-20_non-balanced_07022020\", X_test_seq_plot)\n",
    "np.save(\"x_test_seq_features_80-20_non-balanced_07022020\", X_test_seq_features)\n",
    "np.save(\"x_test_seq_reviews_80-20_non-balanced_07022020\", X_test_seq_reviews)\n",
    "\n",
    "np.save(\"y_train_80-20_non-balanced_07022020\", y_train) #np.save: saves a multi-hot encoded dataframe as array!\n",
    "np.save(\"y_test_80-20_non-balanced_07022020\", y_test)"
   ]
  },
  {
   "cell_type": "markdown",
   "metadata": {},
   "source": [
    "#### - - - - - - - - - - - - - - - - - - - - - - - - - - - - - - - - - - - - - - - -"
   ]
  },
  {
   "cell_type": "markdown",
   "metadata": {},
   "source": [
    "#### #2nd case of data: 50-50 split and non-balanced dataset!"
   ]
  },
  {
   "cell_type": "markdown",
   "metadata": {},
   "source": [
    "* X_train & X_test with <b>50-50</b> split and <b>non-balanced genre</b> tags"
   ]
  },
  {
   "cell_type": "code",
   "execution_count": null,
   "metadata": {
    "scrolled": true
   },
   "outputs": [],
   "source": [
    "print(\"X_train_seq_actors shape:{}\".format(X_train_seq_actors.shape)) #50-50 split\n",
    "print(\"X_train_seq_plot shape:{}\".format(X_train_seq_plot.shape)) #50-50 split\n",
    "print(\"X_train_seq_features shape:{}\".format(X_train_seq_features.shape)) #50-50 split\n",
    "print(\"X_train_seq_reviews shape:{}\\n\".format(X_train_seq_reviews.shape)) #50-50 split\n",
    "\n",
    "print(\"X_test_seq_actors shape:{}\".format(X_test_seq_actors.shape)) #50-50 split\n",
    "print(\"X_test_seq_plot shape:{}\".format(X_test_seq_plot.shape)) #50-50 split\n",
    "print(\"X_test_seq_features shape:{}\".format(X_test_seq_features.shape)) #50-50 split\n",
    "print(\"X_test_seq_reviews shape:{}\".format(X_test_seq_reviews.shape)) #50-50 split"
   ]
  },
  {
   "cell_type": "markdown",
   "metadata": {},
   "source": [
    "* y_train & y_test with <b>50-50</b> split and <b>non-balanced genre</b> tags"
   ]
  },
  {
   "cell_type": "code",
   "execution_count": null,
   "metadata": {},
   "outputs": [],
   "source": [
    "print(\"y_train shape:{}\".format(y_train.shape)) #50-50 split\n",
    "print(\"y_test shape:{}\".format(y_test.shape)) #50-50 split"
   ]
  },
  {
   "cell_type": "code",
   "execution_count": null,
   "metadata": {},
   "outputs": [],
   "source": [
    "np.save(\"x_train_seq_actors_50-50_non-balanced_07022020.pkl\", X_train_seq_actors)\n",
    "np.save(\"x_train_seq_plot_50-50_non-balanced_07022020.pkl\", X_train_seq_plot)\n",
    "np.save(\"x_train_seq_features_50-50_non-balanced_07022020.pkl\", X_train_seq_features)\n",
    "np.save(\"x_train_seq_reviews_50-50_non-balanced_07022020.pkl\", X_train_seq_reviews)\n",
    "\n",
    "np.save(\"x_test_seq_actors_50-50_non-balanced_07022020.pkl\", X_test_seq_actors)\n",
    "np.save(\"x_test_seq_plot_50-50_non-balanced_07022020.pkl\", X_test_seq_plot)\n",
    "np.save(\"x_test_seq_features_50-50_non-balanced_07022020.pkl\", X_test_seq_features)\n",
    "np.save(\"x_test_seq_reviews_50-50_non-balanced_07022020.pkl\", X_test_seq_reviews)\n",
    "\n",
    "np.save(\"y_train_50-50_non-balanced_07022020.pkl\", y_train)\n",
    "np.save(\"y_test_50-50_non-balanced_07022020.pkl\", y_test)"
   ]
  },
  {
   "cell_type": "markdown",
   "metadata": {},
   "source": [
    "#### - - - - - - - - - - - - - - - - - - - - - - - - - - - - - - - - - - - - - - - -"
   ]
  },
  {
   "cell_type": "markdown",
   "metadata": {},
   "source": [
    "#### #3rd case of data: 50-50 split and balanced dataset!"
   ]
  },
  {
   "cell_type": "markdown",
   "metadata": {},
   "source": [
    "* X_train & X_test with <b>50-50</b> split and <b>balanced genre</b> tags"
   ]
  },
  {
   "cell_type": "code",
   "execution_count": null,
   "metadata": {},
   "outputs": [],
   "source": [
    "print(\"X_train_seq_actors shape:{}\".format(X_train_seq_actors.shape)) #50-50 split, balanced genres\n",
    "print(\"X_train_seq_plot shape:{}\".format(X_train_seq_plot.shape)) #50-50 split, balanced genres\n",
    "print(\"X_train_seq_features shape:{}\".format(X_train_seq_features.shape)) #50-50 split, balanced genres\n",
    "print(\"X_train_seq_reviews shape:{}\\n\".format(X_train_seq_reviews.shape)) #50-50 split, balanced genres\n",
    "\n",
    "print(\"X_test_seq_actors shape:{}\".format(X_test_seq_actors.shape)) #50-50 split, balanced genres\n",
    "print(\"X_test_seq_plot shape:{}\".format(X_test_seq_plot.shape)) #50-50 split, balanced genres\n",
    "print(\"X_test_seq_features shape:{}\".format(X_test_seq_features.shape)) #50-50 split, balanced genres\n",
    "print(\"X_test_seq_reviews shape:{}\".format(X_test_seq_reviews.shape)) #50-50 split, balanced genres"
   ]
  },
  {
   "cell_type": "markdown",
   "metadata": {},
   "source": [
    "* y_train & y_test with <b>50-50</b> split and <b>balanced genre</b> tags"
   ]
  },
  {
   "cell_type": "code",
   "execution_count": null,
   "metadata": {},
   "outputs": [],
   "source": [
    "print(\"y_train shape:{}\".format(y_train_updated_version2.shape)) #50-50 split, balanced genres\n",
    "print(\"y_test shape:{}\".format(y_test_updated_version2.shape)) #50-50 split, balanced genres"
   ]
  },
  {
   "cell_type": "code",
   "execution_count": null,
   "metadata": {},
   "outputs": [],
   "source": [
    "np.save(\"x_train_seq_actors_50-50_balanced_07022020.pkl\", X_train_seq_actors)\n",
    "np.save(\"x_train_seq_plot_50-50_balanced_07022020.pkl\", X_train_seq_plot)\n",
    "np.save(\"x_train_seq_features_50-50_balanced_07022020.pkl\", X_train_seq_features)\n",
    "np.save(\"x_train_seq_reviews_50-50_balanced_07022020.pkl\", X_train_seq_reviews)\n",
    "\n",
    "np.save(\"x_test_seq_actors_50-50_balanced_07022020.pkl\", X_test_seq_actors)\n",
    "np.save(\"x_test_seq_plot_50-50_balanced_07022020.pkl\", X_test_seq_plot)\n",
    "np.save(\"x_test_seq_features_50-50_balanced_07022020.pkl\", X_test_seq_features)\n",
    "np.save(\"x_test_seq_reviews_50-50_balanced_07022020.pkl\", X_test_seq_reviews)\n",
    "\n",
    "np.save(\"y_train_50-50_balanced_07022020.pkl\", y_train_updated_version2)\n",
    "np.save(\"y_test_50-50_balanced_07022020.pkl\", y_test_updated_version2)"
   ]
  },
  {
   "cell_type": "markdown",
   "metadata": {},
   "source": [
    "#### - - - - - - - - - - - - - - - - - - - - - - - - - - - - - - - - - - - - - - - -"
   ]
  },
  {
   "cell_type": "markdown",
   "metadata": {},
   "source": [
    "#### #4th case of data: 80-20 split and balanced dataset!"
   ]
  },
  {
   "cell_type": "markdown",
   "metadata": {},
   "source": [
    "* X_train & X_test with <b>80-20</b> split and <b>balanced genre</b> tags"
   ]
  },
  {
   "cell_type": "code",
   "execution_count": null,
   "metadata": {},
   "outputs": [],
   "source": [
    "print(\"X_train_seq_actors shape:{}\".format(X_train_seq_actors.shape)) #80-20 split, balanced genres\n",
    "print(\"X_train_seq_plot shape:{}\".format(X_train_seq_plot.shape)) #80-20 split, balanced genres\n",
    "print(\"X_train_seq_features shape:{}\".format(X_train_seq_features.shape)) #80-20 split, balanced genres\n",
    "print(\"X_train_seq_reviews shape:{}\\n\".format(X_train_seq_reviews.shape)) #80-20 split, balanced genres\n",
    "\n",
    "print(\"X_test_seq_actors shape:{}\".format(X_test_seq_actors.shape)) #80-20 split, balanced genres\n",
    "print(\"X_test_seq_plot shape:{}\".format(X_test_seq_plot.shape)) #80-20 split, balanced genres\n",
    "print(\"X_test_seq_features shape:{}\".format(X_test_seq_features.shape)) #80-20 split, balanced genres\n",
    "print(\"X_test_seq_reviews shape:{}\".format(X_test_seq_reviews.shape)) #80-20 split, balanced genres"
   ]
  },
  {
   "cell_type": "markdown",
   "metadata": {},
   "source": [
    "* y_train & y_test with <b>80-0</b> split and <b>balanced genre</b> tags"
   ]
  },
  {
   "cell_type": "code",
   "execution_count": null,
   "metadata": {},
   "outputs": [],
   "source": [
    "print(\"y_train shape:{}\".format(y_train_updated_version2.shape)) #80-20 split, balanced genres\n",
    "print(\"y_test shape:{}\".format(y_test_updated_version2.shape)) #80-20 split, balanced genres"
   ]
  },
  {
   "cell_type": "code",
   "execution_count": null,
   "metadata": {},
   "outputs": [],
   "source": [
    "np.save(\"x_train_seq_actors_80-20_balanced_07022020.pkl\", X_train_seq_actors)\n",
    "np.save(\"x_train_seq_plot_80-20_balanced_07022020.pkl\", X_train_seq_plot)\n",
    "np.save(\"x_train_seq_features_80-20_balanced_07022020.pkl\", X_train_seq_features)\n",
    "np.save(\"x_train_seq_reviews_80-20_balanced_07022020.pkl\", X_train_seq_reviews)\n",
    "\n",
    "np.save(\"x_test_seq_actors_80-20_balanced_07022020.pkl\", X_test_seq_actors)\n",
    "np.save(\"x_test_seq_plot_80-20_balanced_07022020.pkl\", X_test_seq_plot)\n",
    "np.save(\"x_test_seq_features_80-20_balanced_07022020.pkl\", X_test_seq_features)\n",
    "np.save(\"x_test_seq_reviews_80-20_balanced_07022020.pkl\", X_test_seq_reviews)\n",
    "\n",
    "np.save(\"y_train_80-20_balanced_07022020.pkl\", y_train_updated_version2)\n",
    "np.save(\"y_test_80-20_balanced_07022020.pkl\", y_test_updated_version2)"
   ]
  },
  {
   "cell_type": "markdown",
   "metadata": {},
   "source": [
    "#### - - - - - - - - - - - - - - - - - - - - - - - - - - - - - - - - - - - - - - - -"
   ]
  },
  {
   "cell_type": "markdown",
   "metadata": {},
   "source": [
    "#### Comment: the below two pieces of code would not be executed (deleted in newer version)"
   ]
  },
  {
   "cell_type": "code",
   "execution_count": null,
   "metadata": {},
   "outputs": [],
   "source": [
    "import json\n",
    "\n",
    "label_result = !curl -s -d \"text='Mel Brooks's scattergun approach to comedy has a number of misses. Spaceballs was OK at parodying its genre. This film is far more sophisticated and well played.The successful jokes are on the culture of Victorain times with references to an engaged couple who after 10 years have suddenly held hands being condemned as immoral, prostitutes, lechers and the like. Into these cultural and successful observations Brook's introduces Leslie Nielson doing a great impression of Bela Lugosi's Dracula with the difference that his powers are incompetent.Seeing the Lugosi movie will give you the basis to appreciate the sophistication of this film'\" http://text-processing.com/api/sentiment/\n",
    "print(label_result)\n",
    "\n",
    "y = json.loads(label_result[0])\n",
    "y['label']"
   ]
  },
  {
   "cell_type": "code",
   "execution_count": null,
   "metadata": {},
   "outputs": [],
   "source": [
    "from tqdm import tqdm_notebook\n",
    "sentiment_list=[]\n",
    "for i in tqdm_notebook(range(len(dataset_frequent_genres.reviews_pruned))):\n",
    "    label_result = !curl -s -d \"text={}\".format(dataset_frequent_genres.reviews_pruned.iloc[i]) http://text-processing.com/api/sentiment/\n",
    "    y = json.loads(label_result[0])\n",
    "    sentiment_list.append(y['label'])"
   ]
  },
  {
   "cell_type": "markdown",
   "metadata": {},
   "source": [
    "#### THIS IS THE END OF PART 3.1 - Where tokenization, cleaning and balancing of the data took place.\n",
    "#### The next PART 3.2, focuses on training & validating different models neural models based on the data prepaired on PART 3.1"
   ]
  }
 ],
 "metadata": {
  "kernelspec": {
   "display_name": "Python 3",
   "language": "python",
   "name": "python3"
  },
  "language_info": {
   "codemirror_mode": {
    "name": "ipython",
    "version": 3
   },
   "file_extension": ".py",
   "mimetype": "text/x-python",
   "name": "python",
   "nbconvert_exporter": "python",
   "pygments_lexer": "ipython3",
   "version": "3.7.4"
  }
 },
 "nbformat": 4,
 "nbformat_minor": 2
}
